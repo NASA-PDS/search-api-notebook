{
 "cells": [
  {
   "cell_type": "markdown",
   "id": "genuine-massage",
   "metadata": {},
   "source": [
    "## PDS API demo\n",
    "# Visualization of Osiris-Rex OVIRS spectrometer observations of asteroid BENNU\n",
    "\n",
    "The purpose of this notebook is to demostrate how the PDS web API can be used to access the PDS data for a scientific use case.\n",
    "\n",
    "Documention for the PDS web API is available on https://nasa-pds.github.io/pds-api/\n",
    "\n",
    "Documentation for the `peppi` library used to interface with the PDS web API is available on https://nasa-pds.github.io/peppi/\n",
    "\n",
    "This notebook is available on https://github.com/NASA-PDS/pds-api-notebook\n",
    "\n",
    " \n",
    "<b>WARNING:</b> This notebook is a demo and not a real scientific use case. It might contain mistakes in the way the data is used or displayed."
   ]
  },
  {
   "cell_type": "code",
   "execution_count": null,
   "id": "conceptual-pierce",
   "metadata": {},
   "outputs": [],
   "source": [
    "from __future__ import print_function\n",
    "from pprint import pprint, pformat\n",
    "from IPython.lib.pretty import pretty\n",
    "import time\n",
    "import matplotlib.pyplot as plt\n",
    "from astropy.io import fits\n",
    "import requests\n",
    "from requests.exceptions import HTTPError"
   ]
  },
  {
   "cell_type": "markdown",
   "id": "annoying-camping",
   "metadata": {},
   "source": [
    "## List requestable properties\n",
    "\n",
    "Available properties can be identified with a request, for example, searching for products which match free text search on `ovir`.\n",
    "\n",
    "Properties are defined in:\n",
    "- core dictionnary (pds: prefix) : https://pds.nasa.gov/datastandards/dictionaries/index-1.20.0.0.shtml#pds-common\n",
    "- displine dictionnaries (e.g. geom:) : https://pds.nasa.gov/datastandards/dictionaries/index-1.19.0.0.shtml#discipline-dictionaries\n",
    "- mission dictionnaries (e.g. orex:) : https://pds.nasa.gov/datastandards/dictionaries/index-missions.shtml#mission-dictionaries"
   ]
  },
  {
   "cell_type": "code",
   "execution_count": null,
   "id": "fossil-interview",
   "metadata": {
    "scrolled": true
   },
   "outputs": [],
   "source": [
    "import pds.api_client as pds_api\n",
    "from pds.api_client.api.all_products_api import AllProductsApi\n",
    "\n",
    "configuration = pds_api.Configuration()\n",
    "\n",
    "# production server\n",
    "configuration.host = 'https://pds.nasa.gov/api/search/1/'\n",
    "api_client = pds_api.ApiClient(configuration)\n",
    "\n",
    "products_api = AllProductsApi(api_client)\n",
    "api_response = products_api.product_list(keywords=['ovirs'])\n",
    "api_response.summary.properties"
   ]
  },
  {
   "cell_type": "markdown",
   "id": "identical-browser",
   "metadata": {},
   "source": [
    "## Access the PDS web API server via peppi"
   ]
  },
  {
   "cell_type": "markdown",
   "id": "broadband-volunteer",
   "metadata": {},
   "source": [
    "Using the `pds.api_client` is sufficient for this type of exploration, however, the PDS API can be more easily accessed using `peppi`, a PDS Python client library available from https://nasa-pds.github.io/peppi/"
   ]
  },
  {
   "cell_type": "code",
   "execution_count": null,
   "id": "21612107-20fd-453b-a098-67e10f1792a4",
   "metadata": {},
   "outputs": [],
   "source": [
    "import pds.peppi as pep"
   ]
  },
  {
   "cell_type": "markdown",
   "id": "bf76ceac-4491-4b2c-9d59-90c2afdfdf42",
   "metadata": {},
   "source": [
    "Once installed, `peppi` can be used to easily interface with the PDS web API via two objects:\n",
    "\n",
    "* An instance of the `PDSRegistryClient` class, which handles connections to the PDS web API endpoint\n",
    "* An instance of the `Products` class, which is used to assemble and submit user-defined queries on the PDS API"
   ]
  },
  {
   "cell_type": "code",
   "execution_count": null,
   "id": "c8f51d4c-a283-4675-9eb9-7be4c17e788f",
   "metadata": {},
   "outputs": [],
   "source": [
    "# The PDSRegistryClient class requires no arguments, and is configured with appropriate defaults to communicate with \n",
    "# the production PDS Registry API.\n",
    "client = pep.PDSRegistryClient()\n",
    "\n",
    "# A Products class instance requires a PDSRegistryClient object that is uses to submit user-defined queries.\n",
    "# Results from a query are obtained by iterating over a Products class instance after a query has been defined.\n",
    "products = pep.Products(client)"
   ]
  },
  {
   "cell_type": "markdown",
   "id": "indian-bermuda",
   "metadata": {},
   "source": [
    "## Use `peppi` to Get observations around specific spot (lat=12, lon=24) with distance to bennu closer than 4 km\n",
    "\n",
    "Get the result found in part1 by directly posting the search criteria to the API\n",
    "\n",
    "We use the `has_target` query clause to locate products target LIDVID \"urn:nasa:pds:context:target:asteroid.101955_bennu\".\n",
    "\n",
    "We also use the `has_instrument` query clause to further filter resulting products to \"urn:nasa:pds:context:instrument:ovirs.orex\" instrument.\n",
    "\n",
    "Further refinement of the query based on value ranges of specific properties is accomplished via multiple calls to `filter`, which accepts an arbitrary query clause using the PDS API query syntax.\n",
    "\n",
    "The query syntax for the `filter` calls uses the following operators:\n",
    "- comparison: lt, le, gt, ge ...\n",
    "\n",
    "See https://github.com/NASA-PDS/pds-api/blob/master/docs/spec/pds-api-specification.md#query-syntax for detailed syntax.\n",
    "\n",
    "Lastly, we request the FITS data file url field from the API using the `fields` method.\n",
    "\n",
    "By chaining these calls together, each portion of the query is connected via logical AND."
   ]
  },
  {
   "cell_type": "code",
   "execution_count": null,
   "id": "checked-measure",
   "metadata": {},
   "outputs": [],
   "source": [
    "start_time = time.time()\n",
    "\n",
    "properties_of_interest = ['ref_lid_target', \n",
    "                          'ref_lid_instrument', \n",
    "                          'orex:Spatial.orex:latitude', \n",
    "                          'orex:Spatial.orex:longitude', \n",
    "                          'orex:Spatial.orex:target_range', \n",
    "                          'ops:Data_File_Info.ops:file_ref']\n",
    "\n",
    "products.has_target(\"urn:nasa:pds:context:target:asteroid.101955_bennu\") \\\n",
    "        .has_instrument(\"urn:nasa:pds:context:instrument:ovirs.orex\")    \\\n",
    "        .filter(\"orex:Spatial.orex:target_range lt 4.0\")                 \\\n",
    "        .filter(\"orex:Spatial.orex:latitude ge 9.0\")                     \\\n",
    "        .filter(\"orex:Spatial.orex:latitude le 15.0\")                    \\\n",
    "        .filter(\"orex:Spatial.orex:longitude ge 21.0\")                   \\\n",
    "        .filter(\"orex:Spatial.orex:longitude le 27.0\")                   \\\n",
    "        .fields(properties_of_interest)\n",
    "\n",
    "closer_products = [p for p in products]\n",
    "\n",
    "elapsed = time.time() - start_time\n",
    "\n",
    "print(f\"Found {len(closer_products)} product(s) in {elapsed} seconds\")"
   ]
  },
  {
   "cell_type": "markdown",
   "id": "deluxe-performance",
   "metadata": {},
   "source": [
    "## Structure of the reponse\n",
    "\n",
    "Each product returned from the query results is an object of type [pds.api_client.models.pds_product.PDSProduct](https://nasa-pds.github.io/pds-api-client/api/pds.api_client.models.pds_product.html#pds.api_client.models.pds_product.PdsProduct), which can be rendered as a human readable JSON-format string via the `to_str()` function."
   ]
  },
  {
   "cell_type": "code",
   "execution_count": null,
   "id": "7ff78133-2cc8-4bba-b2e8-2cefe19b6f43",
   "metadata": {
    "scrolled": true
   },
   "outputs": [],
   "source": [
    "print(closer_products[0].to_str())"
   ]
  },
  {
   "cell_type": "markdown",
   "id": "different-postage",
   "metadata": {},
   "source": [
    "### Check that we have the right lidvids"
   ]
  },
  {
   "cell_type": "code",
   "execution_count": null,
   "id": "committed-spectacular",
   "metadata": {},
   "outputs": [],
   "source": [
    "lidvids = [product.id for product in closer_products]\n",
    "print(f'The lidvids of the selected products are:\\n{pformat(lidvids)}')"
   ]
  },
  {
   "cell_type": "markdown",
   "id": "manual-dynamics",
   "metadata": {},
   "source": [
    "### Extract the links to the data files"
   ]
  },
  {
   "cell_type": "code",
   "execution_count": null,
   "id": "hairy-capitol",
   "metadata": {},
   "outputs": [],
   "source": [
    "data_files = [product.properties['ops:Data_File_Info.ops:file_ref'][0] for product in closer_products]\n",
    "print(f\"Product data file urls:\\n{pformat(data_files)}\")"
   ]
  },
  {
   "cell_type": "markdown",
   "id": "synthetic-genetics",
   "metadata": {},
   "source": [
    "## Plot the data (FITS files)\n",
    "\n",
    "Plot the spectra of the 4 observations on the same figure, one figure per dimension of the instrument.\n"
   ]
  },
  {
   "cell_type": "code",
   "execution_count": null,
   "id": "exposed-limit",
   "metadata": {},
   "outputs": [],
   "source": [
    "hduls = []\n",
    "\n",
    "# Read in data, skipping any unreachable links\n",
    "for data_file in data_files:\n",
    "    try:\n",
    "        requests.get(data_file).raise_for_status()\n",
    "    except HTTPError as err:\n",
    "        if err.response.status_code == 404:\n",
    "            # Some URLs may be dead links, in which case just skip them\n",
    "            continue\n",
    "        else:\n",
    "            # Something else went wrong\n",
    "            raise\n",
    "            \n",
    "    hduls.append(fits.open(data_file))\n",
    "\n",
    "for i in range(20): # for each dimension of the instrument\n",
    "    fig, ax = plt.subplots()\n",
    "    ax.set_title(f'detector {i}')\n",
    "    for hdul in hduls: # for each observation\n",
    "        ax.plot(hdul[2].data[0, i, :], hdul[0].data[0, i, :])\n",
    "    ax.set_xlabel('wavelength (micrometers)')\n",
    "    ax.set_ylabel('radiance')"
   ]
  },
  {
   "cell_type": "code",
   "execution_count": null,
   "id": "82e9f3a5-7e97-44b5-8d69-5d61cbfe3925",
   "metadata": {},
   "outputs": [],
   "source": []
  }
 ],
 "metadata": {
  "kernelspec": {
   "display_name": "Python 3 (ipykernel)",
   "language": "python",
   "name": "python3"
  },
  "language_info": {
   "codemirror_mode": {
    "name": "ipython",
    "version": 3
   },
   "file_extension": ".py",
   "mimetype": "text/x-python",
   "name": "python",
   "nbconvert_exporter": "python",
   "pygments_lexer": "ipython3",
   "version": "3.11.4"
  }
 },
 "nbformat": 4,
 "nbformat_minor": 5
}
