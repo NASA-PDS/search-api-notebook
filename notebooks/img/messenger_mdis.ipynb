{
 "cells": [
  {
   "cell_type": "code",
   "execution_count": 17,
   "metadata": {
    "collapsed": true,
    "ExecuteTime": {
     "end_time": "2023-08-17T20:50:54.818496Z",
     "start_time": "2023-08-17T20:50:54.814044Z"
    }
   },
   "outputs": [],
   "source": [
    "import requests\n",
    "import pds4_tools"
   ]
  },
  {
   "cell_type": "code",
   "execution_count": null,
   "outputs": [],
   "source": [
    "response = requests.get('https://pds.nasa.gov/api/search/1/products/urn:nasa:pds:messenger_mdis_4001:bdr_rdr/members')\n",
    "\n",
    "resp_data = response.json()['data']\n",
    "print('debug')"
   ],
   "metadata": {
    "collapsed": false,
    "is_executing": true
   }
  },
  {
   "cell_type": "code",
   "execution_count": 14,
   "outputs": [
    {
     "name": "stdout",
     "output_type": "stream",
     "text": [
      "Processing label: https://asc-pds-messenger.s3.us-west-2.amazonaws.com/MSGRMDS_4001/BDR/H09/MDIS_BDR_256PPD_H09SW2.xml\n",
      "Downloading URL: https://asc-pds-messenger.s3.us-west-2.amazonaws.com/MSGRMDS_4001/BDR/H09/MDIS_BDR_256PPD_H09SW2.xml ... done\n",
      "Found a Array_3D_Image structure: Array_3D_Image\n",
      "Now processing a Array_3D_Image structure: Array_3D_Image\n",
      "Downloading URL: https://asc-pds-messenger.s3.us-west-2.amazonaws.com/MSGRMDS_4001/BDR/H09/MDIS_BDR_256PPD_H09SW2.IMG ... \n",
      "  1% [                                                  ] (6.88 / 1274.02 MB)Error: \n",
      "Traceback (most recent call last):\n",
      "  File \"/usr/local/lib/python3.11/site-packages/pds4_tools/extern/cached_property.py\", line 83, in __get__\n",
      "    return obj_dict[name]\n",
      "           ~~~~~~~~^^^^^^\n",
      "KeyError: 'data'\n",
      "\n",
      "During handling of the above exception, another exception occurred:\n",
      "\n",
      "Traceback (most recent call last):\n",
      "  File \"/usr/local/Cellar/python@3.11/3.11.4_1/Frameworks/Python.framework/Versions/3.11/lib/python3.11/tkinter/__init__.py\", line 1948, in __call__\n",
      "    return self.func(*args)\n",
      "           ^^^^^^^^^^^^^^^^\n",
      "  File \"/usr/local/lib/python3.11/site-packages/pds4_tools/viewer/summary_view.py\", line 500, in _open_image\n",
      "    reified = self._reify_structure(structure, size_check=True)\n",
      "              ^^^^^^^^^^^^^^^^^^^^^^^^^^^^^^^^^^^^^^^^^^^^^^^^^\n",
      "  File \"/usr/local/lib/python3.11/site-packages/pds4_tools/viewer/summary_view.py\", line 171, in _reify_structure\n",
      "    structure.data\n",
      "  File \"/usr/local/lib/python3.11/site-packages/pds4_tools/extern/cached_property.py\", line 86, in __get__\n",
      "    return obj_dict.setdefault(name, self.func(obj))\n",
      "                                     ^^^^^^^^^^^^^^\n",
      "  File \"/usr/local/lib/python3.11/site-packages/pds4_tools/reader/array_objects.py\", line 183, in data\n",
      "    super(ArrayStructure, self).data()\n",
      "  File \"/usr/local/lib/python3.11/site-packages/pds4_tools/reader/general_objects.py\", line 466, in data\n",
      "    self.parent_filename = download_file(self.parent_filename)\n",
      "                           ^^^^^^^^^^^^^^^^^^^^^^^^^^^^^^^^^^^\n",
      "  File \"/usr/local/lib/python3.11/site-packages/pds4_tools/utils/data_access.py\", line 162, in download_file\n",
      "    block = remote.read(block_size)\n",
      "            ^^^^^^^^^^^^^^^^^^^^^^^\n",
      "  File \"/usr/local/Cellar/python@3.11/3.11.4_1/Frameworks/Python.framework/Versions/3.11/lib/python3.11/http/client.py\", line 466, in read\n",
      "    s = self.fp.read(amt)\n",
      "        ^^^^^^^^^^^^^^^^^\n",
      "  File \"/usr/local/Cellar/python@3.11/3.11.4_1/Frameworks/Python.framework/Versions/3.11/lib/python3.11/socket.py\", line 706, in readinto\n",
      "    return self._sock.recv_into(b)\n",
      "           ^^^^^^^^^^^^^^^^^^^^^^^\n",
      "  File \"/usr/local/Cellar/python@3.11/3.11.4_1/Frameworks/Python.framework/Versions/3.11/lib/python3.11/ssl.py\", line 1278, in recv_into\n",
      "    return self.read(nbytes, buffer)\n",
      "           ^^^^^^^^^^^^^^^^^^^^^^^^^\n",
      "  File \"/usr/local/Cellar/python@3.11/3.11.4_1/Frameworks/Python.framework/Versions/3.11/lib/python3.11/ssl.py\", line 1134, in read\n",
      "    return self._sslobj.read(len, buffer)\n",
      "           ^^^^^^^^^^^^^^^^^^^^^^^^^^^^^^\n",
      "KeyboardInterrupt\n"
     ]
    }
   ],
   "source": [
    "#want to simulate a bounding box and then use it to query product searches.\n",
    "pds4_tools.view(resp_data[5]['properties']['ops:Label_File_Info.ops:file_ref'][0])\n",
    "#Have to determine what kind of data exists in the bundle\n",
    "# - image data? what is mdis?"
   ],
   "metadata": {
    "collapsed": false,
    "ExecuteTime": {
     "end_time": "2023-08-17T20:50:00.825273Z",
     "start_time": "2023-08-17T20:49:36.783990Z"
    }
   }
  },
  {
   "cell_type": "code",
   "execution_count": null,
   "outputs": [],
   "source": [],
   "metadata": {
    "collapsed": false
   }
  }
 ],
 "metadata": {
  "kernelspec": {
   "display_name": "Python 3",
   "language": "python",
   "name": "python3"
  },
  "language_info": {
   "codemirror_mode": {
    "name": "ipython",
    "version": 2
   },
   "file_extension": ".py",
   "mimetype": "text/x-python",
   "name": "python",
   "nbconvert_exporter": "python",
   "pygments_lexer": "ipython2",
   "version": "2.7.6"
  }
 },
 "nbformat": 4,
 "nbformat_minor": 0
}
