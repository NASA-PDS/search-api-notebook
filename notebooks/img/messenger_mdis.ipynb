{
 "cells": [
  {
   "cell_type": "code",
   "execution_count": 2,
   "metadata": {
    "ExecuteTime": {
     "end_time": "2023-08-18T16:27:31.889809Z",
     "start_time": "2023-08-18T16:27:31.174621Z"
    },
    "collapsed": true,
    "jupyter": {
     "outputs_hidden": true
    },
    "tags": []
   },
   "outputs": [],
   "source": [
    "import requests\n",
    "import pds4_tools"
   ]
  },
  {
   "cell_type": "code",
   "execution_count": 6,
   "metadata": {
    "collapsed": false,
    "jupyter": {
     "outputs_hidden": false
    },
    "tags": []
   },
   "outputs": [
    {
     "data": {
      "text/plain": [
       "[]"
      ]
     },
     "execution_count": 6,
     "metadata": {},
     "output_type": "execute_result"
    }
   ],
   "source": [
    "# response = requests.get('https://pds.nasa.gov/api/search/1/products/urn:nasa:pds:messenger_mdis_4001:bdr_rdr/members')\n",
    "\n",
    "response = requests.get('https://pds.nasa.gov/api/search/1/products?q=( (ref_lid_data eq \"urn:nasa:pds:messenger_mdis_4001:bdr_rdr:mdis_bdr_256ppd_h07nw2\") )')\n",
    "\n",
    "resp_data = response.json()['data']\n",
    "resp_data\n",
    "# print('debug')"
   ]
  },
  {
   "cell_type": "code",
   "execution_count": 3,
   "metadata": {
    "ExecuteTime": {
     "end_time": "2023-08-18T16:24:14.039657Z",
     "start_time": "2023-08-18T16:24:10.897891Z"
    },
    "collapsed": false,
    "jupyter": {
     "outputs_hidden": false
    }
   },
   "outputs": [
    {
     "name": "stderr",
     "output_type": "stream",
     "text": [
      "2023-08-18 09:24:11.343 Python[63596:1758072] ApplePersistenceIgnoreState: Existing state will not be touched. New state will be written to /var/folders/t7/tdt4vrqj57x7cdkbnm27lcbw0000gq/T/org.python.python.savedState\n"
     ]
    },
    {
     "ename": "FileNotFoundError",
     "evalue": "[Errno 2] No such file or directory",
     "output_type": "error",
     "traceback": [
      "\u001B[0;31m---------------------------------------------------------------------------\u001B[0m",
      "\u001B[0;31mFileNotFoundError\u001B[0m                         Traceback (most recent call last)",
      "Cell \u001B[0;32mIn[3], line 2\u001B[0m\n\u001B[1;32m      1\u001B[0m \u001B[38;5;66;03m#want to simulate a bounding box and then use it to query product searches.\u001B[39;00m\n\u001B[0;32m----> 2\u001B[0m \u001B[43mpds4_tools\u001B[49m\u001B[38;5;241;43m.\u001B[39;49m\u001B[43mview\u001B[49m\u001B[43m(\u001B[49m\u001B[43mresp_data\u001B[49m\u001B[43m[\u001B[49m\u001B[38;5;241;43m5\u001B[39;49m\u001B[43m]\u001B[49m\u001B[43m[\u001B[49m\u001B[38;5;124;43m'\u001B[39;49m\u001B[38;5;124;43mproperties\u001B[39;49m\u001B[38;5;124;43m'\u001B[39;49m\u001B[43m]\u001B[49m\u001B[43m[\u001B[49m\u001B[38;5;124;43m'\u001B[39;49m\u001B[38;5;124;43mops:Label_File_Info.ops:file_ref\u001B[39;49m\u001B[38;5;124;43m'\u001B[39;49m\u001B[43m]\u001B[49m\u001B[43m[\u001B[49m\u001B[38;5;241;43m0\u001B[39;49m\u001B[43m]\u001B[49m\u001B[43m)\u001B[49m\n\u001B[1;32m      3\u001B[0m \u001B[38;5;66;03m#Have to determine what kind of data exists in the bundle\u001B[39;00m\n\u001B[1;32m      4\u001B[0m \u001B[38;5;66;03m# - image data? what is mdis?\u001B[39;00m\n",
      "File \u001B[0;32m/usr/local/lib/python3.11/site-packages/pds4_tools/viewer/core.py:1165\u001B[0m, in \u001B[0;36mpds4_viewer\u001B[0;34m(filename, from_existing_structures, lazy_load, quiet)\u001B[0m\n\u001B[1;32m   1163\u001B[0m \u001B[38;5;66;03m# Create viewer, and open summary window\u001B[39;00m\n\u001B[1;32m   1164\u001B[0m root \u001B[38;5;241m=\u001B[39m Tk()\n\u001B[0;32m-> 1165\u001B[0m viewer \u001B[38;5;241m=\u001B[39m \u001B[43mPDS4Viewer\u001B[49m\u001B[43m(\u001B[49m\u001B[43mroot\u001B[49m\u001B[43m)\u001B[49m\n\u001B[1;32m   1167\u001B[0m open_summary(viewer, filename\u001B[38;5;241m=\u001B[39mfilename, from_existing_structures\u001B[38;5;241m=\u001B[39mfrom_existing_structures,\n\u001B[1;32m   1168\u001B[0m              quiet\u001B[38;5;241m=\u001B[39mquiet, lazy_load\u001B[38;5;241m=\u001B[39mlazy_load)\n\u001B[1;32m   1170\u001B[0m root\u001B[38;5;241m.\u001B[39mmainloop()\n",
      "File \u001B[0;32m/usr/local/lib/python3.11/site-packages/pds4_tools/viewer/core.py:67\u001B[0m, in \u001B[0;36mPDS4Viewer.__init__\u001B[0;34m(self, root)\u001B[0m\n\u001B[1;32m     63\u001B[0m \u001B[38;5;28mself\u001B[39m\u001B[38;5;241m.\u001B[39m_root\u001B[38;5;241m.\u001B[39mbind_class(\u001B[38;5;124m'\u001B[39m\u001B[38;5;124mEntry\u001B[39m\u001B[38;5;124m'\u001B[39m, cmd, \u001B[38;5;28;01mlambda\u001B[39;00m event: event\u001B[38;5;241m.\u001B[39mwidget\u001B[38;5;241m.\u001B[39mselection_range(\u001B[38;5;241m0\u001B[39m, \u001B[38;5;124m'\u001B[39m\u001B[38;5;124mend\u001B[39m\u001B[38;5;124m'\u001B[39m))\n\u001B[1;32m     65\u001B[0m \u001B[38;5;66;03m# Temporary reset of MPL's rcparams to MPL defaults, such that custom settings do not\u001B[39;00m\n\u001B[1;32m     66\u001B[0m \u001B[38;5;66;03m# interfere with designed GUI look (set back to user defaults on quit)\u001B[39;00m\n\u001B[0;32m---> 67\u001B[0m \u001B[43m_mpl_commands\u001B[49m\u001B[43m(\u001B[49m\u001B[38;5;124;43m'\u001B[39;49m\u001B[38;5;124;43mset_default_mpl_rcparams\u001B[39;49m\u001B[38;5;124;43m'\u001B[39;49m\u001B[43m)\u001B[49m\n\u001B[1;32m     69\u001B[0m \u001B[38;5;66;03m# Mac localization\u001B[39;00m\n\u001B[1;32m     70\u001B[0m \u001B[38;5;28;01mif\u001B[39;00m platform\u001B[38;5;241m.\u001B[39msystem() \u001B[38;5;241m==\u001B[39m \u001B[38;5;124m'\u001B[39m\u001B[38;5;124mDarwin\u001B[39m\u001B[38;5;124m'\u001B[39m:\n\u001B[1;32m     71\u001B[0m \n\u001B[1;32m     72\u001B[0m     \u001B[38;5;66;03m# Do not open TK's default About screen (only Mac exposes it by default)\u001B[39;00m\n",
      "File \u001B[0;32m/usr/local/lib/python3.11/site-packages/pds4_tools/viewer/core.py:1102\u001B[0m, in \u001B[0;36m_mpl_commands\u001B[0;34m(function_name, *args, **kwargs)\u001B[0m\n\u001B[1;32m   1098\u001B[0m \u001B[38;5;28;01mdef\u001B[39;00m \u001B[38;5;21m_mpl_commands\u001B[39m(function_name, \u001B[38;5;241m*\u001B[39margs, \u001B[38;5;241m*\u001B[39m\u001B[38;5;241m*\u001B[39mkwargs):\n\u001B[1;32m   1099\u001B[0m \n\u001B[1;32m   1100\u001B[0m     \u001B[38;5;66;03m# Check if MPL is available\u001B[39;00m\n\u001B[1;32m   1101\u001B[0m     \u001B[38;5;28;01mtry\u001B[39;00m:\n\u001B[0;32m-> 1102\u001B[0m         \u001B[38;5;28;01mimport\u001B[39;00m \u001B[38;5;21;01mmatplotlib\u001B[39;00m \u001B[38;5;28;01mas\u001B[39;00m \u001B[38;5;21;01mmpl\u001B[39;00m\n\u001B[1;32m   1103\u001B[0m     \u001B[38;5;28;01mexcept\u001B[39;00m \u001B[38;5;167;01mImportError\u001B[39;00m:\n\u001B[1;32m   1104\u001B[0m         \u001B[38;5;28;01mreturn\u001B[39;00m\n",
      "File \u001B[0;32m/usr/local/lib/python3.11/site-packages/matplotlib/__init__.py:921\u001B[0m\n\u001B[1;32m    919\u001B[0m rcParams \u001B[38;5;241m=\u001B[39m RcParams()  \u001B[38;5;66;03m# The global instance.\u001B[39;00m\n\u001B[1;32m    920\u001B[0m \u001B[38;5;28mdict\u001B[39m\u001B[38;5;241m.\u001B[39mupdate(rcParams, \u001B[38;5;28mdict\u001B[39m\u001B[38;5;241m.\u001B[39mitems(rcParamsDefault))\n\u001B[0;32m--> 921\u001B[0m \u001B[38;5;28mdict\u001B[39m\u001B[38;5;241m.\u001B[39mupdate(rcParams, _rc_params_in_file(\u001B[43mmatplotlib_fname\u001B[49m\u001B[43m(\u001B[49m\u001B[43m)\u001B[49m))\n\u001B[1;32m    922\u001B[0m \u001B[38;5;28;01mwith\u001B[39;00m cbook\u001B[38;5;241m.\u001B[39m_suppress_matplotlib_deprecation_warning():\n\u001B[1;32m    923\u001B[0m     rcParamsOrig \u001B[38;5;241m=\u001B[39m RcParams(rcParams\u001B[38;5;241m.\u001B[39mcopy())\n",
      "File \u001B[0;32m/usr/local/lib/python3.11/site-packages/matplotlib/__init__.py:602\u001B[0m, in \u001B[0;36mmatplotlib_fname\u001B[0;34m()\u001B[0m\n\u001B[1;32m    599\u001B[0m     \u001B[38;5;28;01myield\u001B[39;00m os\u001B[38;5;241m.\u001B[39mpath\u001B[38;5;241m.\u001B[39mjoin(get_configdir(), \u001B[38;5;124m'\u001B[39m\u001B[38;5;124mmatplotlibrc\u001B[39m\u001B[38;5;124m'\u001B[39m)\n\u001B[1;32m    600\u001B[0m     \u001B[38;5;28;01myield\u001B[39;00m os\u001B[38;5;241m.\u001B[39mpath\u001B[38;5;241m.\u001B[39mjoin(_get_data_path(), \u001B[38;5;124m'\u001B[39m\u001B[38;5;124mmatplotlibrc\u001B[39m\u001B[38;5;124m'\u001B[39m)\n\u001B[0;32m--> 602\u001B[0m \u001B[38;5;28;01mfor\u001B[39;00m fname \u001B[38;5;129;01min\u001B[39;00m gen_candidates():\n\u001B[1;32m    603\u001B[0m     \u001B[38;5;28;01mif\u001B[39;00m os\u001B[38;5;241m.\u001B[39mpath\u001B[38;5;241m.\u001B[39mexists(fname) \u001B[38;5;129;01mand\u001B[39;00m \u001B[38;5;129;01mnot\u001B[39;00m os\u001B[38;5;241m.\u001B[39mpath\u001B[38;5;241m.\u001B[39misdir(fname):\n\u001B[1;32m    604\u001B[0m         \u001B[38;5;28;01mreturn\u001B[39;00m fname\n",
      "File \u001B[0;32m/usr/local/lib/python3.11/site-packages/matplotlib/__init__.py:591\u001B[0m, in \u001B[0;36mmatplotlib_fname.<locals>.gen_candidates\u001B[0;34m()\u001B[0m\n\u001B[1;32m    590\u001B[0m \u001B[38;5;28;01mdef\u001B[39;00m \u001B[38;5;21mgen_candidates\u001B[39m():\n\u001B[0;32m--> 591\u001B[0m     \u001B[38;5;28;01myield\u001B[39;00m os\u001B[38;5;241m.\u001B[39mpath\u001B[38;5;241m.\u001B[39mjoin(\u001B[43mos\u001B[49m\u001B[38;5;241;43m.\u001B[39;49m\u001B[43mgetcwd\u001B[49m\u001B[43m(\u001B[49m\u001B[43m)\u001B[49m, \u001B[38;5;124m'\u001B[39m\u001B[38;5;124mmatplotlibrc\u001B[39m\u001B[38;5;124m'\u001B[39m)\n\u001B[1;32m    592\u001B[0m     \u001B[38;5;28;01mtry\u001B[39;00m:\n\u001B[1;32m    593\u001B[0m         matplotlibrc \u001B[38;5;241m=\u001B[39m os\u001B[38;5;241m.\u001B[39menviron[\u001B[38;5;124m'\u001B[39m\u001B[38;5;124mMATPLOTLIBRC\u001B[39m\u001B[38;5;124m'\u001B[39m]\n",
      "\u001B[0;31mFileNotFoundError\u001B[0m: [Errno 2] No such file or directory"
     ]
    }
   ],
   "source": [
    "#want to simulate a bounding box and then use it to query product searches.\n",
    "pds4_tools.view(resp_data[5]['properties']['ops:Label_File_Info.ops:file_ref'][0])\n",
    "#Have to determine what kind of data exists in the bundle\n",
    "# - image data? what is mdis?"
   ]
  },
  {
   "cell_type": "code",
   "execution_count": null,
   "metadata": {
    "collapsed": false,
    "jupyter": {
     "outputs_hidden": false
    }
   },
   "outputs": [],
   "source": []
  }
 ],
 "metadata": {
  "kernelspec": {
   "display_name": "Python 3 (ipykernel)",
   "language": "python",
   "name": "python3"
  },
  "language_info": {
   "codemirror_mode": {
    "name": "ipython",
    "version": 3
   },
   "file_extension": ".py",
   "mimetype": "text/x-python",
   "name": "python",
   "nbconvert_exporter": "python",
   "pygments_lexer": "ipython3",
   "version": "3.11.4"
  }
 },
 "nbformat": 4,
 "nbformat_minor": 4
}
