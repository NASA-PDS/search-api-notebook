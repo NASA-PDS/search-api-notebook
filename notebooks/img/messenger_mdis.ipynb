{
 "cells": [
  {
   "cell_type": "code",
   "execution_count": 1,
   "metadata": {
    "collapsed": true,
    "ExecuteTime": {
     "end_time": "2023-08-17T15:11:09.330985Z",
     "start_time": "2023-08-17T15:11:09.105659Z"
    }
   },
   "outputs": [],
   "source": [
    "import requests"
   ]
  },
  {
   "cell_type": "code",
   "execution_count": 6,
   "outputs": [
    {
     "name": "stdout",
     "output_type": "stream",
     "text": [
      "debug\n"
     ]
    }
   ],
   "source": [
    "response = requests.get('https://pds.nasa.gov/api/search/1/products/urn:nasa:pds:messenger_mdis_4001:bdr_rdr')\n",
    "\n",
    "resp_data = response.json()\n",
    "print('debug')"
   ],
   "metadata": {
    "collapsed": false,
    "ExecuteTime": {
     "end_time": "2023-08-17T15:12:28.838260Z",
     "start_time": "2023-08-17T15:12:28.618593Z"
    }
   }
  },
  {
   "cell_type": "code",
   "execution_count": 7,
   "outputs": [
    {
     "data": {
      "text/plain": "{'request': 'https://pds.nasa.gov/api/search/1/products/urn:nasa:pds:messenger_mdis_4001:bdr_rdr',\n 'message': 'The lidvid urn:nasa:pds:messenger_mdis_4001:bdr_rdr was not found'}"
     },
     "execution_count": 7,
     "metadata": {},
     "output_type": "execute_result"
    }
   ],
   "source": [
    "resp_data"
   ],
   "metadata": {
    "collapsed": false
   }
  }
 ],
 "metadata": {
  "kernelspec": {
   "display_name": "Python 3",
   "language": "python",
   "name": "python3"
  },
  "language_info": {
   "codemirror_mode": {
    "name": "ipython",
    "version": 2
   },
   "file_extension": ".py",
   "mimetype": "text/x-python",
   "name": "python",
   "nbconvert_exporter": "python",
   "pygments_lexer": "ipython2",
   "version": "2.7.6"
  }
 },
 "nbformat": 4,
 "nbformat_minor": 0
}
