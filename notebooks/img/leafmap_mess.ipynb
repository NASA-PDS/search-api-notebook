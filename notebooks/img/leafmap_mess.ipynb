{
 "cells": [
  {
   "cell_type": "code",
   "execution_count": 156,
   "id": "2c53cb8d-e2fc-48c8-8902-23eb6afb0827",
   "metadata": {
    "ExecuteTime": {
     "end_time": "2023-08-29T15:35:30.004559Z",
     "start_time": "2023-08-29T15:35:29.989552Z"
    },
    "tags": []
   },
   "outputs": [],
   "source": [
    "import leafmap\n",
    "import numpy as np\n",
    "import requests\n",
    "import pds4_tools\n",
    "from ipyleaflet import Map, WMSLayer, LayersControl, Polygon, GeoData\n",
    "import ipyleaflet\n",
    "import pandas as pd\n",
    "import io\n",
    "import pds.peppi as pep"
   ]
  },
  {
   "cell_type": "markdown",
   "id": "f2421a26-927c-4b60-9a83-29638b0e7a4c",
   "metadata": {},
   "source": [
    "# Step 1: Fetch MESSENGER MDIS image data from pds4\n",
    "\n",
    "### Set and format parameters for request. \n",
    "\n",
    "Note: the below parameters were found by observing the HTTPS links below with a web json formatter and identifying which search parameters would be useful in the notebook. There are many more to choose from for each data set!\n",
    "\n",
    "https://pds.mcp.nasa.gov/api/search/1/products/urn:nasa:pds:messenger_mdis_4001:browse::1.0/members\n"
   ]
  },
  {
   "cell_type": "markdown",
   "id": "1d48cd0a-373d-4428-a17b-83734f9dc095",
   "metadata": {},
   "source": [
    "### Load the 4001 and 1001 collections\n",
    "\n",
    "The following block extra the browse and data collections and merge them together. \n",
    "\n",
    "Note: by an extra-ordinary circumptances, for collection 1001, none of the ref_lid_data in the browse collection match the lid of the data product collection."
   ]
  },
  {
   "cell_type": "code",
   "execution_count": 157,
   "id": "8b277f6a-7059-4216-b897-5d54db14e1a6",
   "metadata": {
    "tags": []
   },
   "outputs": [],
   "source": [
    "client = pep.PDSRegistryClient()\n",
    "products = pep.Products(client)\n",
    "\n",
    "def merge_browse_data(browse_coll_id, data_coll_id):\n",
    "    north = 'cart:Bounding_Coordinates.cart:north_bounding_coordinate'\n",
    "    east = 'cart:Bounding_Coordinates.cart:east_bounding_coordinate'\n",
    "    south = 'cart:Bounding_Coordinates.cart:south_bounding_coordinate'\n",
    "    west = 'cart:Bounding_Coordinates.cart:west_bounding_coordinate'\n",
    "\n",
    "    fname_browse = ['ops:Data_File_Info.ops:file_ref', 'ref_lid_data']\n",
    "    fname_prod = [east,north,west,south,\n",
    "                  'lid',\n",
    "                  'ops:Label_File_Info.ops:file_size',\n",
    "                  'ops:Data_File_Info.ops:creation_date_time',\n",
    "                  'ops:Data_File_Info.ops:file_ref'\n",
    "                 ]\n",
    "\n",
    "    df_browse = products.of_collection(browse_coll_id).fields(fname_browse).as_dataframe()\n",
    "    df_prod = products.of_collection(data_coll_id).fields(fname_prod).as_dataframe()\n",
    "    return df_prod.join(\n",
    "        df_browse.set_index(\"ref_lid_data\"),\n",
    "        on=\"lid\",\n",
    "        lsuffix='_prod', rsuffix='_browse'\n",
    "    )\n",
    "\n",
    "# mosaic tiles\n",
    "df_4001 = merge_browse_data('urn:nasa:pds:messenger_mdis_4001:browse::1.0', 'urn:nasa:pds:messenger_mdis_4001:bdr_rdr::1.0')\n",
    "\n",
    "# elevation models\n",
    "df_1001 = merge_browse_data('urn:nasa:pds:messenger_mdis_dem_1001:browse::1.0', 'urn:nasa:pds:messenger_mdis_dem_1001:elev::1.0')\n"
   ]
  },
  {
   "cell_type": "markdown",
   "id": "5b4691fa-168c-40bb-9b74-002f779de639",
   "metadata": {},
   "source": [
    "# Step 2: Visualize data on basemap\n",
    "\n",
    "### Convert pandas dataframes into geodata geometry\n",
    "The product information is viewable in an HTML widget using the geojson function in leafmap. The below code embeds the image URLS and product HTTPS into text that can be interacted with in the widget. "
   ]
  },
  {
   "cell_type": "code",
   "execution_count": 158,
   "id": "5c992084-ae38-41c8-bee1-7a7b29ac65b1",
   "metadata": {
    "tags": []
   },
   "outputs": [],
   "source": [
    "from shapely import Point, LineString, Polygon\n",
    "import geopandas as gpd\n",
    "\n",
    "def polygon(row):\n",
    "    if row[east] != 'null' and row[south] != 'null' and row[west] != 'null' and row[north] != 'null':\n",
    "        return Polygon([\n",
    "            (row[east], row[south]),\n",
    "            (row[west], row[south]),\n",
    "            (row[west], row[north]),\n",
    "            (row[east], row[north]),\n",
    "            (row[east], row[south])\n",
    "        ])\n",
    "    else:\n",
    "        return None\n",
    "\n",
    "def shortened_product_id(row):\n",
    "    return row[\"lid\"].split(\":\")[-1]\n",
    "\n",
    "def data_product_metadata(row):\n",
    "    return f\"<a target='_blank' href='https://pds.nasa.gov/api/search/1/products/{row['lid']}'> View in Browser </a>\"\n",
    "    \n",
    "def browse_product_link(row):\n",
    "    browse_product_link = row['ops:Data_File_Info.ops:file_ref_browse']\n",
    "    if isinstance(browse_product_link, str):\n",
    "        return f\"<a  target='_blank' href='{row['ops:Data_File_Info.ops:file_ref_browse']}'> View </a>\"\n",
    "    else:\n",
    "        return \"N/A\"\n",
    "\n",
    "\n",
    "def data_product_link(row):\n",
    "    for data_link in row['ops:Data_File_Info.ops:file_ref_prod']:\n",
    "        if data_link.endswith(\".TAB\") or data_link.endswith(\".IMG\") :\n",
    "            return f\"<a  target='_blank' href='{data_link}'> Download </a>\"\n",
    "    return \"N/A\"\n",
    "\n",
    "polygons = df_4001.apply(polygon, axis=1)\n",
    "gdf_4001 = gpd.GeoDataFrame(geometry=polygons)\n",
    "\n",
    "\n",
    "df_1001 = df_1001[3:] #skip the first 2 products because we do not want to visualize these images\n",
    "#Sort the values based on the east longitude coordinate - this is for the sake of layer visibility\n",
    "df_1001 = df_1001.sort_values('cart:Bounding_Coordinates.cart:east_bounding_coordinate', ascending = False)\n",
    "polygons = df_1001.apply(polygon, axis=1)\n",
    "gdf_1001 = gpd.GeoDataFrame(geometry=polygons)\n",
    "gdf_1001[\"product_id\"] =  df_1001.apply(shortened_product_id, axis=1)\n",
    "gdf_1001[\"product_metadata\"] = df_1001.apply(data_product_metadata, axis=1)\n",
    "gdf_1001[\"product_quicklook\"] = df_1001.apply(browse_product_link, axis=1)\n",
    "gdf_1001[\"product_data\"] = df_1001.apply(data_product_link, axis=1)\n",
    "\n",
    "\n"
   ]
  },
  {
   "cell_type": "markdown",
   "id": "2bb0792b-05f6-4233-80a1-359160641ed1",
   "metadata": {},
   "source": [
    "### Instantiate basemap layers, convert geo data frames to geojson data and add them to the leafmap layer"
   ]
  },
  {
   "cell_type": "code",
   "execution_count": 159,
   "id": "2258e35e-f20a-4c40-813e-c279fb07b0ba",
   "metadata": {
    "tags": []
   },
   "outputs": [
    {
     "data": {
      "application/vnd.jupyter.widget-view+json": {
       "model_id": "e11d63b50ce949babd5e4658f4952334",
       "version_major": 2,
       "version_minor": 0
      },
      "text/plain": [
       "Map(center=[0, 0], controls=(ZoomControl(options=['position', 'zoom_in_text', 'zoom_in_title', 'zoom_out_text'…"
      ]
     },
     "execution_count": 159,
     "metadata": {},
     "output_type": "execute_result"
    }
   ],
   "source": [
    "wmsLayer = WMSLayer(\n",
    "    url='https://planetarymaps.usgs.gov/cgi-bin/mapserv?map=/maps/mercury/mercury_simp_cyl.map',\n",
    "    layers='MESSENGER',\n",
    "    name='Messenger Basemap',\n",
    "    crs=ipyleaflet.projections.EPSG4326\n",
    ")\n",
    "\n",
    "merc_map = leafmap.Map(layers=(wmsLayer, ), center=(0, 0), zoom=4, crs = ipyleaflet.projections.EPSG4326)\n",
    "merc_map.add_control(LayersControl())\n",
    "\n",
    "\n",
    "style2 = {\n",
    "    \"stroke\": True,\n",
    "    \"color\": \"#ff0000\",\n",
    "    \"weight\": 2,\n",
    "    \"opacity\": 1,\n",
    "    \"fill\": True,\n",
    "    \"fillColor\": \"#ff0000\",\n",
    "    \"fillOpacity\": 0.1,\n",
    "}\n",
    "\n",
    "hover_style = {\"fillOpacity\": 0.7}\n",
    "\n",
    "# useless because it shows the data already used in the background map\n",
    "#style1 = {\n",
    "#    \"stroke\": True,\n",
    "#    \"color\": \"#0000ff\",\n",
    "#    \"weight\": 2,\n",
    "#    \"opacity\": 1,\n",
    "#    \"fill\": True,\n",
    "#    \"fillColor\": \"#0000ff\",\n",
    "#    \"fillOpacity\": 0.1,\n",
    "#}\n",
    "#gdf4001_geojson = leafmap.gdf_to_geojson(gdf_4001, epsg=\"4326\")\n",
    "#merc_map.add_geojson(gdf4001_geojson, layer_name=\"4001 Collection\", style = style1, hover_style = hover_style)\n",
    "\n",
    "gdf1001_geojson = leafmap.gdf_to_geojson(gdf_1001, epsg=\"4326\")\n",
    "merc_map.add_geojson(gdf1001_geojson, layer_name=\"1001 Collection\", style = style2, hover_style = hover_style)\n",
    "\n",
    "merc_map"
   ]
  },
  {
   "cell_type": "code",
   "execution_count": null,
   "id": "52d6b757-0bde-4d32-90b0-3895ac8c260a",
   "metadata": {},
   "outputs": [],
   "source": []
  }
 ],
 "metadata": {
  "kernelspec": {
   "display_name": "Python 3 (ipykernel)",
   "language": "python",
   "name": "python3"
  },
  "language_info": {
   "codemirror_mode": {
    "name": "ipython",
    "version": 3
   },
   "file_extension": ".py",
   "mimetype": "text/x-python",
   "name": "python",
   "nbconvert_exporter": "python",
   "pygments_lexer": "ipython3",
   "version": "3.11.4"
  }
 },
 "nbformat": 4,
 "nbformat_minor": 5
}
