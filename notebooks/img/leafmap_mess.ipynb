{
 "cells": [
  {
   "cell_type": "code",
   "execution_count": 1,
   "id": "968e2771",
   "metadata": {
    "collapsed": false,
    "jupyter": {
     "outputs_hidden": false
    },
    "pycharm": {
     "name": "#%%\n"
    },
    "tags": []
   },
   "outputs": [],
   "source": [
    "import leafmap\n",
    "import numpy as np\n",
    "import requests\n",
    "import pds4_tools\n",
    "from ipyleaflet import Map, WMSLayer, LayersControl, Polygon, GeoData\n",
    "import ipyleaflet\n",
    "import pandas as pd\n",
    "import io\n",
    "import pds.peppi as pep"
   ]
  },
  {
   "cell_type": "markdown",
   "id": "eeceb3e1",
   "metadata": {
    "pycharm": {
     "name": "#%% md\n"
    }
   },
   "source": [
    "# Step 1: Fetch MESSENGER MDIS image data from pds4\n",
    "\n",
    "### Set and format parameters for request. \n",
    "\n",
    "Note: the below parameters were found by observing the HTTPS links below with a web json formatter and identifying which search parameters would be useful in the notebook. There are many more to choose from for each data set!\n",
    "\n",
    "https://pds.mcp.nasa.gov/api/search/1/products/urn:nasa:pds:messenger_mdis_4001:browse::1.0/members\n"
   ]
  },
  {
   "cell_type": "markdown",
   "id": "e0f33aa6",
   "metadata": {
    "pycharm": {
     "name": "#%% md\n"
    }
   },
   "source": [
    "### Load the 1001 collection of elevation models\n",
    "\n",
    "The following block extracts the browse and data collection's product and joins them together. \n",
    "\n",
    "Note: by an extra-ordinary circumptance, for collection 1001, none of the ref_lid_data in the browse collection matches the lid of the data product collection."
   ]
  },
  {
   "cell_type": "code",
   "execution_count": null,
   "outputs": [],
   "source": [
    "client = pep.PDSRegistryClient()\n",
    "products = pep.Products(client)\n",
    "\n",
    "\n",
    "north = 'cart:Bounding_Coordinates.cart:north_bounding_coordinate'\n",
    "east = 'cart:Bounding_Coordinates.cart:east_bounding_coordinate'\n",
    "south = 'cart:Bounding_Coordinates.cart:south_bounding_coordinate'\n",
    "west = 'cart:Bounding_Coordinates.cart:west_bounding_coordinate'\n",
    "\n",
    "fname_browse = ['ops:Data_File_Info.ops:file_ref', 'ref_lid_data']\n",
    "fname_prod = [\n",
    "    east,north,west,south,\n",
    "    'lid',\n",
    "    'ops:Label_File_Info.ops:file_size',\n",
    "    'ops:Data_File_Info.ops:creation_date_time',\n",
    "    'ops:Data_File_Info.ops:file_ref'\n",
    "]\n",
    "\n",
    "df_browse = products.of_collection('urn:nasa:pds:messenger_mdis_dem_1001:browse::1.0').fields(fname_browse).as_dataframe()\n",
    "\n",
    "# TODO a bug requires to re-initialize the product object, see https://github.com/NASA-PDS/peppi/issues/79\n",
    "products = pep.Products(client)\n",
    "df_prod = products.of_collection('urn:nasa:pds:messenger_mdis_dem_1001:elev::1.0').fields(fname_prod).as_dataframe()\n",
    "\n",
    "df_1001 = df_prod.join(\n",
    "    df_browse.set_index(\"ref_lid_data\"),\n",
    "    on=\"lid\",\n",
    "    lsuffix='_prod', rsuffix='_browse'\n",
    ")"
   ],
   "metadata": {
    "collapsed": false,
    "pycharm": {
     "name": "#%%\n"
    }
   }
  },
  {
   "cell_type": "code",
   "execution_count": null,
   "outputs": [],
   "source": [],
   "metadata": {
    "collapsed": false,
    "pycharm": {
     "name": "#%%\n"
    }
   }
  },
  {
   "cell_type": "code",
   "execution_count": null,
   "id": "9846c8ee-93dc-4d86-ad1d-555a96f076c0",
   "metadata": {},
   "outputs": [],
   "source": []
  },
  {
   "cell_type": "markdown",
   "id": "f8359d51",
   "metadata": {
    "pycharm": {
     "name": "#%% md\n"
    }
   },
   "source": [
    "# Step 2: Visualize data on basemap\n",
    "\n",
    "### Convert pandas dataframes into geodata geometry\n",
    "The product information is viewable in an HTML widget using the geojson function in leafmap. The below code embeds the image URLS and product HTTPS into text that can be interacted with in the widget. "
   ]
  },
  {
   "cell_type": "code",
   "execution_count": 8,
   "id": "8cc1572e",
   "metadata": {
    "collapsed": false,
    "jupyter": {
     "outputs_hidden": false
    },
    "pycharm": {
     "name": "#%%\n"
    },
    "tags": []
   },
   "outputs": [],
   "source": [
    "from shapely import Point, LineString, Polygon\n",
    "import geopandas as gpd\n",
    "\n",
    "def polygon(row):\n",
    "    if row[east] != 'null' and row[south] != 'null' and row[west] != 'null' and row[north] != 'null':\n",
    "        return Polygon([\n",
    "            (row[east], row[south]),\n",
    "            (row[west], row[south]),\n",
    "            (row[west], row[north]),\n",
    "            (row[east], row[north]),\n",
    "            (row[east], row[south])\n",
    "        ])\n",
    "    else:\n",
    "        return None\n",
    "\n",
    "def shortened_product_id(row):\n",
    "    return row[\"lid\"].split(\":\")[-1]\n",
    "\n",
    "def data_product_metadata(row):\n",
    "    return f\"<a target='_blank' href='https://pds.nasa.gov/api/search/1/products/{row['lid']}'> View in Browser </a>\"\n",
    "    \n",
    "def browse_product_link(row):\n",
    "    browse_product_link = row['ops:Data_File_Info.ops:file_ref_browse']\n",
    "    if isinstance(browse_product_link, str):\n",
    "        return f\"<a  target='_blank' href='{row['ops:Data_File_Info.ops:file_ref_browse']}'> View </a>\"\n",
    "    else:\n",
    "        return \"N/A\"\n",
    "\n",
    "\n",
    "def data_product_link(row):\n",
    "    for data_link in row['ops:Data_File_Info.ops:file_ref_prod']:\n",
    "        if data_link.endswith(\".TAB\") or data_link.endswith(\".IMG\") :\n",
    "            return f\"<a  target='_blank' href='{data_link}'> Download </a>\"\n",
    "    return \"N/A\"\n",
    "\n",
    "\n",
    "df_1001 = df_1001[3:] #skip the first 2 products because we do not want to visualize these images\n",
    "#Sort the values based on the east longitude coordinate - this is for the sake of layer visibility\n",
    "df_1001 = df_1001.sort_values('cart:Bounding_Coordinates.cart:east_bounding_coordinate', ascending = False)\n",
    "polygons = df_1001.apply(polygon, axis=1)\n",
    "gdf_1001 = gpd.GeoDataFrame(geometry=polygons)\n",
    "gdf_1001[\"product_id\"] =  df_1001.apply(shortened_product_id, axis=1)\n",
    "gdf_1001[\"product_metadata\"] = df_1001.apply(data_product_metadata, axis=1)\n",
    "gdf_1001[\"product_quicklook\"] = df_1001.apply(browse_product_link, axis=1)\n",
    "gdf_1001[\"product_data\"] = df_1001.apply(data_product_link, axis=1)\n",
    "\n",
    "\n"
   ]
  },
  {
   "cell_type": "markdown",
   "id": "0c0ae497",
   "metadata": {
    "pycharm": {
     "name": "#%% md\n"
    }
   },
   "source": [
    "### Instantiate basemap layers, convert geo data frames to geojson data and add them to the leafmap layer"
   ]
  },
  {
   "cell_type": "code",
   "execution_count": 9,
   "id": "7848a6ec",
   "metadata": {
    "collapsed": false,
    "jupyter": {
     "outputs_hidden": false
    },
    "pycharm": {
     "name": "#%%\n"
    },
    "tags": []
   },
   "outputs": [
    {
     "data": {
      "application/vnd.jupyter.widget-view+json": {
       "model_id": "207299ba87764f7ca9def84fa43274bf",
       "version_major": 2,
       "version_minor": 0
      },
      "text/plain": [
       "Map(center=[0, 0], controls=(ZoomControl(options=['position', 'zoom_in_text', 'zoom_in_title', 'zoom_out_text'…"
      ]
     },
     "execution_count": 9,
     "metadata": {},
     "output_type": "execute_result"
    }
   ],
   "source": [
    "wmsLayer = WMSLayer(\n",
    "    url='https://planetarymaps.usgs.gov/cgi-bin/mapserv?map=/maps/mercury/mercury_simp_cyl.map',\n",
    "    layers='MESSENGER',\n",
    "    name='Messenger Basemap',\n",
    "    crs=ipyleaflet.projections.EPSG4326\n",
    ")\n",
    "\n",
    "merc_map = leafmap.Map(layers=(wmsLayer, ), center=(0, 0), zoom=4, crs = ipyleaflet.projections.EPSG4326)\n",
    "merc_map.add_control(LayersControl())\n",
    "\n",
    "\n",
    "style = {\n",
    "    \"stroke\": True,\n",
    "    \"color\": \"#ff0000\",\n",
    "    \"weight\": 2,\n",
    "    \"opacity\": 1,\n",
    "    \"fill\": True,\n",
    "    \"fillColor\": \"#ff0000\",\n",
    "    \"fillOpacity\": 0.1,\n",
    "}\n",
    "\n",
    "hover_style = {\"fillOpacity\": 0.7}\n",
    "\n",
    "gdf1001_geojson = leafmap.gdf_to_geojson(gdf_1001, epsg=\"4326\")\n",
    "merc_map.add_geojson(gdf1001_geojson, layer_name=\"1001 Collection\", style = style, hover_style = hover_style)\n",
    "\n",
    "merc_map"
   ]
  },
  {
   "cell_type": "code",
   "execution_count": null,
   "id": "a9944f9a-043e-41e5-9bfa-5524ffc902a6",
   "metadata": {
    "pycharm": {
     "name": "#%%\n"
    }
   },
   "outputs": [],
   "source": []
  }
 ],
 "metadata": {
  "kernelspec": {
   "display_name": "Python 3 (ipykernel)",
   "language": "python",
   "name": "python3"
  },
  "language_info": {
   "codemirror_mode": {
    "name": "ipython",
    "version": 3
   },
   "file_extension": ".py",
   "mimetype": "text/x-python",
   "name": "python",
   "nbconvert_exporter": "python",
   "pygments_lexer": "ipython3",
   "version": "3.11.4"
  }
 },
 "nbformat": 4,
 "nbformat_minor": 5
}