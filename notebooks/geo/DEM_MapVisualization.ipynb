{
 "cells": [
  {
   "cell_type": "markdown",
   "source": [
    "## Step 0: Import Libraries"
   ],
   "metadata": {
    "collapsed": false
   }
  },
  {
   "cell_type": "code",
   "execution_count": null,
   "outputs": [],
   "source": [
    "import requests\n",
    "from io import BytesIO\n",
    "from PIL import Image\n",
    "import matplotlib.pyplot as plt\n",
    "import pds4_tools\n",
    "\n",
    "from astropy.io import fits"
   ],
   "metadata": {
    "collapsed": false,
    "is_executing": true
   }
  },
  {
   "cell_type": "markdown",
   "source": [
    "## Step 1: Search for pds4 rover images and load them using pds4_tools\n"
   ],
   "metadata": {
    "collapsed": false
   }
  },
  {
   "cell_type": "markdown",
   "source": [
    "Below demonstrates how the rover image data was identified in PDS4 using 4 search parameters.\n",
    "1. Identification Area: to limit search results to observational products\n",
    "2. Harvest_Info: to look at products in the geo sciences node\n",
    "3. Array_2d_Image: to identify image data products\n",
    "4. Primary_Result_Summary: to identify processed data products"
   ],
   "metadata": {
    "collapsed": false
   }
  },
  {
   "cell_type": "code",
   "execution_count": 3,
   "outputs": [],
   "source": [
    "response = requests.get('https://pds.nasa.gov/api/search/1/products?q=((pds:Identification_Area.pds:product_class eq \"Product_Observational\") and (ops:Harvest_Info.ops:node_name eq \"PDS_GEO\") and (pds:Array_2D_Image.pds:axes eq \"2\") and (pds:Primary_Result_Summary.pds:processing_level eq \"Derived\") )&start=0&limit=3000')\n",
    "\n",
    "resp_data = response.json()['data']\n",
    "\n",
    "xml_urls = []\n",
    "for prod in resp_data:\n",
    "    xml_urls.append([prod['properties']['ops:Label_File_Info.ops:file_ref'][0]])"
   ],
   "metadata": {
    "collapsed": false,
    "ExecuteTime": {
     "end_time": "2023-08-10T21:42:15.894880Z",
     "start_time": "2023-08-10T21:42:15.406178Z"
    }
   }
  },
  {
   "cell_type": "code",
   "execution_count": 4,
   "outputs": [
    {
     "data": {
      "text/plain": "[['https://pds-geosciences.wustl.edu/messenger/urn-nasa-pds-izenberg_pdart14_meap/data_tnmap/thermal_neutron_map.xml'],\n ['https://pds-geosciences.wustl.edu/m2020/urn-nasa-pds-mars2020_rover_places/data_maps/m20_orbital_dem.xml'],\n ['https://pds-geosciences.wustl.edu/m2020/urn-nasa-pds-mars2020_rover_places/data_maps/m20_orbital_map.xml']]"
     },
     "metadata": {},
     "output_type": "display_data"
    }
   ],
   "source": [
    "display(xml_urls)"
   ],
   "metadata": {
    "collapsed": false,
    "ExecuteTime": {
     "end_time": "2023-08-10T21:42:16.257590Z",
     "start_time": "2023-08-10T21:42:16.226976Z"
    }
   }
  },
  {
   "cell_type": "markdown",
   "source": [
    "We want to visualize the orbital DEM and the orbital map, so we will grab the last two elements and then visualize them with pds4_tools."
   ],
   "metadata": {
    "collapsed": false
   }
  },
  {
   "cell_type": "code",
   "execution_count": null,
   "outputs": [
    {
     "name": "stdout",
     "output_type": "stream",
     "text": [
      "Warning: Detected IPython with module://matplotlib_inline.backend_inline backend initialized. PDS4 Viewer requires a TK backend. \n",
      "If PDS4 Viewer will not open, follow the steps below: \n",
      "  1) Avoid %matplotlib or %gui statements prior running PDS4 Viewer. \n",
      "  2) If issue persists, use ipython --quick to skip loading config files.\n",
      "Processing label: https://pds-geosciences.wustl.edu/m2020/urn-nasa-pds-mars2020_rover_places/data_maps/m20_orbital_map.xml\n",
      "Downloading URL: https://pds-geosciences.wustl.edu/m2020/urn-nasa-pds-mars2020_rover_places/data_maps/m20_orbital_map.xml ... "
     ]
    },
    {
     "name": "stderr",
     "output_type": "stream",
     "text": [
      "2023-08-10 14:42:19.236 Python[61607:552342] ApplePersistenceIgnoreState: Existing state will not be touched. New state will be written to /var/folders/t7/tdt4vrqj57x7cdkbnm27lcbw0000gq/T/org.python.python.savedState\n"
     ]
    },
    {
     "name": "stdout",
     "output_type": "stream",
     "text": [
      "done\n",
      "Found a Header structure: ODL3_Header\n",
      "Found a Header structure: VICAR_Header\n",
      "Found a Array_2D_Image structure: m20_orbital_map\n",
      "Now processing a Array_2D_Image structure: m20_orbital_map\n",
      "Downloading URL: https://pds-geosciences.wustl.edu/m2020/urn-nasa-pds-mars2020_rover_places/data_maps/m20_orbital_map.img ... \n",
      "100% [==================================================] (437.58 / 437.58 MB)\n"
     ]
    }
   ],
   "source": [
    "#Orbital DEM\n",
    "pds4_tools.view(xml_urls[1][0])\n",
    "#Orbital Map\n",
    "pds4_tools.view(xml_urls[2][0])"
   ],
   "metadata": {
    "collapsed": false,
    "is_executing": true,
    "ExecuteTime": {
     "start_time": "2023-08-10T21:42:18.805230Z"
    }
   }
  },
  {
   "cell_type": "code",
   "execution_count": null,
   "outputs": [],
   "source": [],
   "metadata": {
    "collapsed": false
   }
  }
 ],
 "metadata": {
  "kernelspec": {
   "display_name": "Python 3",
   "language": "python",
   "name": "python3"
  },
  "language_info": {
   "codemirror_mode": {
    "name": "ipython",
    "version": 2
   },
   "file_extension": ".py",
   "mimetype": "text/x-python",
   "name": "python",
   "nbconvert_exporter": "python",
   "pygments_lexer": "ipython2",
   "version": "2.7.6"
  }
 },
 "nbformat": 4,
 "nbformat_minor": 0
}
