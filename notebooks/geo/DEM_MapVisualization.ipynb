{
 "cells": [
  {
   "cell_type": "markdown",
   "metadata": {},
   "source": [
    "## Step 0: Import Libraries"
   ]
  },
  {
   "cell_type": "code",
   "execution_count": null,
   "metadata": {
    "ExecuteTime": {
     "end_time": "2023-08-16T18:53:04.812077Z",
     "start_time": "2023-08-16T18:53:03.136374Z"
    },
    "collapsed": false,
    "jupyter": {
     "outputs_hidden": false
    },
    "tags": []
   },
   "outputs": [],
   "source": [
    "import requests\n",
    "from io import BytesIO\n",
    "from PIL import Image\n",
    "import matplotlib.pyplot as plt\n",
    "import pds4_tools\n",
    "\n",
    "from astropy.io import fits"
   ]
  },
  {
   "cell_type": "markdown",
   "metadata": {},
   "source": [
    "## Step 1: Search for pds4 rover images and load them using pds4_tools\n"
   ]
  },
  {
   "cell_type": "markdown",
   "metadata": {},
   "source": [
    "Below demonstrates how the rover image data was identified in PDS4 using 4 search parameters.\n",
    "1. Identification Area: to limit search results to observational products\n",
    "2. Harvest_Info: to look at products in the geo sciences node\n",
    "3. Array_2d_Image: to identify image data products\n",
    "4. Primary_Result_Summary: to identify processed data products"
   ]
  },
  {
   "cell_type": "code",
   "execution_count": null,
   "metadata": {
    "ExecuteTime": {
     "end_time": "2023-08-21T19:38:32.068756Z",
     "start_time": "2023-08-21T19:38:31.468572Z"
    },
    "collapsed": false,
    "jupyter": {
     "outputs_hidden": false
    },
    "tags": []
   },
   "outputs": [],
   "source": [
    "response = requests.get('https://pds.nasa.gov/api/search/1/products?q=((pds:Identification_Area.pds:product_class eq \"Product_Observational\") and (ops:Harvest_Info.ops:node_name eq \"PDS_GEO\") and (pds:Array_2D_Image.pds:axes eq \"2\") and (pds:Primary_Result_Summary.pds:processing_level eq \"Derived\") )&start=0&limit=3000')\n",
    "\n",
    "resp_data = response.json()['data']\n",
    "\n",
    "xml_urls = []\n",
    "for prod in resp_data:\n",
    "    xml_urls.append([prod['properties']['ops:Label_File_Info.ops:file_ref'][0]])"
   ]
  },
  {
   "cell_type": "code",
   "execution_count": null,
   "metadata": {
    "ExecuteTime": {
     "end_time": "2023-08-16T18:53:12.615317Z",
     "start_time": "2023-08-16T18:53:12.579058Z"
    },
    "collapsed": false,
    "jupyter": {
     "outputs_hidden": false
    },
    "tags": []
   },
   "outputs": [],
   "source": [
    "display(xml_urls)"
   ]
  },
  {
   "cell_type": "markdown",
   "metadata": {},
   "source": [
    "We want to visualize the orbital DEM and the orbital map, so we will grab the last two elements and then visualize them with pds4_tools."
   ]
  },
  {
   "cell_type": "code",
   "execution_count": null,
   "metadata": {
    "ExecuteTime": {
     "end_time": "2023-08-16T18:54:13.352719Z",
     "start_time": "2023-08-16T18:53:22.178387Z"
    },
    "collapsed": false,
    "jupyter": {
     "outputs_hidden": false
    },
    "tags": []
   },
   "outputs": [],
   "source": [
    "#Orbital DEM\n",
    "pds4_tools.view(xml_urls[1][0])\n"
   ]
  },
  {
   "cell_type": "code",
   "execution_count": null,
   "metadata": {
    "ExecuteTime": {
     "start_time": "2023-08-16T18:54:13.359866Z"
    },
    "collapsed": false,
    "jupyter": {
     "outputs_hidden": false
    }
   },
   "outputs": [],
   "source": [
    "#Orbital Map\n",
    "pds4_tools.view(xml_urls[0][0])"
   ]
  },
  {
   "cell_type": "code",
   "execution_count": null,
   "metadata": {
    "collapsed": false,
    "jupyter": {
     "outputs_hidden": false
    }
   },
   "outputs": [],
   "source": []
  }
 ],
 "metadata": {
  "kernelspec": {
   "display_name": "Python 3 (ipykernel)",
   "language": "python",
   "name": "python3"
  },
  "language_info": {
   "codemirror_mode": {
    "name": "ipython",
    "version": 3
   },
   "file_extension": ".py",
   "mimetype": "text/x-python",
   "name": "python",
   "nbconvert_exporter": "python",
   "pygments_lexer": "ipython3",
   "version": "3.11.4"
  }
 },
 "nbformat": 4,
 "nbformat_minor": 4
}
