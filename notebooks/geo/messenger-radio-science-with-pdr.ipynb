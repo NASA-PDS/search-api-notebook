{
 "cells": [
  {
   "cell_type": "markdown",
   "id": "0c9dbeab-97cf-400d-8367-c31c3cdedc18",
   "metadata": {},
   "source": [
    "# Messenger Radio-Science collection\n",
    "\n",
    "Select a subset from the MESSENGER Radio Science RSR Data Products Collection and gather the data in a single dataframe for easy analysis and visualization.  "
   ]
  },
  {
   "cell_type": "code",
   "execution_count": null,
   "id": "6f88e5fe-99ed-4330-959f-bd783c1419e0",
   "metadata": {
    "tags": []
   },
   "outputs": [],
   "source": [
    "import pds.peppi as peppi\n",
    "import pandas as pd\n",
    "import pdr\n",
    "import os\n",
    "from urllib.request import urlretrieve\n",
    "from datetime import datetime"
   ]
  },
  {
   "cell_type": "markdown",
   "id": "6dd9ca1d-5e77-40df-b5fd-5e023e19f936",
   "metadata": {},
   "source": [
    "## Get the collection's product subset\n",
    "\n",
    "From its identifier found on https://pds.nasa.gov/"
   ]
  },
  {
   "cell_type": "code",
   "execution_count": null,
   "id": "a0aba1d5-2f87-4383-9174-0621983112f9",
   "metadata": {
    "tags": []
   },
   "outputs": [],
   "source": [
    "client = peppi.PDSRegistryClient()\n",
    "start_date = datetime.fromisoformat(\"2012-03-02\")\n",
    "end_date = datetime.fromisoformat(\"2012-03-05\")\n",
    "products = peppi.Products(client).of_collection(\"urn:nasa:pds:mess-rs-raw:data-rsr::1.0\").after(start_date).before(end_date)"
   ]
  },
  {
   "cell_type": "markdown",
   "id": "28f19818-41fd-4438-8500-c2b57d7ad0d5",
   "metadata": {},
   "source": [
    "## Iterate over the data products\n",
    "\n",
    "Iterate over the products maching the the criteria above and aggregate the data content into a single dataframe, using [PDR](https://pdr.readthedocs.io/) ."
   ]
  },
  {
   "cell_type": "code",
   "execution_count": null,
   "id": "9663ca2c-2bfa-46ff-98c6-d8f2bf003df9",
   "metadata": {
    "tags": []
   },
   "outputs": [],
   "source": [
    "df = None\n",
    "for i, p in enumerate(products):\n",
    "\n",
    "    # download label\n",
    "    remote_label_path = p.properties['ops:Label_File_Info.ops:file_ref'][0]\n",
    "    local_label_path = os.path.basename(remote_label_path)\n",
    "    urlretrieve(remote_label_path, local_label_path)\n",
    " \n",
    "    # download product\n",
    "    remote_data_path = p.properties['ops:Data_File_Info.ops:file_ref'][0]\n",
    "    local_data_path = os.path.basename(remote_data_path)\n",
    "    urlretrieve(remote_data_path, local_data_path)\n",
    "    \n",
    "    # use Planetary Data Reader to read the data into a pandas DataFrame\n",
    "    data = pdr.read(os.path.abspath(local_label_path))\n",
    "    \n",
    "    # append current data to a main dataframe\n",
    "    df = pd.concat([df, data[ 'MESSENGER_Radio_Science_Receiver_(RSR)_raw_data' ]])\n",
    "    \n",
    "    # break because this is a lot of data\n",
    "    if i>3:\n",
    "        break"
   ]
  },
  {
   "cell_type": "code",
   "execution_count": null,
   "id": "f11df756-57d0-4eeb-922a-752dab6e317b",
   "metadata": {
    "tags": []
   },
   "outputs": [],
   "source": [
    "df['I/Q Pair, I_1']"
   ]
  },
  {
   "cell_type": "markdown",
   "id": "fd10b770-9334-4a37-95d0-76e30dd82338",
   "metadata": {},
   "source": [
    "## Plot one random field"
   ]
  },
  {
   "cell_type": "code",
   "execution_count": null,
   "id": "a4cd7067-f443-4e2f-9b2c-efd3e12b390d",
   "metadata": {
    "tags": []
   },
   "outputs": [],
   "source": [
    "import matplotlib.pyplot as plt\n",
    "plt.clf()\n",
    "plt.plot(df[\"I/Q Pair, I_1\"])\n",
    "plt.show()"
   ]
  },
  {
   "cell_type": "code",
   "execution_count": null,
   "id": "26940cb5-1220-47cc-889d-41c3d3cd3d20",
   "metadata": {
    "tags": []
   },
   "outputs": [],
   "source": [
    "plt.clf()"
   ]
  },
  {
   "cell_type": "code",
   "execution_count": null,
   "id": "64cf75fc-7f10-4a1c-a0af-ad1b9f1bdab2",
   "metadata": {},
   "outputs": [],
   "source": []
  }
 ],
 "metadata": {
  "kernelspec": {
   "display_name": "Python 3 (ipykernel)",
   "language": "python",
   "name": "python3"
  },
  "language_info": {
   "codemirror_mode": {
    "name": "ipython",
    "version": 3
   },
   "file_extension": ".py",
   "mimetype": "text/x-python",
   "name": "python",
   "nbconvert_exporter": "python",
   "pygments_lexer": "ipython3",
   "version": "3.11.4"
  }
 },
 "nbformat": 4,
 "nbformat_minor": 5
}
