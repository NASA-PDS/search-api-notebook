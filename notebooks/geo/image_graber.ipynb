{
 "cells": [
  {
   "cell_type": "code",
   "execution_count": 15,
   "metadata": {
    "collapsed": true,
    "ExecuteTime": {
     "end_time": "2023-08-08T15:24:46.458094Z",
     "start_time": "2023-08-08T15:24:44.628106Z"
    }
   },
   "outputs": [],
   "source": [
    "import requests\n",
    "from io import BytesIO\n",
    "from PIL import Image\n",
    "import matplotlib.pyplot as plt\n"
   ]
  },
  {
   "cell_type": "code",
   "execution_count": 26,
   "outputs": [
    {
     "name": "stdout",
     "output_type": "stream",
     "text": [
      "debug\n"
     ]
    }
   ],
   "source": [
    "response = requests.get('https://pds.nasa.gov/api/search/1/products?q=((pds:Science_Facets.pds:wavelength_range eq \"Visible\") and (pds:Identification_Area.pds:product_class eq \"Product_Observational\") and (pds:Tagged_Digital_Object.pds:2D_ARRAY) )&start=0&limit=3000')\n",
    "\n",
    "#Array_Base\n",
    "\n",
    "#pds:Array_2DImage.pds:axes eq \"2\"\n",
    "\n",
    "\n",
    "\n",
    "# response = requests.get('https://pds.nasa.gov/api/search/1/products?q=((pds:Science_Facets.pds:wavelength_range eq \"Visible\") and not (ops:Harvest_Info.ops:node_name eq \"PDS_SBN\"))&start=0&limit=3000')\n",
    "\n",
    "resp_data = response.json()['data']\n",
    "\n",
    "for prod  in resp_data:\n",
    "    urls = [prod['ops:Label_File_Info.ops:file_ref'] if \"img\" in prod['ops:Label_File_Info.ops:file_ref']]\n",
    "\n",
    "\n",
    "print('debug')"
   ],
   "metadata": {
    "collapsed": false
   }
  },
  {
   "cell_type": "code",
   "execution_count": null,
   "outputs": [],
   "source": [
    "def display_image_from_url(url):\n",
    "    response = requests.get(url)\n",
    "    response.raise_for_status()\n",
    "    image = Image.open(BytesIO(response.content))\n",
    "\n",
    "    plt.imshow(image)\n",
    "    plt.axis('off')\n",
    "    plt.show()\n",
    "\n",
    "# Example usage\n",
    "# display_image_from_url(url)"
   ],
   "metadata": {
    "collapsed": false
   }
  }
 ],
 "metadata": {
  "kernelspec": {
   "display_name": "Python 3",
   "language": "python",
   "name": "python3"
  },
  "language_info": {
   "codemirror_mode": {
    "name": "ipython",
    "version": 2
   },
   "file_extension": ".py",
   "mimetype": "text/x-python",
   "name": "python",
   "nbconvert_exporter": "python",
   "pygments_lexer": "ipython2",
   "version": "2.7.6"
  }
 },
 "nbformat": 4,
 "nbformat_minor": 0
}
