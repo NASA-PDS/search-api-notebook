{
 "cells": [
  {
   "cell_type": "code",
   "execution_count": 97,
   "metadata": {
    "collapsed": true,
    "ExecuteTime": {
     "end_time": "2023-08-08T22:53:33.940905Z",
     "start_time": "2023-08-08T22:53:33.931261Z"
    }
   },
   "outputs": [],
   "source": [
    "import requests\n",
    "from io import BytesIO\n",
    "from PIL import Image\n",
    "import matplotlib.pyplot as plt\n",
    "\n",
    "from astropy.io import fits"
   ]
  },
  {
   "cell_type": "code",
   "execution_count": 90,
   "outputs": [
    {
     "name": "stdout",
     "output_type": "stream",
     "text": [
      "debug\n"
     ]
    },
    {
     "data": {
      "text/plain": "['https://archives.esac.esa.int/psa/ftp/BepiColombo/bc_mtm_mcam/data_raw/cruise/202003/cam_raw_sc_cam2_image_20200313t010050_50_f__t0005.fits']"
     },
     "execution_count": 90,
     "metadata": {},
     "output_type": "execute_result"
    }
   ],
   "source": [
    "response = requests.get('https://pds.nasa.gov/api/search/1/products?q=((pds:Science_Facets.pds:wavelength_range eq \"Visible\") and (pds:Identification_Area.pds:product_class eq \"Product_Observational\") and not (ops:Harvest_Info.ops:node_name eq \"PDS_SBN\") )&start=0&limit=3000')\n",
    "\n",
    "#pds:Array_2DImage.pds:axes eq \"2\"\n",
    "\n",
    "# response = requests.get('https://pds.nasa.gov/api/search/1/products?q=((pds:Science_Facets.pds:wavelength_range eq \"Visible\") and not (ops:Harvest_Info.ops:node_name eq \"PDS_SBN\"))&start=0&limit=3000')\n",
    "\n",
    "resp_data = response.json()['data']\n",
    "counter = -1\n",
    "urls = []\n",
    "for prod in resp_data:\n",
    "    if '.fits' in prod['properties']['ops:Data_File_Info.ops:file_ref'][0]:\n",
    "        urls.append([prod['properties']['ops:Data_File_Info.ops:file_ref'][0]])\n",
    "\n",
    "print('debug')\n"
   ],
   "metadata": {
    "collapsed": false,
    "ExecuteTime": {
     "end_time": "2023-08-08T22:36:00.642615Z",
     "start_time": "2023-08-08T22:35:57.283689Z"
    }
   }
  },
  {
   "cell_type": "code",
   "execution_count": 114,
   "outputs": [
    {
     "ename": "FileNotFoundError",
     "evalue": "[Errno 2] No such file or directory: '.img'",
     "output_type": "error",
     "traceback": [
      "\u001B[0;31m---------------------------------------------------------------------------\u001B[0m",
      "\u001B[0;31mFileNotFoundError\u001B[0m                         Traceback (most recent call last)",
      "Cell \u001B[0;32mIn[114], line 34\u001B[0m\n\u001B[1;32m     31\u001B[0m     plt\u001B[38;5;241m.\u001B[39mshow()\n\u001B[1;32m     33\u001B[0m \u001B[38;5;66;03m# Example usage\u001B[39;00m\n\u001B[0;32m---> 34\u001B[0m \u001B[43mdisplay_image_from_url\u001B[49m\u001B[43m(\u001B[49m\u001B[43murls\u001B[49m\u001B[43m[\u001B[49m\u001B[38;5;241;43m500\u001B[39;49m\u001B[43m]\u001B[49m\u001B[43m[\u001B[49m\u001B[38;5;241;43m0\u001B[39;49m\u001B[43m]\u001B[49m\u001B[43m)\u001B[49m\n",
      "Cell \u001B[0;32mIn[114], line 10\u001B[0m, in \u001B[0;36mdisplay_image_from_url\u001B[0;34m(url)\u001B[0m\n\u001B[1;32m      6\u001B[0m \u001B[38;5;28;01mdef\u001B[39;00m \u001B[38;5;21mdisplay_image_from_url\u001B[39m(url):\n\u001B[1;32m      7\u001B[0m     \u001B[38;5;66;03m# response = requests.get(url)\u001B[39;00m\n\u001B[1;32m      8\u001B[0m     \u001B[38;5;66;03m# response.raise_for_status()\u001B[39;00m\n\u001B[1;32m      9\u001B[0m     \u001B[38;5;28;01mif\u001B[39;00m \u001B[38;5;129;01mnot\u001B[39;00m os\u001B[38;5;241m.\u001B[39maccess(\u001B[38;5;124m'\u001B[39m\u001B[38;5;124m.spice_kernels\u001B[39m\u001B[38;5;124m'\u001B[39m,os\u001B[38;5;241m.\u001B[39mF_OK):\n\u001B[0;32m---> 10\u001B[0m         \u001B[43mos\u001B[49m\u001B[38;5;241;43m.\u001B[39;49m\u001B[43mmkdir\u001B[49m\u001B[43m(\u001B[49m\u001B[38;5;124;43m'\u001B[39;49m\u001B[38;5;124;43m.img\u001B[39;49m\u001B[38;5;124;43m'\u001B[39;49m\u001B[43m)\u001B[49m\n\u001B[1;32m     12\u001B[0m     kernel_dir \u001B[38;5;241m=\u001B[39m os\u001B[38;5;241m.\u001B[39mpath\u001B[38;5;241m.\u001B[39mjoin(\u001B[38;5;124m\"\u001B[39m\u001B[38;5;124m.img\u001B[39m\u001B[38;5;124m\"\u001B[39m)\n\u001B[1;32m     13\u001B[0m     os\u001B[38;5;241m.\u001B[39mmakedirs(kernel_dir, exist_ok\u001B[38;5;241m=\u001B[39m\u001B[38;5;28;01mTrue\u001B[39;00m)\n",
      "\u001B[0;31mFileNotFoundError\u001B[0m: [Errno 2] No such file or directory: '.img'"
     ]
    }
   ],
   "source": [
    "# import\n",
    "import os\n",
    "from astropy.visualization import astropy_mpl_style\n",
    "from astropy.utils.data import get_pkg_data_filename\n",
    "\n",
    "def display_image_from_url(url):\n",
    "    # response = requests.get(url)\n",
    "    # response.raise_for_status()\n",
    "    if not os.access('.spice_kernels',os.F_OK):\n",
    "        os.mkdir('.img')\n",
    "\n",
    "    kernel_dir = os.path.join(\".img\")\n",
    "    os.makedirs(kernel_dir, exist_ok=True)\n",
    "\n",
    "    file_path = os.path.join(kernel_dir, os.path.basename(url))\n",
    "    open(file_path, \"wb\").write(response.content)\n",
    "    r = requests.get(url, allow_redirects=True)\n",
    "\n",
    "\n",
    "    plt.style.use(astropy_mpl_style)\n",
    "    image_file = get_pkg_data_filename('tutorials/FITS-images/HorseHead.fits')\n",
    "\n",
    "    # hdul = fits.open(io.BytesIO(response.content))\n",
    "\n",
    "    img_data = fits.getdata(image_file, ext = 0)\n",
    "\n",
    "    # data = hdul[0].data\n",
    "    plt.figure()\n",
    "    plt.imshow(data, cmap='gray', origin='lower')\n",
    "    plt.colorbar()\n",
    "    plt.show()\n",
    "\n",
    "# Example usage\n",
    "display_image_from_url(urls[500][0])"
   ],
   "metadata": {
    "collapsed": false,
    "ExecuteTime": {
     "end_time": "2023-08-09T16:00:30.150052Z",
     "start_time": "2023-08-09T16:00:30.037067Z"
    }
   }
  },
  {
   "cell_type": "code",
   "execution_count": null,
   "outputs": [],
   "source": [],
   "metadata": {
    "collapsed": false
   }
  }
 ],
 "metadata": {
  "kernelspec": {
   "display_name": "Python 3",
   "language": "python",
   "name": "python3"
  },
  "language_info": {
   "codemirror_mode": {
    "name": "ipython",
    "version": 2
   },
   "file_extension": ".py",
   "mimetype": "text/x-python",
   "name": "python",
   "nbconvert_exporter": "python",
   "pygments_lexer": "ipython2",
   "version": "2.7.6"
  }
 },
 "nbformat": 4,
 "nbformat_minor": 0
}
