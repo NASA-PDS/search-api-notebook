{
 "cells": [
  {
   "cell_type": "markdown",
   "id": "97d33d49",
   "metadata": {
    "pycharm": {
     "name": "#%% md\n"
    }
   },
   "source": [
    "# Visualize Galileo Magnetometer data with pyWWT\n",
    "\n",
    "This notebook uses the PDS Search API to visualize Galileo Orbiter's magnetosphere measurement campaign with pyWWT. Thanks to PyWWT observations are displayed in their Solar System location in a 3D view.\n",
    "\n",
    "To properly run this code, ensure that you have followed the steps outlined in the README.md file. Additionally, ensure that you have opened an \"AAS Worldwide Telescope\" launcher in your notebook work space. To do this simply go to File -> New Launcher and (if configured correctly) click the AAS WWT icon. See [WWTs Jupyter Application](https://pywwt.readthedocs.io/en/stable/jupyterlab.html) for troubleshooting and further setup.\n"
   ]
  },
  {
   "cell_type": "markdown",
   "id": "6d8eaca3",
   "metadata": {
    "pycharm": {
     "name": "#%% md\n"
    }
   },
   "source": [
    "## Step 0: Import Libraries and download pds4_tools"
   ]
  },
  {
   "cell_type": "code",
   "execution_count": 2,
   "id": "1dfc3057",
   "metadata": {
    "ExecuteTime": {
     "end_time": "2023-08-31T16:06:36.642553Z",
     "start_time": "2023-08-31T16:06:31.408327Z"
    },
    "collapsed": false,
    "jupyter": {
     "outputs_hidden": false
    },
    "pycharm": {
     "name": "#%%\n"
    },
    "tags": []
   },
   "outputs": [],
   "source": [
    "from __future__ import print_function\n",
    "import pandas as pd\n",
    "import numpy as np\n",
    "\n",
    "import requests\n",
    "import spiceypy\n",
    "import os\n",
    "import io\n",
    "import pds4_tools\n",
    "\n",
    "from datetime import datetime,timedelta\n",
    "import matplotlib.dates as mdates\n",
    "from astropy import units as u\n",
    "\n",
    "from astropy.time import Time\n",
    "from pywwt.jupyter import WWTJupyterWidget\n",
    "from pywwt.jupyter import connect_to_app\n",
    "from astropy.table import Table, hstack\n",
    "import matplotlib.pyplot as plt"
   ]
  },
  {
   "cell_type": "markdown",
   "id": "b42eca90",
   "metadata": {
    "pycharm": {
     "name": "#%% md\n"
    }
   },
   "source": [
    "## Step 1: Extract data from the PDS Search API"
   ]
  },
  {
   "cell_type": "markdown",
   "id": "55bf641f-bef9-4ade-97a3-91ced60c37f3",
   "metadata": {
    "tags": []
   },
   "source": [
    "### Get the observational products of a Galileo Magnetometer collection\n",
    "\n",
    "Utilize the PDS Search API to list the magnetometer observational products of a Galileo Orbiter's collection in a pandas dataframe.\n",
    "\n",
    "\n",
    "First step: \n",
    "- Grab the LID and apply it to URL"
   ]
  },
  {
   "cell_type": "code",
   "execution_count": 3,
   "id": "be4bc337-d455-4e6f-8a26-72b28b03e49c",
   "metadata": {
    "ExecuteTime": {
     "end_time": "2023-08-31T16:06:37.236346Z",
     "start_time": "2023-08-31T16:06:36.649405Z"
    },
    "collapsed": false,
    "jupyter": {
     "outputs_hidden": false
    },
    "pycharm": {
     "name": "#%%\n"
    },
    "tags": []
   },
   "outputs": [],
   "source": [
    "#Low-res magnetometer data\n",
    "collection_lid = \"urn:nasa:pds:galileo-mag-jup-calibrated:data-magspheric-survey::1.0\"\n",
    "url = f\"https://pds.nasa.gov/api/search/1/products/{collection_lid}/members\""
   ]
  },
  {
   "cell_type": "markdown",
   "id": "d1847143-6b88-4b58-acc7-c4e7314b9ccf",
   "metadata": {
    "tags": []
   },
   "source": [
    "Second Step:\n",
    "- Apply parameters that we would like to obtain from each product"
   ]
  },
  {
   "cell_type": "code",
   "execution_count": 4,
   "id": "7cdda1bb-918b-4ad4-bc1d-eb583fe61880",
   "metadata": {
    "ExecuteTime": {
     "end_time": "2023-08-31T16:06:37.236346Z",
     "start_time": "2023-08-31T16:06:36.649405Z"
    },
    "collapsed": false,
    "jupyter": {
     "outputs_hidden": false
    },
    "pycharm": {
     "name": "#%%\n"
    },
    "tags": []
   },
   "outputs": [],
   "source": [
    "field_names = [ \"lid\", \"vid\", \"pds:Time_Coordinates.pds:start_date_time\",\n",
    "    \"pds:Time_Coordinates.pds:stop_date_time\", \"pds:Target_Identification.pds:name\",\n",
    "    \"ops:Label_File_Info.ops:file_ref\"]\n",
    "\n",
    "params = dict(\n",
    "    fields = \",\".join(field_names)\n",
    ")\n",
    "\n",
    "headers = dict(Accept=\"application/csv\")"
   ]
  },
  {
   "cell_type": "markdown",
   "id": "228f3457-5cea-4957-b66e-e446f992ae0d",
   "metadata": {},
   "source": [
    "Third Step:\n",
    "- Use python requests with parameters and header to grab the products!"
   ]
  },
  {
   "cell_type": "code",
   "execution_count": 5,
   "id": "700b5bb6-0bed-4a58-8dd0-7e7f1b3935b3",
   "metadata": {
    "ExecuteTime": {
     "end_time": "2023-08-31T16:06:37.236346Z",
     "start_time": "2023-08-31T16:06:36.649405Z"
    },
    "collapsed": false,
    "jupyter": {
     "outputs_hidden": false
    },
    "pycharm": {
     "name": "#%%\n"
    },
    "tags": []
   },
   "outputs": [],
   "source": [
    "response = requests.get(\n",
    "    url,\n",
    "    params=params,\n",
    "    headers=headers\n",
    ")"
   ]
  },
  {
   "cell_type": "code",
   "execution_count": 6,
   "id": "23831e53-3e15-4a0d-841a-59724f2757b5",
   "metadata": {
    "tags": []
   },
   "outputs": [
    {
     "data": {
      "text/plain": [
       "<Response [200]>"
      ]
     },
     "execution_count": 6,
     "metadata": {},
     "output_type": "execute_result"
    }
   ],
   "source": [
    "response"
   ]
  },
  {
   "cell_type": "markdown",
   "id": "0fdb106e-7dbb-4a22-88a6-6b6f653946f8",
   "metadata": {},
   "source": [
    "Now use python libraries to read the CSV data and put it into a pandas data frame for further manipulation\n",
    "\n",
    "Use the start_time and end_time variables to adjust the time frame query!"
   ]
  },
  {
   "cell_type": "code",
   "execution_count": 7,
   "id": "56b2ff27-ca7c-4046-afde-67e15461b371",
   "metadata": {
    "ExecuteTime": {
     "end_time": "2023-08-31T16:06:37.236346Z",
     "start_time": "2023-08-31T16:06:36.649405Z"
    },
    "collapsed": false,
    "jupyter": {
     "outputs_hidden": false
    },
    "pycharm": {
     "name": "#%%\n"
    },
    "tags": []
   },
   "outputs": [],
   "source": [
    "products_csv_stream = io.StringIO(response.content.decode('utf-8'))\n",
    "products_df_tot = pd.read_csv(products_csv_stream)\n",
    "\n",
    "# change columns & line order\n",
    "products_df_tot = products_df_tot[field_names]\n",
    "products_df_tot.sort_values(by='pds:Time_Coordinates.pds:start_date_time', inplace=True)\n",
    "\n",
    "#User specified time range\n",
    "start_time = pd.to_datetime('1996-07-19T11:00:00Z')\n",
    "end_time = pd.to_datetime('1997-08-19T15:00:00Z')\n",
    "\n",
    "# Filter the DataFrame within the time range\n",
    "t_str = 'pds:Time_Coordinates.pds:start_date_time'\n",
    "products_df = products_df_tot[(pd.to_datetime(products_df_tot[t_str]) >= start_time) & (pd.to_datetime(products_df_tot[t_str]) <= end_time)]"
   ]
  },
  {
   "cell_type": "markdown",
   "id": "353c0251",
   "metadata": {
    "pycharm": {
     "name": "#%% md\n"
    }
   },
   "source": [
    "### Display the list of products"
   ]
  },
  {
   "cell_type": "code",
   "execution_count": 8,
   "id": "4595bf3a",
   "metadata": {
    "ExecuteTime": {
     "end_time": "2023-08-31T16:06:37.290042Z",
     "start_time": "2023-08-31T16:06:37.245560Z"
    },
    "collapsed": false,
    "jupyter": {
     "outputs_hidden": false
    },
    "pycharm": {
     "name": "#%%\n"
    },
    "tags": []
   },
   "outputs": [
    {
     "data": {
      "text/html": [
       "<div>\n",
       "<style scoped>\n",
       "    .dataframe tbody tr th:only-of-type {\n",
       "        vertical-align: middle;\n",
       "    }\n",
       "\n",
       "    .dataframe tbody tr th {\n",
       "        vertical-align: top;\n",
       "    }\n",
       "\n",
       "    .dataframe thead th {\n",
       "        text-align: right;\n",
       "    }\n",
       "</style>\n",
       "<table border=\"1\" class=\"dataframe\">\n",
       "  <thead>\n",
       "    <tr style=\"text-align: right;\">\n",
       "      <th></th>\n",
       "      <th>lid</th>\n",
       "      <th>vid</th>\n",
       "      <th>pds:Time_Coordinates.pds:start_date_time</th>\n",
       "      <th>pds:Time_Coordinates.pds:stop_date_time</th>\n",
       "      <th>pds:Target_Identification.pds:name</th>\n",
       "      <th>ops:Label_File_Info.ops:file_ref</th>\n",
       "    </tr>\n",
       "  </thead>\n",
       "  <tbody>\n",
       "    <tr>\n",
       "      <th>65</th>\n",
       "      <td>urn:nasa:pds:galileo-mag-jup-calibrated:data-m...</td>\n",
       "      <td>1.0</td>\n",
       "      <td>1996-09-01T16:00:40.392Z</td>\n",
       "      <td>1996-11-02T11:44:01.104Z</td>\n",
       "      <td>[Jupiter, Ganymede]</td>\n",
       "      <td>[https://pds-ppi.igpp.ucla.edu/data/galileo-ma...</td>\n",
       "    </tr>\n",
       "    <tr>\n",
       "      <th>7</th>\n",
       "      <td>urn:nasa:pds:galileo-mag-jup-calibrated:data-m...</td>\n",
       "      <td>1.0</td>\n",
       "      <td>1996-09-01T16:00:40.392Z</td>\n",
       "      <td>1996-11-02T11:44:01.104Z</td>\n",
       "      <td>[Jupiter, Ganymede]</td>\n",
       "      <td>[https://pds-ppi.igpp.ucla.edu/data/galileo-ma...</td>\n",
       "    </tr>\n",
       "    <tr>\n",
       "      <th>6</th>\n",
       "      <td>urn:nasa:pds:galileo-mag-jup-calibrated:data-m...</td>\n",
       "      <td>1.0</td>\n",
       "      <td>1996-09-01T16:00:40.392Z</td>\n",
       "      <td>1996-11-02T11:44:01.104Z</td>\n",
       "      <td>[Jupiter, Ganymede]</td>\n",
       "      <td>[https://pds-ppi.igpp.ucla.edu/data/galileo-ma...</td>\n",
       "    </tr>\n",
       "    <tr>\n",
       "      <th>5</th>\n",
       "      <td>urn:nasa:pds:galileo-mag-jup-calibrated:data-m...</td>\n",
       "      <td>1.0</td>\n",
       "      <td>1996-09-01T16:00:48.392Z</td>\n",
       "      <td>1996-11-02T11:44:09.104Z</td>\n",
       "      <td>[Jupiter, Ganymede]</td>\n",
       "      <td>[https://pds-ppi.igpp.ucla.edu/data/galileo-ma...</td>\n",
       "    </tr>\n",
       "    <tr>\n",
       "      <th>67</th>\n",
       "      <td>urn:nasa:pds:galileo-mag-jup-calibrated:data-m...</td>\n",
       "      <td>1.0</td>\n",
       "      <td>1996-11-02T16:02:49.095Z</td>\n",
       "      <td>1996-12-14T23:58:52.842Z</td>\n",
       "      <td>[Jupiter, Callisto]</td>\n",
       "      <td>[https://pds-ppi.igpp.ucla.edu/data/galileo-ma...</td>\n",
       "    </tr>\n",
       "    <tr>\n",
       "      <th>68</th>\n",
       "      <td>urn:nasa:pds:galileo-mag-jup-calibrated:data-m...</td>\n",
       "      <td>1.0</td>\n",
       "      <td>1996-11-02T16:02:49.095Z</td>\n",
       "      <td>1996-12-14T23:58:52.842Z</td>\n",
       "      <td>[Jupiter, Callisto]</td>\n",
       "      <td>[https://pds-ppi.igpp.ucla.edu/data/galileo-ma...</td>\n",
       "    </tr>\n",
       "    <tr>\n",
       "      <th>69</th>\n",
       "      <td>urn:nasa:pds:galileo-mag-jup-calibrated:data-m...</td>\n",
       "      <td>1.0</td>\n",
       "      <td>1996-11-02T16:02:49.095Z</td>\n",
       "      <td>1996-12-14T23:58:52.842Z</td>\n",
       "      <td>[Jupiter, Callisto]</td>\n",
       "      <td>[https://pds-ppi.igpp.ucla.edu/data/galileo-ma...</td>\n",
       "    </tr>\n",
       "    <tr>\n",
       "      <th>66</th>\n",
       "      <td>urn:nasa:pds:galileo-mag-jup-calibrated:data-m...</td>\n",
       "      <td>1.0</td>\n",
       "      <td>1996-11-02T16:02:57.095Z</td>\n",
       "      <td>1996-12-14T23:59:00.842Z</td>\n",
       "      <td>[Jupiter, Callisto]</td>\n",
       "      <td>[https://pds-ppi.igpp.ucla.edu/data/galileo-ma...</td>\n",
       "    </tr>\n",
       "    <tr>\n",
       "      <th>8</th>\n",
       "      <td>urn:nasa:pds:galileo-mag-jup-calibrated:data-m...</td>\n",
       "      <td>1.0</td>\n",
       "      <td>1996-12-15T00:18:32.842Z</td>\n",
       "      <td>1997-01-07T23:21:33.122Z</td>\n",
       "      <td>[Jupiter, Europa]</td>\n",
       "      <td>[https://pds-ppi.igpp.ucla.edu/data/galileo-ma...</td>\n",
       "    </tr>\n",
       "    <tr>\n",
       "      <th>31</th>\n",
       "      <td>urn:nasa:pds:galileo-mag-jup-calibrated:data-m...</td>\n",
       "      <td>1.0</td>\n",
       "      <td>1996-12-15T00:18:32.842Z</td>\n",
       "      <td>1997-01-07T23:21:33.122Z</td>\n",
       "      <td>[Jupiter, Europa]</td>\n",
       "      <td>[https://pds-ppi.igpp.ucla.edu/data/galileo-ma...</td>\n",
       "    </tr>\n",
       "    <tr>\n",
       "      <th>71</th>\n",
       "      <td>urn:nasa:pds:galileo-mag-jup-calibrated:data-m...</td>\n",
       "      <td>1.0</td>\n",
       "      <td>1996-12-15T00:18:32.842Z</td>\n",
       "      <td>1997-01-07T23:21:33.122Z</td>\n",
       "      <td>[Jupiter, Europa]</td>\n",
       "      <td>[https://pds-ppi.igpp.ucla.edu/data/galileo-ma...</td>\n",
       "    </tr>\n",
       "    <tr>\n",
       "      <th>70</th>\n",
       "      <td>urn:nasa:pds:galileo-mag-jup-calibrated:data-m...</td>\n",
       "      <td>1.0</td>\n",
       "      <td>1996-12-15T00:18:36.842Z</td>\n",
       "      <td>1997-01-07T23:32:20.233Z</td>\n",
       "      <td>[Jupiter, Europa]</td>\n",
       "      <td>[https://pds-ppi.igpp.ucla.edu/data/galileo-ma...</td>\n",
       "    </tr>\n",
       "    <tr>\n",
       "      <th>73</th>\n",
       "      <td>urn:nasa:pds:galileo-mag-jup-calibrated:data-m...</td>\n",
       "      <td>1.0</td>\n",
       "      <td>1997-02-28T10:21:07.395Z</td>\n",
       "      <td>1997-03-30T15:59:47.367Z</td>\n",
       "      <td>Jupiter</td>\n",
       "      <td>[https://pds-ppi.igpp.ucla.edu/data/galileo-ma...</td>\n",
       "    </tr>\n",
       "    <tr>\n",
       "      <th>32</th>\n",
       "      <td>urn:nasa:pds:galileo-mag-jup-calibrated:data-m...</td>\n",
       "      <td>1.0</td>\n",
       "      <td>1997-02-28T10:21:07.395Z</td>\n",
       "      <td>1997-03-30T15:59:47.367Z</td>\n",
       "      <td>Jupiter</td>\n",
       "      <td>[https://pds-ppi.igpp.ucla.edu/data/galileo-ma...</td>\n",
       "    </tr>\n",
       "    <tr>\n",
       "      <th>72</th>\n",
       "      <td>urn:nasa:pds:galileo-mag-jup-calibrated:data-m...</td>\n",
       "      <td>1.0</td>\n",
       "      <td>1997-02-28T10:21:07.395Z</td>\n",
       "      <td>1997-03-30T15:59:47.367Z</td>\n",
       "      <td>Jupiter</td>\n",
       "      <td>[https://pds-ppi.igpp.ucla.edu/data/galileo-ma...</td>\n",
       "    </tr>\n",
       "    <tr>\n",
       "      <th>9</th>\n",
       "      <td>urn:nasa:pds:galileo-mag-jup-calibrated:data-m...</td>\n",
       "      <td>1.0</td>\n",
       "      <td>1997-02-28T10:26:30.951Z</td>\n",
       "      <td>1997-03-30T15:59:55.367Z</td>\n",
       "      <td>Jupiter</td>\n",
       "      <td>[https://pds-ppi.igpp.ucla.edu/data/galileo-ma...</td>\n",
       "    </tr>\n",
       "    <tr>\n",
       "      <th>34</th>\n",
       "      <td>urn:nasa:pds:galileo-mag-jup-calibrated:data-m...</td>\n",
       "      <td>1.0</td>\n",
       "      <td>1997-03-30T16:18:35.366Z</td>\n",
       "      <td>1997-04-28T10:53:43.497Z</td>\n",
       "      <td>[Jupiter, Ganymede]</td>\n",
       "      <td>[https://pds-ppi.igpp.ucla.edu/data/galileo-ma...</td>\n",
       "    </tr>\n",
       "    <tr>\n",
       "      <th>75</th>\n",
       "      <td>urn:nasa:pds:galileo-mag-jup-calibrated:data-m...</td>\n",
       "      <td>1.0</td>\n",
       "      <td>1997-03-30T16:18:35.366Z</td>\n",
       "      <td>1997-04-28T10:53:43.497Z</td>\n",
       "      <td>[Jupiter, Ganymede]</td>\n",
       "      <td>[https://pds-ppi.igpp.ucla.edu/data/galileo-ma...</td>\n",
       "    </tr>\n",
       "    <tr>\n",
       "      <th>33</th>\n",
       "      <td>urn:nasa:pds:galileo-mag-jup-calibrated:data-m...</td>\n",
       "      <td>1.0</td>\n",
       "      <td>1997-03-30T16:18:35.366Z</td>\n",
       "      <td>1997-04-28T10:53:43.497Z</td>\n",
       "      <td>[Jupiter, Ganymede]</td>\n",
       "      <td>[https://pds-ppi.igpp.ucla.edu/data/galileo-ma...</td>\n",
       "    </tr>\n",
       "    <tr>\n",
       "      <th>74</th>\n",
       "      <td>urn:nasa:pds:galileo-mag-jup-calibrated:data-m...</td>\n",
       "      <td>1.0</td>\n",
       "      <td>1997-03-30T16:18:43.366Z</td>\n",
       "      <td>1997-04-28T11:04:30.608Z</td>\n",
       "      <td>[Jupiter, Ganymede]</td>\n",
       "      <td>[https://pds-ppi.igpp.ucla.edu/data/galileo-ma...</td>\n",
       "    </tr>\n",
       "    <tr>\n",
       "      <th>38</th>\n",
       "      <td>urn:nasa:pds:galileo-mag-jup-calibrated:data-m...</td>\n",
       "      <td>1.0</td>\n",
       "      <td>1997-05-06T09:02:40.200Z</td>\n",
       "      <td>1997-06-22T15:59:56.873Z</td>\n",
       "      <td>[Jupiter, Ganymede]</td>\n",
       "      <td>[https://pds-ppi.igpp.ucla.edu/data/galileo-ma...</td>\n",
       "    </tr>\n",
       "    <tr>\n",
       "      <th>36</th>\n",
       "      <td>urn:nasa:pds:galileo-mag-jup-calibrated:data-m...</td>\n",
       "      <td>1.0</td>\n",
       "      <td>1997-05-06T09:02:40.200Z</td>\n",
       "      <td>1997-06-22T15:59:56.873Z</td>\n",
       "      <td>[Jupiter, Ganymede]</td>\n",
       "      <td>[https://pds-ppi.igpp.ucla.edu/data/galileo-ma...</td>\n",
       "    </tr>\n",
       "    <tr>\n",
       "      <th>37</th>\n",
       "      <td>urn:nasa:pds:galileo-mag-jup-calibrated:data-m...</td>\n",
       "      <td>1.0</td>\n",
       "      <td>1997-05-06T09:02:40.200Z</td>\n",
       "      <td>1997-06-22T15:59:56.873Z</td>\n",
       "      <td>[Jupiter, Ganymede]</td>\n",
       "      <td>[https://pds-ppi.igpp.ucla.edu/data/galileo-ma...</td>\n",
       "    </tr>\n",
       "    <tr>\n",
       "      <th>35</th>\n",
       "      <td>urn:nasa:pds:galileo-mag-jup-calibrated:data-m...</td>\n",
       "      <td>1.0</td>\n",
       "      <td>1997-05-06T09:02:48.200Z</td>\n",
       "      <td>1997-06-22T15:59:57.762Z</td>\n",
       "      <td>[Jupiter, Ganymede]</td>\n",
       "      <td>[https://pds-ppi.igpp.ucla.edu/data/galileo-ma...</td>\n",
       "    </tr>\n",
       "    <tr>\n",
       "      <th>39</th>\n",
       "      <td>urn:nasa:pds:galileo-mag-jup-calibrated:data-m...</td>\n",
       "      <td>1.0</td>\n",
       "      <td>1997-06-22T16:00:28.873Z</td>\n",
       "      <td>1997-09-13T23:58:16.467Z</td>\n",
       "      <td>[Jupiter, Callisto, Ganymede]</td>\n",
       "      <td>[https://pds-ppi.igpp.ucla.edu/data/galileo-ma...</td>\n",
       "    </tr>\n",
       "    <tr>\n",
       "      <th>11</th>\n",
       "      <td>urn:nasa:pds:galileo-mag-jup-calibrated:data-m...</td>\n",
       "      <td>1.0</td>\n",
       "      <td>1997-06-22T16:00:28.873Z</td>\n",
       "      <td>1997-09-13T23:58:16.467Z</td>\n",
       "      <td>[Jupiter, Callisto, Ganymede]</td>\n",
       "      <td>[https://pds-ppi.igpp.ucla.edu/data/galileo-ma...</td>\n",
       "    </tr>\n",
       "    <tr>\n",
       "      <th>76</th>\n",
       "      <td>urn:nasa:pds:galileo-mag-jup-calibrated:data-m...</td>\n",
       "      <td>1.0</td>\n",
       "      <td>1997-06-22T16:00:28.873Z</td>\n",
       "      <td>1997-09-13T23:58:16.467Z</td>\n",
       "      <td>[Jupiter, Callisto, Ganymede]</td>\n",
       "      <td>[https://pds-ppi.igpp.ucla.edu/data/galileo-ma...</td>\n",
       "    </tr>\n",
       "    <tr>\n",
       "      <th>10</th>\n",
       "      <td>urn:nasa:pds:galileo-mag-jup-calibrated:data-m...</td>\n",
       "      <td>1.0</td>\n",
       "      <td>1997-06-22T16:00:29.762Z</td>\n",
       "      <td>1997-09-13T23:58:24.467Z</td>\n",
       "      <td>[Jupiter, Callisto, Ganymede]</td>\n",
       "      <td>[https://pds-ppi.igpp.ucla.edu/data/galileo-ma...</td>\n",
       "    </tr>\n",
       "  </tbody>\n",
       "</table>\n",
       "</div>"
      ],
      "text/plain": [
       "                                                  lid  vid  \\\n",
       "65  urn:nasa:pds:galileo-mag-jup-calibrated:data-m...  1.0   \n",
       "7   urn:nasa:pds:galileo-mag-jup-calibrated:data-m...  1.0   \n",
       "6   urn:nasa:pds:galileo-mag-jup-calibrated:data-m...  1.0   \n",
       "5   urn:nasa:pds:galileo-mag-jup-calibrated:data-m...  1.0   \n",
       "67  urn:nasa:pds:galileo-mag-jup-calibrated:data-m...  1.0   \n",
       "68  urn:nasa:pds:galileo-mag-jup-calibrated:data-m...  1.0   \n",
       "69  urn:nasa:pds:galileo-mag-jup-calibrated:data-m...  1.0   \n",
       "66  urn:nasa:pds:galileo-mag-jup-calibrated:data-m...  1.0   \n",
       "8   urn:nasa:pds:galileo-mag-jup-calibrated:data-m...  1.0   \n",
       "31  urn:nasa:pds:galileo-mag-jup-calibrated:data-m...  1.0   \n",
       "71  urn:nasa:pds:galileo-mag-jup-calibrated:data-m...  1.0   \n",
       "70  urn:nasa:pds:galileo-mag-jup-calibrated:data-m...  1.0   \n",
       "73  urn:nasa:pds:galileo-mag-jup-calibrated:data-m...  1.0   \n",
       "32  urn:nasa:pds:galileo-mag-jup-calibrated:data-m...  1.0   \n",
       "72  urn:nasa:pds:galileo-mag-jup-calibrated:data-m...  1.0   \n",
       "9   urn:nasa:pds:galileo-mag-jup-calibrated:data-m...  1.0   \n",
       "34  urn:nasa:pds:galileo-mag-jup-calibrated:data-m...  1.0   \n",
       "75  urn:nasa:pds:galileo-mag-jup-calibrated:data-m...  1.0   \n",
       "33  urn:nasa:pds:galileo-mag-jup-calibrated:data-m...  1.0   \n",
       "74  urn:nasa:pds:galileo-mag-jup-calibrated:data-m...  1.0   \n",
       "38  urn:nasa:pds:galileo-mag-jup-calibrated:data-m...  1.0   \n",
       "36  urn:nasa:pds:galileo-mag-jup-calibrated:data-m...  1.0   \n",
       "37  urn:nasa:pds:galileo-mag-jup-calibrated:data-m...  1.0   \n",
       "35  urn:nasa:pds:galileo-mag-jup-calibrated:data-m...  1.0   \n",
       "39  urn:nasa:pds:galileo-mag-jup-calibrated:data-m...  1.0   \n",
       "11  urn:nasa:pds:galileo-mag-jup-calibrated:data-m...  1.0   \n",
       "76  urn:nasa:pds:galileo-mag-jup-calibrated:data-m...  1.0   \n",
       "10  urn:nasa:pds:galileo-mag-jup-calibrated:data-m...  1.0   \n",
       "\n",
       "   pds:Time_Coordinates.pds:start_date_time  \\\n",
       "65                 1996-09-01T16:00:40.392Z   \n",
       "7                  1996-09-01T16:00:40.392Z   \n",
       "6                  1996-09-01T16:00:40.392Z   \n",
       "5                  1996-09-01T16:00:48.392Z   \n",
       "67                 1996-11-02T16:02:49.095Z   \n",
       "68                 1996-11-02T16:02:49.095Z   \n",
       "69                 1996-11-02T16:02:49.095Z   \n",
       "66                 1996-11-02T16:02:57.095Z   \n",
       "8                  1996-12-15T00:18:32.842Z   \n",
       "31                 1996-12-15T00:18:32.842Z   \n",
       "71                 1996-12-15T00:18:32.842Z   \n",
       "70                 1996-12-15T00:18:36.842Z   \n",
       "73                 1997-02-28T10:21:07.395Z   \n",
       "32                 1997-02-28T10:21:07.395Z   \n",
       "72                 1997-02-28T10:21:07.395Z   \n",
       "9                  1997-02-28T10:26:30.951Z   \n",
       "34                 1997-03-30T16:18:35.366Z   \n",
       "75                 1997-03-30T16:18:35.366Z   \n",
       "33                 1997-03-30T16:18:35.366Z   \n",
       "74                 1997-03-30T16:18:43.366Z   \n",
       "38                 1997-05-06T09:02:40.200Z   \n",
       "36                 1997-05-06T09:02:40.200Z   \n",
       "37                 1997-05-06T09:02:40.200Z   \n",
       "35                 1997-05-06T09:02:48.200Z   \n",
       "39                 1997-06-22T16:00:28.873Z   \n",
       "11                 1997-06-22T16:00:28.873Z   \n",
       "76                 1997-06-22T16:00:28.873Z   \n",
       "10                 1997-06-22T16:00:29.762Z   \n",
       "\n",
       "   pds:Time_Coordinates.pds:stop_date_time pds:Target_Identification.pds:name  \\\n",
       "65                1996-11-02T11:44:01.104Z                [Jupiter, Ganymede]   \n",
       "7                 1996-11-02T11:44:01.104Z                [Jupiter, Ganymede]   \n",
       "6                 1996-11-02T11:44:01.104Z                [Jupiter, Ganymede]   \n",
       "5                 1996-11-02T11:44:09.104Z                [Jupiter, Ganymede]   \n",
       "67                1996-12-14T23:58:52.842Z                [Jupiter, Callisto]   \n",
       "68                1996-12-14T23:58:52.842Z                [Jupiter, Callisto]   \n",
       "69                1996-12-14T23:58:52.842Z                [Jupiter, Callisto]   \n",
       "66                1996-12-14T23:59:00.842Z                [Jupiter, Callisto]   \n",
       "8                 1997-01-07T23:21:33.122Z                  [Jupiter, Europa]   \n",
       "31                1997-01-07T23:21:33.122Z                  [Jupiter, Europa]   \n",
       "71                1997-01-07T23:21:33.122Z                  [Jupiter, Europa]   \n",
       "70                1997-01-07T23:32:20.233Z                  [Jupiter, Europa]   \n",
       "73                1997-03-30T15:59:47.367Z                            Jupiter   \n",
       "32                1997-03-30T15:59:47.367Z                            Jupiter   \n",
       "72                1997-03-30T15:59:47.367Z                            Jupiter   \n",
       "9                 1997-03-30T15:59:55.367Z                            Jupiter   \n",
       "34                1997-04-28T10:53:43.497Z                [Jupiter, Ganymede]   \n",
       "75                1997-04-28T10:53:43.497Z                [Jupiter, Ganymede]   \n",
       "33                1997-04-28T10:53:43.497Z                [Jupiter, Ganymede]   \n",
       "74                1997-04-28T11:04:30.608Z                [Jupiter, Ganymede]   \n",
       "38                1997-06-22T15:59:56.873Z                [Jupiter, Ganymede]   \n",
       "36                1997-06-22T15:59:56.873Z                [Jupiter, Ganymede]   \n",
       "37                1997-06-22T15:59:56.873Z                [Jupiter, Ganymede]   \n",
       "35                1997-06-22T15:59:57.762Z                [Jupiter, Ganymede]   \n",
       "39                1997-09-13T23:58:16.467Z      [Jupiter, Callisto, Ganymede]   \n",
       "11                1997-09-13T23:58:16.467Z      [Jupiter, Callisto, Ganymede]   \n",
       "76                1997-09-13T23:58:16.467Z      [Jupiter, Callisto, Ganymede]   \n",
       "10                1997-09-13T23:58:24.467Z      [Jupiter, Callisto, Ganymede]   \n",
       "\n",
       "                     ops:Label_File_Info.ops:file_ref  \n",
       "65  [https://pds-ppi.igpp.ucla.edu/data/galileo-ma...  \n",
       "7   [https://pds-ppi.igpp.ucla.edu/data/galileo-ma...  \n",
       "6   [https://pds-ppi.igpp.ucla.edu/data/galileo-ma...  \n",
       "5   [https://pds-ppi.igpp.ucla.edu/data/galileo-ma...  \n",
       "67  [https://pds-ppi.igpp.ucla.edu/data/galileo-ma...  \n",
       "68  [https://pds-ppi.igpp.ucla.edu/data/galileo-ma...  \n",
       "69  [https://pds-ppi.igpp.ucla.edu/data/galileo-ma...  \n",
       "66  [https://pds-ppi.igpp.ucla.edu/data/galileo-ma...  \n",
       "8   [https://pds-ppi.igpp.ucla.edu/data/galileo-ma...  \n",
       "31  [https://pds-ppi.igpp.ucla.edu/data/galileo-ma...  \n",
       "71  [https://pds-ppi.igpp.ucla.edu/data/galileo-ma...  \n",
       "70  [https://pds-ppi.igpp.ucla.edu/data/galileo-ma...  \n",
       "73  [https://pds-ppi.igpp.ucla.edu/data/galileo-ma...  \n",
       "32  [https://pds-ppi.igpp.ucla.edu/data/galileo-ma...  \n",
       "72  [https://pds-ppi.igpp.ucla.edu/data/galileo-ma...  \n",
       "9   [https://pds-ppi.igpp.ucla.edu/data/galileo-ma...  \n",
       "34  [https://pds-ppi.igpp.ucla.edu/data/galileo-ma...  \n",
       "75  [https://pds-ppi.igpp.ucla.edu/data/galileo-ma...  \n",
       "33  [https://pds-ppi.igpp.ucla.edu/data/galileo-ma...  \n",
       "74  [https://pds-ppi.igpp.ucla.edu/data/galileo-ma...  \n",
       "38  [https://pds-ppi.igpp.ucla.edu/data/galileo-ma...  \n",
       "36  [https://pds-ppi.igpp.ucla.edu/data/galileo-ma...  \n",
       "37  [https://pds-ppi.igpp.ucla.edu/data/galileo-ma...  \n",
       "35  [https://pds-ppi.igpp.ucla.edu/data/galileo-ma...  \n",
       "39  [https://pds-ppi.igpp.ucla.edu/data/galileo-ma...  \n",
       "11  [https://pds-ppi.igpp.ucla.edu/data/galileo-ma...  \n",
       "76  [https://pds-ppi.igpp.ucla.edu/data/galileo-ma...  \n",
       "10  [https://pds-ppi.igpp.ucla.edu/data/galileo-ma...  "
      ]
     },
     "metadata": {},
     "output_type": "display_data"
    }
   ],
   "source": [
    "display(products_df)"
   ]
  },
  {
   "cell_type": "markdown",
   "id": "78086f32",
   "metadata": {
    "pycharm": {
     "name": "#%% md\n"
    }
   },
   "source": [
    "### Utilize pds4_tools utility to load each observational product dataset.\n",
    "\n",
    "In the collection, observational products in 2 coordinate systems are proposed (`sys3` or `irc`). We only select the observational products using the `irc` coordinate system."
   ]
  },
  {
   "cell_type": "code",
   "execution_count": 10,
   "id": "6751212d",
   "metadata": {
    "ExecuteTime": {
     "end_time": "2023-08-31T16:10:45.257836Z",
     "start_time": "2023-08-31T16:10:35.370665Z"
    },
    "collapsed": false,
    "jupyter": {
     "outputs_hidden": false
    },
    "pycharm": {
     "name": "#%%\n"
    },
    "tags": []
   },
   "outputs": [],
   "source": [
    "xml_urls = [xml_url.strip('[]') for xml_url in products_df['ops:Label_File_Info.ops:file_ref'] if 'IRC' in xml_url]\n",
    "layer_names = [xml_url[85:] for xml_url in xml_urls]\n",
    "\n",
    "data_dict = {}\n",
    "for ind,xml_url in enumerate(xml_urls):\n",
    "    prod_struct = pds4_tools.read(xml_url, quiet = True)\n",
    "    data_dict[ind] = np.array(prod_struct[0]['SAMPLE TIME', 'B-FIELD MAGNITUDE'])"
   ]
  },
  {
   "cell_type": "markdown",
   "id": "9e28dc5a",
   "metadata": {
    "pycharm": {
     "name": "#%% md\n"
    }
   },
   "source": [
    "### Plot magnetic field magnitude time series"
   ]
  },
  {
   "cell_type": "code",
   "execution_count": 11,
   "id": "f2674203",
   "metadata": {
    "ExecuteTime": {
     "end_time": "2023-08-31T16:11:06.436836Z",
     "start_time": "2023-08-31T16:10:59.980483Z"
    },
    "collapsed": false,
    "jupyter": {
     "outputs_hidden": false
    },
    "pycharm": {
     "name": "#%%\n"
    },
    "tags": []
   },
   "outputs": [
    {
     "name": "stderr",
     "output_type": "stream",
     "text": [
      "/var/folders/mw/1y5l8kz55h94xvjy67f2v8rh0000gp/T/ipykernel_13992/2015348506.py:14: UserWarning: 'set_params()' not defined for locator of type <class 'matplotlib.dates.AutoDateLocator'>\n",
      "  plt.locator_params(axis='x', nbins=10)\n",
      "/Users/loubrieu/PycharmProjects/search-api-notebook/venv311/lib/python3.11/site-packages/IPython/core/pylabtools.py:152: MatplotlibDeprecationWarning: savefig() got unexpected keyword argument \"orientation\" which is no longer supported as of 3.3 and will become an error two minor releases later\n",
      "  fig.canvas.print_figure(bytes_io, **kw)\n",
      "/Users/loubrieu/PycharmProjects/search-api-notebook/venv311/lib/python3.11/site-packages/IPython/core/pylabtools.py:152: MatplotlibDeprecationWarning: savefig() got unexpected keyword argument \"dpi\" which is no longer supported as of 3.3 and will become an error two minor releases later\n",
      "  fig.canvas.print_figure(bytes_io, **kw)\n",
      "/Users/loubrieu/PycharmProjects/search-api-notebook/venv311/lib/python3.11/site-packages/IPython/core/pylabtools.py:152: MatplotlibDeprecationWarning: savefig() got unexpected keyword argument \"facecolor\" which is no longer supported as of 3.3 and will become an error two minor releases later\n",
      "  fig.canvas.print_figure(bytes_io, **kw)\n",
      "/Users/loubrieu/PycharmProjects/search-api-notebook/venv311/lib/python3.11/site-packages/IPython/core/pylabtools.py:152: MatplotlibDeprecationWarning: savefig() got unexpected keyword argument \"edgecolor\" which is no longer supported as of 3.3 and will become an error two minor releases later\n",
      "  fig.canvas.print_figure(bytes_io, **kw)\n",
      "/Users/loubrieu/PycharmProjects/search-api-notebook/venv311/lib/python3.11/site-packages/IPython/core/pylabtools.py:152: MatplotlibDeprecationWarning: savefig() got unexpected keyword argument \"bbox_inches_restore\" which is no longer supported as of 3.3 and will become an error two minor releases later\n",
      "  fig.canvas.print_figure(bytes_io, **kw)\n"
     ]
    },
    {
     "data": {
      "image/png": "[encoded data removed]",
      "text/plain": [
       "<Figure size 640x480 with 1 Axes>"
      ]
     },
     "metadata": {},
     "output_type": "display_data"
    }
   ],
   "source": [
    "#put data into a single array\n",
    "combined_data = [item for sublist in data_dict.values() for item in sublist]\n",
    "mag_times = [data[0] for data in combined_data]\n",
    "mag_measurements = [data[1] for data in combined_data]\n",
    "\n",
    "mag_datetime = [datetime.strptime(t, \"%Y-%m-%dT%H:%M:%S.%f\") for t in mag_times]\n",
    "fig, ax = plt.subplots()\n",
    "cm = ax.plot(mag_datetime,mag_measurements)\n",
    "\n",
    "ax.xaxis.set_major_formatter(mdates.DateFormatter('%b %Y'))\n",
    "plt.xticks(rotation=45)\n",
    "\n",
    "plt.xlabel(\"Time\")\n",
    "plt.locator_params(axis='x', nbins=10)\n",
    "plt.ylabel(\"Magnitude (nT)\")\n",
    "plt.title(\"Galileo Magnetometer Readings\")\n",
    "\n",
    "plt.show()"
   ]
  },
  {
   "cell_type": "markdown",
   "id": "f86dedfd",
   "metadata": {
    "pycharm": {
     "name": "#%% md\n"
    }
   },
   "source": [
    "## Step 2: Obtain ephemeris for magnetometer measurements\n",
    "\n",
    "Obtain the position at each magnetometer measurement timestamp using spiceypy.\n",
    "\n",
    "***Note: You can change the number of data points you would like to plot by changing the sample variable. The higher it is, the fewer data points you will plot.***"
   ]
  },
  {
   "cell_type": "markdown",
   "id": "9d711491",
   "metadata": {
    "pycharm": {
     "name": "#%% md\n"
    }
   },
   "source": [
    "### Load Spice Kernels\n",
    "\n",
    "Spice kernels are used to compute the location of the spacecraft at given date/time."
   ]
  },
  {
   "cell_type": "code",
   "execution_count": 12,
   "id": "03d8e4b1",
   "metadata": {
    "collapsed": false,
    "jupyter": {
     "outputs_hidden": false
    },
    "pycharm": {
     "name": "#%%\n"
    },
    "tags": []
   },
   "outputs": [
    {
     "name": "stdout",
     "output_type": "stream",
     "text": [
      "\" naif0008.tls \" already exists. Skipping download.\n",
      "\" gll_951120_021126_raj2021.bsp \" already exists. Skipping download.\n",
      "\" naif0012.tls \" already exists. Skipping download.\n"
     ]
    }
   ],
   "source": [
    "def download_and_load_spice_kernel(p_url):\n",
    "    if not os.access('.spice_kernels',os.F_OK):\n",
    "        os.mkdir('.spice_kernels')\n",
    "\n",
    "    kernel_dir = os.path.join(\".spice_kernels\")\n",
    "    os.makedirs(kernel_dir, exist_ok=True)\n",
    "    file_path = os.path.join(kernel_dir, os.path.basename(p_url))\n",
    "    if not os.path.exists(file_path):\n",
    "        r = requests.get(url, allow_redirects=True)\n",
    "        if r.status_code == 200:\n",
    "            print('Successfully loaded:',os.path.basename(p_url))\n",
    "\n",
    "            open(file_path, \"wb\").write(r.content)\n",
    "    else:\n",
    "        print('\"',os.path.basename(p_url), '\" already exists. Skipping download.')\n",
    "    spiceypy.furnsh(file_path)\n",
    "    \n",
    "KERNEL_URLS = [\n",
    "    #generic LSK\n",
    "    \"https://naif.jpl.nasa.gov/pub/naif/pds/data/ody-m-spice-6-v1.0/odsp_1000/data/lsk/naif0008.tls\",\n",
    "    #Galileo SC SPK\n",
    "    \"https://naif.jpl.nasa.gov/pub/naif/GLL/kernels/spk/gll_951120_021126_raj2021.bsp\",\n",
    "    # Leap seconds kernel\n",
    "    \"https://naif.jpl.nasa.gov/pub/naif/generic_kernels/lsk/naif0012.tls\",\n",
    "]\n",
    "for url in KERNEL_URLS:\n",
    "    download_and_load_spice_kernel(url)\n",
    "            \n"
   ]
  },
  {
   "cell_type": "markdown",
   "id": "f0ef5c32",
   "metadata": {
    "pycharm": {
     "name": "#%% md\n"
    }
   },
   "source": [
    "### Compute spacecraft position for each magnetometer measurement."
   ]
  },
  {
   "cell_type": "code",
   "execution_count": 14,
   "id": "6179b2e6",
   "metadata": {
    "collapsed": false,
    "jupyter": {
     "outputs_hidden": false
    },
    "pycharm": {
     "name": "#%%\n"
    },
    "tags": []
   },
   "outputs": [
    {
     "name": "stdout",
     "output_type": "stream",
     "text": [
      "Number of magnetometer readings to plot: 4542\n"
     ]
    }
   ],
   "source": [
    "sample = 100\n",
    "trunc_data_tot = combined_data[1::sample]\n",
    "\n",
    "mag_ephem_data = []\n",
    "mag_dict = {}\n",
    "for ind, data in data_dict.items():\n",
    "    mag_ephem_data = []\n",
    "    for t in data_dict[ind]['SAMPLE TIME'][0::sample]:\n",
    "            et = spiceypy.str2et( t )\n",
    "            [state, ltime] = spiceypy.spkezr( '5', et, 'J2000', 'LT+S', '-77')\n",
    "            mag_ephem_data.append(state[0:3])\n",
    "    mag_ephem_conv = np.array(mag_ephem_data)\n",
    "    mag_dict[ind] = hstack([Table(data_dict[ind][0::sample]), Table(mag_ephem_conv, names = ['X', 'Y', 'Z'])] )\n",
    "\n",
    "print(\"Number of magnetometer readings to plot: \"+ str(len(mag_ephem_data)))\n"
   ]
  },
  {
   "cell_type": "markdown",
   "id": "2b8a8b10",
   "metadata": {
    "pycharm": {
     "name": "#%% md\n"
    }
   },
   "source": [
    "## Step 4: display data in pyWWT Solar System 3D view"
   ]
  },
  {
   "cell_type": "markdown",
   "id": "b343304e",
   "metadata": {
    "pycharm": {
     "name": "#%% md\n"
    }
   },
   "source": [
    "### Connect pyWWT Widget\n",
    "\n",
    "***Before proceeding, ensure that you have another tab open in the notebook for the AAS WorldWide Telescope widget***\n",
    "\n",
    "Instantiate the WWTJupyterWidget and await connection."
   ]
  },
  {
   "cell_type": "code",
   "execution_count": 15,
   "id": "f2ee5b6f",
   "metadata": {
    "collapsed": false,
    "jupyter": {
     "outputs_hidden": false
    },
    "pycharm": {
     "name": "#%%\n"
    },
    "tags": []
   },
   "outputs": [
    {
     "name": "stdout",
     "output_type": "stream",
     "text": [
      "Successful Connection\n"
     ]
    }
   ],
   "source": [
    "wwt = WWTJupyterWidget()\n",
    "wwt = await connect_to_app().becomes_ready()\n",
    "print('Successful Connection')\n",
    "wwt.reset()"
   ]
  },
  {
   "cell_type": "markdown",
   "id": "2b839906",
   "metadata": {
    "pycharm": {
     "name": "#%% md\n"
    }
   },
   "source": [
    "### Load data into pyWWT window\n",
    "\n",
    "Set the WWT view to the solar system and load in the magnetometer data and ephemeris data via table layers. Once complete, in the pyWWT widget the view will be centered on Jupiter. Zoom in to see the results!"
   ]
  },
  {
   "cell_type": "code",
   "execution_count": 16,
   "id": "e85dc39d",
   "metadata": {
    "collapsed": false,
    "jupyter": {
     "outputs_hidden": false
    },
    "pycharm": {
     "name": "#%%\n"
    },
    "tags": []
   },
   "outputs": [],
   "source": [
    "wwt.set_current_time(Time('1995-12-07 15:21:01.776000'))\n",
    "wwt.set_view(\"solar system\")\n",
    "\n",
    "#Visualize planetary orbit lines/paths\n",
    "wwt.solar_system.orbits = False\n",
    "\n",
    "for ind, table_data in mag_dict.items():\n",
    "    layer = wwt.layers.add_table_layer(table = table_data, frame = 'jupiter',\n",
    "                                      coord_type = 'rectangular',\n",
    "                                      x_att = 'X', y_att = 'Y', z_att = 'Z', id = layer_names[ind])\n",
    "    layer.xyz_unit = 'km'\n",
    "    layer.far_side_visible = True\n",
    "\n",
    "    layer.cmap_att = 'B-FIELD MAGNITUDE'\n",
    "    layer.cmap.vmin = min(table_data['B-FIELD MAGNITUDE'])\n",
    "    layer.cmap.vmax = max(table_data['B-FIELD MAGNITUDE'])\n",
    "\n",
    "    layer.size_scale = 250\n",
    "    layer.far_side_visible = True\n",
    "    layer.marker_type = 'point'\n",
    "    layer.opacity = 0.25\n",
    "\n",
    "    # layer.name = \"name\"\n",
    "\n",
    "    layer.marker_scale = 'world'"
   ]
  },
  {
   "cell_type": "markdown",
   "id": "d186e17c",
   "metadata": {
    "pycharm": {
     "name": "#%% md\n"
    }
   },
   "source": [
    "### Set view point on Jupiter\n",
    "If this doesn't work the first time simply rerun the cell. \n"
   ]
  },
  {
   "cell_type": "code",
   "execution_count": 18,
   "id": "350b413b",
   "metadata": {
    "collapsed": false,
    "jupyter": {
     "outputs_hidden": false
    },
    "pycharm": {
     "name": "#%%\n"
    },
    "tags": []
   },
   "outputs": [],
   "source": [
    "wwt.solar_system.track_object('Jupiter')"
   ]
  },
  {
   "cell_type": "markdown",
   "id": "5e9d59f7",
   "metadata": {
    "pycharm": {
     "name": "#%% md\n"
    }
   },
   "source": [
    "### Animation (Work In Progress)\n",
    "\n",
    "Note the below code is still a work in progress and will not function as intended."
   ]
  },
  {
   "cell_type": "code",
   "execution_count": 15,
   "id": "a95dd319",
   "metadata": {
    "collapsed": false,
    "jupyter": {
     "outputs_hidden": false
    },
    "pycharm": {
     "name": "#%%\n"
    }
   },
   "outputs": [
    {
     "ename": "NameError",
     "evalue": "name 'eph' is not defined",
     "output_type": "error",
     "traceback": [
      "\u001b[0;31m---------------------------------------------------------------------------\u001b[0m",
      "\u001b[0;31mNameError\u001b[0m                                 Traceback (most recent call last)",
      "Cell \u001b[0;32mIn[15], line 14\u001b[0m\n\u001b[1;32m      1\u001b[0m \u001b[38;5;66;03m# start_time = ephem_tab['Time'][0]\u001b[39;00m\n\u001b[1;32m      2\u001b[0m \u001b[38;5;66;03m# theta_dot = 1.76**-4 *3600 # rad/hour\u001b[39;00m\n\u001b[1;32m      3\u001b[0m \u001b[38;5;66;03m# thetas = [theta_dot * (datetime.fromisoformat(start_time) - datetime.fromisoformat(curr_time)).total_seconds()/3600 for curr_time in ephem_tab['Time']]\u001b[39;00m\n\u001b[0;32m   (...)\u001b[0m\n\u001b[1;32m     10\u001b[0m \u001b[38;5;66;03m#     trans_mat = [np.array([np.cos(thetas[i]), -np.sin(thetas[i])] , [np.sin(thetas[i]), np.cos(thetas[i])])]\u001b[39;00m\n\u001b[1;32m     11\u001b[0m \u001b[38;5;66;03m#     trans_xy[i] = [np.dot(trans_mat,np.array([x] , [y])) for x,y in zip(ephem_tab['X'][i],ephem_tab['Y'])[i]]\u001b[39;00m\n\u001b[0;32m---> 14\u001b[0m \u001b[43meph\u001b[49m\u001b[38;5;241m.\u001b[39mtime_series \u001b[38;5;241m=\u001b[39m \u001b[38;5;28;01mTrue\u001b[39;00m\n\u001b[1;32m     15\u001b[0m eph\u001b[38;5;241m.\u001b[39mtime_att \u001b[38;5;241m=\u001b[39m \u001b[38;5;124m'\u001b[39m\u001b[38;5;124mTime\u001b[39m\u001b[38;5;124m'\u001b[39m\n\u001b[1;32m     16\u001b[0m eph\u001b[38;5;241m.\u001b[39mtime_decay \u001b[38;5;241m=\u001b[39m \u001b[38;5;241m500\u001b[39m \u001b[38;5;241m*\u001b[39m u\u001b[38;5;241m.\u001b[39mhour\n",
      "\u001b[0;31mNameError\u001b[0m: name 'eph' is not defined"
     ]
    }
   ],
   "source": [
    "# start_time = ephem_tab['Time'][0]\n",
    "# theta_dot = 1.76**-4 *3600 # rad/hour\n",
    "# thetas = [theta_dot * (datetime.fromisoformat(start_time) - datetime.fromisoformat(curr_time)).total_seconds()/3600 for curr_time in ephem_tab['Time']]\n",
    "\n",
    "# trans_mat = [np.array([[np.cos(theta), -np.sin(theta)] , [np.sin(theta), np.cos(theta)]]) for theta in thetas]\n",
    "\n",
    "# trans_xy = [np.dot(trans_mat,np.array([[x] , [y]])) for x,y in zip(ephem_tab['X'],ephem_tab['Y'])]\n",
    "\n",
    "# for i in range(len(ephem_tab)):\n",
    "#     trans_mat = [np.array([np.cos(thetas[i]), -np.sin(thetas[i])] , [np.sin(thetas[i]), np.cos(thetas[i])])]\n",
    "#     trans_xy[i] = [np.dot(trans_mat,np.array([x] , [y])) for x,y in zip(ephem_tab['X'][i],ephem_tab['Y'])[i]]\n",
    "   \n",
    "\n",
    "eph.time_series = True\n",
    "eph.time_att = 'Time'\n",
    "eph.time_decay = 500 * u.hour\n",
    "\n",
    "# layer.time_series = True\n",
    "# layer.time_att = 'Time'\n",
    "# layer.time_decay = 10000 * u.hour\n",
    "\n",
    "my_time = Time('1996-12-07 15:21:01.776000')\n",
    "wwt.set_current_time(my_time)\n",
    "\n",
    "wwt.play_time(rate=10000)\n"
   ]
  },
  {
   "cell_type": "code",
   "execution_count": null,
   "id": "812a6cb0",
   "metadata": {
    "collapsed": false,
    "jupyter": {
     "outputs_hidden": false
    },
    "pycharm": {
     "name": "#%%\n"
    }
   },
   "outputs": [],
   "source": [
    "wwt.pause_time()"
   ]
  }
 ],
 "metadata": {
  "kernelspec": {
   "display_name": "Python 3 (ipykernel)",
   "language": "python",
   "name": "python3"
  },
  "language_info": {
   "codemirror_mode": {
    "name": "ipython",
    "version": 3
   },
   "file_extension": ".py",
   "mimetype": "text/x-python",
   "name": "python",
   "nbconvert_exporter": "python",
   "pygments_lexer": "ipython3",
   "version": "3.11.4"
  }
 },
 "nbformat": 4,
 "nbformat_minor": 5
}
