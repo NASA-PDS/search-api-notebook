{
 "cells": [
  {
   "cell_type": "markdown",
   "id": "97d33d49",
   "metadata": {
    "pycharm": {
     "name": "#%% md\n"
    }
   },
   "source": [
    "# Visualize Galileo Magnetometer data with pyWWT\n",
    "\n",
    "This notebook uses the PDS Search API to visualize Galileo Orbiter's magnetosphere measurement campaign with pyWWT. Thanks to PyWWT observations are displayed in their Solar System location in a 3D view.\n",
    "\n",
    "To properly run this code, ensure that you have followed the steps outlined in the README.md file. Additionally, ensure that you have opened an \"AAS Worldwide Telescope\" launcher in your notebook work space. To do this simply go to File -> New Launcher and (if configured correctly) click the AAS WWT icon. See [WWTs Jupyter Application](https://pywwt.readthedocs.io/en/stable/jupyterlab.html) for troubleshooting and further setup.\n"
   ]
  },
  {
   "cell_type": "markdown",
   "id": "6d8eaca3",
   "metadata": {
    "pycharm": {
     "name": "#%% md\n"
    }
   },
   "source": [
    "## Step 0: Import Libraries and download pds4_tools"
   ]
  },
  {
   "cell_type": "code",
   "execution_count": null,
   "id": "1dfc3057",
   "metadata": {
    "ExecuteTime": {
     "end_time": "2023-08-31T16:06:36.642553Z",
     "start_time": "2023-08-31T16:06:31.408327Z"
    },
    "collapsed": false,
    "jupyter": {
     "outputs_hidden": false
    },
    "pycharm": {
     "name": "#%%\n"
    },
    "tags": []
   },
   "outputs": [],
   "source": [
    "from __future__ import print_function\n",
    "import pandas as pd\n",
    "import numpy as np\n",
    "\n",
    "import requests\n",
    "\n",
    "import os\n",
    "import io\n",
    "from pathlib import Path\n",
    "\n",
    "from datetime import datetime,timedelta\n",
    "\n",
    "import pds4_tools\n",
    "from pywwt.jupyter import WWTJupyterWidget\n",
    "from pywwt.jupyter import connect_to_app\n",
    "import spiceypy\n",
    "from astropy.time import Time\n",
    "from astropy.table import Table, hstack\n",
    "from astropy import units as u\n",
    "\n",
    "import matplotlib.pyplot as plt\n",
    "import matplotlib.dates as mdates\n",
    "import pds.peppi as pep"
   ]
  },
  {
   "cell_type": "markdown",
   "id": "b42eca90",
   "metadata": {
    "pycharm": {
     "name": "#%% md\n"
    }
   },
   "source": [
    "## Step 1: Extract data from the PDS Search API"
   ]
  },
  {
   "cell_type": "markdown",
   "id": "55bf641f-bef9-4ade-97a3-91ced60c37f3",
   "metadata": {
    "tags": []
   },
   "source": [
    "### Get the observational products of a Galileo Magnetometer collection\n",
    "\n",
    "Utilize the PDS Search API to list the magnetometer observational products of a Galileo Orbiter's collection in a pandas dataframe.\n",
    "\n",
    "\n",
    "First step: \n",
    "- Grab the LID and apply it to URL"
   ]
  },
  {
   "cell_type": "code",
   "execution_count": null,
   "id": "67c4efb9-a8c7-4f7b-ab3d-f3c603de6609",
   "metadata": {
    "tags": []
   },
   "outputs": [],
   "source": [
    "client = pep.PDSRegistryClient()\n",
    "#Low-res magnetometer data\n",
    "collection_lid = \"urn:nasa:pds:galileo-mag-jup-calibrated:data-magspheric-survey::1.0\"\n",
    "field_names = [ \"lid\", \"vid\", \"pds:Time_Coordinates.pds:start_date_time\",\n",
    "    \"pds:Time_Coordinates.pds:stop_date_time\", \"pds:Target_Identification.pds:name\",\n",
    "    \"ops:Label_File_Info.ops:file_ref\"]\n",
    "#User specified time range\n",
    "start_time = datetime.fromisoformat('1996-07-19T11:00:00+00:00')\n",
    "end_time = datetime.fromisoformat('1997-08-19T15:00:00+00:00')\n",
    "products = pep.Products(client).of_collection(collection_lid).fields(field_names).after(start_time).before(end_time)\n",
    "products_df = products.as_dataframe()\n",
    "print(products_df)"
   ]
  },
  {
   "cell_type": "markdown",
   "id": "78086f32",
   "metadata": {
    "pycharm": {
     "name": "#%% md\n"
    }
   },
   "source": [
    "### Utilize pds4_tools utility to load each observational product dataset.\n",
    "\n",
    "In the collection, observational products in 2 coordinate systems are proposed (`sys3` or `irc`). We only select the observational products using the `irc` coordinate system."
   ]
  },
  {
   "cell_type": "code",
   "execution_count": null,
   "id": "6751212d",
   "metadata": {
    "ExecuteTime": {
     "end_time": "2023-08-31T16:10:45.257836Z",
     "start_time": "2023-08-31T16:10:35.370665Z"
    },
    "collapsed": false,
    "jupyter": {
     "outputs_hidden": false
    },
    "pycharm": {
     "name": "#%%\n"
    },
    "tags": []
   },
   "outputs": [],
   "source": [
    "xml_urls = [xml_url for xml_url in products_df['ops:Label_File_Info.ops:file_ref']  if 'IRC' in xml_url]\n",
    "\n",
    "data = dict()\n",
    "for ind,xml_url in enumerate(xml_urls):\n",
    "    prod_struct = pds4_tools.read(xml_url, quiet = True)\n",
    "    layer_name = Path(xml_url).stem\n",
    "    data[layer_name] = list(prod_struct[0]['SAMPLE TIME', 'B-FIELD MAGNITUDE'])\n"
   ]
  },
  {
   "cell_type": "markdown",
   "id": "fdc5de04-2cab-402c-863f-6a4989b9944b",
   "metadata": {
    "pycharm": {
     "name": "#%% md\n"
    }
   },
   "source": [
    "### Plot magnetic field magnitude time series"
   ]
  },
  {
   "cell_type": "code",
   "execution_count": null,
   "id": "f2674203",
   "metadata": {
    "ExecuteTime": {
     "end_time": "2023-08-31T16:11:06.436836Z",
     "start_time": "2023-08-31T16:10:59.980483Z"
    },
    "collapsed": false,
    "jupyter": {
     "outputs_hidden": false
    },
    "pycharm": {
     "name": "#%%\n"
    },
    "tags": []
   },
   "outputs": [],
   "source": [
    "# reshape arrays\n",
    "data_as_list = sum(data.values(), [])\n",
    "mag_times, mag_measurements = zip(*data_as_list)\n",
    "mag_times = [datetime.fromisoformat(d) for d in mag_times]\n",
    "\n",
    "fig, ax = plt.subplots()\n",
    "cm = ax.plot(mag_times,mag_measurements)\n",
    "\n",
    "ax.xaxis.set_major_formatter(mdates.DateFormatter('%b %Y'))\n",
    "plt.xticks(rotation=45)\n",
    "\n",
    "plt.xlabel(\"Time\")\n",
    "plt.ylabel(\"Magnitude (nT)\")\n",
    "plt.title(\"Galileo Magnetometer Readings\")\n",
    "\n",
    "plt.show()"
   ]
  },
  {
   "cell_type": "markdown",
   "id": "f86dedfd",
   "metadata": {
    "pycharm": {
     "name": "#%% md\n"
    }
   },
   "source": [
    "## Step 2: Obtain ephemeris for magnetometer measurements\n",
    "\n",
    "Obtain the position at each magnetometer measurement timestamp using spiceypy.\n",
    "\n",
    "***Note: You can change the number of data points you would like to plot by changing the sample variable. The higher it is, the fewer data points you will plot.***"
   ]
  },
  {
   "cell_type": "markdown",
   "id": "9d711491",
   "metadata": {
    "pycharm": {
     "name": "#%% md\n"
    }
   },
   "source": [
    "### Load Spice Kernels\n",
    "\n",
    "Spice kernels are used to compute the location of the spacecraft at given date/time.\n",
    "\n",
    "Use spiceypy and planetarypy library.\n",
    "\n",
    "DOES NOT WORK FOR GALILEO YET"
   ]
  },
  {
   "cell_type": "code",
   "execution_count": null,
   "id": "03d8e4b1",
   "metadata": {
    "collapsed": false,
    "jupyter": {
     "outputs_hidden": false
    },
    "pycharm": {
     "name": "#%%\n"
    },
    "tags": []
   },
   "outputs": [],
   "source": [
    "#from planetarypy.spice.kernels import datasets\n",
    "#from planetarypy.spice.kernels import get_metakernel_and_files\n",
    "#kernel_dir = \".spice_kernels\"\n",
    "#get_metakernel_and_files(\n",
    "#   \"galileo\", \n",
    "#    mag_times[0].strftime(\"%Y-%j\"), # we need a format like \"2020-001\"\n",
    "#    mag_times[-1].strftime(\"%Y-%j\"), # we need a format like \"2020-001\"\n",
    "#    kernel_dir\n",
    "#)\n",
    "#for file in glob.glob(kernel_dir + \"/*\"):\n",
    "#    spiceypy.furnsh(file_path)"
   ]
  },
  {
   "cell_type": "code",
   "execution_count": null,
   "id": "9ac4bef5-1ef0-40db-9610-2c1510f644b7",
   "metadata": {
    "tags": []
   },
   "outputs": [],
   "source": [
    "# trying to make that section oboslete with previous cell\n",
    "def download_and_load_spice_kernel(p_url):\n",
    "    if not os.access('.spice_kernels',os.F_OK):\n",
    "        os.mkdir('.spice_kernels')\n",
    "\n",
    "    kernel_dir = os.path.join(\".spice_kernels\")\n",
    "    os.makedirs(kernel_dir, exist_ok=True)\n",
    "    file_path = os.path.join(kernel_dir, os.path.basename(p_url))\n",
    "    if not os.path.exists(file_path):\n",
    "        r = requests.get(url, allow_redirects=True)\n",
    "        if r.status_code == 200:\n",
    "            print('Successfully loaded:',os.path.basename(p_url))\n",
    "\n",
    "            open(file_path, \"wb\").write(r.content)\n",
    "    else:\n",
    "        print('\"',os.path.basename(p_url), '\" already exists. Skipping download.')\n",
    "    spiceypy.furnsh(file_path)\n",
    "    \n",
    "KERNEL_URLS = [\n",
    "    #generic LSK\n",
    "    \"https://naif.jpl.nasa.gov/pub/naif/pds/data/ody-m-spice-6-v1.0/odsp_1000/data/lsk/naif0008.tls\",\n",
    "    #Galileo SC SPK\n",
    "    \"https://naif.jpl.nasa.gov/pub/naif/GLL/kernels/spk/gll_951120_021126_raj2021.bsp\",\n",
    "    # Leap seconds kernel\n",
    "    \"https://naif.jpl.nasa.gov/pub/naif/generic_kernels/lsk/naif0012.tls\",\n",
    "]\n",
    "for url in KERNEL_URLS:\n",
    "    download_and_load_spice_kernel(url)\n",
    "            "
   ]
  },
  {
   "cell_type": "markdown",
   "id": "f0ef5c32",
   "metadata": {
    "pycharm": {
     "name": "#%% md\n"
    }
   },
   "source": [
    "### Compute spacecraft position for each magnetometer measurement."
   ]
  },
  {
   "cell_type": "code",
   "execution_count": null,
   "id": "6179b2e6",
   "metadata": {
    "collapsed": false,
    "jupyter": {
     "outputs_hidden": false
    },
    "pycharm": {
     "name": "#%%\n"
    },
    "tags": []
   },
   "outputs": [],
   "source": [
    "sample = 100\n",
    "\n",
    "mag_ephem_data = []\n",
    "\n",
    "mag_dict = {}\n",
    "for layer, layer_data in data.items():\n",
    "    t, mag = zip(*layer_data)\n",
    "    et = spiceypy.str2et(t[::sample])\n",
    "    states, time = spiceypy.spkezr( '5', et, 'J2000', 'LT+S', '-77')\n",
    "    ephem = [coord[0:3] for coord in states]\n",
    "    ephem_np = np.array(ephem)\n",
    "    mag_np = [list(mag[0::sample])]\n",
    "    mag_dict[layer] = hstack([Table(mag_np, names=['B-FIELD MAGNITUDE']), Table(ephem_np, names = ['X', 'Y', 'Z'])] )\n",
    "    "
   ]
  },
  {
   "cell_type": "markdown",
   "id": "2b8a8b10",
   "metadata": {
    "pycharm": {
     "name": "#%% md\n"
    }
   },
   "source": [
    "## Step 4: display data in pyWWT Solar System 3D view"
   ]
  },
  {
   "cell_type": "markdown",
   "id": "b343304e",
   "metadata": {
    "pycharm": {
     "name": "#%% md\n"
    }
   },
   "source": [
    "### Connect pyWWT Widget\n",
    "\n",
    "***Before proceeding, ensure that you have another tab open in the notebook for the AAS WorldWide Telescope widget***\n",
    "\n",
    "Instantiate the WWTJupyterWidget and await connection."
   ]
  },
  {
   "cell_type": "code",
   "execution_count": null,
   "id": "f2ee5b6f",
   "metadata": {
    "collapsed": false,
    "jupyter": {
     "outputs_hidden": false
    },
    "pycharm": {
     "name": "#%%\n"
    },
    "tags": []
   },
   "outputs": [],
   "source": [
    "wwt = WWTJupyterWidget()\n",
    "wwt = await connect_to_app().becomes_ready()\n",
    "print('Successful Connection')\n",
    "wwt.reset()"
   ]
  },
  {
   "cell_type": "markdown",
   "id": "2b839906",
   "metadata": {
    "pycharm": {
     "name": "#%% md\n"
    }
   },
   "source": [
    "### Load data into pyWWT window\n",
    "\n",
    "Set the WWT view to the solar system and load in the magnetometer data and ephemeris data via table layers. Once complete, in the pyWWT widget the view will be centered on Jupiter. Zoom in to see the results!"
   ]
  },
  {
   "cell_type": "code",
   "execution_count": null,
   "id": "e85dc39d",
   "metadata": {
    "collapsed": false,
    "jupyter": {
     "outputs_hidden": false
    },
    "pycharm": {
     "name": "#%%\n"
    },
    "tags": []
   },
   "outputs": [],
   "source": [
    "wwt.set_current_time(Time('1995-12-07 15:21:01.776000'))\n",
    "wwt.set_view(\"solar system\")\n",
    "\n",
    "#Visualize planetary orbit lines/paths\n",
    "wwt.solar_system.orbits = True\n",
    "\n",
    "min_mag = min(mag_measurements)\n",
    "max_mag = max(mag_measurements)\n",
    "\n",
    "for layer_name, layer_data in mag_dict.items():\n",
    "    layer = wwt.layers.add_table_layer(table = layer_data, frame = 'jupiter',\n",
    "                                      coord_type = 'rectangular',\n",
    "                                      x_att = 'X', y_att = 'Y', z_att = 'Z', id = layer_name)\n",
    "    layer.xyz_unit = 'km'\n",
    "    layer.far_side_visible = True\n",
    "\n",
    "    layer.cmap = 'plasma'\n",
    "    layer.cmap_att = 'B-FIELD MAGNITUDE'\n",
    "    layer.cmap.vmin = min_mag\n",
    "    layer.cmap.vmax = max_mag\n",
    "\n",
    "    layer.size_scale = 250\n",
    "    layer.far_side_visible = True\n",
    "    layer.marker_type = 'point'\n",
    "    layer.opacity = 0.25\n",
    "\n",
    "    # layer.name = \"name\"\n",
    "    layer.marker_scale = 'world'"
   ]
  },
  {
   "cell_type": "markdown",
   "id": "d186e17c",
   "metadata": {
    "pycharm": {
     "name": "#%% md\n"
    }
   },
   "source": [
    "### Set view point on Jupiter\n",
    "\n",
    "Zoom in on Jupiter to see the trajectory of Galileo with the Magnetemeter measures.\n"
   ]
  },
  {
   "cell_type": "code",
   "execution_count": null,
   "id": "350b413b",
   "metadata": {
    "collapsed": false,
    "jupyter": {
     "outputs_hidden": false
    },
    "pycharm": {
     "name": "#%%\n"
    },
    "tags": []
   },
   "outputs": [],
   "source": [
    "# need to be called twice\n",
    "for _ in range(2):\n",
    "    wwt.solar_system.track_object('Jupiter')\n"
   ]
  },
  {
   "cell_type": "markdown",
   "id": "4b362df5-8805-498c-97b3-5d2e10f2f3a8",
   "metadata": {},
   "source": [
    "# Show the colormap\n",
    "\n",
    "We don't know how to add it yet to pyWWT viewer"
   ]
  },
  {
   "cell_type": "code",
   "execution_count": null,
   "id": "106f633f-7033-4ea5-b6ff-477c53072825",
   "metadata": {
    "tags": []
   },
   "outputs": [],
   "source": [
    "import matplotlib.pyplot as plt\n",
    "import matplotlib as mpl\n",
    "\n",
    "# Make a figure and axes with dimensions as desired.\n",
    "fig = plt.figure(figsize=(8, 3))\n",
    "ax1 = fig.add_axes([0.05, 0.80, 0.9, 0.15])\n",
    "\n",
    "# Set the colormap and norm to correspond to the data for which\n",
    "# the colorbar will be used.\n",
    "cmap = mpl.cm.plasma\n",
    "norm = mpl.colors.Normalize(vmin=min_mag, vmax=max_mag)\n",
    "\n",
    "# ColorbarBase derives from ScalarMappable and puts a colorbar\n",
    "# in a specified axes, so it has everything needed for a\n",
    "# standalone colorbar.  There are many more kwargs, but the\n",
    "# following gives a basic continuous colorbar with ticks\n",
    "# and labels.\n",
    "cb1 = mpl.colorbar.ColorbarBase(ax1, cmap=cmap,\n",
    "                                norm=norm,\n",
    "                                orientation='horizontal')\n",
    "cb1.set_label('nT')\n",
    "\n",
    "\n",
    "plt.show()"
   ]
  },
  {
   "cell_type": "markdown",
   "id": "5e9d59f7",
   "metadata": {
    "pycharm": {
     "name": "#%% md\n"
    }
   },
   "source": [
    "### Animation (Work In Progress)\n",
    "\n",
    "Note the below code is still a work in progress and will not function as intended. Commenting out for the time being to avoid confusion. (and failure if you try to execute it)"
   ]
  },
  {
   "cell_type": "code",
   "execution_count": null,
   "id": "a95dd319",
   "metadata": {
    "collapsed": false,
    "jupyter": {
     "outputs_hidden": false
    },
    "pycharm": {
     "name": "#%%\n"
    }
   },
   "outputs": [],
   "source": [
    "# start_time = ephem_tab['Time'][0]\n",
    "# theta_dot = 1.76**-4 *3600 # rad/hour\n",
    "# thetas = [theta_dot * (datetime.fromisoformat(start_time) - datetime.fromisoformat(curr_time)).total_seconds()/3600 for curr_time in ephem_tab['Time']]\n",
    "\n",
    "# trans_mat = [np.array([[np.cos(theta), -np.sin(theta)] , [np.sin(theta), np.cos(theta)]]) for theta in thetas]\n",
    "\n",
    "# trans_xy = [np.dot(trans_mat,np.array([[x] , [y]])) for x,y in zip(ephem_tab['X'],ephem_tab['Y'])]\n",
    "\n",
    "# for i in range(len(ephem_tab)):\n",
    "#     trans_mat = [np.array([np.cos(thetas[i]), -np.sin(thetas[i])] , [np.sin(thetas[i]), np.cos(thetas[i])])]\n",
    "#     trans_xy[i] = [np.dot(trans_mat,np.array([x] , [y])) for x,y in zip(ephem_tab['X'][i],ephem_tab['Y'])[i]]\n",
    "   \n",
    "\n",
    "# eph.time_series = True\n",
    "# eph.time_att = 'Time'\n",
    "# eph.time_decay = 500 * u.hour\n",
    "\n",
    "# layer.time_series = True\n",
    "# layer.time_att = 'Time'\n",
    "# layer.time_decay = 10000 * u.hour\n",
    "\n",
    "# my_time = Time('1996-12-07 15:21:01.776000')\n",
    "# wwt.set_current_time(my_time)\n",
    "\n",
    "# wwt.play_time(rate=10000)\n"
   ]
  },
  {
   "cell_type": "code",
   "execution_count": null,
   "id": "812a6cb0",
   "metadata": {
    "collapsed": false,
    "jupyter": {
     "outputs_hidden": false
    },
    "pycharm": {
     "name": "#%%\n"
    }
   },
   "outputs": [],
   "source": [
    "wwt.pause_time()"
   ]
  }
 ],
 "metadata": {
  "kernelspec": {
   "display_name": "Python 3 (ipykernel)",
   "language": "python",
   "name": "python3"
  },
  "language_info": {
   "codemirror_mode": {
    "name": "ipython",
    "version": 3
   },
   "file_extension": ".py",
   "mimetype": "text/x-python",
   "name": "python",
   "nbconvert_exporter": "python",
   "pygments_lexer": "ipython3",
   "version": "3.9.20"
  }
 },
 "nbformat": 4,
 "nbformat_minor": 5
}
