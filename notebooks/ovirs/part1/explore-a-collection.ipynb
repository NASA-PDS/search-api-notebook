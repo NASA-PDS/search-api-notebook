{
 "cells": [
  {
   "cell_type": "markdown",
   "id": "sticky-richardson",
   "metadata": {},
   "source": [
    "# PDS Search API demo, OSIRIS-REx OVIRS Data Visualization\n",
    "## PART 1: Explore a Collection\n",
    "\n",
    "The purpose of this notebook is to demostrate how the PDS web API can be used to access the PDS data for a scientific use case.\n",
    "\n",
    "The documention of the PDS web API is available on https://nasa-pds.github.io/pds-api/\n",
    "\n",
    "This notebook is available on https://github.com/NASA-PDS/pds-api-notebook\n",
    "\n",
    "<b>2 Use cases:</b>\n",
    " - <u>Part1</u>: explore the collection\n",
    " - <u>Part2</u>: find/visualize specific the data you are interested in\n",
    " \n",
    " <br/>\n",
    " \n",
    " WARNING: This notebook is a demo and not a real scientific use case. It might contain mistake in the way the data is used or displayed."
   ]
  },
  {
   "cell_type": "code",
   "execution_count": 12,
   "id": "heavy-oxide",
   "metadata": {},
   "outputs": [],
   "source": [
    "from __future__ import print_function\n",
    "from pprint import pprint\n",
    "import time\n",
    "from tqdm.notebook import tqdm\n",
    "import matplotlib.pyplot as plt"
   ]
  },
  {
   "cell_type": "markdown",
   "id": "revolutionary-period",
   "metadata": {},
   "source": [
    "The PDS API is accessed using a python client library documented on https://nasa-pds.github.io/pds-api-client/"
   ]
  },
  {
   "cell_type": "code",
   "execution_count": 13,
   "id": "forced-ghana",
   "metadata": {},
   "outputs": [],
   "source": [
    "import pds.api_client as pds_api"
   ]
  },
  {
   "cell_type": "markdown",
   "id": "infinite-footwear",
   "metadata": {},
   "source": [
    "## Use the PDS demo web API server "
   ]
  },
  {
   "cell_type": "markdown",
   "id": "bound-palace",
   "metadata": {},
   "source": [
    "Connect to the demo server. See User Interface of the web API: https://pds-gamma.jpl.nasa.gov/api/swagger-ui.html\n",
    "\n",
    "<b>Note: </b> this piece of code will be wrapped into a helper function so that 1 line will be enough to connect to the API using a default host"
   ]
  },
  {
   "cell_type": "code",
   "execution_count": 14,
   "id": "textile-combine",
   "metadata": {
    "tags": []
   },
   "outputs": [],
   "source": [
    "configuration = pds_api.Configuration()\n",
    "\n",
    "# demo server\n",
    "configuration.host = 'https://pds.nasa.gov/api/search/1/'\n",
    "\n",
    "api_client = pds_api.ApiClient(configuration)\n"
   ]
  },
  {
   "cell_type": "markdown",
   "id": "computational-brazilian",
   "metadata": {},
   "source": [
    "## Explore a collection"
   ]
  },
  {
   "cell_type": "markdown",
   "id": "pointed-scout",
   "metadata": {},
   "source": [
    "### Get the identifier of your collection of interest\n",
    "\n",
    "Search for a collection of interest on https://pds.nasa.gov/datasearch/keyword-search/ (or https://pds.nasa.gov > Data Search > Keyword Search):\n",
    "- Search for \"osiris rex calibrated ovirs collection\" (https://pds.nasa.gov/datasearch/keyword-search/search.jsp?q=osiris+rex+ovirs+calibrated+collection)\n",
    "- Click on the first collection on the results\n",
    "- Copy the IDENTIFIER displayed at the top of the Collection Information\n"
   ]
  },
  {
   "cell_type": "markdown",
   "id": "metropolitan-teach",
   "metadata": {},
   "source": [
    "### Get the properties available for the observational products belonging to the selected collection\n",
    "\n",
    "Get the properties available for the product belonging to the collection of interest using `ProductReferencesApi.products_members` \n",
    "(see https://nasa-pds.github.io/pds-api-client/api/api_client.api.html#api_client.api.collections_products_api.CollectionsProductsApi)\n",
    "\n",
    "API responses have the structure `{\"summary\": {}, data= []}`\n",
    "(see https://nasa-pds.github.io/pds-api-client/api/api_client.models.html#api_client.models.products.Products)\n",
    "\n",
    "We are not interested in the product descriptions yet but only the available properties."
   ]
  },
  {
   "cell_type": "code",
   "execution_count": 15,
   "id": "billion-dimension",
   "metadata": {},
   "outputs": [
    {
     "name": "stdout",
     "output_type": "stream",
     "text": [
      "['_package_id',\n",
      " 'alternate_ids',\n",
      " 'description',\n",
      " 'disp:Display_Direction.disp:horizontal_display_axis',\n",
      " 'disp:Display_Direction.disp:horizontal_display_direction',\n",
      " 'disp:Display_Direction.disp:vertical_display_axis',\n",
      " 'disp:Display_Direction.disp:vertical_display_direction',\n",
      " 'geom:Geometry_Orbiter.geom:geometry_reference_time_tdb',\n",
      " 'geom:Geometry_Orbiter.geom:geometry_reference_time_utc',\n",
      " 'geom:SPICE_Kernel_Identification.geom:kernel_provenance',\n",
      " 'geom:SPICE_Kernel_Identification.geom:kernel_type',\n",
      " 'geom:SPICE_Kernel_Identification.geom:spice_kernel_file_name',\n",
      " 'lid',\n",
      " 'lidvid',\n",
      " 'ops:Data_File_Info.ops:creation_date_time',\n",
      " 'ops:Data_File_Info.ops:file_name',\n",
      " 'ops:Data_File_Info.ops:file_ref',\n",
      " 'ops:Data_File_Info.ops:file_size',\n",
      " 'ops:Data_File_Info.ops:md5_checksum',\n",
      " 'ops:Data_File_Info.ops:mime_type',\n",
      " 'ops:Harvest_Info.ops:harvest_date_time',\n",
      " 'ops:Harvest_Info.ops:node_name',\n",
      " 'ops:Label_File_Info.ops:creation_date_time',\n",
      " 'ops:Label_File_Info.ops:file_name',\n",
      " 'ops:Label_File_Info.ops:file_ref',\n",
      " 'ops:Label_File_Info.ops:file_size',\n",
      " 'ops:Label_File_Info.ops:md5_checksum',\n",
      " 'ops:Tracking_Meta.ops:archive_status',\n",
      " 'orex:spatial.orex:bennu_dec',\n",
      " 'orex:spatial.orex:bennu_ra',\n",
      " 'orex:spatial.orex:bennu_radec_quality',\n",
      " 'orex:spatial.orex:bennu_radec_target',\n",
      " 'orex:spatial.orex:bore_angle',\n",
      " 'orex:spatial.orex:bore_flag',\n",
      " 'orex:spatial.orex:boresight_range',\n",
      " 'orex:spatial.orex:boresight_x',\n",
      " 'orex:spatial.orex:boresight_y',\n",
      " 'orex:spatial.orex:boresight_z',\n",
      " 'orex:spatial.orex:declination',\n",
      " 'orex:spatial.orex:emission_angle',\n",
      " 'orex:spatial.orex:fov_fill_factor',\n",
      " 'orex:spatial.orex:fov_fill_flag',\n",
      " 'orex:spatial.orex:incidence_angle',\n",
      " 'orex:spatial.orex:latitude',\n",
      " 'orex:spatial.orex:longitude',\n",
      " 'orex:spatial.orex:phase_angle',\n",
      " 'orex:spatial.orex:right_ascension',\n",
      " 'orex:spatial.orex:semimajor_axis',\n",
      " 'orex:spatial.orex:semiminor_axis',\n",
      " 'orex:spatial.orex:sun_range',\n",
      " 'orex:spatial.orex:target_range',\n",
      " 'orex:time.orex:expo_ms',\n",
      " 'orex:time.orex:exposure',\n",
      " 'orex:time.orex:mid_obs',\n",
      " 'orex:time.orex:mid_obs_et',\n",
      " 'orex:time.orex:mid_obs_sclk',\n",
      " 'orex:time.orex:utc',\n",
      " 'pds:Array_2D.pds:axes',\n",
      " 'pds:Array_2D.pds:axis_index_order',\n",
      " 'pds:Array_2D.pds:description',\n",
      " 'pds:Array_2D.pds:local_identifier',\n",
      " 'pds:Array_2D.pds:offset',\n",
      " 'pds:Array_2D_Spectrum.pds:axes',\n",
      " 'pds:Array_2D_Spectrum.pds:axis_index_order',\n",
      " 'pds:Array_2D_Spectrum.pds:description',\n",
      " 'pds:Array_2D_Spectrum.pds:local_identifier',\n",
      " 'pds:Array_2D_Spectrum.pds:offset',\n",
      " 'pds:Axis_Array.pds:axis_name',\n",
      " 'pds:Axis_Array.pds:elements',\n",
      " 'pds:Axis_Array.pds:sequence_number',\n",
      " 'pds:Element_Array.pds:data_type',\n",
      " 'pds:Element_Array.pds:unit',\n",
      " 'pds:File.pds:creation_date_time',\n",
      " 'pds:File.pds:file_name',\n",
      " 'pds:File.pds:file_size',\n",
      " 'pds:Header.pds:object_length',\n",
      " 'pds:Header.pds:offset',\n",
      " 'pds:Header.pds:parsing_standard_id',\n",
      " 'pds:Identification_Area.pds:information_model_version',\n",
      " 'pds:Identification_Area.pds:logical_identifier',\n",
      " 'pds:Identification_Area.pds:product_class',\n",
      " 'pds:Identification_Area.pds:title',\n",
      " 'pds:Identification_Area.pds:version_id',\n",
      " 'pds:Internal_Reference.pds:comment',\n",
      " 'pds:Internal_Reference.pds:lid_reference',\n",
      " 'pds:Internal_Reference.pds:lidvid_reference',\n",
      " 'pds:Internal_Reference.pds:reference_type',\n",
      " 'pds:Investigation_Area.pds:name',\n",
      " 'pds:Investigation_Area.pds:type',\n",
      " 'pds:Local_Internal_Reference.pds:local_identifier_reference',\n",
      " 'pds:Local_Internal_Reference.pds:local_reference_type',\n",
      " 'pds:Observing_System.pds:name',\n",
      " 'pds:Observing_System_Component.pds:description',\n",
      " 'pds:Observing_System_Component.pds:name',\n",
      " 'pds:Observing_System_Component.pds:type',\n",
      " 'pds:Primary_Result_Summary.pds:processing_level',\n",
      " 'pds:Primary_Result_Summary.pds:purpose',\n",
      " 'pds:Target_Identification.pds:name',\n",
      " 'pds:Target_Identification.pds:type',\n",
      " 'pds:Time_Coordinates.pds:start_date_time',\n",
      " 'pds:Time_Coordinates.pds:stop_date_time',\n",
      " 'product_class',\n",
      " 'ref_lid_instrument',\n",
      " 'ref_lid_instrument_host',\n",
      " 'ref_lid_investigation',\n",
      " 'ref_lid_product',\n",
      " 'ref_lidvid_product',\n",
      " 'sp:Bin_Description.sp:bin_profile_description',\n",
      " 'sp:Circular_FOV.sp:diameter_angle',\n",
      " 'sp:Field_of_View.sp:description',\n",
      " 'sp:Observation_Parameters.sp:net_integration_time',\n",
      " 'sp:Observation_Parameters.sp:number_of_exposures',\n",
      " 'sp:Observation_Parameters.sp:resolution_limit_wavelength',\n",
      " 'sp:Spectral_Characteristics.sp:spectral_bin_type',\n",
      " 'sp:Spectral_Characteristics.sp:spectrum_format',\n",
      " 'title',\n",
      " 'vid']\n"
     ]
    }
   ],
   "source": [
    "lidvid = 'urn:nasa:pds:orex.ovirs:data_calibrated::11.0'\n",
    "from pds.api_client.api.product_references_api import ProductReferencesApi\n",
    "products = ProductReferencesApi(api_client)\n",
    "\n",
    "###### The following gets an error due to a bug in the registry api!\n",
    "api_response = products.product_members(lidvid)\n",
    "pprint(api_response.summary.properties)"
   ]
  },
  {
   "cell_type": "markdown",
   "id": "respective-classic",
   "metadata": {},
   "source": [
    "### Request specific properties of all the observational products of the collection\n",
    "\n",
    "Properties have a syntax alike the PDS4 model: class.attributes. \n",
    "\n",
    "Get the latitude, longitude and target_range of the observational products belonging to the collection, with `fields=` option.\n",
    "\n",
    "The API results are <b>paginated</b>, to get all the results we need to loop through the pages.\n",
    "\n",
    "<b>WARNING</b> the performance for big collections need to be improved since the API is currently too slow. See https://github.com/NASA-PDS/registry-api/issues/352"
   ]
  },
  {
   "cell_type": "code",
   "execution_count": 20,
   "id": "898eac3c-f903-4086-af40-28a521813f85",
   "metadata": {},
   "outputs": [
    {
     "data": {
      "application/vnd.jupyter.widget-view+json": {
       "model_id": "84a46312f6fb4418a02bf1891c70b2a5",
       "version_major": 2,
       "version_minor": 0
      },
      "text/plain": [
       "0it [00:00, ?it/s]"
      ]
     },
     "metadata": {},
     "output_type": "display_data"
    },
    {
     "name": "stdout",
     "output_type": "stream",
     "text": [
      "retrieved 2500 products in 0.1 minutes\n"
     ]
    }
   ],
   "source": [
    "from pds.api_client.api.all_products_api import AllProductsApi\n",
    "products = AllProductsApi(api_client)\n",
    "properties_of_interest = ['orex:Spatial.orex:latitude', 'orex:Spatial.orex:longitude', 'ref_lid_instrument', 'orex:Spatial.orex:target_range', 'ops:Data_File_Info.ops:file_ref']\n",
    "start = 0\n",
    "limit = 500\n",
    "criteria = ' ( ( ref_lid_target eq \"urn:nasa:pds:context:target:asteroid.101955_bennu\" )'\n",
    "criteria += ' and ( ref_lid_instrument eq \"urn:nasa:pds:context:instrument:ovirs.orex\" ) )'\n",
    "\n",
    "prods = []\n",
    "pbar = tqdm()\n",
    "\n",
    "start_time = time.time()\n",
    "\n",
    "\n",
    "while True:\n",
    "    pbar.update(int(start/500))\n",
    "    api_response = products.product_list(\n",
    "        q=criteria,\n",
    "        start=start,\n",
    "        limit=limit,\n",
    "        fields=properties_of_interest)\n",
    "    \n",
    "    if api_response.data:\n",
    "        prods.extend(api_response.data)\n",
    "        start += limit\n",
    "    else:\n",
    "        break\n",
    "        \n",
    "    # because of the performance issue we break before the collection is complete\n",
    "    if start > 2000:\n",
    "        break\n",
    "        \n",
    "elapsed = time.time() - start_time\n",
    "print(f'retrieved {start} products in {elapsed/60.0:.1f} minutes')\n",
    "\n",
    "pbar.close()"
   ]
  },
  {
   "cell_type": "markdown",
   "id": "mental-trance",
   "metadata": {},
   "source": [
    "### Product description comes with default properties + requested properties\n",
    "\n",
    "See for example"
   ]
  },
  {
   "cell_type": "code",
   "execution_count": null,
   "id": "military-midnight",
   "metadata": {},
   "outputs": [],
   "source": [
    "prods[140000]"
   ]
  },
  {
   "cell_type": "markdown",
   "id": "developed-dress",
   "metadata": {},
   "source": [
    "### Filter out records with no valid values\n",
    "\n",
    "Some records have fill values for the fields we are interested in (e.g. `latitude == -9999`, we want to remove them from our results.\n"
   ]
  },
  {
   "cell_type": "code",
   "execution_count": null,
   "id": "strategic-season",
   "metadata": {},
   "outputs": [],
   "source": [
    "def at_least_one_valid_value(p):\n",
    "    return ((p['orex:spatial.orex:latitude'] !=  '-9999') \\\n",
    "           and (p['orex:spatial.orex:latitude'] != None))\n",
    "\n",
    "def filter_out_fillvalues(products):\n",
    "    properties = []\n",
    "    for product in products:\n",
    "        if at_least_one_valid_value(product.properties):\n",
    "            p = product.properties\n",
    "            p['id'] = product.id\n",
    "            properties.append(p)\n",
    "    return properties\n",
    "\n",
    "properties = filter_out_fillvalues(products)\n",
    "        \n",
    "print(f\"The values of the selected properties are\")\n",
    "pprint(properties[:3])"
   ]
  },
  {
   "cell_type": "markdown",
   "id": "sexual-defeat",
   "metadata": {},
   "source": [
    "### Transpose to extract lat,lon and target range as columns, ready to plot "
   ]
  },
  {
   "cell_type": "code",
   "execution_count": null,
   "id": "essential-enough",
   "metadata": {},
   "outputs": [],
   "source": [
    "def transpose(properties):\n",
    "    lat = [float(p['orex:spatial.orex:latitude']) for p in properties]\n",
    "    lon = [float(p['orex:spatial.orex:longitude']) for p in properties]\n",
    "    target_range = [float(p['orex:spatial.orex:target_range']) for p in properties]\n",
    "    return lat, lon, target_range\n",
    "\n",
    "lat, lon, target_range = transpose(properties)\n",
    "print(f'The target_range values for the selected products are {target_range[:3]}')"
   ]
  },
  {
   "cell_type": "markdown",
   "id": "defensive-dispute",
   "metadata": {},
   "source": [
    "### Plot the lat,lon of the observations, colored by target_range"
   ]
  },
  {
   "cell_type": "code",
   "execution_count": null,
   "id": "unavailable-mapping",
   "metadata": {},
   "outputs": [],
   "source": [
    "def observation_map(lat, lon, target_range, vmax=25):\n",
    "    fig, ax = plt.subplots()\n",
    "\n",
    "    ax.set_xlabel('longitude')\n",
    "    ax.set_ylabel('latitude')\n",
    "    ax.set_title('orex.ovirs products lat,lon')\n",
    "\n",
    "    im = ax.scatter(lon, lat, c=target_range, vmin=0, vmax=vmax)\n",
    "\n",
    "    cbar = fig.colorbar(im, ax=ax)\n",
    "    cbar.set_label('target range (km)')\n",
    "    \n",
    "observation_map(lat,lon, target_range, vmax=25)\n"
   ]
  },
  {
   "cell_type": "markdown",
   "id": "alert-lighting",
   "metadata": {},
   "source": [
    "### Overview of the observation target_range with an histogram"
   ]
  },
  {
   "cell_type": "code",
   "execution_count": null,
   "id": "governmental-mortgage",
   "metadata": {},
   "outputs": [],
   "source": [
    "plt.hist(target_range, range=(0, 15))"
   ]
  },
  {
   "cell_type": "markdown",
   "id": "arabic-orbit",
   "metadata": {},
   "source": [
    "### Get observations around specific spot (lat=12, lon=24) with target range closer than 4 km"
   ]
  },
  {
   "cell_type": "code",
   "execution_count": null,
   "id": "timely-hours",
   "metadata": {},
   "outputs": [],
   "source": [
    "lidvids = [p['id'] for p in properties if float(p['orex:spatial.orex:target_range']) < 4.0 \n",
    "          and abs(float(p['orex:spatial.orex:latitude']) - 12.0) < 3.0\n",
    "          and abs(float(p['orex:spatial.orex:longitude']) - 24.0) < 3.0]\n",
    "print(f'The lidvids of the selected products are {lidvids}')"
   ]
  },
  {
   "cell_type": "markdown",
   "id": "later-wilderness",
   "metadata": {},
   "source": [
    "### Get the full product description"
   ]
  },
  {
   "cell_type": "code",
   "execution_count": null,
   "id": "handmade-accident",
   "metadata": {},
   "outputs": [],
   "source": [
    "products_api = pds_api.ProductsApi(api_client)\n",
    "product = products_api.products_by_lidvid(lidvids[0])\n",
    "print(product)"
   ]
  },
  {
   "cell_type": "markdown",
   "id": "alpine-wonder",
   "metadata": {},
   "source": [
    "### Get the file path of the data"
   ]
  },
  {
   "cell_type": "code",
   "execution_count": null,
   "id": "accompanied-consensus",
   "metadata": {},
   "outputs": [],
   "source": [
    "product.properties['ops:Data_File_Info.ops:file_ref']"
   ]
  },
  {
   "cell_type": "code",
   "execution_count": null,
   "id": "parliamentary-ownership",
   "metadata": {},
   "outputs": [],
   "source": []
  }
 ],
 "metadata": {
  "kernelspec": {
   "display_name": "Python 3 (ipykernel)",
   "language": "python",
   "name": "python3"
  },
  "language_info": {
   "codemirror_mode": {
    "name": "ipython",
    "version": 3
   },
   "file_extension": ".py",
   "mimetype": "text/x-python",
   "name": "python",
   "nbconvert_exporter": "python",
   "pygments_lexer": "ipython3",
   "version": "3.9.16"
  }
 },
 "nbformat": 4,
 "nbformat_minor": 5
}
