{
 "cells": [
  {
   "cell_type": "markdown",
   "id": "sticky-richardson",
   "metadata": {},
   "source": [
    "# PDS Search API demo, OSIRIS-REx OVIRS Data Visualization\n",
    "## PART 1: Explore a Collection\n",
    "\n",
    "The purpose of this notebook is to demostrate how the PDS web API can be used to access the PDS data for a scientific use case.\n",
    "\n",
    "The documention of the PDS web API is available on https://nasa-pds.github.io/pds-api/\n",
    "\n",
    "This notebook is available on https://github.com/NASA-PDS/pds-api-notebook\n",
    "\n",
    "<b>2 Use cases:</b>\n",
    " - <u>Part1</u>: explore the collection\n",
    " - <u>Part2</u>: find/visualize specific the data you are interested in\n",
    " \n",
    " <br/>\n",
    " \n",
    " WARNING: This notebook is a demo and not a real scientific use case. It might contain mistake in the way the data is used or displayed."
   ]
  },
  {
   "cell_type": "code",
   "execution_count": 1,
   "id": "heavy-oxide",
   "metadata": {},
   "outputs": [],
   "source": [
    "from __future__ import print_function\n",
    "from pprint import pprint\n",
    "import time\n",
    "from tqdm.notebook import tqdm\n",
    "import matplotlib.pyplot as plt"
   ]
  },
  {
   "cell_type": "markdown",
   "id": "revolutionary-period",
   "metadata": {},
   "source": [
    "The PDS API is accessed using a python client library documented on https://nasa-pds.github.io/pds-api-client/"
   ]
  },
  {
   "cell_type": "code",
   "execution_count": 2,
   "id": "forced-ghana",
   "metadata": {},
   "outputs": [],
   "source": [
    "import pds.api_client as pds_api"
   ]
  },
  {
   "cell_type": "markdown",
   "id": "infinite-footwear",
   "metadata": {},
   "source": [
    "## Use the PDS demo web API server "
   ]
  },
  {
   "cell_type": "markdown",
   "id": "bound-palace",
   "metadata": {},
   "source": [
    "Connect to the demo server. See User Interface of the web API: https://pds-gamma.jpl.nasa.gov/api/swagger-ui.html\n",
    "\n",
    "<b>Note: </b> this piece of code will be wrapped into a helper function so that 1 line will be enough to connect to the API using a default host"
   ]
  },
  {
   "cell_type": "code",
   "execution_count": 3,
   "id": "textile-combine",
   "metadata": {
    "tags": []
   },
   "outputs": [],
   "source": [
    "configuration = pds_api.Configuration()\n",
    "\n",
    "# demo server\n",
    "configuration.host = 'https://pds.nasa.gov/api/search/1/'\n",
    "\n",
    "api_client = pds_api.ApiClient(configuration)\n"
   ]
  },
  {
   "cell_type": "markdown",
   "id": "computational-brazilian",
   "metadata": {},
   "source": [
    "## Explore a collection"
   ]
  },
  {
   "cell_type": "markdown",
   "id": "pointed-scout",
   "metadata": {},
   "source": [
    "### Get the identifier of your collection of interest\n",
    "\n",
    "Search for a collection of interest on https://pds.nasa.gov/datasearch/keyword-search/ (or https://pds.nasa.gov > Data Search > Keyword Search):\n",
    "- Search for \"osiris rex calibrated ovirs collection\" (https://pds.nasa.gov/datasearch/keyword-search/search.jsp?q=osiris+rex+ovirs+calibrated+collection)\n",
    "- Click on the first collection on the results\n",
    "- Copy the IDENTIFIER displayed at the top of the Collection Information\n"
   ]
  },
  {
   "cell_type": "markdown",
   "id": "metropolitan-teach",
   "metadata": {},
   "source": [
    "### Get the properties available for the observational products belonging to the selected collection\n",
    "\n",
    "Get the properties available for the product belonging to the collection of interest using `ProductReferencesApi.products_members` \n",
    "(see https://nasa-pds.github.io/pds-api-client/api/api_client.api.html#api_client.api.collections_products_api.CollectionsProductsApi)\n",
    "\n",
    "API responses have the structure `{\"summary\": {}, data= []}`\n",
    "(see https://nasa-pds.github.io/pds-api-client/api/api_client.models.html#api_client.models.products.Products)\n",
    "\n",
    "We are not interested in the product descriptions yet but only the available properties."
   ]
  },
  {
   "cell_type": "code",
   "execution_count": 4,
   "id": "billion-dimension",
   "metadata": {},
   "outputs": [
    {
     "name": "stdout",
     "output_type": "stream",
     "text": [
      "['_package_id',\n",
      " 'alternate_ids',\n",
      " 'description',\n",
      " 'disp:Display_Direction.disp:horizontal_display_axis',\n",
      " 'disp:Display_Direction.disp:horizontal_display_direction',\n",
      " 'disp:Display_Direction.disp:vertical_display_axis',\n",
      " 'disp:Display_Direction.disp:vertical_display_direction',\n",
      " 'geom:Geometry_Orbiter.geom:geometry_reference_time_tdb',\n",
      " 'geom:Geometry_Orbiter.geom:geometry_reference_time_utc',\n",
      " 'geom:SPICE_Kernel_Identification.geom:kernel_provenance',\n",
      " 'geom:SPICE_Kernel_Identification.geom:kernel_type',\n",
      " 'geom:SPICE_Kernel_Identification.geom:spice_kernel_file_name',\n",
      " 'lid',\n",
      " 'lidvid',\n",
      " 'ops:Data_File_Info.ops:creation_date_time',\n",
      " 'ops:Data_File_Info.ops:file_name',\n",
      " 'ops:Data_File_Info.ops:file_ref',\n",
      " 'ops:Data_File_Info.ops:file_size',\n",
      " 'ops:Data_File_Info.ops:md5_checksum',\n",
      " 'ops:Data_File_Info.ops:mime_type',\n",
      " 'ops:Harvest_Info.ops:harvest_date_time',\n",
      " 'ops:Harvest_Info.ops:node_name',\n",
      " 'ops:Label_File_Info.ops:creation_date_time',\n",
      " 'ops:Label_File_Info.ops:file_name',\n",
      " 'ops:Label_File_Info.ops:file_ref',\n",
      " 'ops:Label_File_Info.ops:file_size',\n",
      " 'ops:Label_File_Info.ops:md5_checksum',\n",
      " 'ops:Provenance.ops:parent_bundle_identifier',\n",
      " 'ops:Provenance.ops:parent_collection_identifier',\n",
      " 'ops:Provenance.ops:superseded_by',\n",
      " 'ops:Tracking_Meta.ops:archive_status',\n",
      " 'orex:spatial.orex:bennu_dec',\n",
      " 'orex:spatial.orex:bennu_ra',\n",
      " 'orex:spatial.orex:bennu_radec_quality',\n",
      " 'orex:spatial.orex:bennu_radec_target',\n",
      " 'orex:spatial.orex:bore_angle',\n",
      " 'orex:spatial.orex:bore_flag',\n",
      " 'orex:spatial.orex:boresight_range',\n",
      " 'orex:spatial.orex:boresight_x',\n",
      " 'orex:spatial.orex:boresight_y',\n",
      " 'orex:spatial.orex:boresight_z',\n",
      " 'orex:spatial.orex:declination',\n",
      " 'orex:spatial.orex:emission_angle',\n",
      " 'orex:spatial.orex:fov_fill_factor',\n",
      " 'orex:spatial.orex:fov_fill_flag',\n",
      " 'orex:spatial.orex:incidence_angle',\n",
      " 'orex:spatial.orex:latitude',\n",
      " 'orex:spatial.orex:longitude',\n",
      " 'orex:spatial.orex:phase_angle',\n",
      " 'orex:spatial.orex:right_ascension',\n",
      " 'orex:spatial.orex:semimajor_axis',\n",
      " 'orex:spatial.orex:semiminor_axis',\n",
      " 'orex:spatial.orex:sun_range',\n",
      " 'orex:spatial.orex:target_range',\n",
      " 'orex:time.orex:expo_ms',\n",
      " 'orex:time.orex:exposure',\n",
      " 'orex:time.orex:mid_obs',\n",
      " 'orex:time.orex:mid_obs_et',\n",
      " 'orex:time.orex:mid_obs_sclk',\n",
      " 'orex:time.orex:utc',\n",
      " 'pds:Array_2D.pds:axes',\n",
      " 'pds:Array_2D.pds:axis_index_order',\n",
      " 'pds:Array_2D.pds:description',\n",
      " 'pds:Array_2D.pds:local_identifier',\n",
      " 'pds:Array_2D.pds:offset',\n",
      " 'pds:Array_2D_Spectrum.pds:axes',\n",
      " 'pds:Array_2D_Spectrum.pds:axis_index_order',\n",
      " 'pds:Array_2D_Spectrum.pds:description',\n",
      " 'pds:Array_2D_Spectrum.pds:local_identifier',\n",
      " 'pds:Array_2D_Spectrum.pds:offset',\n",
      " 'pds:Axis_Array.pds:axis_name',\n",
      " 'pds:Axis_Array.pds:elements',\n",
      " 'pds:Axis_Array.pds:sequence_number',\n",
      " 'pds:Element_Array.pds:data_type',\n",
      " 'pds:Element_Array.pds:unit',\n",
      " 'pds:File.pds:creation_date_time',\n",
      " 'pds:File.pds:file_name',\n",
      " 'pds:File.pds:file_size',\n",
      " 'pds:Header.pds:object_length',\n",
      " 'pds:Header.pds:offset',\n",
      " 'pds:Header.pds:parsing_standard_id',\n",
      " 'pds:Identification_Area.pds:information_model_version',\n",
      " 'pds:Identification_Area.pds:logical_identifier',\n",
      " 'pds:Identification_Area.pds:product_class',\n",
      " 'pds:Identification_Area.pds:title',\n",
      " 'pds:Identification_Area.pds:version_id',\n",
      " 'pds:Internal_Reference.pds:comment',\n",
      " 'pds:Internal_Reference.pds:lid_reference',\n",
      " 'pds:Internal_Reference.pds:lidvid_reference',\n",
      " 'pds:Internal_Reference.pds:reference_type',\n",
      " 'pds:Investigation_Area.pds:name',\n",
      " 'pds:Investigation_Area.pds:type',\n",
      " 'pds:Local_Internal_Reference.pds:local_identifier_reference',\n",
      " 'pds:Local_Internal_Reference.pds:local_reference_type',\n",
      " 'pds:Observing_System.pds:name',\n",
      " 'pds:Observing_System_Component.pds:description',\n",
      " 'pds:Observing_System_Component.pds:name',\n",
      " 'pds:Observing_System_Component.pds:type',\n",
      " 'pds:Primary_Result_Summary.pds:processing_level',\n",
      " 'pds:Primary_Result_Summary.pds:purpose',\n",
      " 'pds:Target_Identification.pds:name',\n",
      " 'pds:Target_Identification.pds:type',\n",
      " 'pds:Time_Coordinates.pds:start_date_time',\n",
      " 'pds:Time_Coordinates.pds:stop_date_time',\n",
      " 'product_class',\n",
      " 'ref_lid_instrument',\n",
      " 'ref_lid_instrument_host',\n",
      " 'ref_lid_investigation',\n",
      " 'ref_lid_product',\n",
      " 'ref_lidvid_product',\n",
      " 'sp:Bin_Description.sp:bin_profile_description',\n",
      " 'sp:Circular_FOV.sp:diameter_angle',\n",
      " 'sp:Field_of_View.sp:description',\n",
      " 'sp:Observation_Parameters.sp:net_integration_time',\n",
      " 'sp:Observation_Parameters.sp:number_of_exposures',\n",
      " 'sp:Observation_Parameters.sp:resolution_limit_wavelength',\n",
      " 'sp:Spectral_Characteristics.sp:spectral_bin_type',\n",
      " 'sp:Spectral_Characteristics.sp:spectrum_format',\n",
      " 'title',\n",
      " 'vid']\n"
     ]
    }
   ],
   "source": [
    "lidvid = 'urn:nasa:pds:orex.ovirs:data_calibrated::11.0'\n",
    "from pds.api_client.api.product_references_api import ProductReferencesApi\n",
    "products = ProductReferencesApi(api_client)\n",
    "\n",
    "###### The following gets an error due to a bug in the registry api!\n",
    "api_response = products.product_members(lidvid)\n",
    "pprint(api_response.summary.properties)"
   ]
  },
  {
   "cell_type": "markdown",
   "id": "respective-classic",
   "metadata": {},
   "source": [
    "### Request specific properties of all the observational products of the collection\n",
    "\n",
    "Properties have a syntax alike the PDS4 model: class.attributes. \n",
    "\n",
    "Get the latitude, longitude and target_range of the observational products belonging to the collection, with `fields=` option.\n",
    "\n",
    "The API results are <b>paginated</b>, to get all the results we need to loop through the pages.\n",
    "\n",
    "<b>WARNING</b> the performance for big collections need to be improved since the API is currently too slow. See https://github.com/NASA-PDS/registry-api/issues/352"
   ]
  },
  {
   "cell_type": "code",
   "execution_count": 5,
   "id": "898eac3c-f903-4086-af40-28a521813f85",
   "metadata": {},
   "outputs": [
    {
     "data": {
      "application/vnd.jupyter.widget-view+json": {
       "model_id": "3bef6ccf06b04cd7bfd1d4a78fb93811",
       "version_major": 2,
       "version_minor": 0
      },
      "text/plain": [
       "0it [00:00, ?it/s]"
      ]
     },
     "metadata": {},
     "output_type": "display_data"
    },
    {
     "ename": "ServiceException",
     "evalue": "(500)\nReason: Internal Server Error\nHTTP response headers: HTTPHeaderDict({'Content-Type': 'application/json', 'Transfer-Encoding': 'chunked', 'Connection': 'keep-alive', 'Date': 'Wed, 02 Aug 2023 21:29:29 GMT', 'X-Cache': 'Error from cloudfront', 'Via': '1.1 02b9f097e6bccd6a8d89ebf056435cb4.cloudfront.net (CloudFront)', 'X-Amz-Cf-Pop': 'LAX50-C2', 'X-Amz-Cf-Id': 'uNkt7ZHL-5v7uLtIAp9e54UUGp8t3LAEg8mdc2issQwQKrXhiWfhjg==', 'X-XSS-Protection': '1; mode=block', 'Strict-Transport-Security': 'max-age=31536000; preload', 'Vary': 'Origin'})\nHTTP response body: {\"request\":\"https://pds.nasa.gov/api/search/1/products?fields=orex:Spatial.orex:latitude&fields=orex:Spatial.orex:longitude&fields=ref_lid_instrument&fields=orex:Spatial.orex:target_range&fields=ops:Data_File_Info.ops:file_ref&limit=500&q=%20%28%20%28%20ref_lid_target%20eq%20%22urn%3Anasa%3Apds%3Acontext%3Atarget%3Aasteroid.101955_bennu%22%20%29%20and%20%28%20ref_lid_instrument%20eq%20%22urn%3Anasa%3Apds%3Acontext%3Ainstrument%3Aovirs.orex%22%20%29%20%29&start=61500\",\"message\":\"30,000 milliseconds timeout on connection http-outgoing-57 [ACTIVE]\"}\n",
     "output_type": "error",
     "traceback": [
      "\u001b[0;31m---------------------------------------------------------------------------\u001b[0m",
      "\u001b[0;31mServiceException\u001b[0m                          Traceback (most recent call last)",
      "Input \u001b[0;32mIn [5]\u001b[0m, in \u001b[0;36m<cell line: 16>\u001b[0;34m()\u001b[0m\n\u001b[1;32m     15\u001b[0m \u001b[38;5;28;01mwhile\u001b[39;00m \u001b[38;5;28;01mTrue\u001b[39;00m:\n\u001b[1;32m     16\u001b[0m     pbar\u001b[38;5;241m.\u001b[39mupdate(\u001b[38;5;28mint\u001b[39m(start\u001b[38;5;241m/\u001b[39m\u001b[38;5;241m500\u001b[39m))\n\u001b[0;32m---> 17\u001b[0m     api_response \u001b[38;5;241m=\u001b[39m \u001b[43mproducts\u001b[49m\u001b[38;5;241;43m.\u001b[39;49m\u001b[43mproduct_list\u001b[49m\u001b[43m(\u001b[49m\n\u001b[1;32m     18\u001b[0m \u001b[43m        \u001b[49m\u001b[43mq\u001b[49m\u001b[38;5;241;43m=\u001b[39;49m\u001b[43mcriteria\u001b[49m\u001b[43m,\u001b[49m\n\u001b[1;32m     19\u001b[0m \u001b[43m        \u001b[49m\u001b[43mstart\u001b[49m\u001b[38;5;241;43m=\u001b[39;49m\u001b[43mstart\u001b[49m\u001b[43m,\u001b[49m\n\u001b[1;32m     20\u001b[0m \u001b[43m        \u001b[49m\u001b[43mlimit\u001b[49m\u001b[38;5;241;43m=\u001b[39;49m\u001b[43mlimit\u001b[49m\u001b[43m,\u001b[49m\n\u001b[1;32m     21\u001b[0m \u001b[43m        \u001b[49m\u001b[43mfields\u001b[49m\u001b[38;5;241;43m=\u001b[39;49m\u001b[43mproperties_of_interest\u001b[49m\u001b[43m)\u001b[49m\n\u001b[1;32m     23\u001b[0m     \u001b[38;5;28;01mif\u001b[39;00m api_response\u001b[38;5;241m.\u001b[39mdata:\n\u001b[1;32m     24\u001b[0m         prods\u001b[38;5;241m.\u001b[39mextend(api_response\u001b[38;5;241m.\u001b[39mdata)\n",
      "File \u001b[0;32m~/PycharmProjects/search-api-notebook/venv/lib/python3.9/site-packages/pydantic/decorator.py:40\u001b[0m, in \u001b[0;36mpydantic.decorator.validate_arguments.validate.wrapper_function\u001b[0;34m()\u001b[0m\n",
      "File \u001b[0;32m~/PycharmProjects/search-api-notebook/venv/lib/python3.9/site-packages/pydantic/decorator.py:134\u001b[0m, in \u001b[0;36mpydantic.decorator.ValidatedFunction.call\u001b[0;34m()\u001b[0m\n",
      "File \u001b[0;32m~/PycharmProjects/search-api-notebook/venv/lib/python3.9/site-packages/pydantic/decorator.py:206\u001b[0m, in \u001b[0;36mpydantic.decorator.ValidatedFunction.execute\u001b[0;34m()\u001b[0m\n",
      "File \u001b[0;32m~/PycharmProjects/search-api-notebook/venv/lib/python3.9/site-packages/pds/api_client/api/all_products_api.py:85\u001b[0m, in \u001b[0;36mAllProductsApi.product_list\u001b[0;34m(self, fields, keywords, limit, q, sort, start, **kwargs)\u001b[0m\n\u001b[1;32m     49\u001b[0m \u001b[38;5;124;03m\"\"\"search on all PDS data products, including bundles, collections, documentation, context and observational products.   # noqa: E501\u001b[39;00m\n\u001b[1;32m     50\u001b[0m \n\u001b[1;32m     51\u001b[0m \u001b[38;5;124;03mThis method makes a synchronous HTTP request by default. To make an\u001b[39;00m\n\u001b[0;32m   (...)\u001b[0m\n\u001b[1;32m     82\u001b[0m \u001b[38;5;124;03m:rtype: PdsProducts\u001b[39;00m\n\u001b[1;32m     83\u001b[0m \u001b[38;5;124;03m\"\"\"\u001b[39;00m\n\u001b[1;32m     84\u001b[0m kwargs[\u001b[38;5;124m'\u001b[39m\u001b[38;5;124m_return_http_data_only\u001b[39m\u001b[38;5;124m'\u001b[39m] \u001b[38;5;241m=\u001b[39m \u001b[38;5;28;01mTrue\u001b[39;00m\n\u001b[0;32m---> 85\u001b[0m \u001b[38;5;28;01mreturn\u001b[39;00m \u001b[38;5;28;43mself\u001b[39;49m\u001b[38;5;241;43m.\u001b[39;49m\u001b[43mproduct_list_with_http_info\u001b[49m\u001b[43m(\u001b[49m\u001b[43mfields\u001b[49m\u001b[43m,\u001b[49m\u001b[43m \u001b[49m\u001b[43mkeywords\u001b[49m\u001b[43m,\u001b[49m\u001b[43m \u001b[49m\u001b[43mlimit\u001b[49m\u001b[43m,\u001b[49m\u001b[43m \u001b[49m\u001b[43mq\u001b[49m\u001b[43m,\u001b[49m\u001b[43m \u001b[49m\u001b[43msort\u001b[49m\u001b[43m,\u001b[49m\u001b[43m \u001b[49m\u001b[43mstart\u001b[49m\u001b[43m,\u001b[49m\u001b[43m \u001b[49m\u001b[38;5;241;43m*\u001b[39;49m\u001b[38;5;241;43m*\u001b[39;49m\u001b[43mkwargs\u001b[49m\u001b[43m)\u001b[49m\n",
      "File \u001b[0;32m~/PycharmProjects/search-api-notebook/venv/lib/python3.9/site-packages/pydantic/decorator.py:40\u001b[0m, in \u001b[0;36mpydantic.decorator.validate_arguments.validate.wrapper_function\u001b[0;34m()\u001b[0m\n",
      "File \u001b[0;32m~/PycharmProjects/search-api-notebook/venv/lib/python3.9/site-packages/pydantic/decorator.py:134\u001b[0m, in \u001b[0;36mpydantic.decorator.ValidatedFunction.call\u001b[0;34m()\u001b[0m\n",
      "File \u001b[0;32m~/PycharmProjects/search-api-notebook/venv/lib/python3.9/site-packages/pydantic/decorator.py:206\u001b[0m, in \u001b[0;36mpydantic.decorator.ValidatedFunction.execute\u001b[0;34m()\u001b[0m\n",
      "File \u001b[0;32m~/PycharmProjects/search-api-notebook/venv/lib/python3.9/site-packages/pds/api_client/api/all_products_api.py:215\u001b[0m, in \u001b[0;36mAllProductsApi.product_list_with_http_info\u001b[0;34m(self, fields, keywords, limit, q, sort, start, **kwargs)\u001b[0m\n\u001b[1;32m    205\u001b[0m _auth_settings \u001b[38;5;241m=\u001b[39m []  \u001b[38;5;66;03m# noqa: E501\u001b[39;00m\n\u001b[1;32m    207\u001b[0m _response_types_map \u001b[38;5;241m=\u001b[39m {\n\u001b[1;32m    208\u001b[0m     \u001b[38;5;124m'\u001b[39m\u001b[38;5;124m200\u001b[39m\u001b[38;5;124m'\u001b[39m: \u001b[38;5;124m\"\u001b[39m\u001b[38;5;124mPdsProducts\u001b[39m\u001b[38;5;124m\"\u001b[39m,\n\u001b[1;32m    209\u001b[0m     \u001b[38;5;124m'\u001b[39m\u001b[38;5;124m400\u001b[39m\u001b[38;5;124m'\u001b[39m: \u001b[38;5;124m\"\u001b[39m\u001b[38;5;124mErrorMessage\u001b[39m\u001b[38;5;124m\"\u001b[39m,\n\u001b[0;32m   (...)\u001b[0m\n\u001b[1;32m    212\u001b[0m     \u001b[38;5;124m'\u001b[39m\u001b[38;5;124m501\u001b[39m\u001b[38;5;124m'\u001b[39m: \u001b[38;5;124m\"\u001b[39m\u001b[38;5;124mErrorMessage\u001b[39m\u001b[38;5;124m\"\u001b[39m,\n\u001b[1;32m    213\u001b[0m }\n\u001b[0;32m--> 215\u001b[0m \u001b[38;5;28;01mreturn\u001b[39;00m \u001b[38;5;28;43mself\u001b[39;49m\u001b[38;5;241;43m.\u001b[39;49m\u001b[43mapi_client\u001b[49m\u001b[38;5;241;43m.\u001b[39;49m\u001b[43mcall_api\u001b[49m\u001b[43m(\u001b[49m\n\u001b[1;32m    216\u001b[0m \u001b[43m    \u001b[49m\u001b[38;5;124;43m'\u001b[39;49m\u001b[38;5;124;43m/products\u001b[39;49m\u001b[38;5;124;43m'\u001b[39;49m\u001b[43m,\u001b[49m\u001b[43m \u001b[49m\u001b[38;5;124;43m'\u001b[39;49m\u001b[38;5;124;43mGET\u001b[39;49m\u001b[38;5;124;43m'\u001b[39;49m\u001b[43m,\u001b[49m\n\u001b[1;32m    217\u001b[0m \u001b[43m    \u001b[49m\u001b[43m_path_params\u001b[49m\u001b[43m,\u001b[49m\n\u001b[1;32m    218\u001b[0m \u001b[43m    \u001b[49m\u001b[43m_query_params\u001b[49m\u001b[43m,\u001b[49m\n\u001b[1;32m    219\u001b[0m \u001b[43m    \u001b[49m\u001b[43m_header_params\u001b[49m\u001b[43m,\u001b[49m\n\u001b[1;32m    220\u001b[0m \u001b[43m    \u001b[49m\u001b[43mbody\u001b[49m\u001b[38;5;241;43m=\u001b[39;49m\u001b[43m_body_params\u001b[49m\u001b[43m,\u001b[49m\n\u001b[1;32m    221\u001b[0m \u001b[43m    \u001b[49m\u001b[43mpost_params\u001b[49m\u001b[38;5;241;43m=\u001b[39;49m\u001b[43m_form_params\u001b[49m\u001b[43m,\u001b[49m\n\u001b[1;32m    222\u001b[0m \u001b[43m    \u001b[49m\u001b[43mfiles\u001b[49m\u001b[38;5;241;43m=\u001b[39;49m\u001b[43m_files\u001b[49m\u001b[43m,\u001b[49m\n\u001b[1;32m    223\u001b[0m \u001b[43m    \u001b[49m\u001b[43mresponse_types_map\u001b[49m\u001b[38;5;241;43m=\u001b[39;49m\u001b[43m_response_types_map\u001b[49m\u001b[43m,\u001b[49m\n\u001b[1;32m    224\u001b[0m \u001b[43m    \u001b[49m\u001b[43mauth_settings\u001b[49m\u001b[38;5;241;43m=\u001b[39;49m\u001b[43m_auth_settings\u001b[49m\u001b[43m,\u001b[49m\n\u001b[1;32m    225\u001b[0m \u001b[43m    \u001b[49m\u001b[43masync_req\u001b[49m\u001b[38;5;241;43m=\u001b[39;49m\u001b[43m_params\u001b[49m\u001b[38;5;241;43m.\u001b[39;49m\u001b[43mget\u001b[49m\u001b[43m(\u001b[49m\u001b[38;5;124;43m'\u001b[39;49m\u001b[38;5;124;43masync_req\u001b[39;49m\u001b[38;5;124;43m'\u001b[39;49m\u001b[43m)\u001b[49m\u001b[43m,\u001b[49m\n\u001b[1;32m    226\u001b[0m \u001b[43m    \u001b[49m\u001b[43m_return_http_data_only\u001b[49m\u001b[38;5;241;43m=\u001b[39;49m\u001b[43m_params\u001b[49m\u001b[38;5;241;43m.\u001b[39;49m\u001b[43mget\u001b[49m\u001b[43m(\u001b[49m\u001b[38;5;124;43m'\u001b[39;49m\u001b[38;5;124;43m_return_http_data_only\u001b[39;49m\u001b[38;5;124;43m'\u001b[39;49m\u001b[43m)\u001b[49m\u001b[43m,\u001b[49m\u001b[43m  \u001b[49m\u001b[38;5;66;43;03m# noqa: E501\u001b[39;49;00m\n\u001b[1;32m    227\u001b[0m \u001b[43m    \u001b[49m\u001b[43m_preload_content\u001b[49m\u001b[38;5;241;43m=\u001b[39;49m\u001b[43m_params\u001b[49m\u001b[38;5;241;43m.\u001b[39;49m\u001b[43mget\u001b[49m\u001b[43m(\u001b[49m\u001b[38;5;124;43m'\u001b[39;49m\u001b[38;5;124;43m_preload_content\u001b[39;49m\u001b[38;5;124;43m'\u001b[39;49m\u001b[43m,\u001b[49m\u001b[43m \u001b[49m\u001b[38;5;28;43;01mTrue\u001b[39;49;00m\u001b[43m)\u001b[49m\u001b[43m,\u001b[49m\n\u001b[1;32m    228\u001b[0m \u001b[43m    \u001b[49m\u001b[43m_request_timeout\u001b[49m\u001b[38;5;241;43m=\u001b[39;49m\u001b[43m_params\u001b[49m\u001b[38;5;241;43m.\u001b[39;49m\u001b[43mget\u001b[49m\u001b[43m(\u001b[49m\u001b[38;5;124;43m'\u001b[39;49m\u001b[38;5;124;43m_request_timeout\u001b[39;49m\u001b[38;5;124;43m'\u001b[39;49m\u001b[43m)\u001b[49m\u001b[43m,\u001b[49m\n\u001b[1;32m    229\u001b[0m \u001b[43m    \u001b[49m\u001b[43mcollection_formats\u001b[49m\u001b[38;5;241;43m=\u001b[39;49m\u001b[43m_collection_formats\u001b[49m\u001b[43m,\u001b[49m\n\u001b[1;32m    230\u001b[0m \u001b[43m    \u001b[49m\u001b[43m_request_auth\u001b[49m\u001b[38;5;241;43m=\u001b[39;49m\u001b[43m_params\u001b[49m\u001b[38;5;241;43m.\u001b[39;49m\u001b[43mget\u001b[49m\u001b[43m(\u001b[49m\u001b[38;5;124;43m'\u001b[39;49m\u001b[38;5;124;43m_request_auth\u001b[39;49m\u001b[38;5;124;43m'\u001b[39;49m\u001b[43m)\u001b[49m\u001b[43m)\u001b[49m\n",
      "File \u001b[0;32m~/PycharmProjects/search-api-notebook/venv/lib/python3.9/site-packages/pds/api_client/api_client.py:405\u001b[0m, in \u001b[0;36mApiClient.call_api\u001b[0;34m(self, resource_path, method, path_params, query_params, header_params, body, post_params, files, response_types_map, auth_settings, async_req, _return_http_data_only, collection_formats, _preload_content, _request_timeout, _host, _request_auth)\u001b[0m\n\u001b[1;32m    364\u001b[0m \u001b[38;5;124;03m\"\"\"Makes the HTTP request (synchronous) and returns deserialized data.\u001b[39;00m\n\u001b[1;32m    365\u001b[0m \n\u001b[1;32m    366\u001b[0m \u001b[38;5;124;03mTo make an async_req request, set the async_req parameter.\u001b[39;00m\n\u001b[0;32m   (...)\u001b[0m\n\u001b[1;32m    402\u001b[0m \u001b[38;5;124;03m    then the method will return the response directly.\u001b[39;00m\n\u001b[1;32m    403\u001b[0m \u001b[38;5;124;03m\"\"\"\u001b[39;00m\n\u001b[1;32m    404\u001b[0m \u001b[38;5;28;01mif\u001b[39;00m \u001b[38;5;129;01mnot\u001b[39;00m async_req:\n\u001b[0;32m--> 405\u001b[0m     \u001b[38;5;28;01mreturn\u001b[39;00m \u001b[38;5;28;43mself\u001b[39;49m\u001b[38;5;241;43m.\u001b[39;49m\u001b[43m__call_api\u001b[49m\u001b[43m(\u001b[49m\u001b[43mresource_path\u001b[49m\u001b[43m,\u001b[49m\u001b[43m \u001b[49m\u001b[43mmethod\u001b[49m\u001b[43m,\u001b[49m\n\u001b[1;32m    406\u001b[0m \u001b[43m                           \u001b[49m\u001b[43mpath_params\u001b[49m\u001b[43m,\u001b[49m\u001b[43m \u001b[49m\u001b[43mquery_params\u001b[49m\u001b[43m,\u001b[49m\u001b[43m \u001b[49m\u001b[43mheader_params\u001b[49m\u001b[43m,\u001b[49m\n\u001b[1;32m    407\u001b[0m \u001b[43m                           \u001b[49m\u001b[43mbody\u001b[49m\u001b[43m,\u001b[49m\u001b[43m \u001b[49m\u001b[43mpost_params\u001b[49m\u001b[43m,\u001b[49m\u001b[43m \u001b[49m\u001b[43mfiles\u001b[49m\u001b[43m,\u001b[49m\n\u001b[1;32m    408\u001b[0m \u001b[43m                           \u001b[49m\u001b[43mresponse_types_map\u001b[49m\u001b[43m,\u001b[49m\u001b[43m \u001b[49m\u001b[43mauth_settings\u001b[49m\u001b[43m,\u001b[49m\n\u001b[1;32m    409\u001b[0m \u001b[43m                           \u001b[49m\u001b[43m_return_http_data_only\u001b[49m\u001b[43m,\u001b[49m\u001b[43m \u001b[49m\u001b[43mcollection_formats\u001b[49m\u001b[43m,\u001b[49m\n\u001b[1;32m    410\u001b[0m \u001b[43m                           \u001b[49m\u001b[43m_preload_content\u001b[49m\u001b[43m,\u001b[49m\u001b[43m \u001b[49m\u001b[43m_request_timeout\u001b[49m\u001b[43m,\u001b[49m\u001b[43m \u001b[49m\u001b[43m_host\u001b[49m\u001b[43m,\u001b[49m\n\u001b[1;32m    411\u001b[0m \u001b[43m                           \u001b[49m\u001b[43m_request_auth\u001b[49m\u001b[43m)\u001b[49m\n\u001b[1;32m    413\u001b[0m \u001b[38;5;28;01mreturn\u001b[39;00m \u001b[38;5;28mself\u001b[39m\u001b[38;5;241m.\u001b[39mpool\u001b[38;5;241m.\u001b[39mapply_async(\u001b[38;5;28mself\u001b[39m\u001b[38;5;241m.\u001b[39m__call_api, (resource_path,\n\u001b[1;32m    414\u001b[0m                                                method, path_params,\n\u001b[1;32m    415\u001b[0m                                                query_params,\n\u001b[0;32m   (...)\u001b[0m\n\u001b[1;32m    423\u001b[0m                                                _request_timeout,\n\u001b[1;32m    424\u001b[0m                                                _host, _request_auth))\n",
      "File \u001b[0;32m~/PycharmProjects/search-api-notebook/venv/lib/python3.9/site-packages/pds/api_client/api_client.py:221\u001b[0m, in \u001b[0;36mApiClient.__call_api\u001b[0;34m(self, resource_path, method, path_params, query_params, header_params, body, post_params, files, response_types_map, auth_settings, _return_http_data_only, collection_formats, _preload_content, _request_timeout, _host, _request_auth)\u001b[0m\n\u001b[1;32m    219\u001b[0m     \u001b[38;5;28;01mif\u001b[39;00m e\u001b[38;5;241m.\u001b[39mbody:\n\u001b[1;32m    220\u001b[0m         e\u001b[38;5;241m.\u001b[39mbody \u001b[38;5;241m=\u001b[39m e\u001b[38;5;241m.\u001b[39mbody\u001b[38;5;241m.\u001b[39mdecode(\u001b[38;5;124m'\u001b[39m\u001b[38;5;124mutf-8\u001b[39m\u001b[38;5;124m'\u001b[39m)\n\u001b[0;32m--> 221\u001b[0m     \u001b[38;5;28;01mraise\u001b[39;00m e\n\u001b[1;32m    223\u001b[0m \u001b[38;5;28mself\u001b[39m\u001b[38;5;241m.\u001b[39mlast_response \u001b[38;5;241m=\u001b[39m response_data\n\u001b[1;32m    225\u001b[0m return_data \u001b[38;5;241m=\u001b[39m response_data\n",
      "File \u001b[0;32m~/PycharmProjects/search-api-notebook/venv/lib/python3.9/site-packages/pds/api_client/api_client.py:211\u001b[0m, in \u001b[0;36mApiClient.__call_api\u001b[0;34m(self, resource_path, method, path_params, query_params, header_params, body, post_params, files, response_types_map, auth_settings, _return_http_data_only, collection_formats, _preload_content, _request_timeout, _host, _request_auth)\u001b[0m\n\u001b[1;32m    207\u001b[0m     url \u001b[38;5;241m+\u001b[39m\u001b[38;5;241m=\u001b[39m \u001b[38;5;124m\"\u001b[39m\u001b[38;5;124m?\u001b[39m\u001b[38;5;124m\"\u001b[39m \u001b[38;5;241m+\u001b[39m url_query\n\u001b[1;32m    209\u001b[0m \u001b[38;5;28;01mtry\u001b[39;00m:\n\u001b[1;32m    210\u001b[0m     \u001b[38;5;66;03m# perform request and return response\u001b[39;00m\n\u001b[0;32m--> 211\u001b[0m     response_data \u001b[38;5;241m=\u001b[39m \u001b[38;5;28;43mself\u001b[39;49m\u001b[38;5;241;43m.\u001b[39;49m\u001b[43mrequest\u001b[49m\u001b[43m(\u001b[49m\n\u001b[1;32m    212\u001b[0m \u001b[43m        \u001b[49m\u001b[43mmethod\u001b[49m\u001b[43m,\u001b[49m\u001b[43m \u001b[49m\u001b[43murl\u001b[49m\u001b[43m,\u001b[49m\n\u001b[1;32m    213\u001b[0m \u001b[43m        \u001b[49m\u001b[43mquery_params\u001b[49m\u001b[38;5;241;43m=\u001b[39;49m\u001b[43mquery_params\u001b[49m\u001b[43m,\u001b[49m\n\u001b[1;32m    214\u001b[0m \u001b[43m        \u001b[49m\u001b[43mheaders\u001b[49m\u001b[38;5;241;43m=\u001b[39;49m\u001b[43mheader_params\u001b[49m\u001b[43m,\u001b[49m\n\u001b[1;32m    215\u001b[0m \u001b[43m        \u001b[49m\u001b[43mpost_params\u001b[49m\u001b[38;5;241;43m=\u001b[39;49m\u001b[43mpost_params\u001b[49m\u001b[43m,\u001b[49m\u001b[43m \u001b[49m\u001b[43mbody\u001b[49m\u001b[38;5;241;43m=\u001b[39;49m\u001b[43mbody\u001b[49m\u001b[43m,\u001b[49m\n\u001b[1;32m    216\u001b[0m \u001b[43m        \u001b[49m\u001b[43m_preload_content\u001b[49m\u001b[38;5;241;43m=\u001b[39;49m\u001b[43m_preload_content\u001b[49m\u001b[43m,\u001b[49m\n\u001b[1;32m    217\u001b[0m \u001b[43m        \u001b[49m\u001b[43m_request_timeout\u001b[49m\u001b[38;5;241;43m=\u001b[39;49m\u001b[43m_request_timeout\u001b[49m\u001b[43m)\u001b[49m\n\u001b[1;32m    218\u001b[0m \u001b[38;5;28;01mexcept\u001b[39;00m ApiException \u001b[38;5;28;01mas\u001b[39;00m e:\n\u001b[1;32m    219\u001b[0m     \u001b[38;5;28;01mif\u001b[39;00m e\u001b[38;5;241m.\u001b[39mbody:\n",
      "File \u001b[0;32m~/PycharmProjects/search-api-notebook/venv/lib/python3.9/site-packages/pds/api_client/api_client.py:431\u001b[0m, in \u001b[0;36mApiClient.request\u001b[0;34m(self, method, url, query_params, headers, post_params, body, _preload_content, _request_timeout)\u001b[0m\n\u001b[1;32m    429\u001b[0m \u001b[38;5;124;03m\"\"\"Makes the HTTP request using RESTClient.\"\"\"\u001b[39;00m\n\u001b[1;32m    430\u001b[0m \u001b[38;5;28;01mif\u001b[39;00m method \u001b[38;5;241m==\u001b[39m \u001b[38;5;124m\"\u001b[39m\u001b[38;5;124mGET\u001b[39m\u001b[38;5;124m\"\u001b[39m:\n\u001b[0;32m--> 431\u001b[0m     \u001b[38;5;28;01mreturn\u001b[39;00m \u001b[38;5;28;43mself\u001b[39;49m\u001b[38;5;241;43m.\u001b[39;49m\u001b[43mrest_client\u001b[49m\u001b[38;5;241;43m.\u001b[39;49m\u001b[43mget_request\u001b[49m\u001b[43m(\u001b[49m\u001b[43murl\u001b[49m\u001b[43m,\u001b[49m\n\u001b[1;32m    432\u001b[0m \u001b[43m                                \u001b[49m\u001b[43mquery_params\u001b[49m\u001b[38;5;241;43m=\u001b[39;49m\u001b[43mquery_params\u001b[49m\u001b[43m,\u001b[49m\n\u001b[1;32m    433\u001b[0m \u001b[43m                                \u001b[49m\u001b[43m_preload_content\u001b[49m\u001b[38;5;241;43m=\u001b[39;49m\u001b[43m_preload_content\u001b[49m\u001b[43m,\u001b[49m\n\u001b[1;32m    434\u001b[0m \u001b[43m                                \u001b[49m\u001b[43m_request_timeout\u001b[49m\u001b[38;5;241;43m=\u001b[39;49m\u001b[43m_request_timeout\u001b[49m\u001b[43m,\u001b[49m\n\u001b[1;32m    435\u001b[0m \u001b[43m                                \u001b[49m\u001b[43mheaders\u001b[49m\u001b[38;5;241;43m=\u001b[39;49m\u001b[43mheaders\u001b[49m\u001b[43m)\u001b[49m\n\u001b[1;32m    436\u001b[0m \u001b[38;5;28;01melif\u001b[39;00m method \u001b[38;5;241m==\u001b[39m \u001b[38;5;124m\"\u001b[39m\u001b[38;5;124mHEAD\u001b[39m\u001b[38;5;124m\"\u001b[39m:\n\u001b[1;32m    437\u001b[0m     \u001b[38;5;28;01mreturn\u001b[39;00m \u001b[38;5;28mself\u001b[39m\u001b[38;5;241m.\u001b[39mrest_client\u001b[38;5;241m.\u001b[39mhead_request(url,\n\u001b[1;32m    438\u001b[0m                                  query_params\u001b[38;5;241m=\u001b[39mquery_params,\n\u001b[1;32m    439\u001b[0m                                  _preload_content\u001b[38;5;241m=\u001b[39m_preload_content,\n\u001b[1;32m    440\u001b[0m                                  _request_timeout\u001b[38;5;241m=\u001b[39m_request_timeout,\n\u001b[1;32m    441\u001b[0m                                  headers\u001b[38;5;241m=\u001b[39mheaders)\n",
      "File \u001b[0;32m~/PycharmProjects/search-api-notebook/venv/lib/python3.9/site-packages/pds/api_client/rest.py:236\u001b[0m, in \u001b[0;36mRESTClientObject.get_request\u001b[0;34m(self, url, headers, query_params, _preload_content, _request_timeout)\u001b[0m\n\u001b[1;32m    234\u001b[0m \u001b[38;5;28;01mdef\u001b[39;00m \u001b[38;5;21mget_request\u001b[39m(\u001b[38;5;28mself\u001b[39m, url, headers\u001b[38;5;241m=\u001b[39m\u001b[38;5;28;01mNone\u001b[39;00m, query_params\u001b[38;5;241m=\u001b[39m\u001b[38;5;28;01mNone\u001b[39;00m, _preload_content\u001b[38;5;241m=\u001b[39m\u001b[38;5;28;01mTrue\u001b[39;00m,\n\u001b[1;32m    235\u001b[0m         _request_timeout\u001b[38;5;241m=\u001b[39m\u001b[38;5;28;01mNone\u001b[39;00m):\n\u001b[0;32m--> 236\u001b[0m     \u001b[38;5;28;01mreturn\u001b[39;00m \u001b[38;5;28;43mself\u001b[39;49m\u001b[38;5;241;43m.\u001b[39;49m\u001b[43mrequest\u001b[49m\u001b[43m(\u001b[49m\u001b[38;5;124;43m\"\u001b[39;49m\u001b[38;5;124;43mGET\u001b[39;49m\u001b[38;5;124;43m\"\u001b[39;49m\u001b[43m,\u001b[49m\u001b[43m \u001b[49m\u001b[43murl\u001b[49m\u001b[43m,\u001b[49m\n\u001b[1;32m    237\u001b[0m \u001b[43m                        \u001b[49m\u001b[43mheaders\u001b[49m\u001b[38;5;241;43m=\u001b[39;49m\u001b[43mheaders\u001b[49m\u001b[43m,\u001b[49m\n\u001b[1;32m    238\u001b[0m \u001b[43m                        \u001b[49m\u001b[43m_preload_content\u001b[49m\u001b[38;5;241;43m=\u001b[39;49m\u001b[43m_preload_content\u001b[49m\u001b[43m,\u001b[49m\n\u001b[1;32m    239\u001b[0m \u001b[43m                        \u001b[49m\u001b[43m_request_timeout\u001b[49m\u001b[38;5;241;43m=\u001b[39;49m\u001b[43m_request_timeout\u001b[49m\u001b[43m,\u001b[49m\n\u001b[1;32m    240\u001b[0m \u001b[43m                        \u001b[49m\u001b[43mquery_params\u001b[49m\u001b[38;5;241;43m=\u001b[39;49m\u001b[43mquery_params\u001b[49m\u001b[43m)\u001b[49m\n",
      "File \u001b[0;32m~/PycharmProjects/search-api-notebook/venv/lib/python3.9/site-packages/pds/api_client/rest.py:228\u001b[0m, in \u001b[0;36mRESTClientObject.request\u001b[0;34m(self, method, url, query_params, headers, body, post_params, _preload_content, _request_timeout)\u001b[0m\n\u001b[1;32m    225\u001b[0m         \u001b[38;5;28;01mraise\u001b[39;00m NotFoundException(http_resp\u001b[38;5;241m=\u001b[39mr)\n\u001b[1;32m    227\u001b[0m     \u001b[38;5;28;01mif\u001b[39;00m \u001b[38;5;241m500\u001b[39m \u001b[38;5;241m<\u001b[39m\u001b[38;5;241m=\u001b[39m r\u001b[38;5;241m.\u001b[39mstatus \u001b[38;5;241m<\u001b[39m\u001b[38;5;241m=\u001b[39m \u001b[38;5;241m599\u001b[39m:\n\u001b[0;32m--> 228\u001b[0m         \u001b[38;5;28;01mraise\u001b[39;00m ServiceException(http_resp\u001b[38;5;241m=\u001b[39mr)\n\u001b[1;32m    230\u001b[0m     \u001b[38;5;28;01mraise\u001b[39;00m ApiException(http_resp\u001b[38;5;241m=\u001b[39mr)\n\u001b[1;32m    232\u001b[0m \u001b[38;5;28;01mreturn\u001b[39;00m r\n",
      "\u001b[0;31mServiceException\u001b[0m: (500)\nReason: Internal Server Error\nHTTP response headers: HTTPHeaderDict({'Content-Type': 'application/json', 'Transfer-Encoding': 'chunked', 'Connection': 'keep-alive', 'Date': 'Wed, 02 Aug 2023 21:29:29 GMT', 'X-Cache': 'Error from cloudfront', 'Via': '1.1 02b9f097e6bccd6a8d89ebf056435cb4.cloudfront.net (CloudFront)', 'X-Amz-Cf-Pop': 'LAX50-C2', 'X-Amz-Cf-Id': 'uNkt7ZHL-5v7uLtIAp9e54UUGp8t3LAEg8mdc2issQwQKrXhiWfhjg==', 'X-XSS-Protection': '1; mode=block', 'Strict-Transport-Security': 'max-age=31536000; preload', 'Vary': 'Origin'})\nHTTP response body: {\"request\":\"https://pds.nasa.gov/api/search/1/products?fields=orex:Spatial.orex:latitude&fields=orex:Spatial.orex:longitude&fields=ref_lid_instrument&fields=orex:Spatial.orex:target_range&fields=ops:Data_File_Info.ops:file_ref&limit=500&q=%20%28%20%28%20ref_lid_target%20eq%20%22urn%3Anasa%3Apds%3Acontext%3Atarget%3Aasteroid.101955_bennu%22%20%29%20and%20%28%20ref_lid_instrument%20eq%20%22urn%3Anasa%3Apds%3Acontext%3Ainstrument%3Aovirs.orex%22%20%29%20%29&start=61500\",\"message\":\"30,000 milliseconds timeout on connection http-outgoing-57 [ACTIVE]\"}\n"
     ]
    }
   ],
   "source": [
    "from pds.api_client.api.all_products_api import AllProductsApi\n",
    "products = AllProductsApi(api_client)\n",
    "properties_of_interest = ['orex:Spatial.orex:latitude', 'orex:Spatial.orex:longitude', 'ref_lid_instrument', 'orex:Spatial.orex:target_range', 'ops:Data_File_Info.ops:file_ref']\n",
    "start = 0\n",
    "limit = 500\n",
    "criteria = ' ( ( ref_lid_target eq \"urn:nasa:pds:context:target:asteroid.101955_bennu\" )'\n",
    "criteria += ' and ( ref_lid_instrument eq \"urn:nasa:pds:context:instrument:ovirs.orex\" ) )'\n",
    "\n",
    "prods = []\n",
    "pbar = tqdm()\n",
    "\n",
    "start_time = time.time()\n",
    "\n",
    "\n",
    "while True:\n",
    "    pbar.update(int(start/500))\n",
    "    api_response = products.product_list(\n",
    "        q=criteria,\n",
    "        start=start,\n",
    "        limit=limit,\n",
    "        fields=properties_of_interest)\n",
    "    \n",
    "    if api_response.data:\n",
    "        prods.extend(api_response.data)\n",
    "        start += limit\n",
    "    else:\n",
    "        break\n",
    "        \n",
    "    # because of the performance issue we break before the collection is complete\n",
    "    #if start > 2000:\n",
    "    #    break\n",
    "        \n",
    "elapsed = time.time() - start_time\n",
    "print(f'retrieved {start} products in {elapsed/60.0:.1f} minutes')\n",
    "\n",
    "pbar.close()"
   ]
  },
  {
   "cell_type": "markdown",
   "id": "mental-trance",
   "metadata": {},
   "source": [
    "### Product description comes with default properties + requested properties\n",
    "\n",
    "See for example"
   ]
  },
  {
   "cell_type": "code",
   "execution_count": null,
   "id": "military-midnight",
   "metadata": {},
   "outputs": [],
   "source": [
    "prods[140000]"
   ]
  },
  {
   "cell_type": "markdown",
   "id": "developed-dress",
   "metadata": {},
   "source": [
    "### Filter out records with no valid values\n",
    "\n",
    "Some records have fill values for the fields we are interested in (e.g. `latitude == -9999`, we want to remove them from our results.\n"
   ]
  },
  {
   "cell_type": "code",
   "execution_count": null,
   "id": "strategic-season",
   "metadata": {},
   "outputs": [],
   "source": [
    "def at_least_one_valid_value(p):\n",
    "    return ((p['orex:spatial.orex:latitude'] !=  '-9999') \\\n",
    "           and (p['orex:spatial.orex:latitude'] != None))\n",
    "\n",
    "def filter_out_fillvalues(products):\n",
    "    properties = []\n",
    "    for product in products:\n",
    "        if at_least_one_valid_value(product.properties):\n",
    "            p = product.properties\n",
    "            p['id'] = product.id\n",
    "            properties.append(p)\n",
    "    return properties\n",
    "\n",
    "properties = filter_out_fillvalues(products)\n",
    "        \n",
    "print(f\"The values of the selected properties are\")\n",
    "pprint(properties[:3])"
   ]
  },
  {
   "cell_type": "markdown",
   "id": "sexual-defeat",
   "metadata": {},
   "source": [
    "### Transpose to extract lat,lon and target range as columns, ready to plot "
   ]
  },
  {
   "cell_type": "code",
   "execution_count": null,
   "id": "essential-enough",
   "metadata": {},
   "outputs": [],
   "source": [
    "def transpose(properties):\n",
    "    lat = [float(p['orex:spatial.orex:latitude']) for p in properties]\n",
    "    lon = [float(p['orex:spatial.orex:longitude']) for p in properties]\n",
    "    target_range = [float(p['orex:spatial.orex:target_range']) for p in properties]\n",
    "    return lat, lon, target_range\n",
    "\n",
    "lat, lon, target_range = transpose(properties)\n",
    "print(f'The target_range values for the selected products are {target_range[:3]}')"
   ]
  },
  {
   "cell_type": "markdown",
   "id": "defensive-dispute",
   "metadata": {},
   "source": [
    "### Plot the lat,lon of the observations, colored by target_range"
   ]
  },
  {
   "cell_type": "code",
   "execution_count": null,
   "id": "unavailable-mapping",
   "metadata": {},
   "outputs": [],
   "source": [
    "def observation_map(lat, lon, target_range, vmax=25):\n",
    "    fig, ax = plt.subplots()\n",
    "\n",
    "    ax.set_xlabel('longitude')\n",
    "    ax.set_ylabel('latitude')\n",
    "    ax.set_title('orex.ovirs products lat,lon')\n",
    "\n",
    "    im = ax.scatter(lon, lat, c=target_range, vmin=0, vmax=vmax)\n",
    "\n",
    "    cbar = fig.colorbar(im, ax=ax)\n",
    "    cbar.set_label('target range (km)')\n",
    "    \n",
    "observation_map(lat,lon, target_range, vmax=25)\n"
   ]
  },
  {
   "cell_type": "markdown",
   "id": "alert-lighting",
   "metadata": {},
   "source": [
    "### Overview of the observation target_range with an histogram"
   ]
  },
  {
   "cell_type": "code",
   "execution_count": null,
   "id": "governmental-mortgage",
   "metadata": {},
   "outputs": [],
   "source": [
    "plt.hist(target_range, range=(0, 15))"
   ]
  },
  {
   "cell_type": "markdown",
   "id": "arabic-orbit",
   "metadata": {},
   "source": [
    "### Get observations around specific spot (lat=12, lon=24) with target range closer than 4 km"
   ]
  },
  {
   "cell_type": "code",
   "execution_count": null,
   "id": "timely-hours",
   "metadata": {},
   "outputs": [],
   "source": [
    "lidvids = [p['id'] for p in properties if float(p['orex:spatial.orex:target_range']) < 4.0 \n",
    "          and abs(float(p['orex:spatial.orex:latitude']) - 12.0) < 3.0\n",
    "          and abs(float(p['orex:spatial.orex:longitude']) - 24.0) < 3.0]\n",
    "print(f'The lidvids of the selected products are {lidvids}')"
   ]
  },
  {
   "cell_type": "markdown",
   "id": "later-wilderness",
   "metadata": {},
   "source": [
    "### Get the full product description"
   ]
  },
  {
   "cell_type": "code",
   "execution_count": null,
   "id": "handmade-accident",
   "metadata": {},
   "outputs": [],
   "source": [
    "products_api = pds_api.ProductsApi(api_client)\n",
    "product = products_api.products_by_lidvid(lidvids[0])\n",
    "print(product)"
   ]
  },
  {
   "cell_type": "markdown",
   "id": "alpine-wonder",
   "metadata": {},
   "source": [
    "### Get the file path of the data"
   ]
  },
  {
   "cell_type": "code",
   "execution_count": null,
   "id": "accompanied-consensus",
   "metadata": {},
   "outputs": [],
   "source": [
    "product.properties['ops:Data_File_Info.ops:file_ref']"
   ]
  },
  {
   "cell_type": "code",
   "execution_count": null,
   "id": "parliamentary-ownership",
   "metadata": {},
   "outputs": [],
   "source": []
  }
 ],
 "metadata": {
  "kernelspec": {
   "display_name": "Python 3 (ipykernel)",
   "language": "python",
   "name": "python3"
  },
  "language_info": {
   "codemirror_mode": {
    "name": "ipython",
    "version": 3
   },
   "file_extension": ".py",
   "mimetype": "text/x-python",
   "name": "python",
   "nbconvert_exporter": "python",
   "pygments_lexer": "ipython3",
   "version": "3.11.4"
  }
 },
 "nbformat": 4,
 "nbformat_minor": 5
}
