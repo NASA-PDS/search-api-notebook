{
 "cells": [
  {
   "cell_type": "markdown",
   "id": "sticky-richardson",
   "metadata": {},
   "source": [
    "# PDS Search API demo, OSIRIS-REx OVIRS Data Visualization\n",
    "## PART 1: Explore a Collection\n",
    "\n",
    "The purpose of this notebook is to demostrate how the PDS web API can be used to access the PDS data for a scientific use case.\n",
    "\n",
    "The documention of the PDS web API is available on https://nasa-pds.github.io/pds-api/\n",
    "\n",
    "This notebook is available on https://github.com/NASA-PDS/pds-api-notebook\n",
    "\n",
    "<b>2 Use cases:</b>\n",
    " - <u>Part1</u>: explore the collection\n",
    " - <u>Part2</u>: find/visualize specific the data you are interested in\n",
    " \n",
    " <br/>\n",
    " \n",
    " WARNING: This notebook is a demo and not a real scientific use case. It might contain mistake in the way the data is used or displayed."
   ]
  },
  {
   "cell_type": "code",
   "execution_count": 1,
   "id": "heavy-oxide",
   "metadata": {},
   "outputs": [],
   "source": [
    "from __future__ import print_function\n",
    "from pprint import pprint\n",
    "import time\n",
    "from tqdm.notebook import tqdm\n",
    "import matplotlib.pyplot as plt"
   ]
  },
  {
   "cell_type": "markdown",
   "id": "revolutionary-period",
   "metadata": {},
   "source": [
    "The PDS API is accessed using a python client library documented on https://nasa-pds.github.io/pds-api-client/"
   ]
  },
  {
   "cell_type": "code",
   "execution_count": 2,
   "id": "forced-ghana",
   "metadata": {},
   "outputs": [],
   "source": [
    "import pds.api_client as pds_api"
   ]
  },
  {
   "cell_type": "markdown",
   "id": "infinite-footwear",
   "metadata": {},
   "source": [
    "## Use the PDS demo web API server "
   ]
  },
  {
   "cell_type": "markdown",
   "id": "bound-palace",
   "metadata": {},
   "source": [
    "Connect to the demo server. See User Interface of the web API: https://pds-gamma.jpl.nasa.gov/api/swagger-ui.html\n",
    "\n",
    "<b>Note: </b> this piece of code will be wrapped into a helper function so that 1 line will be enough to connect to the API using a default host"
   ]
  },
  {
   "cell_type": "code",
   "execution_count": 3,
   "id": "textile-combine",
   "metadata": {
    "tags": []
   },
   "outputs": [],
   "source": [
    "configuration = pds_api.Configuration()\n",
    "\n",
    "# demo server\n",
    "configuration.host = 'https://pds.nasa.gov/api/search/1/'\n",
    "\n",
    "api_client = pds_api.ApiClient(configuration)\n"
   ]
  },
  {
   "cell_type": "markdown",
   "id": "computational-brazilian",
   "metadata": {},
   "source": [
    "## Explore a collection"
   ]
  },
  {
   "cell_type": "markdown",
   "id": "pointed-scout",
   "metadata": {},
   "source": [
    "### Get the identifier of your collection of interest\n",
    "\n",
    "Search for a collection of interest on https://pds.nasa.gov/datasearch/keyword-search/ (or https://pds.nasa.gov > Data Search > Keyword Search):\n",
    "- Search for \"osiris rex calibrated ovirs collection\" (https://pds.nasa.gov/datasearch/keyword-search/search.jsp?q=osiris+rex+ovirs+calibrated+collection)\n",
    "- Click on the first collection on the results\n",
    "- Copy the IDENTIFIER displayed at the top of the Collection Information\n"
   ]
  },
  {
   "cell_type": "markdown",
   "id": "metropolitan-teach",
   "metadata": {},
   "source": [
    "### Get the properties available for the observational products belonging to the selected collection\n",
    "\n",
    "Get the properties available for the product belonging to the collection of interest using `CollectionsProductsApi.products_of_a_collection` \n",
    "(see https://nasa-pds.github.io/pds-api-client/api/api_client.api.html#api_client.api.collections_products_api.CollectionsProductsApi)\n",
    "\n",
    "API responses have the structure `{\"summary\": {}, data= []}`\n",
    "(see https://nasa-pds.github.io/pds-api-client/api/api_client.models.html#api_client.models.products.Products)\n",
    "\n",
    "We do not get the product descriptions yet but only the available properties with `only_summary=True` option."
   ]
  },
  {
   "cell_type": "code",
   "execution_count": null,
   "id": "billion-dimension",
   "metadata": {},
   "outputs": [],
   "source": [
    "lidvid = 'urn:nasa:pds:orex.ovirs:data_calibrated::10.0'\n",
    "from pds.api_client.apis.paths.products_identifier_members import ProductsIdentifierMembers\n",
    "products = ProductsIdentifierMembers(api_client)\n",
    "\n",
    "###### The following gets an error due to a bug in the registry api!\n",
    "api_response = products.get(path_params={\"identifier\": lidvid},\n",
    "                            query_params={\"limit\": 0}, # limit=0 gets a summary, not the products\n",
    "                            accept_content_types=(\"application/json\",))\n",
    "print(api_response)"
   ]
  },
  {
   "cell_type": "markdown",
   "id": "respective-classic",
   "metadata": {},
   "source": [
    "### Request specific properties of all the observational products of the collection"
   ]
  },
  {
   "cell_type": "code",
   "execution_count": 5,
   "id": "898eac3c-f903-4086-af40-28a521813f85",
   "metadata": {},
   "outputs": [
    {
     "data": {
      "application/vnd.jupyter.widget-view+json": {
       "model_id": "1f9137289fd84abea492fd1986950273",
       "version_major": 2,
       "version_minor": 0
      },
      "text/plain": [
       "0it [00:00, ?it/s]"
      ]
     },
     "metadata": {},
     "output_type": "display_data"
    },
    {
     "name": "stdout",
     "output_type": "stream",
     "text": [
      "start: 0\n",
      "start: 500\n",
      "start: 1000\n",
      "start: 1500\n",
      "start: 2000\n",
      "start: 2500\n",
      "start: 3000\n",
      "start: 3500\n",
      "start: 4000\n",
      "start: 4500\n",
      "start: 5000\n",
      "start: 5500\n",
      "start: 6000\n",
      "start: 6500\n",
      "start: 7000\n",
      "start: 7500\n",
      "start: 8000\n",
      "start: 8500\n",
      "start: 9000\n",
      "start: 9500\n",
      "start: 10000\n"
     ]
    },
    {
     "ename": "ApiTypeError",
     "evalue": "ErrorMessage is missing 2 required arguments: ['message', 'request']",
     "output_type": "error",
     "traceback": [
      "\u001b[0;31m---------------------------------------------------------------------------\u001b[0m",
      "\u001b[0;31mApiTypeError\u001b[0m                              Traceback (most recent call last)",
      "\u001b[0;32m/var/folders/wm/bzyslp0j1b712q4y2txk41fr0000gp/T/ipykernel_49270/3608632757.py\u001b[0m in \u001b[0;36m<module>\u001b[0;34m\u001b[0m\n\u001b[1;32m     16\u001b[0m                                               \u001b[0;34m\"start\"\u001b[0m\u001b[0;34m:\u001b[0m \u001b[0mstart\u001b[0m\u001b[0;34m,\u001b[0m \u001b[0;34m\"limit\"\u001b[0m\u001b[0;34m:\u001b[0m \u001b[0mlimit\u001b[0m\u001b[0;34m,\u001b[0m\u001b[0;34m\u001b[0m\u001b[0;34m\u001b[0m\u001b[0m\n\u001b[1;32m     17\u001b[0m                                                \"fields\": properties_of_interest},\n\u001b[0;32m---> 18\u001b[0;31m                                 accept_content_types=(\"application/json\",)).body\n\u001b[0m\u001b[1;32m     19\u001b[0m \u001b[0;34m\u001b[0m\u001b[0m\n\u001b[1;32m     20\u001b[0m     \u001b[0;32mif\u001b[0m \u001b[0mapi_response\u001b[0m\u001b[0;34m.\u001b[0m\u001b[0mdata\u001b[0m\u001b[0;34m:\u001b[0m\u001b[0;34m\u001b[0m\u001b[0;34m\u001b[0m\u001b[0m\n",
      "\u001b[0;32m~/pds/src/search-api-notebook/pds-api-notebook-env/lib/python3.7/site-packages/pds/api_client/paths/products/get.py\u001b[0m in \u001b[0;36mget\u001b[0;34m(self, query_params, accept_content_types, stream, timeout, skip_deserialization)\u001b[0m\n\u001b[1;32m    704\u001b[0m             \u001b[0mstream\u001b[0m\u001b[0;34m=\u001b[0m\u001b[0mstream\u001b[0m\u001b[0;34m,\u001b[0m\u001b[0;34m\u001b[0m\u001b[0;34m\u001b[0m\u001b[0m\n\u001b[1;32m    705\u001b[0m             \u001b[0mtimeout\u001b[0m\u001b[0;34m=\u001b[0m\u001b[0mtimeout\u001b[0m\u001b[0;34m,\u001b[0m\u001b[0;34m\u001b[0m\u001b[0;34m\u001b[0m\u001b[0m\n\u001b[0;32m--> 706\u001b[0;31m             \u001b[0mskip_deserialization\u001b[0m\u001b[0;34m=\u001b[0m\u001b[0mskip_deserialization\u001b[0m\u001b[0;34m\u001b[0m\u001b[0;34m\u001b[0m\u001b[0m\n\u001b[0m\u001b[1;32m    707\u001b[0m         )\n\u001b[1;32m    708\u001b[0m \u001b[0;34m\u001b[0m\u001b[0m\n",
      "\u001b[0;32m~/pds/src/search-api-notebook/pds-api-notebook-env/lib/python3.7/site-packages/pds/api_client/paths/products/get.py\u001b[0m in \u001b[0;36m_product_list_oapg\u001b[0;34m(self, query_params, accept_content_types, stream, timeout, skip_deserialization)\u001b[0m\n\u001b[1;32m    588\u001b[0m             \u001b[0mresponse_for_status\u001b[0m \u001b[0;34m=\u001b[0m \u001b[0m_status_code_to_response\u001b[0m\u001b[0;34m.\u001b[0m\u001b[0mget\u001b[0m\u001b[0;34m(\u001b[0m\u001b[0mstr\u001b[0m\u001b[0;34m(\u001b[0m\u001b[0mresponse\u001b[0m\u001b[0;34m.\u001b[0m\u001b[0mstatus\u001b[0m\u001b[0;34m)\u001b[0m\u001b[0;34m)\u001b[0m\u001b[0;34m\u001b[0m\u001b[0;34m\u001b[0m\u001b[0m\n\u001b[1;32m    589\u001b[0m             \u001b[0;32mif\u001b[0m \u001b[0mresponse_for_status\u001b[0m\u001b[0;34m:\u001b[0m\u001b[0;34m\u001b[0m\u001b[0;34m\u001b[0m\u001b[0m\n\u001b[0;32m--> 590\u001b[0;31m                 \u001b[0mapi_response\u001b[0m \u001b[0;34m=\u001b[0m \u001b[0mresponse_for_status\u001b[0m\u001b[0;34m.\u001b[0m\u001b[0mdeserialize\u001b[0m\u001b[0;34m(\u001b[0m\u001b[0mresponse\u001b[0m\u001b[0;34m,\u001b[0m \u001b[0mself\u001b[0m\u001b[0;34m.\u001b[0m\u001b[0mapi_client\u001b[0m\u001b[0;34m.\u001b[0m\u001b[0mconfiguration\u001b[0m\u001b[0;34m)\u001b[0m\u001b[0;34m\u001b[0m\u001b[0;34m\u001b[0m\u001b[0m\n\u001b[0m\u001b[1;32m    591\u001b[0m             \u001b[0;32melse\u001b[0m\u001b[0;34m:\u001b[0m\u001b[0;34m\u001b[0m\u001b[0;34m\u001b[0m\u001b[0m\n\u001b[1;32m    592\u001b[0m                 \u001b[0mapi_response\u001b[0m \u001b[0;34m=\u001b[0m \u001b[0mapi_client\u001b[0m\u001b[0;34m.\u001b[0m\u001b[0mApiResponseWithoutDeserialization\u001b[0m\u001b[0;34m(\u001b[0m\u001b[0mresponse\u001b[0m\u001b[0;34m=\u001b[0m\u001b[0mresponse\u001b[0m\u001b[0;34m)\u001b[0m\u001b[0;34m\u001b[0m\u001b[0;34m\u001b[0m\u001b[0m\n",
      "\u001b[0;32m~/pds/src/search-api-notebook/pds-api-notebook-env/lib/python3.7/site-packages/pds/api_client/api_client.py\u001b[0m in \u001b[0;36mdeserialize\u001b[0;34m(self, response, configuration)\u001b[0m\n\u001b[1;32m    951\u001b[0m                 \u001b[0;32mraise\u001b[0m \u001b[0mNotImplementedError\u001b[0m\u001b[0;34m(\u001b[0m\u001b[0;34m'Deserialization of {} has not yet been implemented'\u001b[0m\u001b[0;34m.\u001b[0m\u001b[0mformat\u001b[0m\u001b[0;34m(\u001b[0m\u001b[0mcontent_type\u001b[0m\u001b[0;34m)\u001b[0m\u001b[0;34m)\u001b[0m\u001b[0;34m\u001b[0m\u001b[0;34m\u001b[0m\u001b[0m\n\u001b[1;32m    952\u001b[0m             deserialized_body = body_schema.from_openapi_data_oapg(\n\u001b[0;32m--> 953\u001b[0;31m                 body_data, _configuration=configuration)\n\u001b[0m\u001b[1;32m    954\u001b[0m         \u001b[0;32melif\u001b[0m \u001b[0mstreamed\u001b[0m\u001b[0;34m:\u001b[0m\u001b[0;34m\u001b[0m\u001b[0;34m\u001b[0m\u001b[0m\n\u001b[1;32m    955\u001b[0m             \u001b[0mresponse\u001b[0m\u001b[0;34m.\u001b[0m\u001b[0mrelease_conn\u001b[0m\u001b[0;34m(\u001b[0m\u001b[0;34m)\u001b[0m\u001b[0;34m\u001b[0m\u001b[0;34m\u001b[0m\u001b[0m\n",
      "\u001b[0;32m~/pds/src/search-api-notebook/pds-api-notebook-env/lib/python3.7/site-packages/pds/api_client/schemas.py\u001b[0m in \u001b[0;36mfrom_openapi_data_oapg\u001b[0;34m(cls, arg, _configuration)\u001b[0m\n\u001b[1;32m   2435\u001b[0m     \u001b[0;34m@\u001b[0m\u001b[0mclassmethod\u001b[0m\u001b[0;34m\u001b[0m\u001b[0;34m\u001b[0m\u001b[0m\n\u001b[1;32m   2436\u001b[0m     \u001b[0;32mdef\u001b[0m \u001b[0mfrom_openapi_data_oapg\u001b[0m\u001b[0;34m(\u001b[0m\u001b[0mcls\u001b[0m\u001b[0;34m,\u001b[0m \u001b[0marg\u001b[0m\u001b[0;34m:\u001b[0m \u001b[0mtyping\u001b[0m\u001b[0;34m.\u001b[0m\u001b[0mDict\u001b[0m\u001b[0;34m[\u001b[0m\u001b[0mstr\u001b[0m\u001b[0;34m,\u001b[0m \u001b[0mtyping\u001b[0m\u001b[0;34m.\u001b[0m\u001b[0mAny\u001b[0m\u001b[0;34m]\u001b[0m\u001b[0;34m,\u001b[0m \u001b[0m_configuration\u001b[0m\u001b[0;34m:\u001b[0m \u001b[0mtyping\u001b[0m\u001b[0;34m.\u001b[0m\u001b[0mOptional\u001b[0m\u001b[0;34m[\u001b[0m\u001b[0mConfiguration\u001b[0m\u001b[0;34m]\u001b[0m \u001b[0;34m=\u001b[0m \u001b[0;32mNone\u001b[0m\u001b[0;34m)\u001b[0m\u001b[0;34m:\u001b[0m\u001b[0;34m\u001b[0m\u001b[0;34m\u001b[0m\u001b[0m\n\u001b[0;32m-> 2437\u001b[0;31m         \u001b[0;32mreturn\u001b[0m \u001b[0msuper\u001b[0m\u001b[0;34m(\u001b[0m\u001b[0;34m)\u001b[0m\u001b[0;34m.\u001b[0m\u001b[0mfrom_openapi_data_oapg\u001b[0m\u001b[0;34m(\u001b[0m\u001b[0marg\u001b[0m\u001b[0;34m,\u001b[0m \u001b[0m_configuration\u001b[0m\u001b[0;34m=\u001b[0m\u001b[0m_configuration\u001b[0m\u001b[0;34m)\u001b[0m\u001b[0;34m\u001b[0m\u001b[0;34m\u001b[0m\u001b[0m\n\u001b[0m\u001b[1;32m   2438\u001b[0m \u001b[0;34m\u001b[0m\u001b[0m\n\u001b[1;32m   2439\u001b[0m     \u001b[0;32mdef\u001b[0m \u001b[0m__new__\u001b[0m\u001b[0;34m(\u001b[0m\u001b[0mcls\u001b[0m\u001b[0;34m,\u001b[0m \u001b[0;34m*\u001b[0m\u001b[0m_args\u001b[0m\u001b[0;34m:\u001b[0m \u001b[0mtyping\u001b[0m\u001b[0;34m.\u001b[0m\u001b[0mUnion\u001b[0m\u001b[0;34m[\u001b[0m\u001b[0mdict\u001b[0m\u001b[0;34m,\u001b[0m \u001b[0mfrozendict\u001b[0m\u001b[0;34m.\u001b[0m\u001b[0mfrozendict\u001b[0m\u001b[0;34m]\u001b[0m\u001b[0;34m,\u001b[0m \u001b[0;34m**\u001b[0m\u001b[0mkwargs\u001b[0m\u001b[0;34m:\u001b[0m \u001b[0mtyping\u001b[0m\u001b[0;34m.\u001b[0m\u001b[0mUnion\u001b[0m\u001b[0;34m[\u001b[0m\u001b[0mdict\u001b[0m\u001b[0;34m,\u001b[0m \u001b[0mfrozendict\u001b[0m\u001b[0;34m.\u001b[0m\u001b[0mfrozendict\u001b[0m\u001b[0;34m,\u001b[0m \u001b[0mlist\u001b[0m\u001b[0;34m,\u001b[0m \u001b[0mtuple\u001b[0m\u001b[0;34m,\u001b[0m \u001b[0mdecimal\u001b[0m\u001b[0;34m.\u001b[0m\u001b[0mDecimal\u001b[0m\u001b[0;34m,\u001b[0m \u001b[0mfloat\u001b[0m\u001b[0;34m,\u001b[0m \u001b[0mint\u001b[0m\u001b[0;34m,\u001b[0m \u001b[0mstr\u001b[0m\u001b[0;34m,\u001b[0m \u001b[0mdate\u001b[0m\u001b[0;34m,\u001b[0m \u001b[0mdatetime\u001b[0m\u001b[0;34m,\u001b[0m \u001b[0mbool\u001b[0m\u001b[0;34m,\u001b[0m \u001b[0;32mNone\u001b[0m\u001b[0;34m,\u001b[0m \u001b[0mbytes\u001b[0m\u001b[0;34m,\u001b[0m \u001b[0mSchema\u001b[0m\u001b[0;34m,\u001b[0m \u001b[0mUnset\u001b[0m\u001b[0;34m,\u001b[0m \u001b[0mValidationMetadata\u001b[0m\u001b[0;34m]\u001b[0m\u001b[0;34m)\u001b[0m\u001b[0;34m:\u001b[0m\u001b[0;34m\u001b[0m\u001b[0;34m\u001b[0m\u001b[0m\n",
      "\u001b[0;32m~/pds/src/search-api-notebook/pds-api-notebook-env/lib/python3.7/site-packages/pds/api_client/schemas.py\u001b[0m in \u001b[0;36mfrom_openapi_data_oapg\u001b[0;34m(cls, arg, _configuration)\u001b[0m\n\u001b[1;32m    479\u001b[0m         validation_metadata = ValidationMetadata(\n\u001b[1;32m    480\u001b[0m             from_server=from_server, configuration=_configuration, validated_path_to_schemas=validated_path_to_schemas)\n\u001b[0;32m--> 481\u001b[0;31m         \u001b[0mpath_to_schemas\u001b[0m \u001b[0;34m=\u001b[0m \u001b[0mcls\u001b[0m\u001b[0;34m.\u001b[0m\u001b[0m__get_new_cls\u001b[0m\u001b[0;34m(\u001b[0m\u001b[0marg\u001b[0m\u001b[0;34m,\u001b[0m \u001b[0mvalidation_metadata\u001b[0m\u001b[0;34m)\u001b[0m\u001b[0;34m\u001b[0m\u001b[0;34m\u001b[0m\u001b[0m\n\u001b[0m\u001b[1;32m    482\u001b[0m         \u001b[0mnew_cls\u001b[0m \u001b[0;34m=\u001b[0m \u001b[0mpath_to_schemas\u001b[0m\u001b[0;34m[\u001b[0m\u001b[0mvalidation_metadata\u001b[0m\u001b[0;34m.\u001b[0m\u001b[0mpath_to_item\u001b[0m\u001b[0;34m]\u001b[0m\u001b[0;34m\u001b[0m\u001b[0;34m\u001b[0m\u001b[0m\n\u001b[1;32m    483\u001b[0m         new_inst = new_cls._get_new_instance_without_conversion_oapg(\n",
      "\u001b[0;32m~/pds/src/search-api-notebook/pds-api-notebook-env/lib/python3.7/site-packages/pds/api_client/schemas.py\u001b[0m in \u001b[0;36m__get_new_cls\u001b[0;34m(cls, arg, validation_metadata)\u001b[0m\n\u001b[1;32m    397\u001b[0m             \u001b[0mupdate\u001b[0m\u001b[0;34m(\u001b[0m\u001b[0m_path_to_schemas\u001b[0m\u001b[0;34m,\u001b[0m \u001b[0mvalidation_metadata\u001b[0m\u001b[0;34m.\u001b[0m\u001b[0mvalidated_path_to_schemas\u001b[0m\u001b[0;34m)\u001b[0m\u001b[0;34m\u001b[0m\u001b[0;34m\u001b[0m\u001b[0m\n\u001b[1;32m    398\u001b[0m         \u001b[0;32mif\u001b[0m \u001b[0;32mnot\u001b[0m \u001b[0mvalidation_metadata\u001b[0m\u001b[0;34m.\u001b[0m\u001b[0mvalidation_ran_earlier\u001b[0m\u001b[0;34m(\u001b[0m\u001b[0mcls\u001b[0m\u001b[0;34m)\u001b[0m\u001b[0;34m:\u001b[0m\u001b[0;34m\u001b[0m\u001b[0;34m\u001b[0m\u001b[0m\n\u001b[0;32m--> 399\u001b[0;31m             \u001b[0mother_path_to_schemas\u001b[0m \u001b[0;34m=\u001b[0m \u001b[0mcls\u001b[0m\u001b[0;34m.\u001b[0m\u001b[0m_validate_oapg\u001b[0m\u001b[0;34m(\u001b[0m\u001b[0marg\u001b[0m\u001b[0;34m,\u001b[0m \u001b[0mvalidation_metadata\u001b[0m\u001b[0;34m=\u001b[0m\u001b[0mvalidation_metadata\u001b[0m\u001b[0;34m)\u001b[0m\u001b[0;34m\u001b[0m\u001b[0;34m\u001b[0m\u001b[0m\n\u001b[0m\u001b[1;32m    400\u001b[0m             \u001b[0mupdate\u001b[0m\u001b[0;34m(\u001b[0m\u001b[0m_path_to_schemas\u001b[0m\u001b[0;34m,\u001b[0m \u001b[0mother_path_to_schemas\u001b[0m\u001b[0;34m)\u001b[0m\u001b[0;34m\u001b[0m\u001b[0;34m\u001b[0m\u001b[0m\n\u001b[1;32m    401\u001b[0m         \u001b[0;31m# loop through it make a new class for each entry\u001b[0m\u001b[0;34m\u001b[0m\u001b[0;34m\u001b[0m\u001b[0;34m\u001b[0m\u001b[0m\n",
      "\u001b[0;32m~/pds/src/search-api-notebook/pds-api-notebook-env/lib/python3.7/site-packages/pds/api_client/schemas.py\u001b[0m in \u001b[0;36m_validate_oapg\u001b[0;34m(cls, arg, validation_metadata)\u001b[0m\n\u001b[1;32m   1656\u001b[0m         \u001b[0;32mif\u001b[0m \u001b[0;32mnot\u001b[0m \u001b[0misinstance\u001b[0m\u001b[0;34m(\u001b[0m\u001b[0marg\u001b[0m\u001b[0;34m,\u001b[0m \u001b[0mfrozendict\u001b[0m\u001b[0;34m.\u001b[0m\u001b[0mfrozendict\u001b[0m\u001b[0;34m)\u001b[0m\u001b[0;34m:\u001b[0m\u001b[0;34m\u001b[0m\u001b[0;34m\u001b[0m\u001b[0m\n\u001b[1;32m   1657\u001b[0m             \u001b[0;32mreturn\u001b[0m \u001b[0m_path_to_schemas\u001b[0m\u001b[0;34m\u001b[0m\u001b[0;34m\u001b[0m\u001b[0m\n\u001b[0;32m-> 1658\u001b[0;31m         \u001b[0mcls\u001b[0m\u001b[0;34m.\u001b[0m\u001b[0m__validate_arg_presence\u001b[0m\u001b[0;34m(\u001b[0m\u001b[0marg\u001b[0m\u001b[0;34m)\u001b[0m\u001b[0;34m\u001b[0m\u001b[0;34m\u001b[0m\u001b[0m\n\u001b[0m\u001b[1;32m   1659\u001b[0m         \u001b[0mother_path_to_schemas\u001b[0m \u001b[0;34m=\u001b[0m \u001b[0mcls\u001b[0m\u001b[0;34m.\u001b[0m\u001b[0m__validate_args\u001b[0m\u001b[0;34m(\u001b[0m\u001b[0marg\u001b[0m\u001b[0;34m,\u001b[0m \u001b[0mvalidation_metadata\u001b[0m\u001b[0;34m=\u001b[0m\u001b[0mvalidation_metadata\u001b[0m\u001b[0;34m)\u001b[0m\u001b[0;34m\u001b[0m\u001b[0;34m\u001b[0m\u001b[0m\n\u001b[1;32m   1660\u001b[0m         \u001b[0mupdate\u001b[0m\u001b[0;34m(\u001b[0m\u001b[0m_path_to_schemas\u001b[0m\u001b[0;34m,\u001b[0m \u001b[0mother_path_to_schemas\u001b[0m\u001b[0;34m)\u001b[0m\u001b[0;34m\u001b[0m\u001b[0;34m\u001b[0m\u001b[0m\n",
      "\u001b[0;32m~/pds/src/search-api-notebook/pds-api-notebook-env/lib/python3.7/site-packages/pds/api_client/schemas.py\u001b[0m in \u001b[0;36m__validate_arg_presence\u001b[0;34m(cls, arg)\u001b[0m\n\u001b[1;32m   1539\u001b[0m                     \u001b[0mlen\u001b[0m\u001b[0;34m(\u001b[0m\u001b[0mmissing_required_arguments\u001b[0m\u001b[0;34m)\u001b[0m\u001b[0;34m,\u001b[0m\u001b[0;34m\u001b[0m\u001b[0;34m\u001b[0m\u001b[0m\n\u001b[1;32m   1540\u001b[0m                     \u001b[0;34m\"s\"\u001b[0m \u001b[0;32mif\u001b[0m \u001b[0mlen\u001b[0m\u001b[0;34m(\u001b[0m\u001b[0mmissing_required_arguments\u001b[0m\u001b[0;34m)\u001b[0m \u001b[0;34m>\u001b[0m \u001b[0;36m1\u001b[0m \u001b[0;32melse\u001b[0m \u001b[0;34m\"\"\u001b[0m\u001b[0;34m,\u001b[0m\u001b[0;34m\u001b[0m\u001b[0;34m\u001b[0m\u001b[0m\n\u001b[0;32m-> 1541\u001b[0;31m                     \u001b[0mmissing_required_arguments\u001b[0m\u001b[0;34m\u001b[0m\u001b[0;34m\u001b[0m\u001b[0m\n\u001b[0m\u001b[1;32m   1542\u001b[0m                 )\n\u001b[1;32m   1543\u001b[0m             )\n",
      "\u001b[0;31mApiTypeError\u001b[0m: ErrorMessage is missing 2 required arguments: ['message', 'request']"
     ]
    }
   ],
   "source": [
    "# NEW VERSION\n",
    "from pds.api_client.apis.paths.products import Products\n",
    "products = Products(api_client)\n",
    "criteria = '( ref_lid_target eq \"urn:nasa:pds:context:target:asteroid.101955_bennu\" )'\n",
    "properties_of_interest = ['orex:spatial.orex:latitude', 'orex:spatial.orex:longitude', 'ref_lid_instrument', 'orex:spatial.orex:target_range', 'ops:Data_File_Info.ops:file_ref']\n",
    "start = 0\n",
    "limit = 500\n",
    "prods = []\n",
    "pbar = tqdm()\n",
    "\n",
    "start_time = time.time()\n",
    "while True:\n",
    "    pbar.update(int(start/500))\n",
    "    print(\"start:\", start)\n",
    "    api_response = products.get(query_params={\"q\": criteria,\n",
    "                                              \"start\": start, \"limit\": limit,\n",
    "                                               \"fields\": properties_of_interest},\n",
    "                                accept_content_types=(\"application/json\",)).body\n",
    "\n",
    "    if api_response.data:\n",
    "        prods.extend(api_response.data)\n",
    "        start += limit\n",
    "    else:\n",
    "        break\n",
    "    \n",
    "#    try:\n",
    "#        api_response = products.get(query_params={\"q\": criteria,\n",
    "#                                                  \"start\": start, \"limit\": limit,\n",
    "#                                                  \"fields\": properties_of_interest},\n",
    "#                                    accept_content_types=(\"application/json\",)).body\n",
    "#    except:\n",
    "#        break\n",
    "#    else:\n",
    "#        if api_response.data:\n",
    "#            prods.extend(api_response.data)\n",
    "#            start += limit\n",
    "#        else:\n",
    "#            break\n",
    "    \n",
    "elapsed = time.time() - start_time\n",
    "print(f'retrieved {start} products in {elapsed/60.0:.1f} minutes')\n",
    "\n",
    "pbar.close()"
   ]
  },
  {
   "cell_type": "markdown",
   "id": "cooperative-webmaster",
   "metadata": {},
   "source": [
    "Properties have a syntax alike the PDS4 model: class/attributes. \n",
    "\n",
    "Get the latitude, longitude and target_range of the observational products belonging to the collection, with `fields=` option.\n",
    "\n",
    "The API results are <b>paginated</b>, to get all the results we need to loop through the pages."
   ]
  },
  {
   "cell_type": "code",
   "execution_count": null,
   "id": "rural-brake",
   "metadata": {},
   "outputs": [],
   "source": [
    "properties_of_interest = ['orex:spatial.orex:latitude', 'orex:spatial.orex:longitude', 'orex:spatial.orex:target_range']\n",
    "\n",
    "start = 0\n",
    "limit = 500\n",
    "prods = []\n",
    "pbar = tqdm()\n",
    "\n",
    "start_time = time.time()\n",
    "while True:\n",
    "    pbar.update(int(start/500))\n",
    "    \n",
    "    api_response = products.get(path_params={\"identifier\": lidvid},\n",
    "                            query_params={\"start\": start, \"limit\": limit,\n",
    "                                          \"fields\": properties_of_interest},\n",
    "                            accept_content_types=(\"application/json\",)).body\n",
    "    \n",
    "    \n",
    "#    api_response = collection_products_api.products_of_a_collection(\n",
    "#        lidvid, \n",
    "#        start=start, \n",
    "#        limit=limit, \n",
    "#        fields=properties_of_interest)\n",
    "\n",
    "    if api_response.data:\n",
    "        prods.extend(api_response.data)\n",
    "        start += limit\n",
    "    else:\n",
    "        break\n",
    "\n",
    "elapsed = time.time() - start_time\n",
    "print(f'retrieved {start} products in {elapsed/60.0:.1f} minutes')\n",
    "\n",
    "pbar.close()"
   ]
  },
  {
   "cell_type": "markdown",
   "id": "mental-trance",
   "metadata": {},
   "source": [
    "### Product description comes with default properties + requested properties\n",
    "\n",
    "See for example"
   ]
  },
  {
   "cell_type": "code",
   "execution_count": null,
   "id": "military-midnight",
   "metadata": {},
   "outputs": [],
   "source": [
    "prods[140000]"
   ]
  },
  {
   "cell_type": "markdown",
   "id": "developed-dress",
   "metadata": {},
   "source": [
    "### Filter out records with no valid values\n",
    "\n",
    "Some records have fill values for the fields we are interested in (e.g. `latitude == -9999`, we want to remove them from our results.\n"
   ]
  },
  {
   "cell_type": "code",
   "execution_count": null,
   "id": "strategic-season",
   "metadata": {},
   "outputs": [],
   "source": [
    "def at_least_one_valid_value(p):\n",
    "    return ((p['orex:spatial.orex:latitude'] !=  '-9999') \\\n",
    "           and (p['orex:spatial.orex:latitude'] != None))\n",
    "\n",
    "def filter_out_fillvalues(products):\n",
    "    properties = []\n",
    "    for product in products:\n",
    "        if at_least_one_valid_value(product.properties):\n",
    "            p = product.properties\n",
    "            p['id'] = product.id\n",
    "            properties.append(p)\n",
    "    return properties\n",
    "\n",
    "properties = filter_out_fillvalues(products)\n",
    "        \n",
    "print(f\"The values of the selected properties are\")\n",
    "pprint(properties[:3])"
   ]
  },
  {
   "cell_type": "markdown",
   "id": "sexual-defeat",
   "metadata": {},
   "source": [
    "### Transpose to extract lat,lon and target range as columns, ready to plot "
   ]
  },
  {
   "cell_type": "code",
   "execution_count": null,
   "id": "essential-enough",
   "metadata": {},
   "outputs": [],
   "source": [
    "def transpose(properties):\n",
    "    lat = [float(p['orex:spatial.orex:latitude']) for p in properties]\n",
    "    lon = [float(p['orex:spatial.orex:longitude']) for p in properties]\n",
    "    target_range = [float(p['orex:spatial.orex:target_range']) for p in properties]\n",
    "    return lat, lon, target_range\n",
    "\n",
    "lat, lon, target_range = transpose(properties)\n",
    "print(f'The target_range values for the selected products are {target_range[:3]}')"
   ]
  },
  {
   "cell_type": "markdown",
   "id": "defensive-dispute",
   "metadata": {},
   "source": [
    "### Plot the lat,lon of the observations, colored by target_range"
   ]
  },
  {
   "cell_type": "code",
   "execution_count": null,
   "id": "unavailable-mapping",
   "metadata": {},
   "outputs": [],
   "source": [
    "def observation_map(lat, lon, target_range, vmax=25):\n",
    "    fig, ax = plt.subplots()\n",
    "\n",
    "    ax.set_xlabel('longitude')\n",
    "    ax.set_ylabel('latitude')\n",
    "    ax.set_title('orex.ovirs products lat,lon')\n",
    "\n",
    "    im = ax.scatter(lon, lat, c=target_range, vmin=0, vmax=vmax)\n",
    "\n",
    "    cbar = fig.colorbar(im, ax=ax)\n",
    "    cbar.set_label('target range (km)')\n",
    "    \n",
    "observation_map(lat,lon, target_range, vmax=25)\n"
   ]
  },
  {
   "cell_type": "markdown",
   "id": "alert-lighting",
   "metadata": {},
   "source": [
    "### Overview of the observation target_range with an histogram"
   ]
  },
  {
   "cell_type": "code",
   "execution_count": null,
   "id": "governmental-mortgage",
   "metadata": {},
   "outputs": [],
   "source": [
    "plt.hist(target_range, range=(0, 15))"
   ]
  },
  {
   "cell_type": "markdown",
   "id": "arabic-orbit",
   "metadata": {},
   "source": [
    "### Get observations around specific spot (lat=12, lon=24) with target range closer than 4 km"
   ]
  },
  {
   "cell_type": "code",
   "execution_count": null,
   "id": "timely-hours",
   "metadata": {},
   "outputs": [],
   "source": [
    "lidvids = [p['id'] for p in properties if float(p['orex:spatial.orex:target_range']) < 4.0 \n",
    "          and abs(float(p['orex:spatial.orex:latitude']) - 12.0) < 3.0\n",
    "          and abs(float(p['orex:spatial.orex:longitude']) - 24.0) < 3.0]\n",
    "print(f'The lidvids of the selected products are {lidvids}')"
   ]
  },
  {
   "cell_type": "markdown",
   "id": "later-wilderness",
   "metadata": {},
   "source": [
    "### Get the full product description"
   ]
  },
  {
   "cell_type": "code",
   "execution_count": null,
   "id": "handmade-accident",
   "metadata": {},
   "outputs": [],
   "source": [
    "products_api = pds_api.ProductsApi(api_client)\n",
    "product = products_api.products_by_lidvid(lidvids[0])\n",
    "print(product)"
   ]
  },
  {
   "cell_type": "markdown",
   "id": "alpine-wonder",
   "metadata": {},
   "source": [
    "### Get the file path of the data"
   ]
  },
  {
   "cell_type": "code",
   "execution_count": null,
   "id": "accompanied-consensus",
   "metadata": {},
   "outputs": [],
   "source": [
    "product.properties['ops:Data_File_Info.ops:file_ref']"
   ]
  },
  {
   "cell_type": "code",
   "execution_count": null,
   "id": "parliamentary-ownership",
   "metadata": {},
   "outputs": [],
   "source": []
  }
 ],
 "metadata": {
  "kernelspec": {
   "display_name": "Python 3 (ipykernel)",
   "language": "python",
   "name": "python3"
  },
  "language_info": {
   "codemirror_mode": {
    "name": "ipython",
    "version": 3
   },
   "file_extension": ".py",
   "mimetype": "text/x-python",
   "name": "python",
   "nbconvert_exporter": "python",
   "pygments_lexer": "ipython3",
   "version": "3.7.6"
  }
 },
 "nbformat": 4,
 "nbformat_minor": 5
}
