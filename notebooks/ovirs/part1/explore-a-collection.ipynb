{
 "cells": [
  {
   "cell_type": "markdown",
   "id": "sticky-richardson",
   "metadata": {},
   "source": [
    "# PDS Search API demo, OSIRIS-REx OVIRS Data Visualization\n",
    "## PART 1: Explore a Collection\n",
    "\n",
    "The purpose of this notebook is to demostrate how the PDS web API can be used to access the PDS data for a scientific use case.\n",
    "\n",
    "The documention of the PDS web API is available on https://nasa-pds.github.io/pds-api/\n",
    "\n",
    "This notebook is available on https://github.com/NASA-PDS/pds-api-notebook\n",
    "\n",
    "<b>2 Use cases:</b>\n",
    " - <u>Part1</u>: explore the collection\n",
    " - <u>Part2</u>: find/visualize specific the data you are interested in\n",
    " \n",
    " <br/>\n",
    " \n",
    " WARNING: This notebook is a demo and not a real scientific use case. It might contain mistake in the way the data is used or displayed."
   ]
  },
  {
   "cell_type": "code",
   "execution_count": 1,
   "id": "heavy-oxide",
   "metadata": {},
   "outputs": [],
   "source": [
    "from __future__ import print_function\n",
    "from pprint import pprint\n",
    "import time\n",
    "from tqdm.notebook import tqdm\n",
    "import matplotlib.pyplot as plt"
   ]
  },
  {
   "cell_type": "markdown",
   "id": "revolutionary-period",
   "metadata": {},
   "source": [
    "The PDS API is accessed using a python client library documented on https://nasa-pds.github.io/pds-api-client/"
   ]
  },
  {
   "cell_type": "code",
   "execution_count": 2,
   "id": "forced-ghana",
   "metadata": {},
   "outputs": [],
   "source": [
    "import pds.api_client as pds_api"
   ]
  },
  {
   "cell_type": "markdown",
   "id": "infinite-footwear",
   "metadata": {},
   "source": [
    "## Use the PDS demo web API server "
   ]
  },
  {
   "cell_type": "markdown",
   "id": "bound-palace",
   "metadata": {},
   "source": [
    "Connect to the demo server. See User Interface of the web API: https://pds-gamma.jpl.nasa.gov/api/swagger-ui.html\n",
    "\n",
    "<b>Note: </b> this piece of code will be wrapped into a helper function so that 1 line will be enough to connect to the API using a default host"
   ]
  },
  {
   "cell_type": "code",
   "execution_count": 3,
   "id": "textile-combine",
   "metadata": {
    "tags": []
   },
   "outputs": [],
   "source": [
    "configuration = pds_api.Configuration()\n",
    "\n",
    "# demo server\n",
    "configuration.host = 'https://pds.nasa.gov/api/search/1/'\n",
    "\n",
    "api_client = pds_api.ApiClient(configuration)\n"
   ]
  },
  {
   "cell_type": "markdown",
   "id": "computational-brazilian",
   "metadata": {},
   "source": [
    "## Explore a collection"
   ]
  },
  {
   "cell_type": "markdown",
   "id": "pointed-scout",
   "metadata": {},
   "source": [
    "### Get the identifier of your collection of interest\n",
    "\n",
    "Search for a collection of interest on https://pds.nasa.gov/datasearch/keyword-search/ (or https://pds.nasa.gov > Data Search > Keyword Search):\n",
    "- Search for \"osiris rex calibrated ovirs collection\" (https://pds.nasa.gov/datasearch/keyword-search/search.jsp?q=osiris+rex+ovirs+calibrated+collection)\n",
    "- Click on the first collection on the results\n",
    "- Copy the IDENTIFIER displayed at the top of the Collection Information\n"
   ]
  },
  {
   "cell_type": "markdown",
   "id": "metropolitan-teach",
   "metadata": {},
   "source": [
    "### Get the properties available for the observational products belonging to the selected collection\n",
    "\n",
    "Get the properties available for the product belonging to the collection of interest using `CollectionsProductsApi.products_of_a_collection` \n",
    "(see https://nasa-pds.github.io/pds-api-client/api/api_client.api.html#api_client.api.collections_products_api.CollectionsProductsApi)\n",
    "\n",
    "API responses have the structure `{\"summary\": {}, data= []}`\n",
    "(see https://nasa-pds.github.io/pds-api-client/api/api_client.models.html#api_client.models.products.Products)\n",
    "\n",
    "We do not get the product descriptions yet but only the available properties with `only_summary=True` option."
   ]
  },
  {
   "cell_type": "code",
   "execution_count": 15,
   "id": "billion-dimension",
   "metadata": {},
   "outputs": [
    {
     "ename": "ApiException",
     "evalue": "(404)\nReason: Not Found\nHTTP response headers: HTTPHeaderDict({'Content-Type': 'application/json', 'Content-Length': '196', 'Connection': 'keep-alive', 'Date': 'Fri, 03 Mar 2023 00:02:35 GMT', 'X-Cache': 'Error from cloudfront', 'Via': '1.1 0f6633a131a6cc7dafeef183fd9ec106.cloudfront.net (CloudFront)', 'X-Amz-Cf-Pop': 'LAX50-C2', 'X-Amz-Cf-Id': '1aRe_WmVlQ8A2cYmUizoEqnPcZVEFzCConvS5qI-RECcOtT62Hfj4w==', 'X-XSS-Protection': '1; mode=block', 'Strict-Transport-Security': 'max-age=31536000; preload', 'Vary': 'Origin'})\nHTTP response body: b'{\"request\":\"/products/urn%3Anasa%3Apds%3Aorex.ovirs%3Adata_calibrated/members\",\"message\":\"The lidvid \\'urn:nasa:pds:orex.ovirs:data_calibrated\\' of type product does not support members membership\"}'\n",
     "output_type": "error",
     "traceback": [
      "\u001b[0;31m---------------------------------------------------------------------------\u001b[0m",
      "\u001b[0;31mApiException\u001b[0m                              Traceback (most recent call last)",
      "\u001b[0;32m/var/folders/wm/bzyslp0j1b712q4y2txk41fr0000gp/T/ipykernel_32575/2281399502.py\u001b[0m in \u001b[0;36m<module>\u001b[0;34m\u001b[0m\n\u001b[1;32m      6\u001b[0m api_response = products.get(path_params={\"identifier\": lidvid},\n\u001b[1;32m      7\u001b[0m                             \u001b[0mquery_params\u001b[0m\u001b[0;34m=\u001b[0m\u001b[0;34m{\u001b[0m\u001b[0;34m\"limit\"\u001b[0m\u001b[0;34m:\u001b[0m \u001b[0;36m0\u001b[0m\u001b[0;34m}\u001b[0m\u001b[0;34m,\u001b[0m\u001b[0;34m\u001b[0m\u001b[0;34m\u001b[0m\u001b[0m\n\u001b[0;32m----> 8\u001b[0;31m                             accept_content_types=(\"application/json\",))\n\u001b[0m\u001b[1;32m      9\u001b[0m \u001b[0mprint\u001b[0m\u001b[0;34m(\u001b[0m\u001b[0mapi_response\u001b[0m\u001b[0;34m)\u001b[0m\u001b[0;34m\u001b[0m\u001b[0;34m\u001b[0m\u001b[0m\n",
      "\u001b[0;32m~/pds/src/search-api-notebook/pds-api-notebook-env/lib/python3.7/site-packages/pds/api_client/paths/products_identifier_members/get.py\u001b[0m in \u001b[0;36mget\u001b[0;34m(self, query_params, path_params, accept_content_types, stream, timeout, skip_deserialization)\u001b[0m\n\u001b[1;32m    718\u001b[0m             \u001b[0mstream\u001b[0m\u001b[0;34m=\u001b[0m\u001b[0mstream\u001b[0m\u001b[0;34m,\u001b[0m\u001b[0;34m\u001b[0m\u001b[0;34m\u001b[0m\u001b[0m\n\u001b[1;32m    719\u001b[0m             \u001b[0mtimeout\u001b[0m\u001b[0;34m=\u001b[0m\u001b[0mtimeout\u001b[0m\u001b[0;34m,\u001b[0m\u001b[0;34m\u001b[0m\u001b[0;34m\u001b[0m\u001b[0m\n\u001b[0;32m--> 720\u001b[0;31m             \u001b[0mskip_deserialization\u001b[0m\u001b[0;34m=\u001b[0m\u001b[0mskip_deserialization\u001b[0m\u001b[0;34m\u001b[0m\u001b[0;34m\u001b[0m\u001b[0m\n\u001b[0m\u001b[1;32m    721\u001b[0m         )\n\u001b[1;32m    722\u001b[0m \u001b[0;34m\u001b[0m\u001b[0m\n",
      "\u001b[0;32m~/pds/src/search-api-notebook/pds-api-notebook-env/lib/python3.7/site-packages/pds/api_client/paths/products_identifier_members/get.py\u001b[0m in \u001b[0;36m_product_members_oapg\u001b[0;34m(self, query_params, path_params, accept_content_types, stream, timeout, skip_deserialization)\u001b[0m\n\u001b[1;32m    597\u001b[0m \u001b[0;34m\u001b[0m\u001b[0m\n\u001b[1;32m    598\u001b[0m         \u001b[0;32mif\u001b[0m \u001b[0;32mnot\u001b[0m \u001b[0;36m200\u001b[0m \u001b[0;34m<=\u001b[0m \u001b[0mresponse\u001b[0m\u001b[0;34m.\u001b[0m\u001b[0mstatus\u001b[0m \u001b[0;34m<=\u001b[0m \u001b[0;36m299\u001b[0m\u001b[0;34m:\u001b[0m\u001b[0;34m\u001b[0m\u001b[0;34m\u001b[0m\u001b[0m\n\u001b[0;32m--> 599\u001b[0;31m             \u001b[0;32mraise\u001b[0m \u001b[0mexceptions\u001b[0m\u001b[0;34m.\u001b[0m\u001b[0mApiException\u001b[0m\u001b[0;34m(\u001b[0m\u001b[0mapi_response\u001b[0m\u001b[0;34m=\u001b[0m\u001b[0mapi_response\u001b[0m\u001b[0;34m)\u001b[0m\u001b[0;34m\u001b[0m\u001b[0;34m\u001b[0m\u001b[0m\n\u001b[0m\u001b[1;32m    600\u001b[0m \u001b[0;34m\u001b[0m\u001b[0m\n\u001b[1;32m    601\u001b[0m         \u001b[0;32mreturn\u001b[0m \u001b[0mapi_response\u001b[0m\u001b[0;34m\u001b[0m\u001b[0;34m\u001b[0m\u001b[0m\n",
      "\u001b[0;31mApiException\u001b[0m: (404)\nReason: Not Found\nHTTP response headers: HTTPHeaderDict({'Content-Type': 'application/json', 'Content-Length': '196', 'Connection': 'keep-alive', 'Date': 'Fri, 03 Mar 2023 00:02:35 GMT', 'X-Cache': 'Error from cloudfront', 'Via': '1.1 0f6633a131a6cc7dafeef183fd9ec106.cloudfront.net (CloudFront)', 'X-Amz-Cf-Pop': 'LAX50-C2', 'X-Amz-Cf-Id': '1aRe_WmVlQ8A2cYmUizoEqnPcZVEFzCConvS5qI-RECcOtT62Hfj4w==', 'X-XSS-Protection': '1; mode=block', 'Strict-Transport-Security': 'max-age=31536000; preload', 'Vary': 'Origin'})\nHTTP response body: b'{\"request\":\"/products/urn%3Anasa%3Apds%3Aorex.ovirs%3Adata_calibrated/members\",\"message\":\"The lidvid \\'urn:nasa:pds:orex.ovirs:data_calibrated\\' of type product does not support members membership\"}'\n"
     ]
    }
   ],
   "source": [
    "lidvid = 'urn:nasa:pds:orex.ovirs:data_calibrated::10.0'\n",
    "from pds.api_client.apis.paths.products_identifier_members import ProductsIdentifierMembers\n",
    "products = ProductsIdentifierMembers(api_client)\n",
    "\n",
    "###### The following gets an error due to a bug in the registry api!\n",
    "api_response = products.get(path_params={\"identifier\": lidvid},\n",
    "                            query_params={\"limit\": 0}, # limit=0 gets a summary, not the products\n",
    "                            accept_content_types=(\"application/json\",))\n",
    "print(api_response)"
   ]
  },
  {
   "cell_type": "markdown",
   "id": "respective-classic",
   "metadata": {},
   "source": [
    "### Request specific properties of all the observational products of the collection"
   ]
  },
  {
   "cell_type": "markdown",
   "id": "cooperative-webmaster",
   "metadata": {},
   "source": [
    "Properties have a syntax alike the PDS4 model: class/attributes. \n",
    "\n",
    "Get the latitude, longitude and target_range of the observational products belonging to the collection, with `fields=` option.\n",
    "\n",
    "The API results are <b>paginated</b>, to get all the results we need to loop through the pages."
   ]
  },
  {
   "cell_type": "code",
   "execution_count": 16,
   "id": "rural-brake",
   "metadata": {},
   "outputs": [
    {
     "data": {
      "application/vnd.jupyter.widget-view+json": {
       "model_id": "c468378ddaed4502a41b666384f4263c",
       "version_major": 2,
       "version_minor": 0
      },
      "text/plain": [
       "0it [00:00, ?it/s]"
      ]
     },
     "metadata": {},
     "output_type": "display_data"
    },
    {
     "ename": "ApiException",
     "evalue": "(404)\nReason: Not Found\nHTTP response headers: HTTPHeaderDict({'Content-Type': 'application/json', 'Content-Length': '196', 'Connection': 'keep-alive', 'Date': 'Fri, 03 Mar 2023 00:12:49 GMT', 'X-Cache': 'Error from cloudfront', 'Via': '1.1 c806365ba43eabe769161a7b339ff968.cloudfront.net (CloudFront)', 'X-Amz-Cf-Pop': 'LAX50-C2', 'X-Amz-Cf-Id': 'PIaQEDEJA_3fhGzttoldImWCo1UMhgVbALV1OldYUWr8WK7gjFssFw==', 'X-XSS-Protection': '1; mode=block', 'Strict-Transport-Security': 'max-age=31536000; preload', 'Vary': 'Origin'})\nHTTP response body: b'{\"request\":\"/products/urn%3Anasa%3Apds%3Aorex.ovirs%3Adata_calibrated/members\",\"message\":\"The lidvid \\'urn:nasa:pds:orex.ovirs:data_calibrated\\' of type product does not support members membership\"}'\n",
     "output_type": "error",
     "traceback": [
      "\u001b[0;31m---------------------------------------------------------------------------\u001b[0m",
      "\u001b[0;31mApiException\u001b[0m                              Traceback (most recent call last)",
      "\u001b[0;32m/var/folders/wm/bzyslp0j1b712q4y2txk41fr0000gp/T/ipykernel_32575/472303233.py\u001b[0m in \u001b[0;36m<module>\u001b[0;34m\u001b[0m\n\u001b[1;32m     13\u001b[0m                             query_params={\"start\": start, \"limit\": limit,\n\u001b[1;32m     14\u001b[0m                                           \"fields\": properties_of_interest},\n\u001b[0;32m---> 15\u001b[0;31m                             accept_content_types=(\"application/json\",)).body\n\u001b[0m\u001b[1;32m     16\u001b[0m \u001b[0;34m\u001b[0m\u001b[0m\n\u001b[1;32m     17\u001b[0m \u001b[0;34m\u001b[0m\u001b[0m\n",
      "\u001b[0;32m~/pds/src/search-api-notebook/pds-api-notebook-env/lib/python3.7/site-packages/pds/api_client/paths/products_identifier_members/get.py\u001b[0m in \u001b[0;36mget\u001b[0;34m(self, query_params, path_params, accept_content_types, stream, timeout, skip_deserialization)\u001b[0m\n\u001b[1;32m    718\u001b[0m             \u001b[0mstream\u001b[0m\u001b[0;34m=\u001b[0m\u001b[0mstream\u001b[0m\u001b[0;34m,\u001b[0m\u001b[0;34m\u001b[0m\u001b[0;34m\u001b[0m\u001b[0m\n\u001b[1;32m    719\u001b[0m             \u001b[0mtimeout\u001b[0m\u001b[0;34m=\u001b[0m\u001b[0mtimeout\u001b[0m\u001b[0;34m,\u001b[0m\u001b[0;34m\u001b[0m\u001b[0;34m\u001b[0m\u001b[0m\n\u001b[0;32m--> 720\u001b[0;31m             \u001b[0mskip_deserialization\u001b[0m\u001b[0;34m=\u001b[0m\u001b[0mskip_deserialization\u001b[0m\u001b[0;34m\u001b[0m\u001b[0;34m\u001b[0m\u001b[0m\n\u001b[0m\u001b[1;32m    721\u001b[0m         )\n\u001b[1;32m    722\u001b[0m \u001b[0;34m\u001b[0m\u001b[0m\n",
      "\u001b[0;32m~/pds/src/search-api-notebook/pds-api-notebook-env/lib/python3.7/site-packages/pds/api_client/paths/products_identifier_members/get.py\u001b[0m in \u001b[0;36m_product_members_oapg\u001b[0;34m(self, query_params, path_params, accept_content_types, stream, timeout, skip_deserialization)\u001b[0m\n\u001b[1;32m    597\u001b[0m \u001b[0;34m\u001b[0m\u001b[0m\n\u001b[1;32m    598\u001b[0m         \u001b[0;32mif\u001b[0m \u001b[0;32mnot\u001b[0m \u001b[0;36m200\u001b[0m \u001b[0;34m<=\u001b[0m \u001b[0mresponse\u001b[0m\u001b[0;34m.\u001b[0m\u001b[0mstatus\u001b[0m \u001b[0;34m<=\u001b[0m \u001b[0;36m299\u001b[0m\u001b[0;34m:\u001b[0m\u001b[0;34m\u001b[0m\u001b[0;34m\u001b[0m\u001b[0m\n\u001b[0;32m--> 599\u001b[0;31m             \u001b[0;32mraise\u001b[0m \u001b[0mexceptions\u001b[0m\u001b[0;34m.\u001b[0m\u001b[0mApiException\u001b[0m\u001b[0;34m(\u001b[0m\u001b[0mapi_response\u001b[0m\u001b[0;34m=\u001b[0m\u001b[0mapi_response\u001b[0m\u001b[0;34m)\u001b[0m\u001b[0;34m\u001b[0m\u001b[0;34m\u001b[0m\u001b[0m\n\u001b[0m\u001b[1;32m    600\u001b[0m \u001b[0;34m\u001b[0m\u001b[0m\n\u001b[1;32m    601\u001b[0m         \u001b[0;32mreturn\u001b[0m \u001b[0mapi_response\u001b[0m\u001b[0;34m\u001b[0m\u001b[0;34m\u001b[0m\u001b[0m\n",
      "\u001b[0;31mApiException\u001b[0m: (404)\nReason: Not Found\nHTTP response headers: HTTPHeaderDict({'Content-Type': 'application/json', 'Content-Length': '196', 'Connection': 'keep-alive', 'Date': 'Fri, 03 Mar 2023 00:12:49 GMT', 'X-Cache': 'Error from cloudfront', 'Via': '1.1 c806365ba43eabe769161a7b339ff968.cloudfront.net (CloudFront)', 'X-Amz-Cf-Pop': 'LAX50-C2', 'X-Amz-Cf-Id': 'PIaQEDEJA_3fhGzttoldImWCo1UMhgVbALV1OldYUWr8WK7gjFssFw==', 'X-XSS-Protection': '1; mode=block', 'Strict-Transport-Security': 'max-age=31536000; preload', 'Vary': 'Origin'})\nHTTP response body: b'{\"request\":\"/products/urn%3Anasa%3Apds%3Aorex.ovirs%3Adata_calibrated/members\",\"message\":\"The lidvid \\'urn:nasa:pds:orex.ovirs:data_calibrated\\' of type product does not support members membership\"}'\n"
     ]
    }
   ],
   "source": [
    "properties_of_interest = ['orex:spatial.orex:latitude', 'orex:spatial.orex:longitude', 'orex:spatial.orex:target_range']\n",
    "\n",
    "start = 0\n",
    "limit = 500\n",
    "prods = []\n",
    "pbar = tqdm()\n",
    "\n",
    "start_time = time.time()\n",
    "while True:\n",
    "    pbar.update(int(start/500))\n",
    "    \n",
    "    api_response = products.get(path_params={\"identifier\": lidvid},\n",
    "                            query_params={\"start\": start, \"limit\": limit,\n",
    "                                          \"fields\": properties_of_interest},\n",
    "                            accept_content_types=(\"application/json\",)).body\n",
    "    \n",
    "    \n",
    "#    api_response = collection_products_api.products_of_a_collection(\n",
    "#        lidvid, \n",
    "#        start=start, \n",
    "#        limit=limit, \n",
    "#        fields=properties_of_interest)\n",
    "\n",
    "    if api_response.data:\n",
    "        prods.extend(api_response.data)\n",
    "        start += limit\n",
    "    else:\n",
    "        break\n",
    "\n",
    "elapsed = time.time() - start_time\n",
    "print(f'retrieved {start} products in {elapsed/60.0:.1f} minutes')\n",
    "\n",
    "pbar.close()"
   ]
  },
  {
   "cell_type": "markdown",
   "id": "mental-trance",
   "metadata": {},
   "source": [
    "### Product description comes with default properties + requested properties\n",
    "\n",
    "See for example"
   ]
  },
  {
   "cell_type": "code",
   "execution_count": null,
   "id": "military-midnight",
   "metadata": {},
   "outputs": [],
   "source": [
    "prods[140000]"
   ]
  },
  {
   "cell_type": "markdown",
   "id": "developed-dress",
   "metadata": {},
   "source": [
    "### Filter out records with no valid values\n",
    "\n",
    "Some records have fill values for the fields we are interested in (e.g. `latitude == -9999`, we want to remove them from our results.\n"
   ]
  },
  {
   "cell_type": "code",
   "execution_count": null,
   "id": "strategic-season",
   "metadata": {},
   "outputs": [],
   "source": [
    "def at_least_one_valid_value(p):\n",
    "    return ((p['orex:spatial.orex:latitude'] !=  '-9999') \\\n",
    "           and (p['orex:spatial.orex:latitude'] != None))\n",
    "\n",
    "def filter_out_fillvalues(products):\n",
    "    properties = []\n",
    "    for product in products:\n",
    "        if at_least_one_valid_value(product.properties):\n",
    "            p = product.properties\n",
    "            p['id'] = product.id\n",
    "            properties.append(p)\n",
    "    return properties\n",
    "\n",
    "properties = filter_out_fillvalues(products)\n",
    "        \n",
    "print(f\"The values of the selected properties are\")\n",
    "pprint(properties[:3])"
   ]
  },
  {
   "cell_type": "markdown",
   "id": "sexual-defeat",
   "metadata": {},
   "source": [
    "### Transpose to extract lat,lon and target range as columns, ready to plot "
   ]
  },
  {
   "cell_type": "code",
   "execution_count": null,
   "id": "essential-enough",
   "metadata": {},
   "outputs": [],
   "source": [
    "def transpose(properties):\n",
    "    lat = [float(p['orex:spatial.orex:latitude']) for p in properties]\n",
    "    lon = [float(p['orex:spatial.orex:longitude']) for p in properties]\n",
    "    target_range = [float(p['orex:spatial.orex:target_range']) for p in properties]\n",
    "    return lat, lon, target_range\n",
    "\n",
    "lat, lon, target_range = transpose(properties)\n",
    "print(f'The target_range values for the selected products are {target_range[:3]}')"
   ]
  },
  {
   "cell_type": "markdown",
   "id": "defensive-dispute",
   "metadata": {},
   "source": [
    "### Plot the lat,lon of the observations, colored by target_range"
   ]
  },
  {
   "cell_type": "code",
   "execution_count": null,
   "id": "unavailable-mapping",
   "metadata": {},
   "outputs": [],
   "source": [
    "def observation_map(lat, lon, target_range, vmax=25):\n",
    "    fig, ax = plt.subplots()\n",
    "\n",
    "    ax.set_xlabel('longitude')\n",
    "    ax.set_ylabel('latitude')\n",
    "    ax.set_title('orex.ovirs products lat,lon')\n",
    "\n",
    "    im = ax.scatter(lon, lat, c=target_range, vmin=0, vmax=vmax)\n",
    "\n",
    "    cbar = fig.colorbar(im, ax=ax)\n",
    "    cbar.set_label('target range (km)')\n",
    "    \n",
    "observation_map(lat,lon, target_range, vmax=25)\n"
   ]
  },
  {
   "cell_type": "markdown",
   "id": "alert-lighting",
   "metadata": {},
   "source": [
    "### Overview of the observation target_range with an histogram"
   ]
  },
  {
   "cell_type": "code",
   "execution_count": null,
   "id": "governmental-mortgage",
   "metadata": {},
   "outputs": [],
   "source": [
    "plt.hist(target_range, range=(0, 15))"
   ]
  },
  {
   "cell_type": "markdown",
   "id": "arabic-orbit",
   "metadata": {},
   "source": [
    "### Get observations around specific spot (lat=12, lon=24) with target range closer than 4 km"
   ]
  },
  {
   "cell_type": "code",
   "execution_count": null,
   "id": "timely-hours",
   "metadata": {},
   "outputs": [],
   "source": [
    "lidvids = [p['id'] for p in properties if float(p['orex:spatial.orex:target_range']) < 4.0 \n",
    "          and abs(float(p['orex:spatial.orex:latitude']) - 12.0) < 3.0\n",
    "          and abs(float(p['orex:spatial.orex:longitude']) - 24.0) < 3.0]\n",
    "print(f'The lidvids of the selected products are {lidvids}')"
   ]
  },
  {
   "cell_type": "markdown",
   "id": "later-wilderness",
   "metadata": {},
   "source": [
    "### Get the full product description"
   ]
  },
  {
   "cell_type": "code",
   "execution_count": null,
   "id": "handmade-accident",
   "metadata": {},
   "outputs": [],
   "source": [
    "products_api = pds_api.ProductsApi(api_client)\n",
    "product = products_api.products_by_lidvid(lidvids[0])\n",
    "print(product)"
   ]
  },
  {
   "cell_type": "markdown",
   "id": "alpine-wonder",
   "metadata": {},
   "source": [
    "### Get the file path of the data"
   ]
  },
  {
   "cell_type": "code",
   "execution_count": null,
   "id": "accompanied-consensus",
   "metadata": {},
   "outputs": [],
   "source": [
    "product.properties['ops:Data_File_Info.ops:file_ref']"
   ]
  },
  {
   "cell_type": "code",
   "execution_count": null,
   "id": "parliamentary-ownership",
   "metadata": {},
   "outputs": [],
   "source": []
  }
 ],
 "metadata": {
  "kernelspec": {
   "display_name": "Python 3 (ipykernel)",
   "language": "python",
   "name": "python3"
  },
  "language_info": {
   "codemirror_mode": {
    "name": "ipython",
    "version": 3
   },
   "file_extension": ".py",
   "mimetype": "text/x-python",
   "name": "python",
   "nbconvert_exporter": "python",
   "pygments_lexer": "ipython3",
   "version": "3.7.6"
  }
 },
 "nbformat": 4,
 "nbformat_minor": 5
}
