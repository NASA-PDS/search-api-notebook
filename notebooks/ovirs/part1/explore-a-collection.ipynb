{
 "cells": [
  {
   "cell_type": "markdown",
   "id": "sticky-richardson",
   "metadata": {},
   "source": [
    "# PDS federated API demo, Osiris-Rex OVIRS data visualization\n",
    "# PART 1: EXPLORE A COLLECTION\n",
    "\n",
    "The purpose of this notebook is to demostrate how the PDS web API can be used to access the PDS data for a scientific use case.\n",
    "\n",
    "The documention of the PDS web API is available on https://nasa-pds.github.io/pds-api/\n",
    "\n",
    "This notebook is available on https://github.com/NASA-PDS/pds-api-notebook\n",
    "\n",
    "<b>2 Use cases:</b>\n",
    " - <u>Part1</u>: explore the collection\n",
    " - <u>Part2</u>: find/visualize specific the data you are interested in\n",
    " \n",
    " <br/>\n",
    " \n",
    " WARNING: This notebook is a demo and not a real scientific use case. It might contain mistake in the way the data is used or displayed."
   ]
  },
  {
   "cell_type": "code",
   "execution_count": 1,
   "id": "heavy-oxide",
   "metadata": {},
   "outputs": [],
   "source": [
    "from __future__ import print_function\n",
    "from pprint import pprint\n",
    "import time\n",
    "from tqdm.notebook import tqdm\n",
    "import matplotlib.pyplot as plt"
   ]
  },
  {
   "cell_type": "markdown",
   "id": "revolutionary-period",
   "metadata": {},
   "source": [
    "The PDS API is accessed using a python client library documented on https://nasa-pds.github.io/pds-api-client/"
   ]
  },
  {
   "cell_type": "code",
   "execution_count": 2,
   "id": "forced-ghana",
   "metadata": {},
   "outputs": [],
   "source": [
    "import pds.api_client as pds_api"
   ]
  },
  {
   "cell_type": "markdown",
   "id": "infinite-footwear",
   "metadata": {},
   "source": [
    "## Use the PDS demo web API server "
   ]
  },
  {
   "cell_type": "markdown",
   "id": "bound-palace",
   "metadata": {},
   "source": [
    "Connect to the demo server. See User Interface of the web API: http://pds-gamma.jpl.nasa.gov/api/swagger-ui.html\n",
    "\n",
    "<b>Note: </b> this piece of code will be wrapped into a helper function so that 1 line will be enough to connect to the API using a default host"
   ]
  },
  {
   "cell_type": "code",
   "execution_count": 3,
   "id": "textile-combine",
   "metadata": {
    "tags": []
   },
   "outputs": [],
   "source": [
    "configuration = pds_api.Configuration()\n",
    "\n",
    "# demo server\n",
    "configuration.host = 'http://pds-gamma.jpl.nasa.gov/api/'\n",
    "\n",
    "api_client = pds_api.ApiClient(configuration)\n"
   ]
  },
  {
   "cell_type": "markdown",
   "id": "computational-brazilian",
   "metadata": {},
   "source": [
    "## Explore a collection"
   ]
  },
  {
   "cell_type": "markdown",
   "id": "pointed-scout",
   "metadata": {},
   "source": [
    "### Get the lidvid of your collection of interest\n",
    "\n",
    "Search for a collection of interest on https://pds.nasa.gov/datasearch/keyword-search/ (or https://pds.nasa.gov > Data Search > Keyword Search):\n",
    "- Search for \"osiris rex calibrated ovirs collection\" (https://pds.nasa.gov/datasearch/keyword-search/search.jsp?q=osiris+rex+ovirs+calibrated+collection)\n",
    "- Click on the first collection on the results\n",
    "- Copy the lidvid\n"
   ]
  },
  {
   "cell_type": "markdown",
   "id": "metropolitan-teach",
   "metadata": {},
   "source": [
    "### Get the properties available for the observational products belonging to the selected collection\n",
    "\n",
    "Get the properties available for the product belonging to the collection of interest using `CollectionsProductsApi.products_of_a_collection` \n",
    "(see https://nasa-pds.github.io/pds-api-client/api/api_client.api.html#api_client.api.collections_products_api.CollectionsProductsApi)\n",
    "\n",
    "API responses have the structure `{\"summary\": {}, data= []}`\n",
    "(see https://nasa-pds.github.io/pds-api-client/api/api_client.models.html#api_client.models.products.Products)\n",
    "\n",
    "We do not get the product descriptions yet but only the available properties with `only_summary=True` option."
   ]
  },
  {
   "cell_type": "code",
   "execution_count": 4,
   "id": "billion-dimension",
   "metadata": {},
   "outputs": [
    {
     "name": "stdout",
     "output_type": "stream",
     "text": [
      "The available properties for the selected products are ['pds:Modification_Detail.pds:description', 'pds:Axis_Array.pds:axis_name', 'pds:Local_Internal_Reference.pds:local_reference_type', 'pds:File.pds:file_size', 'pds:Modification_Detail.pds:modification_date', 'orex:Spatial.orex:bennu_radec_target', 'orex:Spatial.orex:emission_angle', 'pds:Internal_Reference.pds:lidvid_reference', 'ops:Label_File_Info.ops:md5_checksum', 'vid', 'orex:Spatial.orex:bore_angle', 'orex:Mission_Information.orex:mission_phase_identifier', 'orex:Spatial.orex:phase_angle', 'pds:Array_2D_Spectrum.pds:axes', 'orex:Time.orex:mid_obs', 'pds:Observing_System_Component.pds:type', 'orex:Spatial.orex:declination', 'sp:Observation_Parameters.sp:resolution_limit_wavelength', 'sp:Observation_Parameters.sp:net_integration_time', 'orex:Time.orex:mid_obs_et', 'sp:Spectral_Characteristics.sp:spectral_bin_type', 'pds:Axis_Array.pds:sequence_number', 'ops:Data_File_Info.ops:md5_checksum', 'pds:Identification_Area.pds:title', 'sp:Observation_Parameters.sp:number_of_exposures', 'pds:Array_2D_Spectrum.pds:local_identifier', 'pds:Investigation_Area.pds:name', 'ops:Label_File_Info.ops:creation_date_time', 'orex:Time.orex:exposure', 'sp:Field_of_View.sp:description', 'orex:Spatial.orex:bennu_dec', 'geom:SPICE_Kernel_Identification.geom:kernel_type', 'ref_lid_product', 'orex:Mission_Information.orex:mission_phase_name', 'pds:Internal_Reference.pds:comment', 'orex:Spatial.orex:bennu_radec_quality', 'pds:File.pds:creation_date_time', 'ops:Data_File_Info.ops:creation_date_time', 'pds:Observing_System_Component.pds:description', 'pds:Internal_Reference.pds:reference_type', 'pds:Array_2D.pds:local_identifier', 'pds:Primary_Result_Summary.pds:purpose', 'pds:Identification_Area.pds:information_model_version', 'disp:Display_Direction.disp:horizontal_display_axis', 'orex:Spatial.orex:semiminor_axis', 'pds:Local_Internal_Reference.pds:local_identifier_reference', 'orex:Spatial.orex:right_ascension', 'orex:Spatial.orex:boresight_x', 'pds:Time_Coordinates.pds:start_date_time', 'orex:Spatial.orex:boresight_y', 'orex:Spatial.orex:boresight_z', 'sp:Spectral_Characteristics.sp:spectrum_format', 'pds:Observing_System.pds:name', 'pds:Header.pds:object_length', 'orex:Spatial.orex:fov_fill_factor', 'lidvid', 'pds:Modification_Detail.pds:version_id', 'ops:Label_File_Info.ops:file_size', 'pds:Array_2D.pds:description', 'ops:Data_File_Info.ops:file_name', 'orex:Spatial.orex:boresight_range', 'pds:Element_Array.pds:data_type', 'orex:Spatial.orex:fov_fill_flag', 'geom:Geometry_Orbiter.geom:geometry_reference_time_tdb', 'orex:Time.orex:utc', 'geom:Geometry_Orbiter.geom:geometry_reference_time_utc', 'lid', 'pds:Header.pds:parsing_standard_id', 'pds:Header.pds:offset', 'ref_lid_instrument', 'pds:File.pds:file_name', 'product_class', 'pds:Array_2D_Spectrum.pds:axis_index_order', 'orex:OVIRS_Instrument_Attributes.orex:fpa_moly_a_temp_x', 'pds:Time_Coordinates.pds:stop_date_time', 'ref_lidvid_product', 'pds:Primary_Result_Summary.pds:processing_level', 'orex:Spatial.orex:bennu_ra', 'ops:Label_File_Info.ops:file_ref', 'orex:Spatial.orex:semimajor_axis', 'pds:Element_Array.pds:unit', 'pds:Array_2D.pds:axis_index_order', 'ops:Data_File_Info.ops:mime_type', 'pds:Target_Identification.pds:name', 'sp:Bin_Description.sp:bin_profile_description', 'pds:Observing_System_Component.pds:name', 'orex:Spatial.orex:bore_flag', 'pds:Array_2D.pds:offset', 'geom:SPICE_Kernel_Identification.geom:spice_kernel_file_name', 'pds:Identification_Area.pds:product_class', 'pds:Array_2D_Spectrum.pds:description', 'ref_lid_instrument_host', 'title', 'ops:Data_File_Info.ops:file_ref', '_package_id', 'disp:Display_Direction.disp:vertical_display_direction', 'pds:Identification_Area.pds:version_id', 'orex:Spatial.orex:sun_range', 'disp:Display_Direction.disp:vertical_display_axis', 'pds:Internal_Reference.pds:lid_reference', 'sp:Circular_FOV.sp:diameter_angle', 'pds:Identification_Area.pds:logical_identifier', 'ops:Data_File_Info.ops:file_size', 'orex:Time.orex:expo_ms', 'pds:Axis_Array.pds:elements', 'geom:SPICE_Kernel_Identification.geom:kernel_provenance', 'pds:Array_2D_Spectrum.pds:offset', 'ref_lid_investigation', 'pds:Array_2D.pds:axes', 'ops:Label_File_Info.ops:blob', 'orex:Spatial.orex:longitude', 'orex:Spatial.orex:latitude', 'ops:Label_File_Info.ops:file_name', 'pds:Target_Identification.pds:type', 'orex:Spatial.orex:incidence_angle', 'orex:Time.orex:mid_obs_sclk', 'disp:Display_Direction.disp:horizontal_display_direction', 'orex:Spatial.orex:target_range', 'pds:Investigation_Area.pds:type']\n"
     ]
    }
   ],
   "source": [
    "lidvid = 'urn:nasa:pds:orex.ovirs:data_calibrated'\n",
    "\n",
    "collection_products_api = pds_api.CollectionsProductsApi(api_client)\n",
    "api_response = collection_products_api.products_of_a_collection(lidvid , start=0, limit=20, only_summary=True)\n",
    "\n",
    "print(f\"The available properties for the selected products are {api_response.summary.properties}\")"
   ]
  },
  {
   "cell_type": "markdown",
   "id": "respective-classic",
   "metadata": {},
   "source": [
    "### Request specific properties of all the observational products of the collection"
   ]
  },
  {
   "cell_type": "markdown",
   "id": "cooperative-webmaster",
   "metadata": {},
   "source": [
    "Properties have a syntax alike the PDS4 model: class/attributes. \n",
    "\n",
    "Get the latitude, longitude and target_range of the observational products belonging to the collection, with `fields=` option.\n",
    "\n",
    "The API results are <b>paginated</b>, to get all the results we need to loop through the pages."
   ]
  },
  {
   "cell_type": "code",
   "execution_count": 5,
   "id": "rural-brake",
   "metadata": {},
   "outputs": [
    {
     "data": {
      "application/vnd.jupyter.widget-view+json": {
       "model_id": "f9f591e8e230408c980400a8380f1a78",
       "version_major": 2,
       "version_minor": 0
      },
      "text/plain": [
       "0it [00:00, ?it/s]"
      ]
     },
     "metadata": {},
     "output_type": "display_data"
    },
    {
     "name": "stdout",
     "output_type": "stream",
     "text": [
      "retrieved 279500 products in 13.5 minutes\n"
     ]
    }
   ],
   "source": [
    "properties_of_interest = ['orex:spatial.orex:latitude', 'orex:spatial.orex:longitude', 'orex:spatial.orex:target_range']\n",
    "\n",
    "start = 0\n",
    "limit = 500\n",
    "products = []\n",
    "pbar = tqdm()\n",
    "\n",
    "start_time = time.time()\n",
    "while True:\n",
    "    pbar.update(int(start/500))\n",
    "    \n",
    "    api_response = collection_products_api.products_of_a_collection(\n",
    "        lidvid, \n",
    "        start=start, \n",
    "        limit=limit, \n",
    "        fields=properties_of_interest)\n",
    "\n",
    "    if api_response.data:\n",
    "        products.extend(api_response.data)\n",
    "        start += limit\n",
    "    else:\n",
    "        break\n",
    "\n",
    "elapsed = time.time() - start_time\n",
    "print(f'retrieved {start} products in {elapsed/60.0:.1f} minutes')\n",
    "\n",
    "pbar.close()\n",
    "\n"
   ]
  },
  {
   "cell_type": "markdown",
   "id": "mental-trance",
   "metadata": {},
   "source": [
    "### Product description comes with default properties + requested properties\n",
    "\n",
    "See for example"
   ]
  },
  {
   "cell_type": "code",
   "execution_count": 6,
   "id": "military-midnight",
   "metadata": {},
   "outputs": [
    {
     "data": {
      "text/plain": [
       "{'description': None,\n",
       " 'id': 'urn:nasa:pds:orex.ovirs:data_calibrated:20181103t073051s132_ovr_scil2.fits::1.0',\n",
       " 'investigations': [{'description': None,\n",
       "                     'href': 'http://pds-gamma.jpl.nasa.gov/products/urn:nasa:pds:context:investigation:mission.orex',\n",
       "                     'id': 'urn:nasa:pds:context:investigation:mission.orex',\n",
       "                     'title': None,\n",
       "                     'type': None}],\n",
       " 'metadata': {'creation_date_time': '2019-04-13T01:02:37.516Z',\n",
       "              'label_url': 'https://pds-gamma.jpl.nasa.gov/data/pds4/test-data/registry/orex.ovirs/data_calibrated/bennu_original_calibration/approach/20181103T073051S132_ovr_scil2.xml',\n",
       "              'update_date_time': None,\n",
       "              'version': '1.0'},\n",
       " 'observing_system_components': [{'description': None,\n",
       "                                  'href': 'http://pds-gamma.jpl.nasa.gov/products/urn:nasa:pds:context:instrument_host:spacecraft.orex',\n",
       "                                  'id': 'urn:nasa:pds:context:instrument_host:spacecraft.orex',\n",
       "                                  'title': None,\n",
       "                                  'type': None},\n",
       "                                 {'description': None,\n",
       "                                  'href': 'http://pds-gamma.jpl.nasa.gov/products/urn:nasa:pds:context:instrument:ovirs.orex',\n",
       "                                  'id': 'urn:nasa:pds:context:instrument:ovirs.orex',\n",
       "                                  'title': None,\n",
       "                                  'type': None}],\n",
       " 'properties': {'orex:spatial.orex:latitude': '-6.13630777328482',\n",
       "                'orex:spatial.orex:longitude': '224.370731783137',\n",
       "                'orex:spatial.orex:target_range': '190.288480954595'},\n",
       " 'start_date_time': '2018-11-03T07:30:51.132Z',\n",
       " 'stop_date_time': '2018-11-03T07:30:51.132Z',\n",
       " 'targets': [{'description': None,\n",
       "              'href': 'http://pds-gamma.jpl.nasa.gov/products/urn:nasa:pds:context:target:asteroid.101955_bennu',\n",
       "              'id': 'urn:nasa:pds:context:target:asteroid.101955_bennu',\n",
       "              'title': None,\n",
       "              'type': None}],\n",
       " 'title': 'OSIRIS-REx OVIRS Calibrated Science Data Product (L2) '\n",
       "          '2018-11-03T07:30:51.132Z',\n",
       " 'type': 'Product_Observational'}"
      ]
     },
     "execution_count": 6,
     "metadata": {},
     "output_type": "execute_result"
    }
   ],
   "source": [
    "products[140000]"
   ]
  },
  {
   "cell_type": "markdown",
   "id": "developed-dress",
   "metadata": {},
   "source": [
    "### Filter out records with no valid values\n",
    "\n",
    "Some records have fill values for the fields we are interested in (e.g. `latitude == -9999`, we want to remove them from our results.\n"
   ]
  },
  {
   "cell_type": "code",
   "execution_count": 7,
   "id": "strategic-season",
   "metadata": {},
   "outputs": [
    {
     "name": "stdout",
     "output_type": "stream",
     "text": [
      "The values of the selected properties are\n",
      "[{'id': 'urn:nasa:pds:orex.ovirs:data_calibrated:20181102t041236s859_ovr_scil2.fits::1.0',\n",
      "  'orex:spatial.orex:latitude': '-22.546203099740598',\n",
      "  'orex:spatial.orex:longitude': '29.6493567602281',\n",
      "  'orex:spatial.orex:target_range': '197.757787474397'},\n",
      " {'id': 'urn:nasa:pds:orex.ovirs:data_calibrated:20181102t041237s759_ovr_scil2.fits::1.0',\n",
      "  'orex:spatial.orex:latitude': '-18.1849081622853',\n",
      "  'orex:spatial.orex:longitude': '16.445177388920598',\n",
      "  'orex:spatial.orex:target_range': '197.757720053807'},\n",
      " {'id': 'urn:nasa:pds:orex.ovirs:data_calibrated:20181102t041238s659_ovr_scil2.fits::1.0',\n",
      "  'orex:spatial.orex:latitude': '-14.845147832590499',\n",
      "  'orex:spatial.orex:longitude': '7.29380975545429',\n",
      "  'orex:spatial.orex:target_range': '197.757652690671'}]\n"
     ]
    }
   ],
   "source": [
    "def at_least_one_valid_value(p):\n",
    "    return ((p['orex:spatial.orex:latitude'] !=  '-9999') \\\n",
    "           and (p['orex:spatial.orex:latitude'] != None))\n",
    "\n",
    "def filter_out_fillvalues(products):\n",
    "    properties = []\n",
    "    for product in products:\n",
    "        if at_least_one_valid_value(product.properties):\n",
    "            p = product.properties\n",
    "            p['id'] = product.id\n",
    "            properties.append(p)\n",
    "    return properties\n",
    "\n",
    "properties = filter_out_fillvalues(products)\n",
    "        \n",
    "print(f\"The values of the selected properties are\")\n",
    "pprint(properties[:3])"
   ]
  },
  {
   "cell_type": "markdown",
   "id": "sexual-defeat",
   "metadata": {},
   "source": [
    "### Transpose to extract lat,lon and target range as columns, ready to plot "
   ]
  },
  {
   "cell_type": "code",
   "execution_count": 8,
   "id": "essential-enough",
   "metadata": {},
   "outputs": [
    {
     "name": "stdout",
     "output_type": "stream",
     "text": [
      "The target_range values for the selected products are [197.757787474397, 197.757720053807, 197.757652690671]\n"
     ]
    }
   ],
   "source": [
    "def transpose(properties):\n",
    "    lat = [float(p['orex:spatial.orex:latitude']) for p in properties]\n",
    "    lon = [float(p['orex:spatial.orex:longitude']) for p in properties]\n",
    "    target_range = [float(p['orex:spatial.orex:target_range']) for p in properties]\n",
    "    return lat, lon, target_range\n",
    "\n",
    "lat, lon, target_range = transpose(properties)\n",
    "print(f'The target_range values for the selected products are {target_range[:3]}')"
   ]
  },
  {
   "cell_type": "markdown",
   "id": "defensive-dispute",
   "metadata": {},
   "source": [
    "### Plot the lat,lon of the observations, colored by target_range"
   ]
  },
  {
   "cell_type": "code",
   "execution_count": 9,
   "id": "unavailable-mapping",
   "metadata": {},
   "outputs": [
    {
     "data": {
      "image/png": "[encoded data removed]",
      "text/plain": [
       "<Figure size 432x288 with 2 Axes>"
      ]
     },
     "metadata": {
      "needs_background": "light"
     },
     "output_type": "display_data"
    }
   ],
   "source": [
    "def observation_map(lat, lon, target_range, vmax=25):\n",
    "    fig, ax = plt.subplots()\n",
    "\n",
    "    ax.set_xlabel('longitude')\n",
    "    ax.set_ylabel('latitude')\n",
    "    ax.set_title('orex.ovirs products lat,lon')\n",
    "\n",
    "    im = ax.scatter(lon, lat, c=target_range, vmin=0, vmax=vmax)\n",
    "\n",
    "    cbar = fig.colorbar(im, ax=ax)\n",
    "    cbar.set_label('target range (km)')\n",
    "    \n",
    "observation_map(lat,lon, target_range, vmax=25)\n"
   ]
  },
  {
   "cell_type": "markdown",
   "id": "alert-lighting",
   "metadata": {},
   "source": [
    "### Overview of the observation target_range with an histogram"
   ]
  },
  {
   "cell_type": "code",
   "execution_count": 10,
   "id": "governmental-mortgage",
   "metadata": {},
   "outputs": [
    {
     "data": {
      "text/plain": [
       "(array([    0.,     0., 32390., 18425.,     0.,     0.,     0.,     0.,\n",
       "            0.,     0.]),\n",
       " array([ 0. ,  1.5,  3. ,  4.5,  6. ,  7.5,  9. , 10.5, 12. , 13.5, 15. ]),\n",
       " <BarContainer object of 10 artists>)"
      ]
     },
     "execution_count": 10,
     "metadata": {},
     "output_type": "execute_result"
    },
    {
     "data": {
      "image/png": "[encoded data removed]",
      "text/plain": [
       "<Figure size 432x288 with 1 Axes>"
      ]
     },
     "metadata": {
      "needs_background": "light"
     },
     "output_type": "display_data"
    }
   ],
   "source": [
    "plt.hist(target_range, range=(0, 15))"
   ]
  },
  {
   "cell_type": "markdown",
   "id": "arabic-orbit",
   "metadata": {},
   "source": [
    "### Get observations around specific spot (lat=12, lon=24) with target range closer than 4 km"
   ]
  },
  {
   "cell_type": "code",
   "execution_count": 11,
   "id": "timely-hours",
   "metadata": {},
   "outputs": [
    {
     "name": "stdout",
     "output_type": "stream",
     "text": [
      "The lidvids of the selected products are ['urn:nasa:pds:orex.ovirs:data_calibrated:20190321t204128s567_ovr_scil2.fits::1.0', 'urn:nasa:pds:orex.ovirs:data_calibrated:20190321t204129s468_ovr_scil2.fits::1.0', 'urn:nasa:pds:orex.ovirs:data_calibrated:20190321t204130s368_ovr_scil2.fits::1.0', 'urn:nasa:pds:orex.ovirs:data_calibrated:20190321t204131s368_ovr_scil2.fits::1.0']\n"
     ]
    }
   ],
   "source": [
    "lidvids = [p['id'] for p in properties if float(p['orex:spatial.orex:target_range']) < 4.0 \n",
    "          and abs(float(p['orex:spatial.orex:latitude']) - 12.0) < 3.0\n",
    "          and abs(float(p['orex:spatial.orex:longitude']) - 24.0) < 3.0]\n",
    "print(f'The lidvids of the selected products are {lidvids}')"
   ]
  },
  {
   "cell_type": "markdown",
   "id": "later-wilderness",
   "metadata": {},
   "source": [
    "### Get the full product description"
   ]
  },
  {
   "cell_type": "code",
   "execution_count": 12,
   "id": "handmade-accident",
   "metadata": {},
   "outputs": [
    {
     "name": "stdout",
     "output_type": "stream",
     "text": [
      "{'description': None,\n",
      " 'id': 'urn:nasa:pds:orex.ovirs:data_calibrated:20190321t204128s567_ovr_scil2.fits::1.0',\n",
      " 'investigations': [{'description': None,\n",
      "                     'href': 'http://pds-gamma.jpl.nasa.gov/products/urn:nasa:pds:context:investigation:mission.orex',\n",
      "                     'id': 'urn:nasa:pds:context:investigation:mission.orex',\n",
      "                     'title': None,\n",
      "                     'type': None}],\n",
      " 'metadata': {'creation_date_time': '2019-10-23T19:05:39.752Z',\n",
      "              'label_url': 'https://pds-gamma.jpl.nasa.gov/data/pds4/test-data/registry/orex.ovirs/data_calibrated/bennu_original_calibration/detailed_survey/20190321T204128S567_ovr_scil2.xml',\n",
      "              'update_date_time': None,\n",
      "              'version': '1.0'},\n",
      " 'observing_system_components': [{'description': None,\n",
      "                                  'href': 'http://pds-gamma.jpl.nasa.gov/products/urn:nasa:pds:context:instrument_host:spacecraft.orex',\n",
      "                                  'id': 'urn:nasa:pds:context:instrument_host:spacecraft.orex',\n",
      "                                  'title': None,\n",
      "                                  'type': None},\n",
      "                                 {'description': None,\n",
      "                                  'href': 'http://pds-gamma.jpl.nasa.gov/products/urn:nasa:pds:context:instrument:ovirs.orex',\n",
      "                                  'id': 'urn:nasa:pds:context:instrument:ovirs.orex',\n",
      "                                  'title': None,\n",
      "                                  'type': None}],\n",
      " 'properties': {'_package_id': 'd8f102ae-f1b7-4009-8a94-240a687eebf0',\n",
      "                'disp:Display_Direction.disp:horizontal_display_axis': ['Sample',\n",
      "                                                                        'Sample',\n",
      "                                                                        'Sample',\n",
      "                                                                        'Sample',\n",
      "                                                                        'Sample',\n",
      "                                                                        'Sample'],\n",
      "                'disp:Display_Direction.disp:horizontal_display_direction': ['Left '\n",
      "                                                                             'to '\n",
      "                                                                             'Right',\n",
      "                                                                             'Left '\n",
      "                                                                             'to '\n",
      "                                                                             'Right',\n",
      "                                                                             'Left '\n",
      "                                                                             'to '\n",
      "                                                                             'Right',\n",
      "                                                                             'Left '\n",
      "                                                                             'to '\n",
      "                                                                             'Right',\n",
      "                                                                             'Left '\n",
      "                                                                             'to '\n",
      "                                                                             'Right',\n",
      "                                                                             'Left '\n",
      "                                                                             'to '\n",
      "                                                                             'Right'],\n",
      "                'disp:Display_Direction.disp:vertical_display_axis': ['Line',\n",
      "                                                                      'Line',\n",
      "                                                                      'Line',\n",
      "                                                                      'Line',\n",
      "                                                                      'Line',\n",
      "                                                                      'Line'],\n",
      "                'disp:Display_Direction.disp:vertical_display_direction': ['Bottom '\n",
      "                                                                           'to '\n",
      "                                                                           'Top',\n",
      "                                                                           'Bottom '\n",
      "                                                                           'to '\n",
      "                                                                           'Top',\n",
      "                                                                           'Bottom '\n",
      "                                                                           'to '\n",
      "                                                                           'Top',\n",
      "                                                                           'Bottom '\n",
      "                                                                           'to '\n",
      "                                                                           'Top',\n",
      "                                                                           'Bottom '\n",
      "                                                                           'to '\n",
      "                                                                           'Top',\n",
      "                                                                           'Bottom '\n",
      "                                                                           'to '\n",
      "                                                                           'Top'],\n",
      "                'geom:Geometry_Orbiter.geom:geometry_reference_time_tdb': '606472957.753112',\n",
      "                'geom:Geometry_Orbiter.geom:geometry_reference_time_utc': '2019-03-21T20:41:28.567Z',\n",
      "                'geom:SPICE_Kernel_Identification.geom:kernel_provenance': 'Reconstructed',\n",
      "                'geom:SPICE_Kernel_Identification.geom:kernel_type': 'MK',\n",
      "                'geom:SPICE_Kernel_Identification.geom:spice_kernel_file_name': 'spoc-digest-2019-04-10T05_59_50.989Z.mk',\n",
      "                'lid': 'urn:nasa:pds:orex.ovirs:data_calibrated:20190321t204128s567_ovr_scil2.fits',\n",
      "                'lidvid': 'urn:nasa:pds:orex.ovirs:data_calibrated:20190321t204128s567_ovr_scil2.fits::1.0',\n",
      "                'ops:Data_File_Info.ops:creation_date_time': '2019-10-24T19:59:00Z',\n",
      "                'ops:Data_File_Info.ops:file_name': '20190321T204128S567_ovr_scil2.fits',\n",
      "                'ops:Data_File_Info.ops:file_ref': 'https://pds-gamma.jpl.nasa.gov/data/pds4/test-data/registry/orex.ovirs/data_calibrated/bennu_original_calibration/detailed_survey/20190321T204128S567_ovr_scil2.fits',\n",
      "                'ops:Data_File_Info.ops:file_size': '472320',\n",
      "                'ops:Data_File_Info.ops:md5_checksum': '6be3bc0237b72133682bde38161b40ba',\n",
      "                'ops:Data_File_Info.ops:mime_type': 'application/fits',\n",
      "                'ops:Label_File_Info.ops:blob': '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',\n",
      "                'ops:Label_File_Info.ops:creation_date_time': '2019-10-24T20:00:40Z',\n",
      "                'ops:Label_File_Info.ops:file_name': '20190321T204128S567_ovr_scil2.xml',\n",
      "                'ops:Label_File_Info.ops:file_ref': 'https://pds-gamma.jpl.nasa.gov/data/pds4/test-data/registry/orex.ovirs/data_calibrated/bennu_original_calibration/detailed_survey/20190321T204128S567_ovr_scil2.xml',\n",
      "                'ops:Label_File_Info.ops:file_size': '23633',\n",
      "                'ops:Label_File_Info.ops:md5_checksum': '8a814eb0227539941bcc11a57ed497ae',\n",
      "                'orex:spatial.orex:bennu_dec': '-1.49385634794811',\n",
      "                'orex:spatial.orex:bennu_ra': '177.462413140157',\n",
      "                'orex:spatial.orex:bennu_radec_quality': 'BEST: SPK',\n",
      "                'orex:spatial.orex:bennu_radec_target': 'BENNU',\n",
      "                'orex:spatial.orex:bore_angle': '1.10819138947643',\n",
      "                'orex:spatial.orex:bore_flag': '1',\n",
      "                'orex:spatial.orex:boresight_range': '3471.93929617945',\n",
      "                'orex:spatial.orex:boresight_x': '229.04362184104698',\n",
      "                'orex:spatial.orex:boresight_y': '104.03157207133602',\n",
      "                'orex:spatial.orex:boresight_z': '65.6625393485129',\n",
      "                'orex:spatial.orex:declination': '-2.41967425443514',\n",
      "                'orex:spatial.orex:emission_angle': '32.993490239933',\n",
      "                'orex:spatial.orex:fov_fill_factor': '1',\n",
      "                'orex:spatial.orex:fov_fill_flag': '1',\n",
      "                'orex:spatial.orex:incidence_angle': '39.468563569488296',\n",
      "                'orex:spatial.orex:latitude': '14.6288946565699',\n",
      "                'orex:spatial.orex:longitude': '24.427540289882902',\n",
      "                'orex:spatial.orex:phase_angle': '30.2826816709929',\n",
      "                'orex:spatial.orex:right_ascension': '176.852994999857',\n",
      "                'orex:spatial.orex:semimajor_axis': '16.617098932094002',\n",
      "                'orex:spatial.orex:semiminor_axis': '13.937276309720298',\n",
      "                'orex:spatial.orex:sun_range': '155969432.408299',\n",
      "                'orex:spatial.orex:target_range': '3.72245951665015',\n",
      "                'orex:time.orex:expo_ms': '910.2',\n",
      "                'orex:time.orex:exposure': '0.9102',\n",
      "                'orex:time.orex:mid_obs': '2019-03-21T20:41:28.567Z',\n",
      "                'orex:time.orex:mid_obs_et': '606472957.753112',\n",
      "                'orex:time.orex:mid_obs_sclk': '3/0606472849.35710',\n",
      "                'orex:time.orex:utc': '2019-03-21T20:41:28.423Z',\n",
      "                'pds:Array_2D.pds:axes': ['2', '2', '2', '2', '2'],\n",
      "                'pds:Array_2D.pds:axis_index_order': ['Last Index Fastest',\n",
      "                                                      'Last Index Fastest',\n",
      "                                                      'Last Index Fastest',\n",
      "                                                      'Last Index Fastest',\n",
      "                                                      'Last Index Fastest'],\n",
      "                'pds:Array_2D.pds:description': ['Quality indicator of the '\n",
      "                                                 'calibrated frame.',\n",
      "                                                 'Wavelengths of the '\n",
      "                                                 'calibrated spectra.',\n",
      "                                                 'Channel widths (FWHM) of the '\n",
      "                                                 'spectral wavelength bins.',\n",
      "                                                 'Wavelength offset due to '\n",
      "                                                 'temperature dependence. The '\n",
      "                                                 'wavelength correction is '\n",
      "                                                 'absolute wavelength shift '\n",
      "                                                 'per K difference from 115 K. '\n",
      "                                                 'The shift is subtracted from '\n",
      "                                                 'the center_wavelength. This '\n",
      "                                                 'value may be very close to '\n",
      "                                                 'zero.',\n",
      "                                                 'Dark values subtracted from '\n",
      "                                                 'L0 science product before '\n",
      "                                                 'conversion to radiance.'],\n",
      "                'pds:Array_2D.pds:local_identifier': ['Quality',\n",
      "                                                      'Center Wavelength',\n",
      "                                                      'Channel Width',\n",
      "                                                      'Temperature Dependence',\n",
      "                                                      'cal_dark'],\n",
      "                'pds:Array_2D.pds:offset': ['92160',\n",
      "                                            '138240',\n",
      "                                            '220160',\n",
      "                                            '302080',\n",
      "                                            '388800'],\n",
      "                'pds:Array_2D_Spectrum.pds:axes': '2',\n",
      "                'pds:Array_2D_Spectrum.pds:axis_index_order': 'Last Index '\n",
      "                                                              'Fastest',\n",
      "                'pds:Array_2D_Spectrum.pds:description': 'OVIRS calibrated '\n",
      "                                                         'spectral data. These '\n",
      "                                                         'data are an array of '\n",
      "                                                         'radiance values for '\n",
      "                                                         'each super pixel '\n",
      "                                                         'line in the ROI for '\n",
      "                                                         'a single frame '\n",
      "                                                         '(instrument '\n",
      "                                                         'integration).',\n",
      "                'pds:Array_2D_Spectrum.pds:local_identifier': 'Calibrated',\n",
      "                'pds:Array_2D_Spectrum.pds:offset': '5760',\n",
      "                'pds:Axis_Array.pds:axis_name': ['Line',\n",
      "                                                 'Sample',\n",
      "                                                 'Line',\n",
      "                                                 'Sample',\n",
      "                                                 'Line',\n",
      "                                                 'Sample',\n",
      "                                                 'Line',\n",
      "                                                 'Sample',\n",
      "                                                 'Line',\n",
      "                                                 'Sample',\n",
      "                                                 'Line',\n",
      "                                                 'Sample'],\n",
      "                'pds:Axis_Array.pds:elements': ['20',\n",
      "                                                '512',\n",
      "                                                '20',\n",
      "                                                '512',\n",
      "                                                '20',\n",
      "                                                '512',\n",
      "                                                '20',\n",
      "                                                '512',\n",
      "                                                '20',\n",
      "                                                '512',\n",
      "                                                '20',\n",
      "                                                '512'],\n",
      "                'pds:Axis_Array.pds:sequence_number': ['1',\n",
      "                                                       '2',\n",
      "                                                       '1',\n",
      "                                                       '2',\n",
      "                                                       '1',\n",
      "                                                       '2',\n",
      "                                                       '1',\n",
      "                                                       '2',\n",
      "                                                       '1',\n",
      "                                                       '2',\n",
      "                                                       '1',\n",
      "                                                       '2'],\n",
      "                'pds:Element_Array.pds:data_type': ['IEEE754MSBDouble',\n",
      "                                                    'SignedMSB4',\n",
      "                                                    'IEEE754MSBDouble',\n",
      "                                                    'IEEE754MSBDouble',\n",
      "                                                    'IEEE754MSBDouble',\n",
      "                                                    'IEEE754MSBDouble'],\n",
      "                'pds:Element_Array.pds:unit': ['W/cm**2/sr/µm',\n",
      "                                               'micrometer',\n",
      "                                               'micrometer',\n",
      "                                               'micrometer'],\n",
      "                'pds:File.pds:creation_date_time': '2019-10-23T19:05:39.752Z',\n",
      "                'pds:File.pds:file_name': '20190321T204128S567_ovr_scil2.fits',\n",
      "                'pds:File.pds:file_size': '472320',\n",
      "                'pds:Header.pds:object_length': ['5760',\n",
      "                                                 '2880',\n",
      "                                                 '2880',\n",
      "                                                 '2880'],\n",
      "                'pds:Header.pds:offset': ['0', '89280', '135360', '385920'],\n",
      "                'pds:Header.pds:parsing_standard_id': ['FITS 3.0',\n",
      "                                                       'FITS 3.0',\n",
      "                                                       'FITS 3.0',\n",
      "                                                       'FITS 3.0'],\n",
      "                'pds:Identification_Area.pds:information_model_version': '1.7.0.0',\n",
      "                'pds:Identification_Area.pds:logical_identifier': 'urn:nasa:pds:orex.ovirs:data_calibrated:20190321t204128s567_ovr_scil2.fits',\n",
      "                'pds:Identification_Area.pds:product_class': 'Product_Observational',\n",
      "                'pds:Identification_Area.pds:title': 'OSIRIS-REx OVIRS '\n",
      "                                                     'Calibrated Science Data '\n",
      "                                                     'Product (L2) '\n",
      "                                                     '2019-03-21T20:41:28.567Z',\n",
      "                'pds:Identification_Area.pds:version_id': '1.0',\n",
      "                'pds:Internal_Reference.pds:comment': ['Radiometric '\n",
      "                                                       'calibration file used '\n",
      "                                                       'in processing. The '\n",
      "                                                       'file can be found in '\n",
      "                                                       'the OVIRS calibration '\n",
      "                                                       'collection.',\n",
      "                                                       'Out of band '\n",
      "                                                       'calibration file used '\n",
      "                                                       'in processing. The '\n",
      "                                                       'file can be found in '\n",
      "                                                       'the OVIRS calibration '\n",
      "                                                       'collection.',\n",
      "                                                       'Bad pixel map '\n",
      "                                                       'calibration file used '\n",
      "                                                       'in processing. The '\n",
      "                                                       'file can be found in '\n",
      "                                                       'the OVIRS calibration '\n",
      "                                                       'collection.'],\n",
      "                'pds:Internal_Reference.pds:lid_reference': ['urn:nasa:pds:context:investigation:mission.orex',\n",
      "                                                             'urn:nasa:pds:context:instrument_host:spacecraft.orex',\n",
      "                                                             'urn:nasa:pds:context:instrument:ovirs.orex',\n",
      "                                                             'urn:nasa:pds:context:target:asteroid.101955_bennu'],\n",
      "                'pds:Internal_Reference.pds:lidvid_reference': ['urn:nasa:pds:orex.ovirs:calibration:ovirs_s1a_rad_20010101t000000_20500101t000000_v001.fits::1.0',\n",
      "                                                                'urn:nasa:pds:orex.ovirs:calibration:ovirs_s1a_oob_20010101t000000_20500101t000000_v002.fits::1.0',\n",
      "                                                                'urn:nasa:pds:orex.ovirs:calibration:ovirs_s1a_bpm_20170808t000000_20500101t000000_v002.fits::1.0'],\n",
      "                'pds:Internal_Reference.pds:reference_type': ['data_to_investigation',\n",
      "                                                              'is_instrument_host',\n",
      "                                                              'is_instrument',\n",
      "                                                              'data_to_target',\n",
      "                                                              'data_to_calibration_product',\n",
      "                                                              'data_to_calibration_product',\n",
      "                                                              'data_to_calibration_product'],\n",
      "                'pds:Investigation_Area.pds:name': 'OSIRIS-REx',\n",
      "                'pds:Investigation_Area.pds:type': 'Mission',\n",
      "                'pds:Local_Internal_Reference.pds:local_identifier_reference': ['Calibrated',\n",
      "                                                                                'Quality',\n",
      "                                                                                'Center '\n",
      "                                                                                'Wavelength',\n",
      "                                                                                'Channel '\n",
      "                                                                                'Width',\n",
      "                                                                                'Temperature '\n",
      "                                                                                'Dependence',\n",
      "                                                                                'cal_dark',\n",
      "                                                                                'Calibrated',\n",
      "                                                                                'Center '\n",
      "                                                                                'Wavelength',\n",
      "                                                                                'Channel '\n",
      "                                                                                'Width'],\n",
      "                'pds:Local_Internal_Reference.pds:local_reference_type': ['display_settings_to_array',\n",
      "                                                                          'display_settings_to_array',\n",
      "                                                                          'display_settings_to_array',\n",
      "                                                                          'display_settings_to_array',\n",
      "                                                                          'display_settings_to_array',\n",
      "                                                                          'display_settings_to_array',\n",
      "                                                                          'spectral_characteristics_to_array_object',\n",
      "                                                                          'spectral_characteristics_to_bin_center_values',\n",
      "                                                                          'spectral_characteristics_to_bin_width_values'],\n",
      "                'pds:Modification_Detail.pds:description': 'Initial version.',\n",
      "                'pds:Modification_Detail.pds:modification_date': '2019-02-01T00:00:00Z',\n",
      "                'pds:Modification_Detail.pds:version_id': '1.0',\n",
      "                'pds:Observing_System.pds:name': 'OSIRIS-REx Visible and '\n",
      "                                                 'InfraRed Spectrometer '\n",
      "                                                 '(OVIRS)',\n",
      "                'pds:Observing_System_Component.pds:description': 'Origins, '\n",
      "                                                                  'Spectral '\n",
      "                                                                  'Interpretation, '\n",
      "                                                                  'Resource '\n",
      "                                                                  'Identification, '\n",
      "                                                                  'Security - '\n",
      "                                                                  'Regolith '\n",
      "                                                                  'Explorer '\n",
      "                                                                  'Spacecraft',\n",
      "                'pds:Observing_System_Component.pds:name': ['OSIRIS-REx',\n",
      "                                                            'OVIRS'],\n",
      "                'pds:Observing_System_Component.pds:type': ['Spacecraft',\n",
      "                                                            'Instrument'],\n",
      "                'pds:Primary_Result_Summary.pds:processing_level': 'Calibrated',\n",
      "                'pds:Primary_Result_Summary.pds:purpose': 'Science',\n",
      "                'pds:Target_Identification.pds:alternate_designation': '1999 '\n",
      "                                                                       'RQ36',\n",
      "                'pds:Target_Identification.pds:name': '(101955) BENNU',\n",
      "                'pds:Target_Identification.pds:type': 'Asteroid',\n",
      "                'pds:Time_Coordinates.pds:start_date_time': '2019-03-21T20:41:28.567Z',\n",
      "                'pds:Time_Coordinates.pds:stop_date_time': '2019-03-21T20:41:28.567Z',\n",
      "                'product_class': 'Product_Observational',\n",
      "                'ref_lid_instrument': 'urn:nasa:pds:context:instrument:ovirs.orex',\n",
      "                'ref_lid_instrument_host': 'urn:nasa:pds:context:instrument_host:spacecraft.orex',\n",
      "                'ref_lid_investigation': 'urn:nasa:pds:context:investigation:mission.orex',\n",
      "                'ref_lid_product': ['urn:nasa:pds:orex.ovirs:calibration:ovirs_s1a_bpm_20170808t000000_20500101t000000_v002.fits',\n",
      "                                    'urn:nasa:pds:orex.ovirs:calibration:ovirs_s1a_oob_20010101t000000_20500101t000000_v002.fits',\n",
      "                                    'urn:nasa:pds:orex.ovirs:calibration:ovirs_s1a_rad_20010101t000000_20500101t000000_v001.fits'],\n",
      "                'ref_lid_target': 'urn:nasa:pds:context:target:asteroid.101955_bennu',\n",
      "                'ref_lidvid_product': ['urn:nasa:pds:orex.ovirs:calibration:ovirs_s1a_bpm_20170808t000000_20500101t000000_v002.fits::1.0',\n",
      "                                       'urn:nasa:pds:orex.ovirs:calibration:ovirs_s1a_oob_20010101t000000_20500101t000000_v002.fits::1.0',\n",
      "                                       'urn:nasa:pds:orex.ovirs:calibration:ovirs_s1a_rad_20010101t000000_20500101t000000_v001.fits::1.0'],\n",
      "                'sp:Bin_Description.sp:bin_profile_description': 'The OVIRS '\n",
      "                                                                 'calibrated '\n",
      "                                                                 'spectrum '\n",
      "                                                                 'wavelength '\n",
      "                                                                 'binning is '\n",
      "                                                                 'described by '\n",
      "                                                                 'the three '\n",
      "                                                                 '2d_Array '\n",
      "                                                                 'structures '\n",
      "                                                                 'labeled as '\n",
      "                                                                 'Center_Wavelength, '\n",
      "                                                                 'Channel_width '\n",
      "                                                                 'and '\n",
      "                                                                 'Temperature '\n",
      "                                                                 'Dependance. '\n",
      "                                                                 'Center_Wavelength '\n",
      "                                                                 'is a 512 '\n",
      "                                                                 'element '\n",
      "                                                                 'array that '\n",
      "                                                                 'give the '\n",
      "                                                                 'channel '\n",
      "                                                                 'center '\n",
      "                                                                 'wavelength '\n",
      "                                                                 'in units of '\n",
      "                                                                 'micrometer, '\n",
      "                                                                 'Channel_Width '\n",
      "                                                                 'is also a '\n",
      "                                                                 '512 element '\n",
      "                                                                 'array that '\n",
      "                                                                 'gives the '\n",
      "                                                                 'width (FWHM) '\n",
      "                                                                 'of each '\n",
      "                                                                 'channel in '\n",
      "                                                                 'micrometers. '\n",
      "                                                                 'Temperature '\n",
      "                                                                 'Dependence '\n",
      "                                                                 'is a '\n",
      "                                                                 'temperature '\n",
      "                                                                 'dependent '\n",
      "                                                                 'correction '\n",
      "                                                                 'to the '\n",
      "                                                                 'Center_Wavelength. '\n",
      "                                                                 'It is '\n",
      "                                                                 'applied as '\n",
      "                                                                 'an absolute '\n",
      "                                                                 'wavelength '\n",
      "                                                                 'shift per K '\n",
      "                                                                 'from 115 K. '\n",
      "                                                                 'The shift is '\n",
      "                                                                 'subtracted '\n",
      "                                                                 'from the '\n",
      "                                                                 'wavelength. '\n",
      "                                                                 'Center_Wavelength '\n",
      "                                                                 'element 1 '\n",
      "                                                                 'corresponds '\n",
      "                                                                 'to '\n",
      "                                                                 'Channel_Width '\n",
      "                                                                 'element 1 '\n",
      "                                                                 'and '\n",
      "                                                                 'Temperature '\n",
      "                                                                 'Dependence '\n",
      "                                                                 'element 1',\n",
      "                'sp:Circular_FOV.sp:diameter_angle': '4',\n",
      "                'sp:Field_of_View.sp:description': 'The OSIRIS-REx Visible and '\n",
      "                                                   'IR Spectrometer (OVIRS) is '\n",
      "                                                   'a point spectrometer with '\n",
      "                                                   'a 4-mrad\\xa0diameter '\n",
      "                                                   'circular field of view '\n",
      "                                                   '(FOV) that provides '\n",
      "                                                   'spectra over the '\n",
      "                                                   'wavelength range of '\n",
      "                                                   '0.4–4.3 μm\\xa0(25,000–2300 '\n",
      "                                                   'cm–1).',\n",
      "                'sp:Observation_Parameters.sp:net_integration_time': '1.2',\n",
      "                'sp:Observation_Parameters.sp:number_of_exposures': '1',\n",
      "                'sp:Observation_Parameters.sp:resolution_limit_wavelength': '0.4',\n",
      "                'sp:Spectral_Characteristics.sp:spectral_bin_type': 'wavelength',\n",
      "                'sp:Spectral_Characteristics.sp:spectrum_format': '2D',\n",
      "                'title': 'OSIRIS-REx OVIRS Calibrated Science Data Product '\n",
      "                         '(L2) 2019-03-21T20:41:28.567Z',\n",
      "                'vid': '1.0'},\n",
      " 'start_date_time': '2019-03-21T20:41:28.567Z',\n",
      " 'stop_date_time': '2019-03-21T20:41:28.567Z',\n",
      " 'targets': [{'description': None,\n",
      "              'href': 'http://pds-gamma.jpl.nasa.gov/products/urn:nasa:pds:context:target:asteroid.101955_bennu',\n",
      "              'id': 'urn:nasa:pds:context:target:asteroid.101955_bennu',\n",
      "              'title': None,\n",
      "              'type': None}],\n",
      " 'title': 'OSIRIS-REx OVIRS Calibrated Science Data Product (L2) '\n",
      "          '2019-03-21T20:41:28.567Z',\n",
      " 'type': 'Product_Observational'}\n"
     ]
    }
   ],
   "source": [
    "products_api = pds_api.ProductsApi(api_client)\n",
    "product = products_api.products_by_lidvid(lidvids[0])\n",
    "print(product)"
   ]
  },
  {
   "cell_type": "markdown",
   "id": "alpine-wonder",
   "metadata": {},
   "source": [
    "### Get the file path of the data"
   ]
  },
  {
   "cell_type": "code",
   "execution_count": 22,
   "id": "accompanied-consensus",
   "metadata": {},
   "outputs": [
    {
     "data": {
      "text/plain": [
       "'https://pds-gamma.jpl.nasa.gov/data/pds4/test-data/registry/orex.ovirs/data_calibrated/bennu_original_calibration/detailed_survey/20190321T204128S567_ovr_scil2.fits'"
      ]
     },
     "execution_count": 22,
     "metadata": {},
     "output_type": "execute_result"
    }
   ],
   "source": [
    "product.properties['ops:Data_File_Info.ops:file_ref']"
   ]
  },
  {
   "cell_type": "code",
   "execution_count": null,
   "id": "parliamentary-ownership",
   "metadata": {},
   "outputs": [],
   "source": []
  }
 ],
 "metadata": {
  "kernelspec": {
   "display_name": "Python 3",
   "language": "python",
   "name": "python3"
  },
  "language_info": {
   "codemirror_mode": {
    "name": "ipython",
    "version": 3
   },
   "file_extension": ".py",
   "mimetype": "text/x-python",
   "name": "python",
   "nbconvert_exporter": "python",
   "pygments_lexer": "ipython3",
   "version": "3.7.7"
  }
 },
 "nbformat": 4,
 "nbformat_minor": 5
}
