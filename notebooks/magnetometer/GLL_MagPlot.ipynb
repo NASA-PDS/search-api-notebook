{
 "cells": [
  {
   "cell_type": "markdown",
   "id": "97d33d49",
   "metadata": {
    "pycharm": {
     "name": "#%% md\n"
    }
   },
   "source": [
    "# Visualize Galileo Magnetometer data with pyWWT\n",
    "\n",
    "This notebook uses the PDS Search API to visualize Galileo Orbiter's magnetosphere measurement campaign with pyWWT. Thanks to PyWWT observations are displayed in their Solar System location in a 3D view.\n",
    "\n",
    "To properly run this code, ensure that you have followed the steps outlined in the README.md file. Additionally, ensure that you have opened an \"AAS Worldwide Telescope\" launcher in your notebook work space. To do this simply go to File -> New Launcher and (if configured correctly) click the AAS WWT icon. See [WWTs Jupyter Application](https://pywwt.readthedocs.io/en/stable/jupyterlab.html) for troubleshooting and further setup.\n"
   ]
  },
  {
   "cell_type": "markdown",
   "id": "6d8eaca3",
   "metadata": {
    "pycharm": {
     "name": "#%% md\n"
    }
   },
   "source": [
    "## Step 0: Import Libraries and download pds4_tools"
   ]
  },
  {
   "cell_type": "code",
   "execution_count": 57,
   "id": "1dfc3057",
   "metadata": {
    "collapsed": false,
    "jupyter": {
     "outputs_hidden": false
    },
    "pycharm": {
     "name": "#%%\n"
    }
   },
   "outputs": [],
   "source": [
    "from __future__ import print_function\n",
    "import pandas as pd\n",
    "import numpy as np\n",
    "\n",
    "import requests\n",
    "import spiceypy\n",
    "import os\n",
    "import io\n",
    "import pds4_tools\n",
    "\n",
    "from datetime import datetime,timedelta\n",
    "import matplotlib.dates as mdates\n",
    "from astropy import units as u\n",
    "\n",
    "from astropy.time import Time\n",
    "from pywwt.jupyter import WWTJupyterWidget\n",
    "from pywwt.jupyter import connect_to_app\n",
    "from astropy.table import Table, hstack\n",
    "import matplotlib.pyplot as plt"
   ]
  },
  {
   "cell_type": "markdown",
   "id": "b42eca90",
   "metadata": {
    "pycharm": {
     "name": "#%% md\n"
    }
   },
   "source": [
    "## Step 1: Extract data from the PDS Search API"
   ]
  },
  {
   "cell_type": "markdown",
   "id": "55bf641f-bef9-4ade-97a3-91ced60c37f3",
   "metadata": {
    "tags": []
   },
   "source": [
    "### Get the observational products of a Galileo Magnetometer collection\n",
    "\n",
    "Utilize the PDS Search API to list the magnetometer observational products of a Galileo Orbiter's collection in a pandas dataframe."
   ]
  },
  {
   "cell_type": "code",
   "execution_count": 58,
   "id": "cbfeea99",
   "metadata": {
    "collapsed": false,
    "jupyter": {
     "outputs_hidden": false
    },
    "pycharm": {
     "name": "#%%\n"
    }
   },
   "outputs": [],
   "source": [
    "#High-res magnetometer data\n",
    "# collection_lid = \"urn:nasa:pds:galileo-mag-jup-calibrated:data-highres-magnetosphere::1.0\"\n",
    "#Low-res magnetometer data\n",
    "collection_lid = \"urn:nasa:pds:galileo-mag-jup-calibrated:data-magspheric-survey::1.0\"\n",
    "\n",
    "url = f\"https://pds.nasa.gov/api/search/1/products/{collection_lid}/members\"\n",
    "\n",
    "fields = [ \"lid\", \"vid\", \"pds:Time_Coordinates.pds:start_date_time\",\n",
    "    \"pds:Time_Coordinates.pds:stop_date_time\", \"pds:Target_Identification.pds:name\",\n",
    "    \"ops:Label_File_Info.ops:file_ref\"]\n",
    "\n",
    "headers = dict(Accept=\"application/csv\")\n",
    "response = requests.get(\n",
    "    url,\n",
    "    params=params,\n",
    "    headers=headers\n",
    ")\n",
    "\n",
    "products_csv_stream = io.StringIO(response.content.decode('utf-8'))\n",
    "products_df_tot = pd.read_csv(products_csv_stream)\n",
    "\n",
    "# change columns & line order\n",
    "products_df_tot = products_df_tot[fields]\n",
    "products_df_tot.sort_values(by='pds:Time_Coordinates.pds:start_date_time', inplace=True)\n",
    "\n",
    "#User specified time range\n",
    "start_time = pd.to_datetime('1996-07-19T11:00:00Z')\n",
    "end_time = pd.to_datetime('1997-01-19T15:00:00Z')\n",
    "\n",
    "# Filter the DataFrame within the time range\n",
    "t_str = 'pds:Time_Coordinates.pds:start_date_time'\n",
    "products_df = products_df_tot[(pd.to_datetime(products_df_tot[t_str]) >= start_time) & (pd.to_datetime(products_df_tot[t_str]) <= end_time)]\n"
   ]
  },
  {
   "cell_type": "markdown",
   "id": "353c0251",
   "metadata": {
    "pycharm": {
     "name": "#%% md\n"
    }
   },
   "source": [
    "### Display the list of products"
   ]
  },
  {
   "cell_type": "code",
   "execution_count": 59,
   "id": "4595bf3a",
   "metadata": {
    "collapsed": false,
    "jupyter": {
     "outputs_hidden": false
    },
    "pycharm": {
     "name": "#%%\n"
    }
   },
   "outputs": [
    {
     "data": {
      "text/html": [
       "<div>\n",
       "<style scoped>\n",
       "    .dataframe tbody tr th:only-of-type {\n",
       "        vertical-align: middle;\n",
       "    }\n",
       "\n",
       "    .dataframe tbody tr th {\n",
       "        vertical-align: top;\n",
       "    }\n",
       "\n",
       "    .dataframe thead th {\n",
       "        text-align: right;\n",
       "    }\n",
       "</style>\n",
       "<table border=\"1\" class=\"dataframe\">\n",
       "  <thead>\n",
       "    <tr style=\"text-align: right;\">\n",
       "      <th></th>\n",
       "      <th>lid</th>\n",
       "      <th>vid</th>\n",
       "      <th>pds:Time_Coordinates.pds:start_date_time</th>\n",
       "      <th>pds:Time_Coordinates.pds:stop_date_time</th>\n",
       "      <th>pds:Target_Identification.pds:name</th>\n",
       "      <th>ops:Label_File_Info.ops:file_ref</th>\n",
       "    </tr>\n",
       "  </thead>\n",
       "  <tbody>\n",
       "    <tr>\n",
       "      <th>96</th>\n",
       "      <td>urn:nasa:pds:galileo-mag-jup-calibrated:data-m...</td>\n",
       "      <td>1.0</td>\n",
       "      <td>1996-09-01T16:00:40.392Z</td>\n",
       "      <td>1996-11-02T11:44:01.104Z</td>\n",
       "      <td>[Jupiter, Ganymede]</td>\n",
       "      <td>https://pds-ppi.igpp.ucla.edu/data/galileo-mag...</td>\n",
       "    </tr>\n",
       "    <tr>\n",
       "      <th>7</th>\n",
       "      <td>urn:nasa:pds:galileo-mag-jup-calibrated:data-m...</td>\n",
       "      <td>1.0</td>\n",
       "      <td>1996-09-01T16:00:40.392Z</td>\n",
       "      <td>1996-11-02T11:44:01.104Z</td>\n",
       "      <td>[Jupiter, Ganymede]</td>\n",
       "      <td>https://pds-ppi.igpp.ucla.edu/data/galileo-mag...</td>\n",
       "    </tr>\n",
       "    <tr>\n",
       "      <th>6</th>\n",
       "      <td>urn:nasa:pds:galileo-mag-jup-calibrated:data-m...</td>\n",
       "      <td>1.0</td>\n",
       "      <td>1996-09-01T16:00:40.392Z</td>\n",
       "      <td>1996-11-02T11:44:01.104Z</td>\n",
       "      <td>[Jupiter, Ganymede]</td>\n",
       "      <td>https://pds-ppi.igpp.ucla.edu/data/galileo-mag...</td>\n",
       "    </tr>\n",
       "    <tr>\n",
       "      <th>5</th>\n",
       "      <td>urn:nasa:pds:galileo-mag-jup-calibrated:data-m...</td>\n",
       "      <td>1.0</td>\n",
       "      <td>1996-09-01T16:00:48.392Z</td>\n",
       "      <td>1996-11-02T11:44:09.104Z</td>\n",
       "      <td>[Jupiter, Ganymede]</td>\n",
       "      <td>https://pds-ppi.igpp.ucla.edu/data/galileo-mag...</td>\n",
       "    </tr>\n",
       "    <tr>\n",
       "      <th>99</th>\n",
       "      <td>urn:nasa:pds:galileo-mag-jup-calibrated:data-m...</td>\n",
       "      <td>1.0</td>\n",
       "      <td>1996-11-02T16:02:49.095Z</td>\n",
       "      <td>1996-12-14T23:58:52.842Z</td>\n",
       "      <td>[Jupiter, Callisto]</td>\n",
       "      <td>https://pds-ppi.igpp.ucla.edu/data/galileo-mag...</td>\n",
       "    </tr>\n",
       "    <tr>\n",
       "      <th>100</th>\n",
       "      <td>urn:nasa:pds:galileo-mag-jup-calibrated:data-m...</td>\n",
       "      <td>1.0</td>\n",
       "      <td>1996-11-02T16:02:49.095Z</td>\n",
       "      <td>1996-12-14T23:58:52.842Z</td>\n",
       "      <td>[Jupiter, Callisto]</td>\n",
       "      <td>https://pds-ppi.igpp.ucla.edu/data/galileo-mag...</td>\n",
       "    </tr>\n",
       "    <tr>\n",
       "      <th>98</th>\n",
       "      <td>urn:nasa:pds:galileo-mag-jup-calibrated:data-m...</td>\n",
       "      <td>1.0</td>\n",
       "      <td>1996-11-02T16:02:49.095Z</td>\n",
       "      <td>1996-12-14T23:58:52.842Z</td>\n",
       "      <td>[Jupiter, Callisto]</td>\n",
       "      <td>https://pds-ppi.igpp.ucla.edu/data/galileo-mag...</td>\n",
       "    </tr>\n",
       "    <tr>\n",
       "      <th>97</th>\n",
       "      <td>urn:nasa:pds:galileo-mag-jup-calibrated:data-m...</td>\n",
       "      <td>1.0</td>\n",
       "      <td>1996-11-02T16:02:57.095Z</td>\n",
       "      <td>1996-12-14T23:59:00.842Z</td>\n",
       "      <td>[Jupiter, Callisto]</td>\n",
       "      <td>https://pds-ppi.igpp.ucla.edu/data/galileo-mag...</td>\n",
       "    </tr>\n",
       "    <tr>\n",
       "      <th>53</th>\n",
       "      <td>urn:nasa:pds:galileo-mag-jup-calibrated:data-m...</td>\n",
       "      <td>1.0</td>\n",
       "      <td>1996-12-15T00:18:32.842Z</td>\n",
       "      <td>1997-01-07T23:21:33.122Z</td>\n",
       "      <td>[Jupiter, Europa]</td>\n",
       "      <td>https://pds-ppi.igpp.ucla.edu/data/galileo-mag...</td>\n",
       "    </tr>\n",
       "    <tr>\n",
       "      <th>102</th>\n",
       "      <td>urn:nasa:pds:galileo-mag-jup-calibrated:data-m...</td>\n",
       "      <td>1.0</td>\n",
       "      <td>1996-12-15T00:18:32.842Z</td>\n",
       "      <td>1997-01-07T23:21:33.122Z</td>\n",
       "      <td>[Jupiter, Europa]</td>\n",
       "      <td>https://pds-ppi.igpp.ucla.edu/data/galileo-mag...</td>\n",
       "    </tr>\n",
       "    <tr>\n",
       "      <th>8</th>\n",
       "      <td>urn:nasa:pds:galileo-mag-jup-calibrated:data-m...</td>\n",
       "      <td>1.0</td>\n",
       "      <td>1996-12-15T00:18:32.842Z</td>\n",
       "      <td>1997-01-07T23:21:33.122Z</td>\n",
       "      <td>[Jupiter, Europa]</td>\n",
       "      <td>https://pds-ppi.igpp.ucla.edu/data/galileo-mag...</td>\n",
       "    </tr>\n",
       "    <tr>\n",
       "      <th>101</th>\n",
       "      <td>urn:nasa:pds:galileo-mag-jup-calibrated:data-m...</td>\n",
       "      <td>1.0</td>\n",
       "      <td>1996-12-15T00:18:36.842Z</td>\n",
       "      <td>1997-01-07T23:32:20.233Z</td>\n",
       "      <td>[Jupiter, Europa]</td>\n",
       "      <td>https://pds-ppi.igpp.ucla.edu/data/galileo-mag...</td>\n",
       "    </tr>\n",
       "  </tbody>\n",
       "</table>\n",
       "</div>"
      ],
      "text/plain": [
       "                                                   lid  vid  \\\n",
       "96   urn:nasa:pds:galileo-mag-jup-calibrated:data-m...  1.0   \n",
       "7    urn:nasa:pds:galileo-mag-jup-calibrated:data-m...  1.0   \n",
       "6    urn:nasa:pds:galileo-mag-jup-calibrated:data-m...  1.0   \n",
       "5    urn:nasa:pds:galileo-mag-jup-calibrated:data-m...  1.0   \n",
       "99   urn:nasa:pds:galileo-mag-jup-calibrated:data-m...  1.0   \n",
       "100  urn:nasa:pds:galileo-mag-jup-calibrated:data-m...  1.0   \n",
       "98   urn:nasa:pds:galileo-mag-jup-calibrated:data-m...  1.0   \n",
       "97   urn:nasa:pds:galileo-mag-jup-calibrated:data-m...  1.0   \n",
       "53   urn:nasa:pds:galileo-mag-jup-calibrated:data-m...  1.0   \n",
       "102  urn:nasa:pds:galileo-mag-jup-calibrated:data-m...  1.0   \n",
       "8    urn:nasa:pds:galileo-mag-jup-calibrated:data-m...  1.0   \n",
       "101  urn:nasa:pds:galileo-mag-jup-calibrated:data-m...  1.0   \n",
       "\n",
       "    pds:Time_Coordinates.pds:start_date_time  \\\n",
       "96                  1996-09-01T16:00:40.392Z   \n",
       "7                   1996-09-01T16:00:40.392Z   \n",
       "6                   1996-09-01T16:00:40.392Z   \n",
       "5                   1996-09-01T16:00:48.392Z   \n",
       "99                  1996-11-02T16:02:49.095Z   \n",
       "100                 1996-11-02T16:02:49.095Z   \n",
       "98                  1996-11-02T16:02:49.095Z   \n",
       "97                  1996-11-02T16:02:57.095Z   \n",
       "53                  1996-12-15T00:18:32.842Z   \n",
       "102                 1996-12-15T00:18:32.842Z   \n",
       "8                   1996-12-15T00:18:32.842Z   \n",
       "101                 1996-12-15T00:18:36.842Z   \n",
       "\n",
       "    pds:Time_Coordinates.pds:stop_date_time  \\\n",
       "96                 1996-11-02T11:44:01.104Z   \n",
       "7                  1996-11-02T11:44:01.104Z   \n",
       "6                  1996-11-02T11:44:01.104Z   \n",
       "5                  1996-11-02T11:44:09.104Z   \n",
       "99                 1996-12-14T23:58:52.842Z   \n",
       "100                1996-12-14T23:58:52.842Z   \n",
       "98                 1996-12-14T23:58:52.842Z   \n",
       "97                 1996-12-14T23:59:00.842Z   \n",
       "53                 1997-01-07T23:21:33.122Z   \n",
       "102                1997-01-07T23:21:33.122Z   \n",
       "8                  1997-01-07T23:21:33.122Z   \n",
       "101                1997-01-07T23:32:20.233Z   \n",
       "\n",
       "    pds:Target_Identification.pds:name  \\\n",
       "96                 [Jupiter, Ganymede]   \n",
       "7                  [Jupiter, Ganymede]   \n",
       "6                  [Jupiter, Ganymede]   \n",
       "5                  [Jupiter, Ganymede]   \n",
       "99                 [Jupiter, Callisto]   \n",
       "100                [Jupiter, Callisto]   \n",
       "98                 [Jupiter, Callisto]   \n",
       "97                 [Jupiter, Callisto]   \n",
       "53                   [Jupiter, Europa]   \n",
       "102                  [Jupiter, Europa]   \n",
       "8                    [Jupiter, Europa]   \n",
       "101                  [Jupiter, Europa]   \n",
       "\n",
       "                      ops:Label_File_Info.ops:file_ref  \n",
       "96   https://pds-ppi.igpp.ucla.edu/data/galileo-mag...  \n",
       "7    https://pds-ppi.igpp.ucla.edu/data/galileo-mag...  \n",
       "6    https://pds-ppi.igpp.ucla.edu/data/galileo-mag...  \n",
       "5    https://pds-ppi.igpp.ucla.edu/data/galileo-mag...  \n",
       "99   https://pds-ppi.igpp.ucla.edu/data/galileo-mag...  \n",
       "100  https://pds-ppi.igpp.ucla.edu/data/galileo-mag...  \n",
       "98   https://pds-ppi.igpp.ucla.edu/data/galileo-mag...  \n",
       "97   https://pds-ppi.igpp.ucla.edu/data/galileo-mag...  \n",
       "53   https://pds-ppi.igpp.ucla.edu/data/galileo-mag...  \n",
       "102  https://pds-ppi.igpp.ucla.edu/data/galileo-mag...  \n",
       "8    https://pds-ppi.igpp.ucla.edu/data/galileo-mag...  \n",
       "101  https://pds-ppi.igpp.ucla.edu/data/galileo-mag...  "
      ]
     },
     "metadata": {},
     "output_type": "display_data"
    }
   ],
   "source": [
    "display(products_df)"
   ]
  },
  {
   "cell_type": "markdown",
   "source": [
    "### Utilize pds4_tools utility to load each observational product dataset.\n",
    "\n",
    "In the collection, observational products in 2 coordinate systems are proposed (`sys3` or `irc`). We only select the observational products using the `irc` coordinate system."
   ],
   "metadata": {
    "collapsed": false,
    "pycharm": {
     "name": "#%% md\n"
    }
   }
  },
  {
   "cell_type": "code",
   "execution_count": null,
   "outputs": [],
   "source": [
    "xml_urls = [xml_url for xml_url in products_df['ops:Label_File_Info.ops:file_ref'] if 'IRC' in xml_url]\n",
    "\n",
    "combined_data = None\n",
    "for xml_url in xml_urls:\n",
    "    prod_struct = pds4_tools.read(xml_url, quiet = True)\n",
    "    data_grab = np.array(prod_struct[0]['SAMPLE TIME', 'B-FIELD MAGNITUDE'])\n",
    "    combined_data = data_grab if combined_data is None else np.concatenate((combined_data, data_grab))"
   ],
   "metadata": {
    "collapsed": false,
    "pycharm": {
     "name": "#%%\n"
    }
   }
  },
  {
   "cell_type": "markdown",
   "source": [
    "### Plot magnetic field magnitude time series"
   ],
   "metadata": {
    "collapsed": false,
    "pycharm": {
     "name": "#%% md\n"
    }
   }
  },
  {
   "cell_type": "code",
   "execution_count": null,
   "outputs": [],
   "source": [
    "mag_datetime = [datetime.strptime(t, \"%Y-%m-%dT%H:%M:%S.%f\") for t in trunc_data_tot['SAMPLE TIME']]\n",
    "fig, ax = plt.subplots()\n",
    "cm = ax.plot(mag_datetime,trunc_data_tot['B-FIELD MAGNITUDE'])\n",
    "\n",
    "ax.xaxis.set_major_formatter(mdates.DateFormatter('%b %Y'))\n",
    "plt.xticks(rotation=45)\n",
    "\n",
    "plt.xlabel(\"Time\")\n",
    "plt.locator_params(axis='x', nbins=10)\n",
    "plt.ylabel(\"Magnitude (nT)\")\n",
    "plt.title(\"Galileo Magnetometer Readings\")\n",
    "\n",
    "plt.show()"
   ],
   "metadata": {
    "collapsed": false,
    "pycharm": {
     "name": "#%%\n"
    }
   }
  },
  {
   "cell_type": "markdown",
   "source": [
    "## Step 2: Obtain ephemeris for magnetometer measurements\n",
    "\n",
    "Obtain the position at each magnetometer measurement timestamp using spiceypy.\n",
    "\n",
    "***Note: You can change the number of data points you would like to plot by changing the sample variable. The higher it is, the fewer data points you will plot.***"
   ],
   "metadata": {
    "collapsed": false,
    "pycharm": {
     "name": "#%% md\n"
    }
   }
  },
  {
   "cell_type": "markdown",
   "source": [
    "### Load Spice Kernels\n",
    "\n",
    "Spice kernels are used to compute the location of the spacecraft at given date/time."
   ],
   "metadata": {
    "collapsed": false,
    "pycharm": {
     "name": "#%% md\n"
    }
   }
  },
  {
   "cell_type": "code",
   "execution_count": null,
   "outputs": [],
   "source": [
    "def download_and_load_spice_kernel(p_url):\n",
    "    if not os.access('.spice_kernels',os.F_OK):\n",
    "        os.mkdir('.spice_kernels')\n",
    "\n",
    "    kernel_dir = os.path.join(\".spice_kernels\")\n",
    "    os.makedirs(kernel_dir, exist_ok=True)\n",
    "    file_path = os.path.join(kernel_dir, os.path.basename(p_url))\n",
    "    if not os.path.exists(file_path):\n",
    "        r = requests.get(url, allow_redirects=True)\n",
    "        if r.status_code == 200:\n",
    "            print('Successfully loaded:',os.path.basename(p_url))\n",
    "\n",
    "            open(file_path, \"wb\").write(r.content)\n",
    "    else:\n",
    "        print('\"',os.path.basename(p_url), '\" already exists. Skipping download.')\n",
    "    spiceypy.furnsh(file_path)\n",
    "    \n",
    "KERNEL_URLS = [\n",
    "    #generic LSK\n",
    "    \"https://naif.jpl.nasa.gov/pub/naif/pds/data/ody-m-spice-6-v1.0/odsp_1000/data/lsk/naif0008.tls\",\n",
    "    #Galileo SC SPK\n",
    "    \"https://naif.jpl.nasa.gov/pub/naif/GLL/kernels/spk/gll_951120_021126_raj2021.bsp\",\n",
    "    # Leap seconds kernel\n",
    "    \"https://naif.jpl.nasa.gov/pub/naif/generic_kernels/lsk/naif0012.tls\",\n",
    "]\n",
    "for url in KERNEL_URLS:\n",
    "    download_and_load_spice_kernel(url)\n",
    "            \n"
   ],
   "metadata": {
    "collapsed": false,
    "pycharm": {
     "name": "#%%\n"
    }
   }
  },
  {
   "cell_type": "markdown",
   "source": [
    "### Compute spacecraft position for each magnetometer measurement."
   ],
   "metadata": {
    "collapsed": false,
    "pycharm": {
     "name": "#%% md\n"
    }
   }
  },
  {
   "cell_type": "code",
   "execution_count": null,
   "outputs": [],
   "source": [
    "sample = 100\n",
    "trunc_data_tot = combined_data[1::sample]\n",
    "\n",
    "mag_ephem_data = []\n",
    "for t in trunc_data_tot['SAMPLE TIME']:\n",
    "        et = spiceypy.str2et( t )\n",
    "        [state, ltime] = spiceypy.spkezr( '5', et, 'J2000', 'LT+S', '-77')\n",
    "        mag_ephem_data.append(state[0:3])\n",
    "\n",
    "print(\"Number of magnetometer readings to plot: \"+ str(len(mag_ephem_data)))\n"
   ],
   "metadata": {
    "collapsed": false,
    "pycharm": {
     "name": "#%%\n"
    }
   }
  },
  {
   "cell_type": "markdown",
   "source": [
    "## Step 4: display data in pyWWT Solar System 3D view"
   ],
   "metadata": {
    "collapsed": false,
    "pycharm": {
     "name": "#%% md\n"
    }
   }
  },
  {
   "cell_type": "markdown",
   "source": [
    "### Organize the data for pyWWT\n",
    "\n",
    "This step organizes all the data variables into tables for pyWWT. A table is generated for the magnetometer data and another for the ephemeris data."
   ],
   "metadata": {
    "collapsed": false,
    "pycharm": {
     "name": "#%% md\n"
    }
   }
  },
  {
   "cell_type": "code",
   "execution_count": null,
   "outputs": [],
   "source": [
    "mag_tab_data = Table(np.array(mag_ephem_data), names = ['X', 'Y', 'Z'])\n",
    "ephem_tab = Table(np.array(ephem_data), names = ['X', 'Y', 'Z'])\n",
    "\n",
    "mag_tab = hstack([Table(trunc_data_tot), mag_tab_data])\n",
    "ephem_tab['Time'] = ephem_iso\n",
    "            \n",
    "print('Done!')"
   ],
   "metadata": {
    "collapsed": false,
    "pycharm": {
     "name": "#%%\n"
    }
   }
  },
  {
   "cell_type": "markdown",
   "source": [
    "### Connect pyWWT Widget\n",
    "\n",
    "***Before proceeding, ensure that you have another tab open in the notebook for the AAS WorldWide Telescope widget***\n",
    "\n",
    "Instantiate the WWTJupyterWidget and await connection."
   ],
   "metadata": {
    "collapsed": false,
    "pycharm": {
     "name": "#%% md\n"
    }
   }
  },
  {
   "cell_type": "code",
   "execution_count": null,
   "outputs": [],
   "source": [
    "wwt = WWTJupyterWidget()\n",
    "wwt = await connect_to_app().becomes_ready()\n",
    "print('Successful Connection')\n",
    "wwt.reset()"
   ],
   "metadata": {
    "collapsed": false,
    "pycharm": {
     "name": "#%%\n"
    }
   }
  },
  {
   "cell_type": "markdown",
   "source": [
    "### Set view and load data\n",
    "\n",
    "Set the WWT view to the solar system and load in the magnetometer data and ephemeris data via table layers. Once complete, in the pyWWT widget the view will be centered on Jupiter. Zoom in to see the results!"
   ],
   "metadata": {
    "collapsed": false,
    "pycharm": {
     "name": "#%% md\n"
    }
   }
  },
  {
   "cell_type": "code",
   "execution_count": null,
   "outputs": [],
   "source": [
    "wwt.set_current_time(Time('1995-12-07 15:21:01.776000'))\n",
    "wwt.set_view(\"solar system\")\n",
    "layer = wwt.layers.add_table_layer(table = mag_tab, frame = 'jupiter',\n",
    "                                  coord_type = 'rectangular',\n",
    "                                  x_att = 'X', y_att = 'Y', z_att = 'Z')\n",
    "layer.xyz_unit = 'km'\n",
    "layer.far_side_visible = True\n",
    "\n",
    "layer.cmap_att = 'B-FIELD MAGNITUDE'\n",
    "layer.cmap.vmin = min(mag_tab['B-FIELD MAGNITUDE'])\n",
    "layer.cmap.vmax = max(mag_tab['B-FIELD MAGNITUDE'])\n",
    "\n",
    "layer.size_scale = 250\n",
    "layer.far_side_visible = True\n",
    "layer.marker_type = 'point'\n",
    "layer.opacity = 0.25\n",
    "\n",
    "layer.marker_scale = 'world'\n",
    "\n",
    "eph = wwt.layers.add_table_layer(table = ephem_tab, frame = 'jupiter',\n",
    "                                  coord_type = 'rectangular',\n",
    "                                  x_att = 'X', y_att = 'Y', z_att = 'Z')\n",
    "eph.xyz_unit = 'km'\n",
    "eph.far_side_visible = True\n",
    "eph.color = (.2, .2, .6)\n",
    "eph.size_scale = 16\n",
    "eph.far_side_visible = True\n",
    "\n"
   ],
   "metadata": {
    "collapsed": false,
    "pycharm": {
     "name": "#%%\n"
    }
   }
  },
  {
   "cell_type": "markdown",
   "source": [
    "### Set view point on Jupiter\n",
    "\n",
    "For some reason this need to be done in a different cell..."
   ],
   "metadata": {
    "collapsed": false,
    "pycharm": {
     "name": "#%% md\n"
    }
   }
  },
  {
   "cell_type": "code",
   "execution_count": null,
   "outputs": [],
   "source": [
    "wwt.solar_system.track_object('Jupiter')"
   ],
   "metadata": {
    "collapsed": false,
    "pycharm": {
     "name": "#%%\n"
    }
   }
  },
  {
   "cell_type": "markdown",
   "source": [
    "### Animation (Work In Progress)\n",
    "\n",
    "Note the below code is still a work in progress and will not function as intended."
   ],
   "metadata": {
    "collapsed": false,
    "pycharm": {
     "name": "#%% md\n"
    }
   }
  },
  {
   "cell_type": "code",
   "execution_count": null,
   "outputs": [],
   "source": [
    "# start_time = ephem_tab['Time'][0]\n",
    "# theta_dot = 1.76**-4 *3600 # rad/hour\n",
    "# thetas = [theta_dot * (datetime.fromisoformat(start_time) - datetime.fromisoformat(curr_time)).total_seconds()/3600 for curr_time in ephem_tab['Time']]\n",
    "\n",
    "# trans_mat = [np.array([[np.cos(theta), -np.sin(theta)] , [np.sin(theta), np.cos(theta)]]) for theta in thetas]\n",
    "\n",
    "# trans_xy = [np.dot(trans_mat,np.array([[x] , [y]])) for x,y in zip(ephem_tab['X'],ephem_tab['Y'])]\n",
    "\n",
    "# for i in range(len(ephem_tab)):\n",
    "#     trans_mat = [np.array([np.cos(thetas[i]), -np.sin(thetas[i])] , [np.sin(thetas[i]), np.cos(thetas[i])])]\n",
    "#     trans_xy[i] = [np.dot(trans_mat,np.array([x] , [y])) for x,y in zip(ephem_tab['X'][i],ephem_tab['Y'])[i]]\n",
    "   \n",
    "\n",
    "eph.time_series = True\n",
    "eph.time_att = 'Time'\n",
    "eph.time_decay = 500 * u.hour\n",
    "\n",
    "# layer.time_series = True\n",
    "# layer.time_att = 'Time'\n",
    "# layer.time_decay = 10000 * u.hour\n",
    "\n",
    "my_time = Time('1996-12-07 15:21:01.776000')\n",
    "wwt.set_current_time(my_time)\n",
    "\n",
    "wwt.play_time(rate=10000)\n"
   ],
   "metadata": {
    "collapsed": false,
    "pycharm": {
     "name": "#%%\n"
    }
   }
  },
  {
   "cell_type": "code",
   "execution_count": null,
   "outputs": [],
   "source": [
    "wwt.pause_time()"
   ],
   "metadata": {
    "collapsed": false,
    "pycharm": {
     "name": "#%%\n"
    }
   }
  },
  {
   "cell_type": "code",
   "execution_count": 25,
   "id": "a7ee087d-b839-42ee-bb4d-21e833ae270d",
   "metadata": {},
   "outputs": [],
   "source": [
    "wwt.pause_time()"
   ]
  }
 ],
 "metadata": {
  "kernelspec": {
   "display_name": "Python 3 (ipykernel)",
   "language": "python",
   "name": "python3"
  },
  "language_info": {
   "codemirror_mode": {
    "name": "ipython",
    "version": 3
   },
   "file_extension": ".py",
   "mimetype": "text/x-python",
   "name": "python",
   "nbconvert_exporter": "python",
   "pygments_lexer": "ipython3",
   "version": "3.11.4"
  }
 },
 "nbformat": 4,
 "nbformat_minor": 5
}