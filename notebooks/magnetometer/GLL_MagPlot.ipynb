{
 "cells": [
  {
   "cell_type": "markdown",
   "id": "97d33d49",
   "metadata": {
    "pycharm": {
     "name": "#%% md\n"
    }
   },
   "source": [
    "# Visualize Galileo Magnetometer data with pyWWT\n",
    "\n",
    "This notebook uses the PDS Search API to visualize Galileo Orbiter's magnetosphere measurement campaign with pyWWT. Thanks to PyWWT observations are displayed in their Solar System location in a 3D view.\n",
    "\n",
    "To properly run this code, ensure that you have followed the steps outlined in the README.md file. Additionally, ensure that you have opened an \"AAS Worldwide Telescope\" launcher in your notebook work space. To do this simply go to File -> New Launcher and (if configured correctly) click the AAS WWT icon. See [WWTs Jupyter Application](https://pywwt.readthedocs.io/en/stable/jupyterlab.html) for troubleshooting and further setup.\n"
   ]
  },
  {
   "cell_type": "markdown",
   "id": "6d8eaca3",
   "metadata": {
    "pycharm": {
     "name": "#%% md\n"
    }
   },
   "source": [
    "## Step 0: Import Libraries and download pds4_tools"
   ]
  },
  {
   "cell_type": "code",
   "execution_count": 1,
   "id": "1dfc3057",
   "metadata": {
    "collapsed": false,
    "jupyter": {
     "outputs_hidden": false
    },
    "pycharm": {
     "name": "#%%\n"
    },
    "ExecuteTime": {
     "end_time": "2023-08-30T18:59:49.193695Z",
     "start_time": "2023-08-30T18:59:43.888069Z"
    }
   },
   "outputs": [],
   "source": [
    "from __future__ import print_function\n",
    "import pandas as pd\n",
    "import numpy as np\n",
    "\n",
    "import requests\n",
    "import spiceypy\n",
    "import os\n",
    "import io\n",
    "import pds4_tools\n",
    "\n",
    "from datetime import datetime,timedelta\n",
    "import matplotlib.dates as mdates\n",
    "from astropy import units as u\n",
    "\n",
    "from astropy.time import Time\n",
    "from pywwt.jupyter import WWTJupyterWidget\n",
    "from pywwt.jupyter import connect_to_app\n",
    "from astropy.table import Table, hstack\n",
    "import matplotlib.pyplot as plt"
   ]
  },
  {
   "cell_type": "markdown",
   "id": "b42eca90",
   "metadata": {
    "pycharm": {
     "name": "#%% md\n"
    }
   },
   "source": [
    "## Step 1: Extract data from the PDS Search API"
   ]
  },
  {
   "cell_type": "markdown",
   "id": "55bf641f-bef9-4ade-97a3-91ced60c37f3",
   "metadata": {
    "tags": []
   },
   "source": [
    "### Get the observational products of a Galileo Magnetometer collection\n",
    "\n",
    "Utilize the PDS Search API to list the magnetometer observational products of a Galileo Orbiter's collection in a pandas dataframe."
   ]
  },
  {
   "cell_type": "code",
   "execution_count": 2,
   "id": "cbfeea99",
   "metadata": {
    "collapsed": false,
    "jupyter": {
     "outputs_hidden": false
    },
    "pycharm": {
     "name": "#%%\n"
    },
    "ExecuteTime": {
     "end_time": "2023-08-30T18:59:54.761883Z",
     "start_time": "2023-08-30T18:59:54.100743Z"
    }
   },
   "outputs": [],
   "source": [
    "#High-res magnetometer data\n",
    "# collection_lid = \"urn:nasa:pds:galileo-mag-jup-calibrated:data-highres-magnetosphere::1.0\"\n",
    "#Low-res magnetometer data\n",
    "collection_lid = \"urn:nasa:pds:galileo-mag-jup-calibrated:data-magspheric-survey::1.0\"\n",
    "\n",
    "url = f\"https://pds.nasa.gov/api/search/1/products/{collection_lid}/members\"\n",
    "\n",
    "field_names = [ \"lid\", \"vid\", \"pds:Time_Coordinates.pds:start_date_time\",\n",
    "    \"pds:Time_Coordinates.pds:stop_date_time\", \"pds:Target_Identification.pds:name\",\n",
    "    \"ops:Label_File_Info.ops:file_ref\"]\n",
    "\n",
    "params = dict(\n",
    "    fields = \",\".join(field_names)\n",
    ")\n",
    "\n",
    "headers = dict(Accept=\"application/csv\")\n",
    "response = requests.get(\n",
    "    url,\n",
    "    params=params,\n",
    "    headers=headers\n",
    ")\n",
    "\n",
    "products_csv_stream = io.StringIO(response.content.decode('utf-8'))\n",
    "products_df_tot = pd.read_csv(products_csv_stream)\n",
    "\n",
    "# change columns & line order\n",
    "products_df_tot = products_df_tot[field_names]\n",
    "products_df_tot.sort_values(by='pds:Time_Coordinates.pds:start_date_time', inplace=True)\n",
    "\n",
    "#User specified time range\n",
    "start_time = pd.to_datetime('1996-07-19T11:00:00Z')\n",
    "end_time = pd.to_datetime('1997-01-19T15:00:00Z')\n",
    "\n",
    "# Filter the DataFrame within the time range\n",
    "t_str = 'pds:Time_Coordinates.pds:start_date_time'\n",
    "products_df = products_df_tot[(pd.to_datetime(products_df_tot[t_str]) >= start_time) & (pd.to_datetime(products_df_tot[t_str]) <= end_time)]\n"
   ]
  },
  {
   "cell_type": "markdown",
   "id": "353c0251",
   "metadata": {
    "pycharm": {
     "name": "#%% md\n"
    }
   },
   "source": [
    "### Display the list of products"
   ]
  },
  {
   "cell_type": "code",
   "execution_count": 3,
   "id": "4595bf3a",
   "metadata": {
    "collapsed": false,
    "jupyter": {
     "outputs_hidden": false
    },
    "pycharm": {
     "name": "#%%\n"
    },
    "ExecuteTime": {
     "end_time": "2023-08-30T18:59:56.380122Z",
     "start_time": "2023-08-30T18:59:56.169787Z"
    }
   },
   "outputs": [
    {
     "data": {
      "text/plain": "                                                  lid  vid  \\\n65  urn:nasa:pds:galileo-mag-jup-calibrated:data-m...  1.0   \n7   urn:nasa:pds:galileo-mag-jup-calibrated:data-m...  1.0   \n6   urn:nasa:pds:galileo-mag-jup-calibrated:data-m...  1.0   \n5   urn:nasa:pds:galileo-mag-jup-calibrated:data-m...  1.0   \n67  urn:nasa:pds:galileo-mag-jup-calibrated:data-m...  1.0   \n68  urn:nasa:pds:galileo-mag-jup-calibrated:data-m...  1.0   \n69  urn:nasa:pds:galileo-mag-jup-calibrated:data-m...  1.0   \n66  urn:nasa:pds:galileo-mag-jup-calibrated:data-m...  1.0   \n8   urn:nasa:pds:galileo-mag-jup-calibrated:data-m...  1.0   \n31  urn:nasa:pds:galileo-mag-jup-calibrated:data-m...  1.0   \n71  urn:nasa:pds:galileo-mag-jup-calibrated:data-m...  1.0   \n70  urn:nasa:pds:galileo-mag-jup-calibrated:data-m...  1.0   \n\n   pds:Time_Coordinates.pds:start_date_time  \\\n65                 1996-09-01T16:00:40.392Z   \n7                  1996-09-01T16:00:40.392Z   \n6                  1996-09-01T16:00:40.392Z   \n5                  1996-09-01T16:00:48.392Z   \n67                 1996-11-02T16:02:49.095Z   \n68                 1996-11-02T16:02:49.095Z   \n69                 1996-11-02T16:02:49.095Z   \n66                 1996-11-02T16:02:57.095Z   \n8                  1996-12-15T00:18:32.842Z   \n31                 1996-12-15T00:18:32.842Z   \n71                 1996-12-15T00:18:32.842Z   \n70                 1996-12-15T00:18:36.842Z   \n\n   pds:Time_Coordinates.pds:stop_date_time pds:Target_Identification.pds:name  \\\n65                1996-11-02T11:44:01.104Z                [Jupiter, Ganymede]   \n7                 1996-11-02T11:44:01.104Z                [Jupiter, Ganymede]   \n6                 1996-11-02T11:44:01.104Z                [Jupiter, Ganymede]   \n5                 1996-11-02T11:44:09.104Z                [Jupiter, Ganymede]   \n67                1996-12-14T23:58:52.842Z                [Jupiter, Callisto]   \n68                1996-12-14T23:58:52.842Z                [Jupiter, Callisto]   \n69                1996-12-14T23:58:52.842Z                [Jupiter, Callisto]   \n66                1996-12-14T23:59:00.842Z                [Jupiter, Callisto]   \n8                 1997-01-07T23:21:33.122Z                  [Jupiter, Europa]   \n31                1997-01-07T23:21:33.122Z                  [Jupiter, Europa]   \n71                1997-01-07T23:21:33.122Z                  [Jupiter, Europa]   \n70                1997-01-07T23:32:20.233Z                  [Jupiter, Europa]   \n\n                     ops:Label_File_Info.ops:file_ref  \n65  [https://pds-ppi.igpp.ucla.edu/data/galileo-ma...  \n7   [https://pds-ppi.igpp.ucla.edu/data/galileo-ma...  \n6   [https://pds-ppi.igpp.ucla.edu/data/galileo-ma...  \n5   [https://pds-ppi.igpp.ucla.edu/data/galileo-ma...  \n67  [https://pds-ppi.igpp.ucla.edu/data/galileo-ma...  \n68  [https://pds-ppi.igpp.ucla.edu/data/galileo-ma...  \n69  [https://pds-ppi.igpp.ucla.edu/data/galileo-ma...  \n66  [https://pds-ppi.igpp.ucla.edu/data/galileo-ma...  \n8   [https://pds-ppi.igpp.ucla.edu/data/galileo-ma...  \n31  [https://pds-ppi.igpp.ucla.edu/data/galileo-ma...  \n71  [https://pds-ppi.igpp.ucla.edu/data/galileo-ma...  \n70  [https://pds-ppi.igpp.ucla.edu/data/galileo-ma...  ",
      "text/html": "<div>\n<style scoped>\n    .dataframe tbody tr th:only-of-type {\n        vertical-align: middle;\n    }\n\n    .dataframe tbody tr th {\n        vertical-align: top;\n    }\n\n    .dataframe thead th {\n        text-align: right;\n    }\n</style>\n<table border=\"1\" class=\"dataframe\">\n  <thead>\n    <tr style=\"text-align: right;\">\n      <th></th>\n      <th>lid</th>\n      <th>vid</th>\n      <th>pds:Time_Coordinates.pds:start_date_time</th>\n      <th>pds:Time_Coordinates.pds:stop_date_time</th>\n      <th>pds:Target_Identification.pds:name</th>\n      <th>ops:Label_File_Info.ops:file_ref</th>\n    </tr>\n  </thead>\n  <tbody>\n    <tr>\n      <th>65</th>\n      <td>urn:nasa:pds:galileo-mag-jup-calibrated:data-m...</td>\n      <td>1.0</td>\n      <td>1996-09-01T16:00:40.392Z</td>\n      <td>1996-11-02T11:44:01.104Z</td>\n      <td>[Jupiter, Ganymede]</td>\n      <td>[https://pds-ppi.igpp.ucla.edu/data/galileo-ma...</td>\n    </tr>\n    <tr>\n      <th>7</th>\n      <td>urn:nasa:pds:galileo-mag-jup-calibrated:data-m...</td>\n      <td>1.0</td>\n      <td>1996-09-01T16:00:40.392Z</td>\n      <td>1996-11-02T11:44:01.104Z</td>\n      <td>[Jupiter, Ganymede]</td>\n      <td>[https://pds-ppi.igpp.ucla.edu/data/galileo-ma...</td>\n    </tr>\n    <tr>\n      <th>6</th>\n      <td>urn:nasa:pds:galileo-mag-jup-calibrated:data-m...</td>\n      <td>1.0</td>\n      <td>1996-09-01T16:00:40.392Z</td>\n      <td>1996-11-02T11:44:01.104Z</td>\n      <td>[Jupiter, Ganymede]</td>\n      <td>[https://pds-ppi.igpp.ucla.edu/data/galileo-ma...</td>\n    </tr>\n    <tr>\n      <th>5</th>\n      <td>urn:nasa:pds:galileo-mag-jup-calibrated:data-m...</td>\n      <td>1.0</td>\n      <td>1996-09-01T16:00:48.392Z</td>\n      <td>1996-11-02T11:44:09.104Z</td>\n      <td>[Jupiter, Ganymede]</td>\n      <td>[https://pds-ppi.igpp.ucla.edu/data/galileo-ma...</td>\n    </tr>\n    <tr>\n      <th>67</th>\n      <td>urn:nasa:pds:galileo-mag-jup-calibrated:data-m...</td>\n      <td>1.0</td>\n      <td>1996-11-02T16:02:49.095Z</td>\n      <td>1996-12-14T23:58:52.842Z</td>\n      <td>[Jupiter, Callisto]</td>\n      <td>[https://pds-ppi.igpp.ucla.edu/data/galileo-ma...</td>\n    </tr>\n    <tr>\n      <th>68</th>\n      <td>urn:nasa:pds:galileo-mag-jup-calibrated:data-m...</td>\n      <td>1.0</td>\n      <td>1996-11-02T16:02:49.095Z</td>\n      <td>1996-12-14T23:58:52.842Z</td>\n      <td>[Jupiter, Callisto]</td>\n      <td>[https://pds-ppi.igpp.ucla.edu/data/galileo-ma...</td>\n    </tr>\n    <tr>\n      <th>69</th>\n      <td>urn:nasa:pds:galileo-mag-jup-calibrated:data-m...</td>\n      <td>1.0</td>\n      <td>1996-11-02T16:02:49.095Z</td>\n      <td>1996-12-14T23:58:52.842Z</td>\n      <td>[Jupiter, Callisto]</td>\n      <td>[https://pds-ppi.igpp.ucla.edu/data/galileo-ma...</td>\n    </tr>\n    <tr>\n      <th>66</th>\n      <td>urn:nasa:pds:galileo-mag-jup-calibrated:data-m...</td>\n      <td>1.0</td>\n      <td>1996-11-02T16:02:57.095Z</td>\n      <td>1996-12-14T23:59:00.842Z</td>\n      <td>[Jupiter, Callisto]</td>\n      <td>[https://pds-ppi.igpp.ucla.edu/data/galileo-ma...</td>\n    </tr>\n    <tr>\n      <th>8</th>\n      <td>urn:nasa:pds:galileo-mag-jup-calibrated:data-m...</td>\n      <td>1.0</td>\n      <td>1996-12-15T00:18:32.842Z</td>\n      <td>1997-01-07T23:21:33.122Z</td>\n      <td>[Jupiter, Europa]</td>\n      <td>[https://pds-ppi.igpp.ucla.edu/data/galileo-ma...</td>\n    </tr>\n    <tr>\n      <th>31</th>\n      <td>urn:nasa:pds:galileo-mag-jup-calibrated:data-m...</td>\n      <td>1.0</td>\n      <td>1996-12-15T00:18:32.842Z</td>\n      <td>1997-01-07T23:21:33.122Z</td>\n      <td>[Jupiter, Europa]</td>\n      <td>[https://pds-ppi.igpp.ucla.edu/data/galileo-ma...</td>\n    </tr>\n    <tr>\n      <th>71</th>\n      <td>urn:nasa:pds:galileo-mag-jup-calibrated:data-m...</td>\n      <td>1.0</td>\n      <td>1996-12-15T00:18:32.842Z</td>\n      <td>1997-01-07T23:21:33.122Z</td>\n      <td>[Jupiter, Europa]</td>\n      <td>[https://pds-ppi.igpp.ucla.edu/data/galileo-ma...</td>\n    </tr>\n    <tr>\n      <th>70</th>\n      <td>urn:nasa:pds:galileo-mag-jup-calibrated:data-m...</td>\n      <td>1.0</td>\n      <td>1996-12-15T00:18:36.842Z</td>\n      <td>1997-01-07T23:32:20.233Z</td>\n      <td>[Jupiter, Europa]</td>\n      <td>[https://pds-ppi.igpp.ucla.edu/data/galileo-ma...</td>\n    </tr>\n  </tbody>\n</table>\n</div>"
     },
     "metadata": {},
     "output_type": "display_data"
    }
   ],
   "source": [
    "display(products_df)"
   ]
  },
  {
   "cell_type": "markdown",
   "id": "78086f32",
   "metadata": {
    "pycharm": {
     "name": "#%% md\n"
    }
   },
   "source": [
    "### Utilize pds4_tools utility to load each observational product dataset.\n",
    "\n",
    "In the collection, observational products in 2 coordinate systems are proposed (`sys3` or `irc`). We only select the observational products using the `irc` coordinate system."
   ]
  },
  {
   "cell_type": "code",
   "execution_count": 4,
   "id": "6751212d",
   "metadata": {
    "collapsed": false,
    "jupyter": {
     "outputs_hidden": false
    },
    "pycharm": {
     "name": "#%%\n"
    },
    "ExecuteTime": {
     "end_time": "2023-08-30T19:00:01.537149Z",
     "start_time": "2023-08-30T18:59:58.782418Z"
    }
   },
   "outputs": [
    {
     "ename": "OSError",
     "evalue": "Unable to locate or read label file: [https://pds-ppi.igpp.ucla.edu/data/galileo-mag-jup-calibrated/data-magspheric-survey/ORB02_IRC.xml]",
     "output_type": "error",
     "traceback": [
      "\u001B[0;31m---------------------------------------------------------------------------\u001B[0m",
      "\u001B[0;31mFileNotFoundError\u001B[0m                         Traceback (most recent call last)",
      "File \u001B[0;32m/usr/local/lib/python3.11/site-packages/pds4_tools/reader/read_label.py:58\u001B[0m, in \u001B[0;36mread_label\u001B[0;34m(filename, strip_extra_whitespace, enforce_default_prefixes, include_namespace_map, decode_py2)\u001B[0m\n\u001B[1;32m     57\u001B[0m \u001B[38;5;28;01mtry\u001B[39;00m:\n\u001B[0;32m---> 58\u001B[0m     xml_tree \u001B[38;5;241m=\u001B[39m \u001B[43mET\u001B[49m\u001B[38;5;241;43m.\u001B[39;49m\u001B[43miterparse\u001B[49m\u001B[43m(\u001B[49m\u001B[43mfilename\u001B[49m\u001B[43m,\u001B[49m\u001B[43m \u001B[49m\u001B[43mevents\u001B[49m\u001B[38;5;241;43m=\u001B[39;49m\u001B[43m(\u001B[49m\u001B[38;5;124;43m'\u001B[39;49m\u001B[38;5;124;43mstart-ns\u001B[39;49m\u001B[38;5;124;43m'\u001B[39;49m\u001B[43m,\u001B[49m\u001B[43m \u001B[49m\u001B[38;5;124;43m'\u001B[39;49m\u001B[38;5;124;43mend\u001B[39;49m\u001B[38;5;124;43m'\u001B[39;49m\u001B[43m)\u001B[49m\u001B[43m)\u001B[49m\n\u001B[1;32m     59\u001B[0m \u001B[38;5;28;01mexcept\u001B[39;00m \u001B[38;5;167;01mIOError\u001B[39;00m:\n",
      "File \u001B[0;32m/usr/local/Cellar/python@3.11/3.11.4_1/Frameworks/Python.framework/Versions/3.11/lib/python3.11/xml/etree/ElementTree.py:1268\u001B[0m, in \u001B[0;36miterparse\u001B[0;34m(source, events, parser)\u001B[0m\n\u001B[1;32m   1266\u001B[0m \u001B[38;5;28;01mdel\u001B[39;00m iterator, IterParseIterator\n\u001B[0;32m-> 1268\u001B[0m \u001B[38;5;28;43mnext\u001B[39;49m\u001B[43m(\u001B[49m\u001B[43mit\u001B[49m\u001B[43m)\u001B[49m\n\u001B[1;32m   1269\u001B[0m \u001B[38;5;28;01mreturn\u001B[39;00m it\n",
      "File \u001B[0;32m/usr/local/Cellar/python@3.11/3.11.4_1/Frameworks/Python.framework/Versions/3.11/lib/python3.11/xml/etree/ElementTree.py:1245\u001B[0m, in \u001B[0;36miterparse.<locals>.iterator\u001B[0;34m(source)\u001B[0m\n\u001B[1;32m   1244\u001B[0m \u001B[38;5;28;01mif\u001B[39;00m \u001B[38;5;129;01mnot\u001B[39;00m \u001B[38;5;28mhasattr\u001B[39m(source, \u001B[38;5;124m\"\u001B[39m\u001B[38;5;124mread\u001B[39m\u001B[38;5;124m\"\u001B[39m):\n\u001B[0;32m-> 1245\u001B[0m     source \u001B[38;5;241m=\u001B[39m \u001B[38;5;28;43mopen\u001B[39;49m\u001B[43m(\u001B[49m\u001B[43msource\u001B[49m\u001B[43m,\u001B[49m\u001B[43m \u001B[49m\u001B[38;5;124;43m\"\u001B[39;49m\u001B[38;5;124;43mrb\u001B[39;49m\u001B[38;5;124;43m\"\u001B[39;49m\u001B[43m)\u001B[49m\n\u001B[1;32m   1246\u001B[0m     close_source \u001B[38;5;241m=\u001B[39m \u001B[38;5;28;01mTrue\u001B[39;00m\n",
      "\u001B[0;31mFileNotFoundError\u001B[0m: [Errno 2] No such file or directory: '[https://pds-ppi.igpp.ucla.edu/data/galileo-mag-jup-calibrated/data-magspheric-survey/ORB02_IRC.xml]'",
      "\nDuring handling of the above exception, another exception occurred:\n",
      "\u001B[0;31mOSError\u001B[0m                                   Traceback (most recent call last)",
      "Cell \u001B[0;32mIn[4], line 6\u001B[0m\n\u001B[1;32m      4\u001B[0m data_dict \u001B[38;5;241m=\u001B[39m {}\n\u001B[1;32m      5\u001B[0m \u001B[38;5;28;01mfor\u001B[39;00m ind,xml_url \u001B[38;5;129;01min\u001B[39;00m \u001B[38;5;28menumerate\u001B[39m(xml_urls):\n\u001B[0;32m----> 6\u001B[0m     prod_struct \u001B[38;5;241m=\u001B[39m \u001B[43mpds4_tools\u001B[49m\u001B[38;5;241;43m.\u001B[39;49m\u001B[43mread\u001B[49m\u001B[43m(\u001B[49m\u001B[43mxml_url\u001B[49m\u001B[43m,\u001B[49m\u001B[43m \u001B[49m\u001B[43mquiet\u001B[49m\u001B[43m \u001B[49m\u001B[38;5;241;43m=\u001B[39;49m\u001B[43m \u001B[49m\u001B[38;5;28;43;01mTrue\u001B[39;49;00m\u001B[43m)\u001B[49m\n\u001B[1;32m      7\u001B[0m     data_dict[ind] \u001B[38;5;241m=\u001B[39m np\u001B[38;5;241m.\u001B[39marray(prod_struct[\u001B[38;5;241m0\u001B[39m][\u001B[38;5;124m'\u001B[39m\u001B[38;5;124mSAMPLE TIME\u001B[39m\u001B[38;5;124m'\u001B[39m, \u001B[38;5;124m'\u001B[39m\u001B[38;5;124mB-FIELD MAGNITUDE\u001B[39m\u001B[38;5;124m'\u001B[39m])\n",
      "File \u001B[0;32m/usr/local/lib/python3.11/site-packages/pds4_tools/reader/core.py:195\u001B[0m, in \u001B[0;36mpds4_read\u001B[0;34m(filename, quiet, lazy_load, no_scale, decode_strings)\u001B[0m\n\u001B[1;32m    193\u001B[0m logger\u001B[38;5;241m.\u001B[39minfo(\u001B[38;5;124m'\u001B[39m\u001B[38;5;124mProcessing label: \u001B[39m\u001B[38;5;124m'\u001B[39m \u001B[38;5;241m+\u001B[39m filename)\n\u001B[1;32m    194\u001B[0m reified_filename \u001B[38;5;241m=\u001B[39m download_file(filename) \u001B[38;5;28;01mif\u001B[39;00m is_supported_url(filename) \u001B[38;5;28;01melse\u001B[39;00m filename\n\u001B[0;32m--> 195\u001B[0m label \u001B[38;5;241m=\u001B[39m \u001B[43mLabel\u001B[49m\u001B[38;5;241;43m.\u001B[39;49m\u001B[43mfrom_file\u001B[49m\u001B[43m(\u001B[49m\u001B[43mreified_filename\u001B[49m\u001B[43m)\u001B[49m\n\u001B[1;32m    197\u001B[0m \u001B[38;5;66;03m# Read and extract all the PDS4 data structures specified in this label\u001B[39;00m\n\u001B[1;32m    198\u001B[0m structures \u001B[38;5;241m=\u001B[39m read_structures(label, filename, lazy_load\u001B[38;5;241m=\u001B[39mlazy_load, no_scale\u001B[38;5;241m=\u001B[39mno_scale,\n\u001B[1;32m    199\u001B[0m                              decode_strings\u001B[38;5;241m=\u001B[39mdecode_strings)\n",
      "File \u001B[0;32m/usr/local/lib/python3.11/site-packages/pds4_tools/reader/label_objects.py:155\u001B[0m, in \u001B[0;36mLabel.from_file\u001B[0;34m(cls, filename, default_root)\u001B[0m\n\u001B[1;32m    136\u001B[0m \u001B[38;5;129m@classmethod\u001B[39m\n\u001B[1;32m    137\u001B[0m \u001B[38;5;28;01mdef\u001B[39;00m \u001B[38;5;21mfrom_file\u001B[39m(\u001B[38;5;28mcls\u001B[39m, filename, default_root\u001B[38;5;241m=\u001B[39m\u001B[38;5;124m'\u001B[39m\u001B[38;5;124mconvenient\u001B[39m\u001B[38;5;124m'\u001B[39m):\n\u001B[1;32m    138\u001B[0m \u001B[38;5;250m    \u001B[39m\u001B[38;5;124;03m\"\"\" Create Label from a PDS4 XML label file.\u001B[39;00m\n\u001B[1;32m    139\u001B[0m \n\u001B[1;32m    140\u001B[0m \u001B[38;5;124;03m    Parameters\u001B[39;00m\n\u001B[0;32m   (...)\u001B[0m\n\u001B[1;32m    152\u001B[0m \u001B[38;5;124;03m        Instance, with the contents being taken from *filename*.\u001B[39;00m\n\u001B[1;32m    153\u001B[0m \u001B[38;5;124;03m    \"\"\"\u001B[39;00m\n\u001B[0;32m--> 155\u001B[0m     convenient_root, convenient_namespace_map \u001B[38;5;241m=\u001B[39m \u001B[43mread_label\u001B[49m\u001B[43m(\u001B[49m\u001B[43mfilename\u001B[49m\u001B[43m,\u001B[49m\n\u001B[1;32m    156\u001B[0m \u001B[43m                                        \u001B[49m\u001B[43mstrip_extra_whitespace\u001B[49m\u001B[38;5;241;43m=\u001B[39;49m\u001B[38;5;28;43;01mTrue\u001B[39;49;00m\u001B[43m,\u001B[49m\u001B[43m \u001B[49m\u001B[43menforce_default_prefixes\u001B[49m\u001B[38;5;241;43m=\u001B[39;49m\u001B[38;5;28;43;01mTrue\u001B[39;49;00m\u001B[43m,\u001B[49m\n\u001B[1;32m    157\u001B[0m \u001B[43m                                        \u001B[49m\u001B[43minclude_namespace_map\u001B[49m\u001B[38;5;241;43m=\u001B[39;49m\u001B[38;5;28;43;01mTrue\u001B[39;49;00m\u001B[43m,\u001B[49m\u001B[43m \u001B[49m\u001B[43mdecode_py2\u001B[49m\u001B[38;5;241;43m=\u001B[39;49m\u001B[38;5;28;43;01mTrue\u001B[39;49;00m\u001B[43m)\u001B[49m\n\u001B[1;32m    159\u001B[0m     unmodified_root, unmodified_namespace_map \u001B[38;5;241m=\u001B[39m read_label(filename,\n\u001B[1;32m    160\u001B[0m                                         strip_extra_whitespace\u001B[38;5;241m=\u001B[39m\u001B[38;5;28;01mFalse\u001B[39;00m, enforce_default_prefixes\u001B[38;5;241m=\u001B[39m\u001B[38;5;28;01mFalse\u001B[39;00m,\n\u001B[1;32m    161\u001B[0m                                         include_namespace_map\u001B[38;5;241m=\u001B[39m\u001B[38;5;28;01mTrue\u001B[39;00m, decode_py2\u001B[38;5;241m=\u001B[39m\u001B[38;5;28;01mTrue\u001B[39;00m)\n\u001B[1;32m    163\u001B[0m     obj \u001B[38;5;241m=\u001B[39m \u001B[38;5;28mcls\u001B[39m(convenient_root\u001B[38;5;241m=\u001B[39mconvenient_root,\n\u001B[1;32m    164\u001B[0m               unmodified_root\u001B[38;5;241m=\u001B[39munmodified_root,\n\u001B[1;32m    165\u001B[0m               convenient_namespace_map\u001B[38;5;241m=\u001B[39mconvenient_namespace_map,\n\u001B[1;32m    166\u001B[0m               unmodified_namespace_map\u001B[38;5;241m=\u001B[39munmodified_namespace_map,\n\u001B[1;32m    167\u001B[0m               default_root\u001B[38;5;241m=\u001B[39mdefault_root)\n",
      "File \u001B[0;32m/usr/local/lib/python3.11/site-packages/pds4_tools/reader/read_label.py:60\u001B[0m, in \u001B[0;36mread_label\u001B[0;34m(filename, strip_extra_whitespace, enforce_default_prefixes, include_namespace_map, decode_py2)\u001B[0m\n\u001B[1;32m     58\u001B[0m     xml_tree \u001B[38;5;241m=\u001B[39m ET\u001B[38;5;241m.\u001B[39miterparse(filename, events\u001B[38;5;241m=\u001B[39m(\u001B[38;5;124m'\u001B[39m\u001B[38;5;124mstart-ns\u001B[39m\u001B[38;5;124m'\u001B[39m, \u001B[38;5;124m'\u001B[39m\u001B[38;5;124mend\u001B[39m\u001B[38;5;124m'\u001B[39m))\n\u001B[1;32m     59\u001B[0m \u001B[38;5;28;01mexcept\u001B[39;00m \u001B[38;5;167;01mIOError\u001B[39;00m:\n\u001B[0;32m---> 60\u001B[0m     \u001B[38;5;28;01mraise\u001B[39;00m \u001B[38;5;167;01mIOError\u001B[39;00m(\u001B[38;5;124m'\u001B[39m\u001B[38;5;124mUnable to locate or read label file: \u001B[39m\u001B[38;5;124m'\u001B[39m \u001B[38;5;241m+\u001B[39m filename)\n\u001B[1;32m     62\u001B[0m \u001B[38;5;66;03m# Adjust XML tree\u001B[39;00m\n\u001B[1;32m     63\u001B[0m \u001B[38;5;28;01mtry\u001B[39;00m:\n",
      "\u001B[0;31mOSError\u001B[0m: Unable to locate or read label file: [https://pds-ppi.igpp.ucla.edu/data/galileo-mag-jup-calibrated/data-magspheric-survey/ORB02_IRC.xml]"
     ]
    }
   ],
   "source": [
    "xml_urls = [xml_url for xml_url in products_df['ops:Label_File_Info.ops:file_ref'] if 'IRC' in xml_url]\n",
    "layer_names = [xml_url[85:] for xml_url in xml_urls]\n",
    "\n",
    "data_dict = {}\n",
    "for ind,xml_url in enumerate(xml_urls):\n",
    "    prod_struct = pds4_tools.read(xml_url, quiet = True)\n",
    "    data_dict[ind] = np.array(prod_struct[0]['SAMPLE TIME', 'B-FIELD MAGNITUDE'])"
   ]
  },
  {
   "cell_type": "markdown",
   "id": "9e28dc5a",
   "metadata": {
    "pycharm": {
     "name": "#%% md\n"
    }
   },
   "source": [
    "### Plot magnetic field magnitude time series"
   ]
  },
  {
   "cell_type": "code",
   "execution_count": null,
   "id": "f2674203",
   "metadata": {
    "collapsed": false,
    "jupyter": {
     "outputs_hidden": false
    },
    "pycharm": {
     "name": "#%%\n"
    }
   },
   "outputs": [],
   "source": [
    "#put data into a single array\n",
    "combined_data = [item for sublist in data_dict.values() for item in sublist]\n",
    "mag_times = [data[0] for data in combined_data]\n",
    "mag_measurements = [data[1] for data in combined_data]\n",
    "\n",
    "mag_datetime = [datetime.strptime(t, \"%Y-%m-%dT%H:%M:%S.%f\") for t in mag_times]\n",
    "fig, ax = plt.subplots()\n",
    "cm = ax.plot(mag_datetime,mag_measurements)\n",
    "\n",
    "ax.xaxis.set_major_formatter(mdates.DateFormatter('%b %Y'))\n",
    "plt.xticks(rotation=45)\n",
    "\n",
    "plt.xlabel(\"Time\")\n",
    "plt.locator_params(axis='x', nbins=10)\n",
    "plt.ylabel(\"Magnitude (nT)\")\n",
    "plt.title(\"Galileo Magnetometer Readings\")\n",
    "\n",
    "plt.show()"
   ]
  },
  {
   "cell_type": "markdown",
   "id": "f86dedfd",
   "metadata": {
    "pycharm": {
     "name": "#%% md\n"
    }
   },
   "source": [
    "## Step 2: Obtain ephemeris for magnetometer measurements\n",
    "\n",
    "Obtain the position at each magnetometer measurement timestamp using spiceypy.\n",
    "\n",
    "***Note: You can change the number of data points you would like to plot by changing the sample variable. The higher it is, the fewer data points you will plot.***"
   ]
  },
  {
   "cell_type": "markdown",
   "id": "9d711491",
   "metadata": {
    "pycharm": {
     "name": "#%% md\n"
    }
   },
   "source": [
    "### Load Spice Kernels\n",
    "\n",
    "Spice kernels are used to compute the location of the spacecraft at given date/time."
   ]
  },
  {
   "cell_type": "code",
   "execution_count": null,
   "id": "03d8e4b1",
   "metadata": {
    "collapsed": false,
    "jupyter": {
     "outputs_hidden": false
    },
    "pycharm": {
     "name": "#%%\n"
    }
   },
   "outputs": [],
   "source": [
    "def download_and_load_spice_kernel(p_url):\n",
    "    if not os.access('.spice_kernels',os.F_OK):\n",
    "        os.mkdir('.spice_kernels')\n",
    "\n",
    "    kernel_dir = os.path.join(\".spice_kernels\")\n",
    "    os.makedirs(kernel_dir, exist_ok=True)\n",
    "    file_path = os.path.join(kernel_dir, os.path.basename(p_url))\n",
    "    if not os.path.exists(file_path):\n",
    "        r = requests.get(url, allow_redirects=True)\n",
    "        if r.status_code == 200:\n",
    "            print('Successfully loaded:',os.path.basename(p_url))\n",
    "\n",
    "            open(file_path, \"wb\").write(r.content)\n",
    "    else:\n",
    "        print('\"',os.path.basename(p_url), '\" already exists. Skipping download.')\n",
    "    spiceypy.furnsh(file_path)\n",
    "    \n",
    "KERNEL_URLS = [\n",
    "    #generic LSK\n",
    "    \"https://naif.jpl.nasa.gov/pub/naif/pds/data/ody-m-spice-6-v1.0/odsp_1000/data/lsk/naif0008.tls\",\n",
    "    #Galileo SC SPK\n",
    "    \"https://naif.jpl.nasa.gov/pub/naif/GLL/kernels/spk/gll_951120_021126_raj2021.bsp\",\n",
    "    # Leap seconds kernel\n",
    "    \"https://naif.jpl.nasa.gov/pub/naif/generic_kernels/lsk/naif0012.tls\",\n",
    "]\n",
    "for url in KERNEL_URLS:\n",
    "    download_and_load_spice_kernel(url)\n",
    "            \n"
   ]
  },
  {
   "cell_type": "markdown",
   "id": "f0ef5c32",
   "metadata": {
    "pycharm": {
     "name": "#%% md\n"
    }
   },
   "source": [
    "### Compute spacecraft position for each magnetometer measurement."
   ]
  },
  {
   "cell_type": "code",
   "execution_count": null,
   "id": "6179b2e6",
   "metadata": {
    "collapsed": false,
    "jupyter": {
     "outputs_hidden": false
    },
    "pycharm": {
     "name": "#%%\n"
    }
   },
   "outputs": [],
   "source": [
    "sample = 100\n",
    "trunc_data_tot = combined_data[1::sample]\n",
    "\n",
    "mag_ephem_data = []\n",
    "mag_dict = {}\n",
    "for ind, data in data_dict.items():\n",
    "    mag_ephem_data = []\n",
    "    for t in data_dict[ind]['SAMPLE TIME'][0::sample]:\n",
    "            et = spiceypy.str2et( t )\n",
    "            [state, ltime] = spiceypy.spkezr( '5', et, 'J2000', 'LT+S', '-77')\n",
    "            mag_ephem_data.append(state[0:3])\n",
    "    mag_ephem_conv = np.array(mag_ephem_data)\n",
    "    mag_dict[ind] = hstack([Table(data_dict[ind][0::sample]), Table(mag_ephem_conv, names = ['X', 'Y', 'Z'])] )\n",
    "\n",
    "print(\"Number of magnetometer readings to plot: \"+ str(len(mag_ephem_data)))\n"
   ]
  },
  {
   "cell_type": "markdown",
   "id": "2b8a8b10",
   "metadata": {
    "pycharm": {
     "name": "#%% md\n"
    }
   },
   "source": [
    "## Step 4: display data in pyWWT Solar System 3D view"
   ]
  },
  {
   "cell_type": "markdown",
   "id": "b343304e",
   "metadata": {
    "pycharm": {
     "name": "#%% md\n"
    }
   },
   "source": [
    "### Connect pyWWT Widget\n",
    "\n",
    "***Before proceeding, ensure that you have another tab open in the notebook for the AAS WorldWide Telescope widget***\n",
    "\n",
    "Instantiate the WWTJupyterWidget and await connection."
   ]
  },
  {
   "cell_type": "code",
   "execution_count": 8,
   "id": "f2ee5b6f",
   "metadata": {
    "collapsed": false,
    "jupyter": {
     "outputs_hidden": false
    },
    "pycharm": {
     "name": "#%%\n"
    }
   },
   "outputs": [
    {
     "name": "stdout",
     "output_type": "stream",
     "text": [
      "Successful Connection\n"
     ]
    }
   ],
   "source": [
    "wwt = WWTJupyterWidget()\n",
    "wwt = await connect_to_app().becomes_ready()\n",
    "print('Successful Connection')\n",
    "wwt.reset()"
   ]
  },
  {
   "cell_type": "markdown",
   "id": "2b839906",
   "metadata": {
    "pycharm": {
     "name": "#%% md\n"
    }
   },
   "source": [
    "### Set view and load data\n",
    "\n",
    "Set the WWT view to the solar system and load in the magnetometer data and ephemeris data via table layers. Once complete, in the pyWWT widget the view will be centered on Jupiter. Zoom in to see the results!"
   ]
  },
  {
   "cell_type": "code",
   "execution_count": 9,
   "id": "e85dc39d",
   "metadata": {
    "collapsed": false,
    "jupyter": {
     "outputs_hidden": false
    },
    "pycharm": {
     "name": "#%%\n"
    }
   },
   "outputs": [],
   "source": [
    "wwt.set_current_time(Time('1995-12-07 15:21:01.776000'))\n",
    "wwt.set_view(\"solar system\")\n",
    "\n",
    "for ind, table_data in mag_dict.items():\n",
    "    layer = wwt.layers.add_table_layer(table = table_data, frame = 'jupiter',\n",
    "                                      coord_type = 'rectangular',\n",
    "                                      x_att = 'X', y_att = 'Y', z_att = 'Z', id = layer_names[ind])\n",
    "    layer.xyz_unit = 'km'\n",
    "    layer.far_side_visible = True\n",
    "\n",
    "    layer.cmap_att = 'B-FIELD MAGNITUDE'\n",
    "    layer.cmap.vmin = min(table_data['B-FIELD MAGNITUDE'])\n",
    "    layer.cmap.vmax = max(table_data['B-FIELD MAGNITUDE'])\n",
    "\n",
    "    layer.size_scale = 250\n",
    "    layer.far_side_visible = True\n",
    "    layer.marker_type = 'point'\n",
    "    layer.opacity = 0.25\n",
    "\n",
    "    # layer.name = \"name\"\n",
    "\n",
    "    layer.marker_scale = 'world'"
   ]
  },
  {
   "cell_type": "markdown",
   "id": "d186e17c",
   "metadata": {
    "pycharm": {
     "name": "#%% md\n"
    }
   },
   "source": [
    "### Set view point on Jupiter\n",
    "\n",
    "For some reason this need to be done in a different cell..."
   ]
  },
  {
   "cell_type": "code",
   "execution_count": 10,
   "id": "350b413b",
   "metadata": {
    "collapsed": false,
    "jupyter": {
     "outputs_hidden": false
    },
    "pycharm": {
     "name": "#%%\n"
    }
   },
   "outputs": [],
   "source": [
    "wwt.solar_system.track_object('Jupiter')"
   ]
  },
  {
   "cell_type": "markdown",
   "id": "5e9d59f7",
   "metadata": {
    "pycharm": {
     "name": "#%% md\n"
    }
   },
   "source": [
    "### Animation (Work In Progress)\n",
    "\n",
    "Note the below code is still a work in progress and will not function as intended."
   ]
  },
  {
   "cell_type": "code",
   "execution_count": null,
   "id": "a95dd319",
   "metadata": {
    "collapsed": false,
    "jupyter": {
     "outputs_hidden": false
    },
    "pycharm": {
     "name": "#%%\n"
    }
   },
   "outputs": [],
   "source": [
    "# start_time = ephem_tab['Time'][0]\n",
    "# theta_dot = 1.76**-4 *3600 # rad/hour\n",
    "# thetas = [theta_dot * (datetime.fromisoformat(start_time) - datetime.fromisoformat(curr_time)).total_seconds()/3600 for curr_time in ephem_tab['Time']]\n",
    "\n",
    "# trans_mat = [np.array([[np.cos(theta), -np.sin(theta)] , [np.sin(theta), np.cos(theta)]]) for theta in thetas]\n",
    "\n",
    "# trans_xy = [np.dot(trans_mat,np.array([[x] , [y]])) for x,y in zip(ephem_tab['X'],ephem_tab['Y'])]\n",
    "\n",
    "# for i in range(len(ephem_tab)):\n",
    "#     trans_mat = [np.array([np.cos(thetas[i]), -np.sin(thetas[i])] , [np.sin(thetas[i]), np.cos(thetas[i])])]\n",
    "#     trans_xy[i] = [np.dot(trans_mat,np.array([x] , [y])) for x,y in zip(ephem_tab['X'][i],ephem_tab['Y'])[i]]\n",
    "   \n",
    "\n",
    "eph.time_series = True\n",
    "eph.time_att = 'Time'\n",
    "eph.time_decay = 500 * u.hour\n",
    "\n",
    "# layer.time_series = True\n",
    "# layer.time_att = 'Time'\n",
    "# layer.time_decay = 10000 * u.hour\n",
    "\n",
    "my_time = Time('1996-12-07 15:21:01.776000')\n",
    "wwt.set_current_time(my_time)\n",
    "\n",
    "wwt.play_time(rate=10000)\n"
   ]
  },
  {
   "cell_type": "code",
   "execution_count": null,
   "id": "812a6cb0",
   "metadata": {
    "collapsed": false,
    "jupyter": {
     "outputs_hidden": false
    },
    "pycharm": {
     "name": "#%%\n"
    }
   },
   "outputs": [],
   "source": [
    "wwt.pause_time()"
   ]
  }
 ],
 "metadata": {
  "kernelspec": {
   "display_name": "Python 3 (ipykernel)",
   "language": "python",
   "name": "python3"
  },
  "language_info": {
   "codemirror_mode": {
    "name": "ipython",
    "version": 3
   },
   "file_extension": ".py",
   "mimetype": "text/x-python",
   "name": "python",
   "nbconvert_exporter": "python",
   "pygments_lexer": "ipython3",
   "version": "3.11.4"
  }
 },
 "nbformat": 4,
 "nbformat_minor": 5
}
