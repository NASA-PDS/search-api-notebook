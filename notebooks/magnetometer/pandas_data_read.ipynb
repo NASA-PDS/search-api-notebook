{
 "cells": [
  {
   "cell_type": "markdown",
   "metadata": {},
   "source": [
    "This notebook demonstrates how to read PDS4 data into a python environment with the pandas library rather than pds4_tools. The PDS4 tools is still under development and some users may find it easier to navigate the large data sets via more familiar python libraries."
   ]
  },
  {
   "cell_type": "code",
   "execution_count": 1,
   "metadata": {
    "ExecuteTime": {
     "end_time": "2023-08-01T15:41:28.862388Z",
     "start_time": "2023-08-01T15:41:26.940694Z"
    },
    "collapsed": false,
    "jupyter": {
     "outputs_hidden": false
    }
   },
   "outputs": [],
   "source": [
    "import pandas as pd\n",
    "import requests"
   ]
  },
  {
   "cell_type": "markdown",
   "metadata": {},
   "source": [
    "Load the collection bundle for the low resolution magnetometer data"
   ]
  },
  {
   "cell_type": "code",
   "execution_count": 7,
   "metadata": {
    "collapsed": false,
    "jupyter": {
     "outputs_hidden": false
    }
   },
   "outputs": [],
   "source": [
    "collection_lid = \"urn:nasa:pds:galileo-mag-jup-calibrated:data-magspheric-survey::1.0\"\n",
    "url = f\"https://pds.nasa.gov/api/search/1/products/{collection_lid}/members\"\n",
    "\n",
    "response = requests.get(url)\n",
    "products = response.json()['data']\n"
   ]
  },
  {
   "cell_type": "markdown",
   "metadata": {},
   "source": [
    "Now grab each of the XML file lids from the bundle and read in the data using \"read_fwf\" which reads fixed width files. The width of each file varies depending on the coordinate frame of the data so the data is filtered by Inertial Rotor Coordinates (IRC) first, then individually parsed."
   ]
  },
  {
   "cell_type": "code",
   "execution_count": null,
   "metadata": {
    "collapsed": false,
    "jupyter": {
     "outputs_hidden": false
    }
   },
   "outputs": [],
   "source": [
    "product_dfs = []\n",
    "for product in products:\n",
    "    if 'irc' in product['id']:\n",
    "        product_df = pd.read_fwf(\n",
    "            product['properties']['ops:Data_File_Info.ops:file_ref'][0],\n",
    "            width=product['properties']['pds:Field_Character.pds:field_length'],\n",
    "            header=None,\n",
    "            names=product['properties']['pds:Field_Character.pds:name'] )\n",
    "        product_dfs.append(product_df)"
   ]
  }
 ],
 "metadata": {
  "kernelspec": {
   "display_name": "Python 3 (ipykernel)",
   "language": "python",
   "name": "python3"
  },
  "language_info": {
   "codemirror_mode": {
    "name": "ipython",
    "version": 3
   },
   "file_extension": ".py",
   "mimetype": "text/x-python",
   "name": "python",
   "nbconvert_exporter": "python",
   "pygments_lexer": "ipython3",
   "version": "3.11.4"
  }
 },
 "nbformat": 4,
 "nbformat_minor": 4
}
