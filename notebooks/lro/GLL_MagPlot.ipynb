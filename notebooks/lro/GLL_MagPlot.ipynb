{
 "cells": [
  {
   "cell_type": "markdown",
   "id": "fba6be0e-ba38-472e-8ba0-76c55e622eb9",
   "metadata": {},
   "source": [
    "#### Welcome to the pyWWT visualization notebook!\n",
    "\n",
    "This notebook demonstrates a PDS search API use case by visualizing Galileo Orbiter's magnetosphere measurement campaign and displays pyWWT's ability to visualize orbit data and overlay instrument data onto regions of interest.\n",
    "\n",
    "To properly run this code, ensure that you have followed the steps outlined in the README.md file. Additionally, ensure that you have opened an \"AAS Worldwide Telescope\" launcher in your notebook work space. To do this simply go to File -> New Launcher and (if configured correctly) click the AAS WWT icon. See [WWT's Jupter Application](https://pywwt.readthedocs.io/en/stable/jupyterlab.html) for troubleshooting and further setup.\n",
    "\n",
    "# Step 0: Import Libraries"
   ]
  },
  {
   "cell_type": "code",
   "execution_count": 13,
   "id": "9aeb7aa4-d95f-4f15-9877-440e2870e55a",
   "metadata": {
    "is_executing": true,
    "tags": []
   },
   "outputs": [],
   "source": [
    "import requests\n",
    "import spiceypy\n",
    "import pandas\n",
    "import pandas as pd\n",
    "import numpy as np\n",
    "from datetime import datetime,timedelta\n",
    "from astropy import units as u\n",
    "import os\n",
    "\n",
    "from __future__ import print_function\n",
    "from astropy.time import Time\n",
    "from pywwt.jupyter import WWTJupyterWidget\n",
    "from pywwt.jupyter import connect_to_app\n",
    "from astropy.table import Table\n"
   ]
  },
  {
   "cell_type": "markdown",
   "id": "c8ba7986",
   "metadata": {},
   "source": [
    "# Step 1: Function Definitions\n",
    "\n",
    "Define functions to be used throughout the script.\n",
    "\n",
    "There are 4 functions here:\n",
    "1. **getsta:** Used to obtain the positions and velocities of Galileo relative to the J2000 date and Jupiter's coordinate frame.\n",
    "2. **get_data:** This parses through and grabs the correct collections from a CSV contained in the Galileo Magnetometer [parent bundle](https://pds.nasa.gov/api/search/1/products/urn:nasa:pds:galileo-mag-jup-calibrated::1.0). This CSV contains a list of lids containing collections from each measurement period in the mission relative to 2 coordinate systems, Inertial Rotor Coordinates (IRC = despun spacecraft) and Jupiter System III(+Z spin axis, prime meridian +X axis). The IRC data files are chosen but it doesn't matter because the plot is non-directional\n",
    "3. **get_tabs:** This takes the individual collections and grabs the time and magnitude for each measurement to store into an array for later use.\n",
    "4. **download_and_load_spice_kernel:** For a number of reasons we don't want SPICE kernels living on the github repo, so this function installs the necessary kernels to the users local machine."
   ]
  },
  {
   "cell_type": "code",
   "execution_count": 2,
   "id": "35bff9a7",
   "metadata": {
    "ExecuteTime": {
     "end_time": "2023-07-13T22:14:19.715439Z",
     "start_time": "2023-07-13T22:14:19.696897Z"
    },
    "collapsed": false,
    "jupyter": {
     "outputs_hidden": false
    }
   },
   "outputs": [],
   "source": [
    "def getsta(mag_time):\n",
    "    # METAKR = 'getgll.tm'\n",
    "    # spiceypy.furnsh( METAKR )\n",
    "    row = []\n",
    "    for t in mag_time:\n",
    "            time_string = t.strftime('%Y-%m-%d %H:%M:%S')\n",
    "\n",
    "            #ephemeris time after iterating\n",
    "            et = spiceypy.str2et( time_string )\n",
    "\n",
    "            [state, ltime] = spiceypy.spkezr( '5', et,      'J2000',\n",
    "                                            'LT+S',   '-77'       )\n",
    "            row.append([state[0], state[1], state[2], state[3], state[4], state[5]])\n",
    "    return row\n",
    "\n",
    "# def get_data(url):\n",
    "#     req_response = requests.get(url)\n",
    "#     req_data = req_response.json()\n",
    "\n",
    "#     tab_urls = [element['properties']['lid'][0] for element in req_data['data'] if 'irc' in element['properties']['lid'][0]]\n",
    "\n",
    "#     mag_time = []\n",
    "#     mag_tot = []\n",
    "#     for i in range(len(tab_urls)):\n",
    "#         time_data, iter_data = get_tabs(tab_urls[i]) # get rid of column in csv\n",
    "#         mag_time.extend(time_data)\n",
    "#         mag_tot.extend(iter_data)\n",
    "\n",
    "#     return mag_time, mag_tot\n",
    "\n",
    "def get_tabs(url):\n",
    "    #load lid found from parent collection\n",
    "    lid_response = requests.get('https://pds.nasa.gov/api/search/1/products/'+url)\n",
    "    lid_data = lid_response.json()\n",
    "\n",
    "    time_data = []\n",
    "    iter_data = []\n",
    "    for i in range(1): #range(len(lid_data['data'])):\n",
    "            tab_url = lid_data['properties']['ops:Data_File_Info.ops:file_ref'][0]\n",
    "            #load in tab data\n",
    "            tab_response = requests.get(tab_url)\n",
    "            tab_content = tab_response.text\n",
    "            lines = tab_content.splitlines()\n",
    "\n",
    "            for line in lines:\n",
    "                    raw_data = line.split()\n",
    "                    time_data.append(raw_data[0])\n",
    "                    iter_data.append(float(raw_data[4]))\n",
    "    return time_data, iter_data\n",
    "\n",
    "\n",
    "def download_and_load_spice_kernel(p_requests_session, p_url):\n",
    "    if not os.access('.spice_kernels',os.F_OK):\n",
    "        os.mkdir('.spice_kernels')\n",
    "\n",
    "    kernel_dir = os.path.join(\".spice_kernels\")\n",
    "#     os.makedirs(kernel_dir, exist_ok=True)\n",
    "    file_path = os.path.join(kernel_dir, os.path.basename(p_url))\n",
    "#     # TODO manage outdated local files\n",
    "\n",
    "#     if not os.path.exists(file_path):\n",
    "    r = requests.get(url, allow_redirects=True)\n",
    "    if r.status_code == 200:\n",
    "        print('Successfully loaded:',os.path.basename(p_url))\n",
    "#             log.debug(\n",
    "#                 \"copy kernel from %s to %s, status %s: %s\",\n",
    "#                 url,\n",
    "#                 file_path,\n",
    "#                 r.status_code,\n",
    "#                 r.reason,\n",
    "#             )\n",
    "        open(file_path, \"wb\").write(r.content)\n",
    "#     log.info(\"load spice kernel %s\", file_path)\n",
    "    spiceypy.furnsh(file_path)\n"
   ]
  },
  {
   "cell_type": "markdown",
   "id": "c68718d1-9ef4-4a74-be8e-01501fec2b1c",
   "metadata": {},
   "source": [
    "# Step 2: Load SPICE Kernels\n",
    "Import the necessary SPICE Kernels and download them to on the local environment using **download_and_load_spice_kernel**."
   ]
  },
  {
   "cell_type": "code",
   "execution_count": 7,
   "id": "37e67707-958b-4005-8a39-75dbbdb97cdb",
   "metadata": {
    "ExecuteTime": {
     "end_time": "2023-07-10T23:19:59.069812Z",
     "start_time": "2023-07-10T23:19:43.435924Z"
    }
   },
   "outputs": [
    {
     "name": "stdout",
     "output_type": "stream",
     "text": [
      "Successfully loaded: naif0008.tls\n",
      "Successfully loaded: 981005_PLTEPH-DE405S.bsp\n",
      "Successfully loaded: gll_951120_021126_raj2021.bsp\n"
     ]
    }
   ],
   "source": [
    "\n",
    "KERNEL_URLS = [\n",
    "    #generic LSK\n",
    "    \"https://naif.jpl.nasa.gov/pub/naif/pds/data/ody-m-spice-6-v1.0/odsp_1000/data/lsk/naif0008.tls\",\n",
    "    #CASSINI Solar System SPK \n",
    "    \"https://naif.jpl.nasa.gov/pub/naif/CASSINI/kernels/spk/981005_PLTEPH-DE405S.bsp\",\n",
    "    #Galileo SC SPK\n",
    "    \"https://naif.jpl.nasa.gov/pub/naif/GLL/kernels/spk/gll_951120_021126_raj2021.bsp\"\n",
    "]\n",
    "\n",
    "requests_session = requests.session()\n",
    "# requests_session.mount(\"file://\", requests.adapters.LocalFileAdapter())\n",
    "for url in KERNEL_URLS:\n",
    "    download_and_load_spice_kernel(requests_session, url)\n",
    "    \n",
    "    "
   ]
  },
  {
   "cell_type": "markdown",
   "id": "d858c7dc-2a8b-4d42-b03c-db295c7dfe5b",
   "metadata": {},
   "source": [
    "# Step 3: Load magnetometer \n",
    "\n",
    "Utilize the PDS registry API to grab the magnetometer data for the Galileo Orbiter."
   ]
  },
  {
   "cell_type": "code",
   "execution_count": null,
   "id": "430706fd-fbbd-4be8-8aa7-062fdd1498a6",
   "metadata": {
    "is_executing": true
   },
   "outputs": [],
   "source": [
    "\n",
    "#could separate lids by orbit?\n",
    "\n",
    "\n",
    "#High-res data\n",
    "# url = \"https://pds.nasa.gov/api/search/1/products/urn:nasa:pds:galileo-mag-jup-calibrated:data-highres-magnetosphere::1.0/members\"\n",
    "#Low-res data\n",
    "url = \"https://pds.nasa.gov/api/search/1/products/urn:nasa:pds:galileo-mag-jup-calibrated:data-magspheric-survey::1.0/members\"\n",
    "\n",
    "req_response = requests.get(url)\n",
    "req_data = req_response.json()\n",
    "\n",
    "lid_dataframe = pd.DataFrame(req_data['data'][0])\n",
    "\n",
    "tab_urls = [element['properties']['lid'][0] for element in req_data['data'] if 'irc' in element['properties']['lid'][0]]\n",
    "\n",
    "mag_time = []\n",
    "mag_tot = []\n",
    "for i in range(len(tab_urls)):\n",
    "    time_data, iter_data = get_tabs(tab_urls[i]) # get rid of column in csv\n",
    "    mag_time.extend(time_data)\n",
    "    mag_tot.extend(iter_data)\n",
    "\n",
    "#mag_time, mag_tot = get_data(url)\n"
   ]
  },
  {
   "cell_type": "markdown",
   "id": "341495ae",
   "metadata": {},
   "source": [
    "# Step 4: Obtain ephemeris for mag measurements\n",
    "\n",
    "Obtain the position and velocity values at each magnetometer measurement timestamp using the **get_sta** function.\n",
    "\n",
    "***Note: You can change the number of data points you would like to plot by changing the sample variable. The higher it is, the less data points you will plot.***"
   ]
  },
  {
   "cell_type": "code",
   "execution_count": 11,
   "id": "512dd47b",
   "metadata": {
    "ExecuteTime": {
     "end_time": "2023-07-10T23:27:53.653306Z",
     "start_time": "2023-07-10T23:27:52.769139Z"
    },
    "collapsed": false,
    "jupyter": {
     "outputs_hidden": false
    }
   },
   "outputs": [
    {
     "name": "stdout",
     "output_type": "stream",
     "text": [
      "Obtaining ephemeris for magnetometer readings...\n",
      "Number of magnetometer readings to plot: 18166\n"
     ]
    }
   ],
   "source": [
    "sample = 100\n",
    "\n",
    "\n",
    "#Obtain the position data that corresponds to the measurements\n",
    "print('Obtaining ephemeris for magnetometer readings...')\n",
    "df = pd.DataFrame({'time':mag_time[1::sample], 'data': mag_tot[1::sample]})\n",
    "df['time'] = pd.to_datetime(df['time'])\n",
    "df.sort_values('time', inplace = True)\n",
    "\n",
    "mag_ephem_data = getsta(df['time'][1000:]) #Takes time input\n",
    "print(\"Number of magnetometer readings to plot: \"+ str(len(mag_ephem_data)))\n"
   ]
  },
  {
   "cell_type": "markdown",
   "id": "86a5481e",
   "metadata": {},
   "source": [
    "# Step 5: Obtain ephemeris for orbits\n",
    "\n",
    "Get the ephemeris for the orbits between the first magnetometer measurement, and the last."
   ]
  },
  {
   "cell_type": "code",
   "execution_count": 20,
   "id": "481fa51f",
   "metadata": {
    "collapsed": false,
    "jupyter": {
     "outputs_hidden": false
    }
   },
   "outputs": [
    {
     "name": "stdout",
     "output_type": "stream",
     "text": [
      "Filling in ephemeris data...\n",
      "Finished\n"
     ]
    }
   ],
   "source": [
    "#Grab the orbit ephemeris data from the start time of the magnetometer readings to the end time.\n",
    "print(\"Filling in ephemeris data...\")\n",
    "ephem_time = []\n",
    "start_time = df['time'][1000]\n",
    "end_time = df['time'][len(df)-1]\n",
    "\n",
    "ephem_time = []\n",
    "ephem_time = np.arange(start_time, end_time, timedelta(hours=1)).astype(datetime)\n",
    "\n",
    "# while ephem_time < end_time:\n",
    "#     #Grab the states\n",
    "# ephem_data = np.empty(len(ephem_time))\n",
    "# for i in range(len(ephem_data)):\n",
    "ephem_data = getsta(ephem_time)\n",
    "print('Finished')\n"
   ]
  },
  {
   "cell_type": "markdown",
   "id": "c52eb492-0f89-4b8c-b09d-13b94647217e",
   "metadata": {},
   "source": [
    "# Step 6: Organize the data for pyWWT\n",
    "\n",
    "This step organizes all of the data variables into tables for pyWWT. A table is generated for the magnetometer data and another for the ephemeris data. "
   ]
  },
  {
   "cell_type": "code",
   "execution_count": 22,
   "id": "0e113b69-1c9e-410f-a58f-f97b7b5861aa",
   "metadata": {
    "ExecuteTime": {
     "end_time": "2023-07-10T22:05:52.117481Z",
     "start_time": "2023-07-10T22:05:51.825181Z"
    }
   },
   "outputs": [
    {
     "name": "stdout",
     "output_type": "stream",
     "text": [
      "Done!\n"
     ]
    }
   ],
   "source": [
    "ephem_tab = Table()\n",
    "mag_tab = Table()\n",
    "\n",
    "#Ephemeris data to table\n",
    "ephem_iso = [ephem_t.replace(tzinfo=None).isoformat() for ephem_t in ephem_time]\n",
    "ephem_tab['Time'] = ephem_iso\n",
    "\n",
    "ephem_data = [row[0:3] for row in ephem_data]\n",
    "transposed = zip(*ephem_data)\n",
    "ephem_tab['X'], ephem_tab['Y'], ephem_tab['Z'] = transposed\n",
    "\n",
    "#Magnetometer values and ephemeris data to table\n",
    "mag_iso = [mag_t.replace(tzinfo=None).isoformat() for mag_t in df['time'][1000:]]\n",
    "mag_tab['Time'] = mag_iso\n",
    "mag_val = [mag_t for mag_t in df['data'][1000::]]\n",
    "mag_tab['Magnitude (nT)'] = mag_val\n",
    "\n",
    "mag_pos = [row[0:3] for row in mag_ephem_data]\n",
    "mag_transpose = zip(*mag_pos)\n",
    "mag_tab['X'], mag_tab['Y'], mag_tab['Z'] = mag_transpose\n",
    "            \n",
    "print('Done!')"
   ]
  },
  {
   "cell_type": "markdown",
   "id": "61a8aed2",
   "metadata": {},
   "source": [
    "# Step 7: Connect pyWWT Widget\n",
    "\n",
    "***Before proceeding, ensure that you have another tab open in the notebook for the AAS WorldWide Telescope widget***\n",
    "\n",
    "Instantiate the WWTJupyterWidget and await connection."
   ]
  },
  {
   "cell_type": "code",
   "execution_count": 23,
   "id": "acf6395f-3a2c-4f6e-be99-191553a464e2",
   "metadata": {},
   "outputs": [
    {
     "name": "stdout",
     "output_type": "stream",
     "text": [
      "Successful Connection\n"
     ]
    }
   ],
   "source": [
    "#Connect pyWWT widget\n",
    "\n",
    "wwt = WWTJupyterWidget()\n",
    "wwt = await connect_to_app().becomes_ready()\n",
    "print('Successful Connection')\n",
    "wwt.reset()"
   ]
  },
  {
   "cell_type": "markdown",
   "id": "12f399da",
   "metadata": {},
   "source": [
    "# Step 8: Set view and load data\n",
    "\n",
    "Set the WWT view to the solar system and load in the magnetometer data and ephemeris data via table layers. Once complete, in the pyWWT widget the view will be centered on Jupiter. Zoom in to see the results!"
   ]
  },
  {
   "cell_type": "code",
   "execution_count": 59,
   "id": "68997cfd-8c6f-4b6d-898a-440253835035",
   "metadata": {},
   "outputs": [
    {
     "ename": "AttributeError",
     "evalue": "'ListedColormap' object has no attribute 'ScalarMappable'",
     "output_type": "error",
     "traceback": [
      "\u001B[0;31m---------------------------------------------------------------------------\u001B[0m",
      "\u001B[0;31mAttributeError\u001B[0m                            Traceback (most recent call last)",
      "Cell \u001B[0;32mIn[59], line 9\u001B[0m\n\u001B[1;32m      6\u001B[0m layer\u001B[38;5;241m.\u001B[39mxyz_unit \u001B[38;5;241m=\u001B[39m \u001B[38;5;124m'\u001B[39m\u001B[38;5;124mkm\u001B[39m\u001B[38;5;124m'\u001B[39m\n\u001B[1;32m      7\u001B[0m layer\u001B[38;5;241m.\u001B[39mfar_side_visible \u001B[38;5;241m=\u001B[39m \u001B[38;5;28;01mTrue\u001B[39;00m\n\u001B[0;32m----> 9\u001B[0m colorbar \u001B[38;5;241m=\u001B[39m \u001B[43mlayer\u001B[49m\u001B[38;5;241;43m.\u001B[39;49m\u001B[43mcmap\u001B[49m\u001B[38;5;241;43m.\u001B[39;49m\u001B[43mScalarMappable\u001B[49m\n\u001B[1;32m     10\u001B[0m layer\u001B[38;5;241m.\u001B[39mcmap_att \u001B[38;5;241m=\u001B[39m \u001B[38;5;124m'\u001B[39m\u001B[38;5;124mMagnitude (nT)\u001B[39m\u001B[38;5;124m'\u001B[39m\n\u001B[1;32m     11\u001B[0m layer\u001B[38;5;241m.\u001B[39mcmap\u001B[38;5;241m.\u001B[39mvmin \u001B[38;5;241m=\u001B[39m \u001B[38;5;28mmin\u001B[39m(mag_tab[\u001B[38;5;124m'\u001B[39m\u001B[38;5;124mMagnitude (nT)\u001B[39m\u001B[38;5;124m'\u001B[39m] \u001B[38;5;241m+\u001B[39m \u001B[38;5;241m10\u001B[39m)\n",
      "\u001B[0;31mAttributeError\u001B[0m: 'ListedColormap' object has no attribute 'ScalarMappable'"
     ]
    }
   ],
   "source": [
    "wwt.set_current_time(Time('1995-12-07 15:21:01.776000'))\n",
    "# wwt.set_view(\"solar system\")\n",
    "layer = wwt.layers.add_table_layer(table = mag_tab, frame = 'jupiter',\n",
    "                                  coord_type = 'rectangular',\n",
    "                                  x_att = 'X', y_att = 'Y', z_att = 'Z')\n",
    "layer.xyz_unit = 'km'\n",
    "layer.far_side_visible = True\n",
    "\n",
    "colorbar = layer.cmap.ScalarMappable\n",
    "layer.cmap_att = 'Magnitude (nT)'\n",
    "layer.cmap.vmin = min(mag_tab['Magnitude (nT)'] + 10)\n",
    "layer.cmap.vmax = max(mag_tab['Magnitude (nT)'])\n",
    "\n",
    "layer.size_scale = 250\n",
    "layer.far_side_visible = True\n",
    "layer.marker_type = 'point'\n",
    "layer.marker_scale = 'world'\n",
    "\n",
    "eph = wwt.layers.add_table_layer(table = ephem_tab, frame = 'jupiter',\n",
    "                                  coord_type = 'rectangular',\n",
    "                                  x_att = 'X', y_att = 'Y', z_att = 'Z')\n",
    "eph.xyz_unit = 'km'\n",
    "eph.far_side_visible = True\n",
    "eph.color = (.2, .2, .6)\n",
    "eph.size_scale = 16\n",
    "eph.far_side_visible = True"
   ]
  },
  {
   "cell_type": "code",
   "execution_count": 51,
   "id": "b26566b6-b562-42fc-9124-8a07a9ff6605",
   "metadata": {},
   "outputs": [],
   "source": [
    "wwt.solar_system.track_object('Jupiter')\n"
   ]
  },
  {
   "cell_type": "markdown",
   "id": "eaa801c1",
   "metadata": {},
   "source": [
    "# Step 8:\n",
    "\n",
    "Note the below code is still a work in progress and will not function as intended."
   ]
  },
  {
   "cell_type": "code",
   "execution_count": 80,
   "id": "0a5f7ba1-3709-4144-9a96-99ebb0c49d34",
   "metadata": {},
   "outputs": [
    {
     "ename": "KeyboardInterrupt",
     "evalue": "",
     "output_type": "error",
     "traceback": [
      "\u001B[0;31m---------------------------------------------------------------------------\u001B[0m",
      "\u001B[0;31mKeyboardInterrupt\u001B[0m                         Traceback (most recent call last)",
      "Cell \u001B[0;32mIn[80], line 3\u001B[0m\n\u001B[1;32m      1\u001B[0m start_time \u001B[38;5;241m=\u001B[39m ephem_tab[\u001B[38;5;124m'\u001B[39m\u001B[38;5;124mTime\u001B[39m\u001B[38;5;124m'\u001B[39m][\u001B[38;5;241m0\u001B[39m]\n\u001B[1;32m      2\u001B[0m theta_dot \u001B[38;5;241m=\u001B[39m \u001B[38;5;241m1.76\u001B[39m\u001B[38;5;241m*\u001B[39m\u001B[38;5;241m*\u001B[39m\u001B[38;5;241m-\u001B[39m\u001B[38;5;241m4\u001B[39m \u001B[38;5;241m*\u001B[39m\u001B[38;5;241m3600\u001B[39m \u001B[38;5;66;03m# rad/hour\u001B[39;00m\n\u001B[0;32m----> 3\u001B[0m thetas \u001B[38;5;241m=\u001B[39m [theta_dot \u001B[38;5;241m*\u001B[39m (datetime\u001B[38;5;241m.\u001B[39mfromisoformat(start_time) \u001B[38;5;241m-\u001B[39m datetime\u001B[38;5;241m.\u001B[39mfromisoformat(curr_time))\u001B[38;5;241m.\u001B[39mtotal_seconds()\u001B[38;5;241m/\u001B[39m\u001B[38;5;241m3600\u001B[39m \u001B[38;5;28;01mfor\u001B[39;00m curr_time \u001B[38;5;129;01min\u001B[39;00m ephem_tab[\u001B[38;5;124m'\u001B[39m\u001B[38;5;124mTime\u001B[39m\u001B[38;5;124m'\u001B[39m]]\n\u001B[1;32m      5\u001B[0m trans_mat \u001B[38;5;241m=\u001B[39m [np\u001B[38;5;241m.\u001B[39marray([[np\u001B[38;5;241m.\u001B[39mcos(theta), \u001B[38;5;241m-\u001B[39mnp\u001B[38;5;241m.\u001B[39msin(theta)] , [np\u001B[38;5;241m.\u001B[39msin(theta), np\u001B[38;5;241m.\u001B[39mcos(theta)]]) \u001B[38;5;28;01mfor\u001B[39;00m theta \u001B[38;5;129;01min\u001B[39;00m thetas]\n\u001B[1;32m      7\u001B[0m trans_xy \u001B[38;5;241m=\u001B[39m [np\u001B[38;5;241m.\u001B[39mdot(trans_mat,np\u001B[38;5;241m.\u001B[39marray([[x] , [y]])) \u001B[38;5;28;01mfor\u001B[39;00m x,y \u001B[38;5;129;01min\u001B[39;00m \u001B[38;5;28mzip\u001B[39m(ephem_tab[\u001B[38;5;124m'\u001B[39m\u001B[38;5;124mX\u001B[39m\u001B[38;5;124m'\u001B[39m],ephem_tab[\u001B[38;5;124m'\u001B[39m\u001B[38;5;124mY\u001B[39m\u001B[38;5;124m'\u001B[39m])]\n",
      "Cell \u001B[0;32mIn[80], line 3\u001B[0m\n\u001B[1;32m      1\u001B[0m start_time \u001B[38;5;241m=\u001B[39m ephem_tab[\u001B[38;5;124m'\u001B[39m\u001B[38;5;124mTime\u001B[39m\u001B[38;5;124m'\u001B[39m][\u001B[38;5;241m0\u001B[39m]\n\u001B[1;32m      2\u001B[0m theta_dot \u001B[38;5;241m=\u001B[39m \u001B[38;5;241m1.76\u001B[39m\u001B[38;5;241m*\u001B[39m\u001B[38;5;241m*\u001B[39m\u001B[38;5;241m-\u001B[39m\u001B[38;5;241m4\u001B[39m \u001B[38;5;241m*\u001B[39m\u001B[38;5;241m3600\u001B[39m \u001B[38;5;66;03m# rad/hour\u001B[39;00m\n\u001B[0;32m----> 3\u001B[0m thetas \u001B[38;5;241m=\u001B[39m [theta_dot \u001B[38;5;241m*\u001B[39m (datetime\u001B[38;5;241m.\u001B[39mfromisoformat(start_time) \u001B[38;5;241m-\u001B[39m datetime\u001B[38;5;241m.\u001B[39mfromisoformat(curr_time))\u001B[38;5;241m.\u001B[39mtotal_seconds()\u001B[38;5;241m/\u001B[39m\u001B[38;5;241m3600\u001B[39m \u001B[38;5;28;01mfor\u001B[39;00m curr_time \u001B[38;5;129;01min\u001B[39;00m ephem_tab[\u001B[38;5;124m'\u001B[39m\u001B[38;5;124mTime\u001B[39m\u001B[38;5;124m'\u001B[39m]]\n\u001B[1;32m      5\u001B[0m trans_mat \u001B[38;5;241m=\u001B[39m [np\u001B[38;5;241m.\u001B[39marray([[np\u001B[38;5;241m.\u001B[39mcos(theta), \u001B[38;5;241m-\u001B[39mnp\u001B[38;5;241m.\u001B[39msin(theta)] , [np\u001B[38;5;241m.\u001B[39msin(theta), np\u001B[38;5;241m.\u001B[39mcos(theta)]]) \u001B[38;5;28;01mfor\u001B[39;00m theta \u001B[38;5;129;01min\u001B[39;00m thetas]\n\u001B[1;32m      7\u001B[0m trans_xy \u001B[38;5;241m=\u001B[39m [np\u001B[38;5;241m.\u001B[39mdot(trans_mat,np\u001B[38;5;241m.\u001B[39marray([[x] , [y]])) \u001B[38;5;28;01mfor\u001B[39;00m x,y \u001B[38;5;129;01min\u001B[39;00m \u001B[38;5;28mzip\u001B[39m(ephem_tab[\u001B[38;5;124m'\u001B[39m\u001B[38;5;124mX\u001B[39m\u001B[38;5;124m'\u001B[39m],ephem_tab[\u001B[38;5;124m'\u001B[39m\u001B[38;5;124mY\u001B[39m\u001B[38;5;124m'\u001B[39m])]\n",
      "File \u001B[0;32m/Applications/PyCharm.app/Contents/plugins/python/helpers/pydev/_pydevd_bundle/pydevd_frame.py:747\u001B[0m, in \u001B[0;36mPyDBFrame.trace_dispatch\u001B[0;34m(self, frame, event, arg)\u001B[0m\n\u001B[1;32m    745\u001B[0m \u001B[38;5;66;03m# if thread has a suspend flag, we suspend with a busy wait\u001B[39;00m\n\u001B[1;32m    746\u001B[0m \u001B[38;5;28;01mif\u001B[39;00m info\u001B[38;5;241m.\u001B[39mpydev_state \u001B[38;5;241m==\u001B[39m STATE_SUSPEND:\n\u001B[0;32m--> 747\u001B[0m     \u001B[38;5;28;43mself\u001B[39;49m\u001B[38;5;241;43m.\u001B[39;49m\u001B[43mdo_wait_suspend\u001B[49m\u001B[43m(\u001B[49m\u001B[43mthread\u001B[49m\u001B[43m,\u001B[49m\u001B[43m \u001B[49m\u001B[43mframe\u001B[49m\u001B[43m,\u001B[49m\u001B[43m \u001B[49m\u001B[43mevent\u001B[49m\u001B[43m,\u001B[49m\u001B[43m \u001B[49m\u001B[43marg\u001B[49m\u001B[43m)\u001B[49m\n\u001B[1;32m    748\u001B[0m     \u001B[38;5;66;03m# No need to reset frame.f_trace to keep the same trace function.\u001B[39;00m\n\u001B[1;32m    749\u001B[0m     \u001B[38;5;28;01mreturn\u001B[39;00m \u001B[38;5;28mself\u001B[39m\u001B[38;5;241m.\u001B[39mtrace_dispatch\n",
      "File \u001B[0;32m/Applications/PyCharm.app/Contents/plugins/python/helpers/pydev/_pydevd_bundle/pydevd_frame.py:144\u001B[0m, in \u001B[0;36mPyDBFrame.do_wait_suspend\u001B[0;34m(self, *args, **kwargs)\u001B[0m\n\u001B[1;32m    143\u001B[0m \u001B[38;5;28;01mdef\u001B[39;00m \u001B[38;5;21mdo_wait_suspend\u001B[39m(\u001B[38;5;28mself\u001B[39m, \u001B[38;5;241m*\u001B[39margs, \u001B[38;5;241m*\u001B[39m\u001B[38;5;241m*\u001B[39mkwargs):\n\u001B[0;32m--> 144\u001B[0m     \u001B[38;5;28;43mself\u001B[39;49m\u001B[38;5;241;43m.\u001B[39;49m\u001B[43m_args\u001B[49m\u001B[43m[\u001B[49m\u001B[38;5;241;43m0\u001B[39;49m\u001B[43m]\u001B[49m\u001B[38;5;241;43m.\u001B[39;49m\u001B[43mdo_wait_suspend\u001B[49m\u001B[43m(\u001B[49m\u001B[38;5;241;43m*\u001B[39;49m\u001B[43margs\u001B[49m\u001B[43m,\u001B[49m\u001B[43m \u001B[49m\u001B[38;5;241;43m*\u001B[39;49m\u001B[38;5;241;43m*\u001B[39;49m\u001B[43mkwargs\u001B[49m\u001B[43m)\u001B[49m\n",
      "File \u001B[0;32m/Applications/PyCharm.app/Contents/plugins/python/helpers/pydev/pydevd.py:1160\u001B[0m, in \u001B[0;36mPyDB.do_wait_suspend\u001B[0;34m(self, thread, frame, event, arg, send_suspend_message, is_unhandled_exception)\u001B[0m\n\u001B[1;32m   1157\u001B[0m         from_this_thread\u001B[38;5;241m.\u001B[39mappend(frame_id)\n\u001B[1;32m   1159\u001B[0m \u001B[38;5;28;01mwith\u001B[39;00m \u001B[38;5;28mself\u001B[39m\u001B[38;5;241m.\u001B[39m_threads_suspended_single_notification\u001B[38;5;241m.\u001B[39mnotify_thread_suspended(thread_id, stop_reason):\n\u001B[0;32m-> 1160\u001B[0m     \u001B[38;5;28;43mself\u001B[39;49m\u001B[38;5;241;43m.\u001B[39;49m\u001B[43m_do_wait_suspend\u001B[49m\u001B[43m(\u001B[49m\u001B[43mthread\u001B[49m\u001B[43m,\u001B[49m\u001B[43m \u001B[49m\u001B[43mframe\u001B[49m\u001B[43m,\u001B[49m\u001B[43m \u001B[49m\u001B[43mevent\u001B[49m\u001B[43m,\u001B[49m\u001B[43m \u001B[49m\u001B[43marg\u001B[49m\u001B[43m,\u001B[49m\u001B[43m \u001B[49m\u001B[43msuspend_type\u001B[49m\u001B[43m,\u001B[49m\u001B[43m \u001B[49m\u001B[43mfrom_this_thread\u001B[49m\u001B[43m)\u001B[49m\n",
      "File \u001B[0;32m/Applications/PyCharm.app/Contents/plugins/python/helpers/pydev/pydevd.py:1175\u001B[0m, in \u001B[0;36mPyDB._do_wait_suspend\u001B[0;34m(self, thread, frame, event, arg, suspend_type, from_this_thread)\u001B[0m\n\u001B[1;32m   1172\u001B[0m             \u001B[38;5;28mself\u001B[39m\u001B[38;5;241m.\u001B[39m_call_mpl_hook()\n\u001B[1;32m   1174\u001B[0m         \u001B[38;5;28mself\u001B[39m\u001B[38;5;241m.\u001B[39mprocess_internal_commands()\n\u001B[0;32m-> 1175\u001B[0m         time\u001B[38;5;241m.\u001B[39msleep(\u001B[38;5;241m0.01\u001B[39m)\n\u001B[1;32m   1177\u001B[0m \u001B[38;5;28mself\u001B[39m\u001B[38;5;241m.\u001B[39mcancel_async_evaluation(get_current_thread_id(thread), \u001B[38;5;28mstr\u001B[39m(\u001B[38;5;28mid\u001B[39m(frame)))\n\u001B[1;32m   1179\u001B[0m \u001B[38;5;66;03m# process any stepping instructions\u001B[39;00m\n",
      "\u001B[0;31mKeyboardInterrupt\u001B[0m: "
     ]
    }
   ],
   "source": [
    "start_time = ephem_tab['Time'][0]\n",
    "theta_dot = 1.76**-4 *3600 # rad/hour\n",
    "thetas = [theta_dot * (datetime.fromisoformat(start_time) - datetime.fromisoformat(curr_time)).total_seconds()/3600 for curr_time in ephem_tab['Time']]\n",
    "\n",
    "trans_mat = [np.array([[np.cos(theta), -np.sin(theta)] , [np.sin(theta), np.cos(theta)]]) for theta in thetas]\n",
    "\n",
    "trans_xy = [np.dot(trans_mat,np.array([[x] , [y]])) for x,y in zip(ephem_tab['X'],ephem_tab['Y'])]\n",
    "\n",
    "# for i in range(len(ephem_tab)):\n",
    "#     trans_mat = [np.array([np.cos(thetas[i]), -np.sin(thetas[i])] , [np.sin(thetas[i]), np.cos(thetas[i])])]\n",
    "#     trans_xy[i] = [np.dot(trans_mat,np.array([x] , [y])) for x,y in zip(ephem_tab['X'][i],ephem_tab['Y'])[i]]\n",
    "   \n",
    "\n",
    "\n"
   ]
  },
  {
   "cell_type": "code",
   "execution_count": 35,
   "id": "186c4ccb-923b-4003-9f90-cbe2451475c8",
   "metadata": {},
   "outputs": [],
   "source": [
    "#Animate\n",
    "\n",
    "eph.time_series = True\n",
    "eph.time_att = 'Time'\n",
    "eph.time_decay = 1000000 * u.hour\n",
    "\n",
    "layer.time_series = True\n",
    "layer.time_att = 'Time'\n",
    "layer.time_decay = 10000 * u.hour\n",
    "\n",
    "my_time = Time('1996-12-07 15:21:01.776000')\n",
    "wwt.set_current_time(my_time)\n",
    "\n",
    "wwt.play_time(rate=10000)"
   ]
  },
  {
   "cell_type": "code",
   "execution_count": 36,
   "id": "a7ee087d-b839-42ee-bb4d-21e833ae270d",
   "metadata": {},
   "outputs": [],
   "source": [
    "wwt.pause_time()"
   ]
  },
  {
   "cell_type": "code",
   "execution_count": null,
   "id": "34877b05-e382-45e3-9417-20412893dc29",
   "metadata": {},
   "outputs": [],
   "source": [
    "time interval = p.array[]\n",
    "\n",
    "->> visibility\n",
    "\n",
    "--constant to select a time interval/target\n",
    "- include comments that have example targets to view\n",
    "\n"
   ]
  }
 ],
 "metadata": {
  "kernelspec": {
   "display_name": "Python 3 (ipykernel)",
   "language": "python",
   "name": "python3"
  },
  "language_info": {
   "codemirror_mode": {
    "name": "ipython",
    "version": 3
   },
   "file_extension": ".py",
   "mimetype": "text/x-python",
   "name": "python",
   "nbconvert_exporter": "python",
   "pygments_lexer": "ipython3",
   "version": "3.11.3"
  }
 },
 "nbformat": 4,
 "nbformat_minor": 5
}
