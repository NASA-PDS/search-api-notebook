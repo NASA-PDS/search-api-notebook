{
 "cells": [
  {
   "cell_type": "markdown",
   "id": "fba6be0e-ba38-472e-8ba0-76c55e622eb9",
   "metadata": {},
   "source": [
    "#### Welcome to the pyWWT visualization notebook!\n",
    "\n",
    "This notebook demonstrates a PDS search API use case by visualizing Galileo Orbiter's magnetosphere measurement campaign and displays pyWWT's ability to visualize orbit data and overlay instrument data onto regions of interest.\n",
    "\n",
    "To properly run this code, ensure that you have followed the steps outlined in the README.md file. Additionally, ensure that you have opened an \"AAS Worldwide Telescope\" launcher in your notebook work space. To do this simply go to File -> New Launcher and (if configured correctly) click the AAS WWT icon. See [WWTs Jupyter Application](https://pywwt.readthedocs.io/en/stable/jupyterlab.html) for troubleshooting and further setup.\n",
    "\n",
    "# Step 0: Import Libraries"
   ]
  },
  {
   "cell_type": "code",
   "execution_count": 1,
   "id": "9aeb7aa4-d95f-4f15-9877-440e2870e55a",
   "metadata": {
    "ExecuteTime": {
     "end_time": "2023-07-20T22:37:06.578439Z",
     "start_time": "2023-07-20T22:37:00.903419Z"
    },
    "tags": []
   },
   "outputs": [],
   "source": [
    "from __future__ import print_function\n",
    "import pandas as pd\n",
    "import numpy as np\n",
    "\n",
    "import requests\n",
    "import spiceypy\n",
    "import os\n",
    "import io\n",
    "\n",
    "from datetime import datetime,timedelta\n",
    "import matplotlib.dates as mdates\n",
    "from astropy import units as u\n",
    "\n",
    "from astropy.time import Time\n",
    "from pywwt.jupyter import WWTJupyterWidget\n",
    "from pywwt.jupyter import connect_to_app\n",
    "from astropy.table import Table\n",
    "import matplotlib.pyplot as plt\n"
   ]
  },
  {
   "cell_type": "markdown",
   "id": "c8ba7986",
   "metadata": {},
   "source": [
    "# Step 1: Function Definitions\n",
    "\n",
    "Define functions to be used throughout the script.\n",
    "\n",
    "There are 4 functions here:\n",
    "1. **getsta:** Used to obtain the positions and velocities of Galileo relative to the J2000 date and Jupiter's coordinate frame.\n",
    "2. **get_data:** This parses through and grabs the correct collections from a CSV contained in the Galileo Magnetometer [parent bundle](https://pds.nasa.gov/api/search/1/products/urn:nasa:pds:galileo-mag-jup-calibrated::1.0). This CSV contains a list of lids containing collections from each measurement period in the mission relative to 2 coordinate systems, Inertial Rotor Coordinates (IRC = despun spacecraft) and Jupiter System III(+Z spin axis, prime meridian +X axis). The IRC data files are chosen, but it doesn't matter because the plot is non-directional\n",
    "3. **get_tabs:** This takes the individual collections and grabs the time and magnitude for each measurement to store into an array for later use.\n",
    "4. **download_and_load_spice_kernel:** For a number of reasons we don't want SPICE kernels living on the gitHub repo, so this function installs the necessary kernels to the users local machine."
   ]
  },
  {
   "cell_type": "code",
   "execution_count": 2,
   "id": "35bff9a7",
   "metadata": {
    "ExecuteTime": {
     "end_time": "2023-07-21T16:05:32.357240Z",
     "start_time": "2023-07-21T16:05:32.348144Z"
    },
    "collapsed": false,
    "jupyter": {
     "outputs_hidden": false
    }
   },
   "outputs": [],
   "source": [
    "def getsta(mag_time):\n",
    "    # METAKR = 'getgll.tm'\n",
    "    # spiceypy.furnsh( METAKR )\n",
    "    row = []\n",
    "    for t in mag_time:\n",
    "            time_string = t.strftime('%Y-%m-%d %H:%M:%S')\n",
    "            # time_string = t # temporary\n",
    "\n",
    "            #ephemeris time after iterating\n",
    "            et = spiceypy.str2et( time_string )\n",
    "\n",
    "            [state, ltime] = spiceypy.spkezr( '5', et,      'J2000',\n",
    "                                            'LT+S',   '-77'       )\n",
    "            row.append([state[0], state[1], state[2], state[3], state[4], state[5]])\n",
    "    return row\n",
    "\n",
    "def download_and_load_spice_kernel(p_requests_session, p_url):\n",
    "    if not os.access('.spice_kernels',os.F_OK):\n",
    "        os.mkdir('.spice_kernels')\n",
    "\n",
    "    kernel_dir = os.path.join(\".spice_kernels\")\n",
    "#     os.makedirs(kernel_dir, exist_ok=True)\n",
    "    file_path = os.path.join(kernel_dir, os.path.basename(p_url))\n",
    "    r = requests.get(url, allow_redirects=True)\n",
    "    if r.status_code == 200:\n",
    "        print('Successfully loaded:',os.path.basename(p_url))\n",
    "\n",
    "        open(file_path, \"wb\").write(r.content)\n",
    "    spiceypy.furnsh(file_path)\n"
   ]
  },
  {
   "cell_type": "markdown",
   "id": "c68718d1-9ef4-4a74-be8e-01501fec2b1c",
   "metadata": {},
   "source": [
    "# Step 2: Load SPICE Kernels\n",
    "Import the necessary SPICE Kernels and download them to on the local environment using **download_and_load_spice_kernel**."
   ]
  },
  {
   "cell_type": "code",
   "execution_count": 3,
   "id": "37e67707-958b-4005-8a39-75dbbdb97cdb",
   "metadata": {
    "ExecuteTime": {
     "end_time": "2023-07-20T22:37:10.735101Z",
     "start_time": "2023-07-20T22:37:06.593867Z"
    }
   },
   "outputs": [
    {
     "name": "stdout",
     "output_type": "stream",
     "text": [
      "Successfully loaded: naif0008.tls\n",
      "Successfully loaded: 981005_PLTEPH-DE405S.bsp\n",
      "Successfully loaded: gll_951120_021126_raj2021.bsp\n"
     ]
    }
   ],
   "source": [
    "\n",
    "KERNEL_URLS = [\n",
    "    #generic LSK\n",
    "    \"https://naif.jpl.nasa.gov/pub/naif/pds/data/ody-m-spice-6-v1.0/odsp_1000/data/lsk/naif0008.tls\",\n",
    "    #CASSINI Solar System SPK \n",
    "    \"https://naif.jpl.nasa.gov/pub/naif/CASSINI/kernels/spk/981005_PLTEPH-DE405S.bsp\",\n",
    "    #Galileo SC SPK\n",
    "    \"https://naif.jpl.nasa.gov/pub/naif/GLL/kernels/spk/gll_951120_021126_raj2021.bsp\"\n",
    "]\n",
    "\n",
    "requests_session = requests.session()\n",
    "# requests_session.mount(\"file://\", requests.adapters.LocalFileAdapter())\n",
    "for url in KERNEL_URLS:\n",
    "    download_and_load_spice_kernel(requests_session, url)\n",
    "    \n",
    "    "
   ]
  },
  {
   "cell_type": "markdown",
   "id": "d858c7dc-2a8b-4d42-b03c-db295c7dfe5b",
   "metadata": {},
   "source": [
    "# Get Products from Search API\n",
    "\n",
    "Utilize the PDS registry API to grab the magnetometer data for the Galileo Orbiter."
   ]
  },
  {
   "cell_type": "code",
   "execution_count": 4,
   "id": "4561eb3d",
   "metadata": {
    "ExecuteTime": {
     "end_time": "2023-07-20T22:37:52.644806Z",
     "start_time": "2023-07-20T22:37:52.096252Z"
    },
    "collapsed": false,
    "jupyter": {
     "outputs_hidden": false
    }
   },
   "outputs": [],
   "source": [
    "#High-res data\n",
    "# collection_lid = \"urn:nasa:pds:galileo-mag-jup-calibrated:data-highres-magnetosphere::1.0\"\n",
    "#Low-res data\n",
    "collection_lid = \"urn:nasa:pds:galileo-mag-jup-calibrated:data-magspheric-survey::1.0\"\n",
    "\n",
    "url = f\"https://pds.nasa.gov/api/search/1/products/{collection_lid}/members\"\n",
    "fields = [\n",
    "    \"lid\",\n",
    "    \"vid\",\n",
    "    \"pds:Time_Coordinates.pds:start_date_time\",\n",
    "    \"pds:Time_Coordinates.pds:stop_date_time\",\n",
    "    \"pds:Target_Identification.pds:name\",\n",
    "    \"ops:Data_File_Info.ops:file_ref\",\n",
    "    \"pds:Field_Character.pds:name\",\n",
    "    \"pds:Field_Character.pds:field_length\"\n",
    "]\n",
    "\n",
    "#These search features do not work\n",
    "start_time = \"1996-11-01T00:00:00.00Z\"\n",
    "target_type = \"Ganymede\"\n",
    "\n",
    "params = dict(\n",
    "    fields=\",\".join(fields),\n",
    "    q=f'((pds:Time_Coordinates.pds:start_date_time gt \"{start_time}\") and (pds:Target_Identification.pds:name eq \"{target_type}\"))',\n",
    "    limit = 200\n",
    ")\n",
    "\n",
    "\n",
    "headers = dict(Accept=\"application/csv\")\n",
    "response = requests.get(\n",
    "    url,\n",
    "    params=params,\n",
    "    headers=headers\n",
    ")"
   ]
  },
  {
   "cell_type": "markdown",
   "id": "8967bba3",
   "metadata": {},
   "source": [
    "# Store results in a DataFrame and print contents"
   ]
  },
  {
   "cell_type": "code",
   "execution_count": 20,
   "id": "a521721c",
   "metadata": {
    "ExecuteTime": {
     "end_time": "2023-07-20T22:37:55.650115Z",
     "start_time": "2023-07-20T22:37:55.396603Z"
    },
    "collapsed": false,
    "jupyter": {
     "outputs_hidden": false
    }
   },
   "outputs": [
    {
     "data": {
      "text/html": [
       "<div>\n",
       "<style scoped>\n",
       "    .dataframe tbody tr th:only-of-type {\n",
       "        vertical-align: middle;\n",
       "    }\n",
       "\n",
       "    .dataframe tbody tr th {\n",
       "        vertical-align: top;\n",
       "    }\n",
       "\n",
       "    .dataframe thead th {\n",
       "        text-align: right;\n",
       "    }\n",
       "</style>\n",
       "<table border=\"1\" class=\"dataframe\">\n",
       "  <thead>\n",
       "    <tr style=\"text-align: right;\">\n",
       "      <th></th>\n",
       "      <th>lid</th>\n",
       "      <th>vid</th>\n",
       "      <th>pds:Time_Coordinates.pds:start_date_time</th>\n",
       "      <th>pds:Time_Coordinates.pds:stop_date_time</th>\n",
       "      <th>pds:Target_Identification.pds:name</th>\n",
       "      <th>ops:Data_File_Info.ops:file_ref</th>\n",
       "    </tr>\n",
       "  </thead>\n",
       "  <tbody>\n",
       "    <tr>\n",
       "      <th>96</th>\n",
       "      <td>urn:nasa:pds:galileo-mag-jup-calibrated:data-m...</td>\n",
       "      <td>1.0</td>\n",
       "      <td>1996-09-01T16:00:40.392Z</td>\n",
       "      <td>1996-11-02T11:44:01.104Z</td>\n",
       "      <td>[Jupiter, Ganymede]</td>\n",
       "      <td>https://pds-ppi.igpp.ucla.edu/data/galileo-mag...</td>\n",
       "    </tr>\n",
       "    <tr>\n",
       "      <th>7</th>\n",
       "      <td>urn:nasa:pds:galileo-mag-jup-calibrated:data-m...</td>\n",
       "      <td>1.0</td>\n",
       "      <td>1996-09-01T16:00:40.392Z</td>\n",
       "      <td>1996-11-02T11:44:01.104Z</td>\n",
       "      <td>[Jupiter, Ganymede]</td>\n",
       "      <td>https://pds-ppi.igpp.ucla.edu/data/galileo-mag...</td>\n",
       "    </tr>\n",
       "    <tr>\n",
       "      <th>6</th>\n",
       "      <td>urn:nasa:pds:galileo-mag-jup-calibrated:data-m...</td>\n",
       "      <td>1.0</td>\n",
       "      <td>1996-09-01T16:00:40.392Z</td>\n",
       "      <td>1996-11-02T11:44:01.104Z</td>\n",
       "      <td>[Jupiter, Ganymede]</td>\n",
       "      <td>https://pds-ppi.igpp.ucla.edu/data/galileo-mag...</td>\n",
       "    </tr>\n",
       "    <tr>\n",
       "      <th>5</th>\n",
       "      <td>urn:nasa:pds:galileo-mag-jup-calibrated:data-m...</td>\n",
       "      <td>1.0</td>\n",
       "      <td>1996-09-01T16:00:48.392Z</td>\n",
       "      <td>1996-11-02T11:44:09.104Z</td>\n",
       "      <td>[Jupiter, Ganymede]</td>\n",
       "      <td>https://pds-ppi.igpp.ucla.edu/data/galileo-mag...</td>\n",
       "    </tr>\n",
       "    <tr>\n",
       "      <th>99</th>\n",
       "      <td>urn:nasa:pds:galileo-mag-jup-calibrated:data-m...</td>\n",
       "      <td>1.0</td>\n",
       "      <td>1996-11-02T16:02:49.095Z</td>\n",
       "      <td>1996-12-14T23:58:52.842Z</td>\n",
       "      <td>[Jupiter, Callisto]</td>\n",
       "      <td>https://pds-ppi.igpp.ucla.edu/data/galileo-mag...</td>\n",
       "    </tr>\n",
       "    <tr>\n",
       "      <th>...</th>\n",
       "      <td>...</td>\n",
       "      <td>...</td>\n",
       "      <td>...</td>\n",
       "      <td>...</td>\n",
       "      <td>...</td>\n",
       "      <td>...</td>\n",
       "    </tr>\n",
       "    <tr>\n",
       "      <th>124</th>\n",
       "      <td>urn:nasa:pds:galileo-mag-jup-calibrated:data-m...</td>\n",
       "      <td>1.0</td>\n",
       "      <td>1999-05-02T17:03:26.068Z</td>\n",
       "      <td>1999-06-29T07:05:56.515Z</td>\n",
       "      <td>[Jupiter, Callisto]</td>\n",
       "      <td>https://pds-ppi.igpp.ucla.edu/data/galileo-mag...</td>\n",
       "    </tr>\n",
       "    <tr>\n",
       "      <th>126</th>\n",
       "      <td>urn:nasa:pds:galileo-mag-jup-calibrated:data-m...</td>\n",
       "      <td>1.0</td>\n",
       "      <td>1999-06-29T07:03:39.182Z</td>\n",
       "      <td>1999-08-11T14:09:40.123Z</td>\n",
       "      <td>[Jupiter, Callisto, Io Torus]</td>\n",
       "      <td>https://pds-ppi.igpp.ucla.edu/data/galileo-mag...</td>\n",
       "    </tr>\n",
       "    <tr>\n",
       "      <th>23</th>\n",
       "      <td>urn:nasa:pds:galileo-mag-jup-calibrated:data-m...</td>\n",
       "      <td>1.0</td>\n",
       "      <td>1999-06-29T07:03:39.182Z</td>\n",
       "      <td>1999-08-11T14:09:40.123Z</td>\n",
       "      <td>[Jupiter, Callisto, Io Torus]</td>\n",
       "      <td>https://pds-ppi.igpp.ucla.edu/data/galileo-mag...</td>\n",
       "    </tr>\n",
       "    <tr>\n",
       "      <th>24</th>\n",
       "      <td>urn:nasa:pds:galileo-mag-jup-calibrated:data-m...</td>\n",
       "      <td>1.0</td>\n",
       "      <td>1999-06-29T07:03:39.182Z</td>\n",
       "      <td>1999-08-11T14:09:40.123Z</td>\n",
       "      <td>[Jupiter, Callisto, Io Torus]</td>\n",
       "      <td>https://pds-ppi.igpp.ucla.edu/data/galileo-mag...</td>\n",
       "    </tr>\n",
       "    <tr>\n",
       "      <th>77</th>\n",
       "      <td>urn:nasa:pds:galileo-mag-jup-calibrated:data-m...</td>\n",
       "      <td>1.0</td>\n",
       "      <td>1999-06-29T07:03:47.182Z</td>\n",
       "      <td>1999-08-11T14:15:03.679Z</td>\n",
       "      <td>[Jupiter, Callisto, Io Torus]</td>\n",
       "      <td>https://pds-ppi.igpp.ucla.edu/data/galileo-mag...</td>\n",
       "    </tr>\n",
       "  </tbody>\n",
       "</table>\n",
       "<p>76 rows × 6 columns</p>\n",
       "</div>"
      ],
      "text/plain": [
       "                                                   lid  vid  \\\n",
       "96   urn:nasa:pds:galileo-mag-jup-calibrated:data-m...  1.0   \n",
       "7    urn:nasa:pds:galileo-mag-jup-calibrated:data-m...  1.0   \n",
       "6    urn:nasa:pds:galileo-mag-jup-calibrated:data-m...  1.0   \n",
       "5    urn:nasa:pds:galileo-mag-jup-calibrated:data-m...  1.0   \n",
       "99   urn:nasa:pds:galileo-mag-jup-calibrated:data-m...  1.0   \n",
       "..                                                 ...  ...   \n",
       "124  urn:nasa:pds:galileo-mag-jup-calibrated:data-m...  1.0   \n",
       "126  urn:nasa:pds:galileo-mag-jup-calibrated:data-m...  1.0   \n",
       "23   urn:nasa:pds:galileo-mag-jup-calibrated:data-m...  1.0   \n",
       "24   urn:nasa:pds:galileo-mag-jup-calibrated:data-m...  1.0   \n",
       "77   urn:nasa:pds:galileo-mag-jup-calibrated:data-m...  1.0   \n",
       "\n",
       "    pds:Time_Coordinates.pds:start_date_time  \\\n",
       "96                  1996-09-01T16:00:40.392Z   \n",
       "7                   1996-09-01T16:00:40.392Z   \n",
       "6                   1996-09-01T16:00:40.392Z   \n",
       "5                   1996-09-01T16:00:48.392Z   \n",
       "99                  1996-11-02T16:02:49.095Z   \n",
       "..                                       ...   \n",
       "124                 1999-05-02T17:03:26.068Z   \n",
       "126                 1999-06-29T07:03:39.182Z   \n",
       "23                  1999-06-29T07:03:39.182Z   \n",
       "24                  1999-06-29T07:03:39.182Z   \n",
       "77                  1999-06-29T07:03:47.182Z   \n",
       "\n",
       "    pds:Time_Coordinates.pds:stop_date_time  \\\n",
       "96                 1996-11-02T11:44:01.104Z   \n",
       "7                  1996-11-02T11:44:01.104Z   \n",
       "6                  1996-11-02T11:44:01.104Z   \n",
       "5                  1996-11-02T11:44:09.104Z   \n",
       "99                 1996-12-14T23:58:52.842Z   \n",
       "..                                      ...   \n",
       "124                1999-06-29T07:05:56.515Z   \n",
       "126                1999-08-11T14:09:40.123Z   \n",
       "23                 1999-08-11T14:09:40.123Z   \n",
       "24                 1999-08-11T14:09:40.123Z   \n",
       "77                 1999-08-11T14:15:03.679Z   \n",
       "\n",
       "    pds:Target_Identification.pds:name  \\\n",
       "96                 [Jupiter, Ganymede]   \n",
       "7                  [Jupiter, Ganymede]   \n",
       "6                  [Jupiter, Ganymede]   \n",
       "5                  [Jupiter, Ganymede]   \n",
       "99                 [Jupiter, Callisto]   \n",
       "..                                 ...   \n",
       "124                [Jupiter, Callisto]   \n",
       "126      [Jupiter, Callisto, Io Torus]   \n",
       "23       [Jupiter, Callisto, Io Torus]   \n",
       "24       [Jupiter, Callisto, Io Torus]   \n",
       "77       [Jupiter, Callisto, Io Torus]   \n",
       "\n",
       "                       ops:Data_File_Info.ops:file_ref  \n",
       "96   https://pds-ppi.igpp.ucla.edu/data/galileo-mag...  \n",
       "7    https://pds-ppi.igpp.ucla.edu/data/galileo-mag...  \n",
       "6    https://pds-ppi.igpp.ucla.edu/data/galileo-mag...  \n",
       "5    https://pds-ppi.igpp.ucla.edu/data/galileo-mag...  \n",
       "99   https://pds-ppi.igpp.ucla.edu/data/galileo-mag...  \n",
       "..                                                 ...  \n",
       "124  https://pds-ppi.igpp.ucla.edu/data/galileo-mag...  \n",
       "126  https://pds-ppi.igpp.ucla.edu/data/galileo-mag...  \n",
       "23   https://pds-ppi.igpp.ucla.edu/data/galileo-mag...  \n",
       "24   https://pds-ppi.igpp.ucla.edu/data/galileo-mag...  \n",
       "77   https://pds-ppi.igpp.ucla.edu/data/galileo-mag...  \n",
       "\n",
       "[76 rows x 6 columns]"
      ]
     },
     "metadata": {},
     "output_type": "display_data"
    }
   ],
   "source": [
    "products_csv_stream = io.StringIO(response.content.decode('utf-8'))\n",
    "products_df_tot = pd.read_csv(products_csv_stream)\n",
    "\n",
    "\n",
    "# change columns order\n",
    "products_df_tot = products_df_tot[fields]\n",
    "products_df_tot.sort_values(by = 'pds:Time_Coordinates.pds:start_date_time',inplace = True)\n",
    "\n",
    "#User specified time range\n",
    "start_time = pd.to_datetime('1996-07-19T11:00:00Z')\n",
    "end_time = pd.to_datetime('1999-07-19T15:00:00Z')\n",
    "\n",
    "# Filter the DataFrame within the time range\n",
    "t_str = 'pds:Time_Coordinates.pds:start_date_time'\n",
    "products_df = products_df_tot[(pd.to_datetime(products_df_tot[t_str]) >= start_time) & (pd.to_datetime(products_df_tot[t_str]) <= end_time)]\n",
    "\n",
    "display(products_df[[\"lid\",\n",
    "    \"vid\",\n",
    "    \"pds:Time_Coordinates.pds:start_date_time\",\n",
    "    \"pds:Time_Coordinates.pds:stop_date_time\",\n",
    "    \"pds:Target_Identification.pds:name\",\n",
    "    \"ops:Data_File_Info.ops:file_ref\"]])"
   ]
  },
  {
   "cell_type": "markdown",
   "id": "ec5910d8-f3a2-4d37-bc8c-72b54cf547dd",
   "metadata": {},
   "source": [
    "# Grab the data from the individual TAB files for the specified time range"
   ]
  },
  {
   "cell_type": "code",
   "execution_count": 21,
   "id": "430706fd-fbbd-4be8-8aa7-062fdd1498a6",
   "metadata": {
    "ExecuteTime": {
     "end_time": "2023-07-20T22:38:27.565039Z",
     "start_time": "2023-07-20T22:37:59.451015Z"
    }
   },
   "outputs": [
    {
     "name": "stdout",
     "output_type": "stream",
     "text": [
      "debug\n"
     ]
    }
   ],
   "source": [
    "col_name_str = products_df_tot['pds:Field_Character.pds:name'][0]\n",
    "col_name = [item.strip() for item in col_name_str[1:-1].split(',')]\n",
    "\n",
    "tab_urls = [tab_url for tab_url in products_df['ops:Data_File_Info.ops:file_ref'] if 'IRC' in tab_url]\n",
    "\n",
    "col_name.insert(0,'Time')\n",
    "data_tot = pd.concat((pd.read_fwf(data_file,width = 'infer',header = None,names = col_name) for data_file in tab_urls)).reset_index(drop = True)\n",
    "\n",
    "#Put values in chronological order\n",
    "data_tot.sort_values(by = 'Time',inplace = True)\n",
    "\n",
    "print('debug')\n"
   ]
  },
  {
   "cell_type": "markdown",
   "id": "341495ae",
   "metadata": {
    "ExecuteTime": {
     "end_time": "2023-07-18T16:01:26.512957Z",
     "start_time": "2023-07-18T16:01:23.821325Z"
    }
   },
   "source": [
    "# Step 4: Obtain ephemeris for mag measurements\n",
    "\n",
    "Obtain the position and velocity values at each magnetometer measurement timestamp using the **get_sta** function.\n",
    "\n",
    "***Note: You can change the number of data points you would like to plot by changing the sample variable. The higher it is, the fewer data points you will plot.***"
   ]
  },
  {
   "cell_type": "code",
   "execution_count": 22,
   "id": "512dd47b",
   "metadata": {
    "ExecuteTime": {
     "end_time": "2023-07-21T16:06:00.543878Z",
     "start_time": "2023-07-21T16:05:58.404563Z"
    },
    "collapsed": false,
    "jupyter": {
     "outputs_hidden": false
    }
   },
   "outputs": [
    {
     "name": "stdout",
     "output_type": "stream",
     "text": [
      "Obtaining ephemeris for magnetometer readings...\n",
      "Number of magnetometer readings to plot: 17210\n"
     ]
    }
   ],
   "source": [
    "sample = 100\n",
    "\n",
    "trunc_data_tot = data_tot[1::sample]\n",
    "#Obtain the position data that corresponds to the measurements\n",
    "print('Obtaining ephemeris for magnetometer readings...')\n",
    "df = pd.DataFrame({'time':trunc_data_tot['Time'], 'data': trunc_data_tot['B-FIELD MAGNITUDE']})\n",
    "df['time'] = pd.to_datetime(df['time'])\n",
    "# df.sort_values('time', inplace = True)\n",
    "\n",
    "mag_ephem_data = getsta(df['time']) #Takes time input\n",
    "print(\"Number of magnetometer readings to plot: \"+ str(len(mag_ephem_data)))\n"
   ]
  },
  {
   "cell_type": "markdown",
   "id": "1f8c487d",
   "metadata": {},
   "source": [
    "# Plot magnitude relative to distance"
   ]
  },
  {
   "cell_type": "code",
   "execution_count": 23,
   "id": "2eaa9b3f",
   "metadata": {
    "ExecuteTime": {
     "end_time": "2023-07-21T15:55:37.462051Z",
     "start_time": "2023-07-21T15:55:36.514584Z"
    },
    "collapsed": false,
    "jupyter": {
     "outputs_hidden": false
    }
   },
   "outputs": [
    {
     "name": "stderr",
     "output_type": "stream",
     "text": [
      "/var/folders/t7/tdt4vrqj57x7cdkbnm27lcbw0000gq/T/ipykernel_25946/3064733276.py:10: UserWarning: 'set_params()' not defined for locator of type <class 'matplotlib.dates.AutoDateLocator'>\n",
      "  plt.locator_params(axis='x', nbins=10)\n",
      "/usr/local/lib/python3.11/site-packages/IPython/core/pylabtools.py:152: MatplotlibDeprecationWarning: savefig() got unexpected keyword argument \"orientation\" which is no longer supported as of 3.3 and will become an error two minor releases later\n",
      "  fig.canvas.print_figure(bytes_io, **kw)\n",
      "/usr/local/lib/python3.11/site-packages/IPython/core/pylabtools.py:152: MatplotlibDeprecationWarning: savefig() got unexpected keyword argument \"dpi\" which is no longer supported as of 3.3 and will become an error two minor releases later\n",
      "  fig.canvas.print_figure(bytes_io, **kw)\n",
      "/usr/local/lib/python3.11/site-packages/IPython/core/pylabtools.py:152: MatplotlibDeprecationWarning: savefig() got unexpected keyword argument \"facecolor\" which is no longer supported as of 3.3 and will become an error two minor releases later\n",
      "  fig.canvas.print_figure(bytes_io, **kw)\n",
      "/usr/local/lib/python3.11/site-packages/IPython/core/pylabtools.py:152: MatplotlibDeprecationWarning: savefig() got unexpected keyword argument \"edgecolor\" which is no longer supported as of 3.3 and will become an error two minor releases later\n",
      "  fig.canvas.print_figure(bytes_io, **kw)\n",
      "/usr/local/lib/python3.11/site-packages/IPython/core/pylabtools.py:152: MatplotlibDeprecationWarning: savefig() got unexpected keyword argument \"bbox_inches_restore\" which is no longer supported as of 3.3 and will become an error two minor releases later\n",
      "  fig.canvas.print_figure(bytes_io, **kw)\n"
     ]
    },
    {
     "data": {
      "image/png": "[encoded data removed]",
      "text/plain": [
       "<Figure size 640x480 with 1 Axes>"
      ]
     },
     "metadata": {},
     "output_type": "display_data"
    },
    {
     "data": {
      "image/png": "[encoded data removed]",
      "text/plain": [
       "<Figure size 640x480 with 2 Axes>"
      ]
     },
     "metadata": {},
     "output_type": "display_data"
    }
   ],
   "source": [
    "TimeConverted = [datetime.strptime(t, \"%Y-%m-%dT%H:%M:%S.%f\") for t in data_tot['Time']]\n",
    "fig, ax = plt.subplots()\n",
    "cm = ax.scatter(TimeConverted,data_tot['B-FIELD MAGNITUDE'])\n",
    "\n",
    "# ax.xaxis.set_major_locator(mdates.MonthLocator())\n",
    "ax.xaxis.set_major_formatter(mdates.DateFormatter('%b %Y'))\n",
    "plt.xticks(rotation=45)\n",
    "\n",
    "plt.xlabel(\"Time\")\n",
    "plt.locator_params(axis='x', nbins=10)\n",
    "plt.ylabel(\"Magnitude (nT)\")\n",
    "plt.title(\"Galileo Magnetometer Readings\")\n",
    "\n",
    "plt.show()\n",
    "\n",
    "fig_2, mag_d = plt.subplots()\n",
    "distance = distance = np.linalg.norm(mag_ephem_data, axis=1)\n",
    "\n",
    "cm = mag_d.scatter(distance,df['data'],c = df['data'], cmap = 'viridis' )\n",
    "\n",
    "plt.xlabel(\"Distance [km]\")\n",
    "plt.ylabel(\"Magnitude (nT)\")\n",
    "plt.title(\"Galileo Magnetometer Readings vs Altitude\")\n",
    "\n",
    "cbar = plt.colorbar(cm)\n",
    "cbar.set_label(\"Magnitude (nT)\")\n",
    "plt.show()"
   ]
  },
  {
   "cell_type": "markdown",
   "id": "86a5481e",
   "metadata": {},
   "source": [
    "# Step 5: Obtain ephemeris for orbits\n",
    "\n",
    "Get the ephemeris for the orbits between the first magnetometer measurement, and the last."
   ]
  },
  {
   "cell_type": "code",
   "execution_count": 24,
   "id": "481fa51f",
   "metadata": {
    "ExecuteTime": {
     "end_time": "2023-07-21T16:06:09.600604Z",
     "start_time": "2023-07-21T16:06:06.347056Z"
    },
    "collapsed": false,
    "jupyter": {
     "outputs_hidden": false
    }
   },
   "outputs": [
    {
     "name": "stdout",
     "output_type": "stream",
     "text": [
      "Filling in ephemeris data...\n",
      "Finished\n"
     ]
    }
   ],
   "source": [
    "#Grab the orbit ephemeris data from the start time of the magnetometer readings to the end time.\n",
    "print(\"Filling in ephemeris data...\")\n",
    "df.reset_index(inplace = True)\n",
    "start_time = df['time'][0]\n",
    "end_time = df['time'][len(df)-1]\n",
    "\n",
    "ephem_time = []\n",
    "ephem_time = np.arange(start_time, end_time, timedelta(hours=1)).astype(datetime)\n",
    "\n",
    "# while ephem_time < end_time:\n",
    "#     #Grab the states\n",
    "# ephem_data = np.empty(len(ephem_time))\n",
    "# for i in range(len(ephem_data)):\n",
    "ephem_data = getsta(ephem_time)\n",
    "print('Finished')\n"
   ]
  },
  {
   "cell_type": "markdown",
   "id": "c52eb492-0f89-4b8c-b09d-13b94647217e",
   "metadata": {},
   "source": [
    "# Step 6: Organize the data for pyWWT\n",
    "\n",
    "This step organizes all the data variables into tables for pyWWT. A table is generated for the magnetometer data and another for the ephemeris data."
   ]
  },
  {
   "cell_type": "code",
   "execution_count": 25,
   "id": "0e113b69-1c9e-410f-a58f-f97b7b5861aa",
   "metadata": {
    "ExecuteTime": {
     "end_time": "2023-07-21T16:06:51.137457Z",
     "start_time": "2023-07-21T16:06:51.014411Z"
    }
   },
   "outputs": [
    {
     "name": "stdout",
     "output_type": "stream",
     "text": [
      "Done!\n"
     ]
    }
   ],
   "source": [
    "ephem_tab = Table()\n",
    "mag_tab = Table()\n",
    "\n",
    "#Ephemeris data to table\n",
    "ephem_iso = [ephem_t.replace(tzinfo=None).isoformat() for ephem_t in ephem_time]\n",
    "ephem_tab['Time'] = ephem_iso\n",
    "\n",
    "ephem_data = [row[0:3] for row in ephem_data]\n",
    "transposed = zip(*ephem_data)\n",
    "ephem_tab['X'], ephem_tab['Y'], ephem_tab['Z'] = transposed\n",
    "\n",
    "#Magnetometer values and ephemeris data to table\n",
    "# mag_iso = [mag_t.replace(tzinfo=None).isoformat() for mag_t in trunc_data_tot]\n",
    "mag_tab['Time'] = trunc_data_tot['Time']\n",
    "# mag_val = [mag_t for mag_t in df['data'][1000::]]\n",
    "mag_tab['Magnitude (nT)'] = trunc_data_tot['B-FIELD MAGNITUDE']\n",
    "\n",
    "mag_pos = [row[0:3] for row in mag_ephem_data]\n",
    "mag_transpose = zip(*mag_pos)\n",
    "mag_tab['X'], mag_tab['Y'], mag_tab['Z'] = mag_transpose\n",
    "            \n",
    "print('Done!')"
   ]
  },
  {
   "cell_type": "markdown",
   "id": "61a8aed2",
   "metadata": {},
   "source": [
    "# Step 7: Connect pyWWT Widget\n",
    "\n",
    "***Before proceeding, ensure that you have another tab open in the notebook for the AAS WorldWide Telescope widget***\n",
    "\n",
    "Instantiate the WWTJupyterWidget and await connection."
   ]
  },
  {
   "cell_type": "code",
   "execution_count": 26,
   "id": "acf6395f-3a2c-4f6e-be99-191553a464e2",
   "metadata": {},
   "outputs": [
    {
     "name": "stdout",
     "output_type": "stream",
     "text": [
      "Successful Connection\n"
     ]
    }
   ],
   "source": [
    "#Connect pyWWT widget\n",
    "\n",
    "wwt = WWTJupyterWidget()\n",
    "wwt = await connect_to_app().becomes_ready()\n",
    "print('Successful Connection')\n",
    "wwt.reset()"
   ]
  },
  {
   "cell_type": "markdown",
   "id": "12f399da",
   "metadata": {},
   "source": [
    "# Step 8: Set view and load data\n",
    "\n",
    "Set the WWT view to the solar system and load in the magnetometer data and ephemeris data via table layers. Once complete, in the pyWWT widget the view will be centered on Jupiter. Zoom in to see the results!"
   ]
  },
  {
   "cell_type": "code",
   "execution_count": 27,
   "id": "68997cfd-8c6f-4b6d-898a-440253835035",
   "metadata": {},
   "outputs": [],
   "source": [
    "wwt.set_current_time(Time('1995-12-07 15:21:01.776000'))\n",
    "wwt.set_view(\"solar system\")\n",
    "layer = wwt.layers.add_table_layer(table = mag_tab, frame = 'jupiter',\n",
    "                                  coord_type = 'rectangular',\n",
    "                                  x_att = 'X', y_att = 'Y', z_att = 'Z')\n",
    "layer.xyz_unit = 'km'\n",
    "layer.far_side_visible = True\n",
    "\n",
    "layer.cmap_att = 'Magnitude (nT)'\n",
    "layer.cmap.vmin = min(mag_tab['Magnitude (nT)'] + 10)\n",
    "layer.cmap.vmax = max(mag_tab['Magnitude (nT)'])\n",
    "\n",
    "layer.size_scale = 250\n",
    "layer.far_side_visible = True\n",
    "layer.marker_type = 'point'\n",
    "layer.marker_scale = 'world'\n",
    "\n",
    "eph = wwt.layers.add_table_layer(table = ephem_tab, frame = 'jupiter',\n",
    "                                  coord_type = 'rectangular',\n",
    "                                  x_att = 'X', y_att = 'Y', z_att = 'Z')\n",
    "eph.xyz_unit = 'km'\n",
    "eph.far_side_visible = True\n",
    "eph.color = (.2, .2, .6)\n",
    "eph.size_scale = 16\n",
    "eph.far_side_visible = True"
   ]
  },
  {
   "cell_type": "code",
   "execution_count": 28,
   "id": "b26566b6-b562-42fc-9124-8a07a9ff6605",
   "metadata": {},
   "outputs": [],
   "source": [
    "wwt.solar_system.track_object('Jupiter')\n"
   ]
  },
  {
   "cell_type": "markdown",
   "id": "eaa801c1",
   "metadata": {},
   "source": [
    "# Step 8:\n",
    "\n",
    "Note the below code is still a work in progress and will not function as intended."
   ]
  },
  {
   "cell_type": "code",
   "execution_count": 17,
   "id": "0a5f7ba1-3709-4144-9a96-99ebb0c49d34",
   "metadata": {},
   "outputs": [],
   "source": [
    "# start_time = ephem_tab['Time'][0]\n",
    "# theta_dot = 1.76**-4 *3600 # rad/hour\n",
    "# thetas = [theta_dot * (datetime.fromisoformat(start_time) - datetime.fromisoformat(curr_time)).total_seconds()/3600 for curr_time in ephem_tab['Time']]\n",
    "\n",
    "# trans_mat = [np.array([[np.cos(theta), -np.sin(theta)] , [np.sin(theta), np.cos(theta)]]) for theta in thetas]\n",
    "\n",
    "# trans_xy = [np.dot(trans_mat,np.array([[x] , [y]])) for x,y in zip(ephem_tab['X'],ephem_tab['Y'])]\n",
    "\n",
    "# for i in range(len(ephem_tab)):\n",
    "#     trans_mat = [np.array([np.cos(thetas[i]), -np.sin(thetas[i])] , [np.sin(thetas[i]), np.cos(thetas[i])])]\n",
    "#     trans_xy[i] = [np.dot(trans_mat,np.array([x] , [y])) for x,y in zip(ephem_tab['X'][i],ephem_tab['Y'])[i]]\n",
    "   \n",
    "\n",
    "\n"
   ]
  },
  {
   "cell_type": "code",
   "execution_count": 18,
   "id": "186c4ccb-923b-4003-9f90-cbe2451475c8",
   "metadata": {},
   "outputs": [],
   "source": [
    "#Animate\n",
    "\n",
    "eph.time_series = True\n",
    "eph.time_att = 'Time'\n",
    "eph.time_decay = 1000000 * u.hour\n",
    "\n",
    "# layer.time_series = True\n",
    "# layer.time_att = 'Time'\n",
    "# layer.time_decay = 10000 * u.hour\n",
    "\n",
    "my_time = Time('1996-12-07 15:21:01.776000')\n",
    "wwt.set_current_time(my_time)\n",
    "\n",
    "wwt.play_time(rate=10000)"
   ]
  },
  {
   "cell_type": "code",
   "execution_count": 19,
   "id": "a7ee087d-b839-42ee-bb4d-21e833ae270d",
   "metadata": {},
   "outputs": [],
   "source": [
    "wwt.pause_time()"
   ]
  },
  {
   "cell_type": "code",
   "execution_count": null,
   "id": "34877b05-e382-45e3-9417-20412893dc29",
   "metadata": {},
   "outputs": [],
   "source": [
    "\n"
   ]
  }
 ],
 "metadata": {
  "kernelspec": {
   "display_name": "Python 3 (ipykernel)",
   "language": "python",
   "name": "python3"
  },
  "language_info": {
   "codemirror_mode": {
    "name": "ipython",
    "version": 3
   },
   "file_extension": ".py",
   "mimetype": "text/x-python",
   "name": "python",
   "nbconvert_exporter": "python",
   "pygments_lexer": "ipython3",
   "version": "3.11.3"
  }
 },
 "nbformat": 4,
 "nbformat_minor": 5
}
