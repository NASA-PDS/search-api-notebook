{
 "cells": [
  {
   "cell_type": "markdown",
   "id": "fba6be0e-ba38-472e-8ba0-76c55e622eb9",
   "metadata": {},
   "source": [
    "#### Welcome to the pyWWT visualization notebook!\n",
    "\n",
    "This notebook demonstrates a PDS search API use case by visualizing Galileo Orbiter's magnetosphere measurement campaign and displays pyWWT's ability to visualize orbit data and overlay instrument data onto regions of interest.\n",
    "\n",
    "To properly run this code, ensure that you have followed the steps outlined in the README.md file. Additionally, ensure that you have opened an \"AAS Worldwide Telescope\" launcher in your notebook work space. To do this simply go to File -> New Launcher and (if configured correctly) click the AAS WWT icon. See [WWTs Jupyter Application](https://pywwt.readthedocs.io/en/stable/jupyterlab.html) for troubleshooting and further setup.\n",
    "\n",
    "# Step 0: Import Libraries"
   ]
  },
  {
   "cell_type": "code",
   "execution_count": 1,
   "id": "9aeb7aa4-d95f-4f15-9877-440e2870e55a",
   "metadata": {
    "tags": [],
    "ExecuteTime": {
     "end_time": "2023-07-18T16:07:51.214578Z",
     "start_time": "2023-07-18T16:07:47.054407Z"
    }
   },
   "outputs": [],
   "source": [
    "from __future__ import print_function\n",
    "\n",
    "import requests\n",
    "import spiceypy\n",
    "import pandas as pd\n",
    "import numpy as np\n",
    "from datetime import datetime,timedelta\n",
    "from astropy import units as u\n",
    "import os\n",
    "import io\n",
    "\n",
    "from astropy.time import Time\n",
    "from pywwt.jupyter import WWTJupyterWidget\n",
    "from pywwt.jupyter import connect_to_app\n",
    "from astropy.table import Table\n"
   ]
  },
  {
   "cell_type": "markdown",
   "id": "c8ba7986",
   "metadata": {},
   "source": [
    "# Step 1: Function Definitions\n",
    "\n",
    "Define functions to be used throughout the script.\n",
    "\n",
    "There are 4 functions here:\n",
    "1. **getsta:** Used to obtain the positions and velocities of Galileo relative to the J2000 date and Jupiter's coordinate frame.\n",
    "2. **get_data:** This parses through and grabs the correct collections from a CSV contained in the Galileo Magnetometer [parent bundle](https://pds.nasa.gov/api/search/1/products/urn:nasa:pds:galileo-mag-jup-calibrated::1.0). This CSV contains a list of lids containing collections from each measurement period in the mission relative to 2 coordinate systems, Inertial Rotor Coordinates (IRC = despun spacecraft) and Jupiter System III(+Z spin axis, prime meridian +X axis). The IRC data files are chosen, but it doesn't matter because the plot is non-directional\n",
    "3. **get_tabs:** This takes the individual collections and grabs the time and magnitude for each measurement to store into an array for later use.\n",
    "4. **download_and_load_spice_kernel:** For a number of reasons we don't want SPICE kernels living on the gitHub repo, so this function installs the necessary kernels to the users local machine."
   ]
  },
  {
   "cell_type": "code",
   "execution_count": 14,
   "id": "35bff9a7",
   "metadata": {
    "collapsed": false,
    "jupyter": {
     "outputs_hidden": false
    },
    "ExecuteTime": {
     "end_time": "2023-07-18T16:19:51.463509Z",
     "start_time": "2023-07-18T16:19:51.403360Z"
    }
   },
   "outputs": [],
   "source": [
    "def getsta(mag_time):\n",
    "    # METAKR = 'getgll.tm'\n",
    "    # spiceypy.furnsh( METAKR )\n",
    "    row = []\n",
    "    for t in mag_time:\n",
    "            time_string = t.strftime('%Y-%m-%d %H:%M:%S')\n",
    "\n",
    "            #ephemeris time after iterating\n",
    "            et = spiceypy.str2et( time_string )\n",
    "\n",
    "            [state, ltime] = spiceypy.spkezr( '5', et,      'J2000',\n",
    "                                            'LT+S',   '-77'       )\n",
    "            row.append([state[0], state[1], state[2], state[3], state[4], state[5]])\n",
    "    return row\n",
    "\n",
    "def get_tabs(url):\n",
    "    tab_response = requests.get(url)\n",
    "    tab_content = tab_response.text\n",
    "    lines = tab_content.splitlines()\n",
    "\n",
    "    time_data = []\n",
    "    iter_data = []\n",
    "    for line in lines:\n",
    "            raw_data = line.split()\n",
    "            time_data.append(raw_data[0])\n",
    "            iter_data.append(float(raw_data[4]))\n",
    "    return time_data, iter_data\n",
    "\n",
    "\n",
    "def download_and_load_spice_kernel(p_requests_session, p_url):\n",
    "    if not os.access('.spice_kernels',os.F_OK):\n",
    "        os.mkdir('.spice_kernels')\n",
    "\n",
    "    kernel_dir = os.path.join(\".spice_kernels\")\n",
    "#     os.makedirs(kernel_dir, exist_ok=True)\n",
    "    file_path = os.path.join(kernel_dir, os.path.basename(p_url))\n",
    "    r = requests.get(url, allow_redirects=True)\n",
    "    if r.status_code == 200:\n",
    "        print('Successfully loaded:',os.path.basename(p_url))\n",
    "\n",
    "        open(file_path, \"wb\").write(r.content)\n",
    "    spiceypy.furnsh(file_path)\n"
   ]
  },
  {
   "cell_type": "markdown",
   "id": "c68718d1-9ef4-4a74-be8e-01501fec2b1c",
   "metadata": {},
   "source": [
    "# Step 2: Load SPICE Kernels\n",
    "Import the necessary SPICE Kernels and download them to on the local environment using **download_and_load_spice_kernel**."
   ]
  },
  {
   "cell_type": "code",
   "execution_count": 3,
   "id": "37e67707-958b-4005-8a39-75dbbdb97cdb",
   "metadata": {
    "ExecuteTime": {
     "end_time": "2023-07-17T21:51:20.474056Z",
     "start_time": "2023-07-17T21:51:14.759501Z"
    }
   },
   "outputs": [
    {
     "name": "stdout",
     "output_type": "stream",
     "text": [
      "Successfully loaded: naif0008.tls\n",
      "Successfully loaded: 981005_PLTEPH-DE405S.bsp\n",
      "Successfully loaded: gll_951120_021126_raj2021.bsp\n"
     ]
    }
   ],
   "source": [
    "\n",
    "KERNEL_URLS = [\n",
    "    #generic LSK\n",
    "    \"https://naif.jpl.nasa.gov/pub/naif/pds/data/ody-m-spice-6-v1.0/odsp_1000/data/lsk/naif0008.tls\",\n",
    "    #CASSINI Solar System SPK \n",
    "    \"https://naif.jpl.nasa.gov/pub/naif/CASSINI/kernels/spk/981005_PLTEPH-DE405S.bsp\",\n",
    "    #Galileo SC SPK\n",
    "    \"https://naif.jpl.nasa.gov/pub/naif/GLL/kernels/spk/gll_951120_021126_raj2021.bsp\"\n",
    "]\n",
    "\n",
    "requests_session = requests.session()\n",
    "# requests_session.mount(\"file://\", requests.adapters.LocalFileAdapter())\n",
    "for url in KERNEL_URLS:\n",
    "    download_and_load_spice_kernel(requests_session, url)\n",
    "    \n",
    "    "
   ]
  },
  {
   "cell_type": "markdown",
   "id": "d858c7dc-2a8b-4d42-b03c-db295c7dfe5b",
   "metadata": {},
   "source": [
    "# Get Products from Search API\n",
    "\n",
    "Utilize the PDS registry API to grab the magnetometer data for the Galileo Orbiter."
   ]
  },
  {
   "cell_type": "code",
   "execution_count": 21,
   "outputs": [],
   "source": [
    "#High-res data\n",
    "# collection_lid = \"urn:nasa:pds:galileo-mag-jup-calibrated:data-highres-magnetosphere::1.0\"\n",
    "#Low-res data\n",
    "collection_lid = \"urn:nasa:pds:galileo-mag-jup-calibrated:data-magspheric-survey::1.0\"\n",
    "\n",
    "url = f\"https://pds.nasa.gov/api/search/1/products/{collection_lid}/members\"\n",
    "fields = [\n",
    "    \"lid\",\n",
    "    \"vid\",\n",
    "    \"pds:Time_Coordinates.pds:start_date_time\",\n",
    "    \"pds:Time_Coordinates.pds:stop_date_time\",\n",
    "    \"pds:Target_Identification.pds:name\",\n",
    "    \"ops:Data_File_Info.ops:file_ref\"\n",
    "]\n",
    "start_time = \"1996-11-01T00:00:00.00Z\"\n",
    "target_type = \"Ganymede\"\n",
    "\n",
    "params = dict(\n",
    "    fields=\",\".join(fields),\n",
    "    q=f'((pds:Time_Coordinates.pds:start_date_time gt \"{start_time}\") and (pds:Target_Identification.pds:name eq \"{target_type}\"))',\n",
    "    limit = 200\n",
    ")\n",
    "\n",
    "\n",
    "headers = dict(Accept=\"application/csv\")\n",
    "response = requests.get(\n",
    "    url,\n",
    "    params=params,\n",
    "    headers=headers\n",
    ")"
   ],
   "metadata": {
    "collapsed": false,
    "ExecuteTime": {
     "end_time": "2023-07-18T17:50:16.508408Z",
     "start_time": "2023-07-18T17:50:11.433993Z"
    }
   }
  },
  {
   "cell_type": "markdown",
   "source": [
    "# Store results in a DataFrame and print contents"
   ],
   "metadata": {
    "collapsed": false
   }
  },
  {
   "cell_type": "code",
   "execution_count": 23,
   "outputs": [
    {
     "data": {
      "text/plain": "                                                   lid  vid  \\\n0    urn:nasa:pds:galileo-mag-jup-calibrated:data-m...  1.0   \n1    urn:nasa:pds:galileo-mag-jup-calibrated:data-m...  1.0   \n2    urn:nasa:pds:galileo-mag-jup-calibrated:data-m...  1.0   \n3    urn:nasa:pds:galileo-mag-jup-calibrated:data-m...  1.0   \n4    urn:nasa:pds:galileo-mag-jup-calibrated:data-m...  1.0   \n..                                                 ...  ...   \n148  urn:nasa:pds:galileo-mag-jup-calibrated:data-m...  1.0   \n149  urn:nasa:pds:galileo-mag-jup-calibrated:data-m...  1.0   \n150  urn:nasa:pds:galileo-mag-jup-calibrated:data-m...  1.0   \n151  urn:nasa:pds:galileo-mag-jup-calibrated:data-m...  1.0   \n152  urn:nasa:pds:galileo-mag-jup-calibrated:data-m...  1.0   \n\n    pds:Time_Coordinates.pds:start_date_time  \\\n0                   1995-11-01T00:06:13.635Z   \n1                   1996-03-29T16:38:47.037Z   \n2                   1995-12-07T23:22:48.423Z   \n3                   1996-03-29T16:38:47.037Z   \n4                   1996-06-23T16:13:21.091Z   \n..                                       ...   \n148                 2002-01-15T02:00:00.472Z   \n149                 2002-01-15T02:00:00.472Z   \n150                 2002-01-15T02:00:00.472Z   \n151                 2002-11-02T10:00:23.447Z   \n152                 2002-11-02T10:00:15.447Z   \n\n    pds:Time_Coordinates.pds:stop_date_time  \\\n0                  1995-12-06T02:09:47.963Z   \n1                  1996-06-01T09:19:06.322Z   \n2                  1995-12-08T01:25:48.418Z   \n3                  1996-06-01T09:19:06.322Z   \n4                  1996-09-01T15:59:28.392Z   \n..                                      ...   \n148                2002-11-02T09:59:51.447Z   \n149                2002-11-02T09:59:51.447Z   \n150                2002-11-02T09:59:51.447Z   \n151                2003-01-13T04:19:35.405Z   \n152                2003-01-13T04:14:11.849Z   \n\n            pds:Target_Identification.pds:name  \\\n0                        [Solar Wind, Jupiter]   \n1                                      Jupiter   \n2                          [Jupiter, Io Torus]   \n3                                      Jupiter   \n4                          [Jupiter, Ganymede]   \n..                                         ...   \n148            [Jupiter, Io Torus, Solar Wind]   \n149            [Jupiter, Io Torus, Solar Wind]   \n150            [Jupiter, Io Torus, Solar Wind]   \n151  [Jupiter, Io Torus, Amalthea, Solar Wind]   \n152  [Jupiter, Io Torus, Amalthea, Solar Wind]   \n\n                       ops:Data_File_Info.ops:file_ref  \n0    https://pds-ppi.igpp.ucla.edu/data/galileo-mag...  \n1    https://pds-ppi.igpp.ucla.edu/data/galileo-mag...  \n2    https://pds-ppi.igpp.ucla.edu/data/galileo-mag...  \n3    https://pds-ppi.igpp.ucla.edu/data/galileo-mag...  \n4    https://pds-ppi.igpp.ucla.edu/data/galileo-mag...  \n..                                                 ...  \n148  https://pds-ppi.igpp.ucla.edu/data/galileo-mag...  \n149  https://pds-ppi.igpp.ucla.edu/data/galileo-mag...  \n150  https://pds-ppi.igpp.ucla.edu/data/galileo-mag...  \n151  https://pds-ppi.igpp.ucla.edu/data/galileo-mag...  \n152  https://pds-ppi.igpp.ucla.edu/data/galileo-mag...  \n\n[153 rows x 6 columns]",
      "text/html": "<div>\n<style scoped>\n    .dataframe tbody tr th:only-of-type {\n        vertical-align: middle;\n    }\n\n    .dataframe tbody tr th {\n        vertical-align: top;\n    }\n\n    .dataframe thead th {\n        text-align: right;\n    }\n</style>\n<table border=\"1\" class=\"dataframe\">\n  <thead>\n    <tr style=\"text-align: right;\">\n      <th></th>\n      <th>lid</th>\n      <th>vid</th>\n      <th>pds:Time_Coordinates.pds:start_date_time</th>\n      <th>pds:Time_Coordinates.pds:stop_date_time</th>\n      <th>pds:Target_Identification.pds:name</th>\n      <th>ops:Data_File_Info.ops:file_ref</th>\n    </tr>\n  </thead>\n  <tbody>\n    <tr>\n      <th>0</th>\n      <td>urn:nasa:pds:galileo-mag-jup-calibrated:data-m...</td>\n      <td>1.0</td>\n      <td>1995-11-01T00:06:13.635Z</td>\n      <td>1995-12-06T02:09:47.963Z</td>\n      <td>[Solar Wind, Jupiter]</td>\n      <td>https://pds-ppi.igpp.ucla.edu/data/galileo-mag...</td>\n    </tr>\n    <tr>\n      <th>1</th>\n      <td>urn:nasa:pds:galileo-mag-jup-calibrated:data-m...</td>\n      <td>1.0</td>\n      <td>1996-03-29T16:38:47.037Z</td>\n      <td>1996-06-01T09:19:06.322Z</td>\n      <td>Jupiter</td>\n      <td>https://pds-ppi.igpp.ucla.edu/data/galileo-mag...</td>\n    </tr>\n    <tr>\n      <th>2</th>\n      <td>urn:nasa:pds:galileo-mag-jup-calibrated:data-m...</td>\n      <td>1.0</td>\n      <td>1995-12-07T23:22:48.423Z</td>\n      <td>1995-12-08T01:25:48.418Z</td>\n      <td>[Jupiter, Io Torus]</td>\n      <td>https://pds-ppi.igpp.ucla.edu/data/galileo-mag...</td>\n    </tr>\n    <tr>\n      <th>3</th>\n      <td>urn:nasa:pds:galileo-mag-jup-calibrated:data-m...</td>\n      <td>1.0</td>\n      <td>1996-03-29T16:38:47.037Z</td>\n      <td>1996-06-01T09:19:06.322Z</td>\n      <td>Jupiter</td>\n      <td>https://pds-ppi.igpp.ucla.edu/data/galileo-mag...</td>\n    </tr>\n    <tr>\n      <th>4</th>\n      <td>urn:nasa:pds:galileo-mag-jup-calibrated:data-m...</td>\n      <td>1.0</td>\n      <td>1996-06-23T16:13:21.091Z</td>\n      <td>1996-09-01T15:59:28.392Z</td>\n      <td>[Jupiter, Ganymede]</td>\n      <td>https://pds-ppi.igpp.ucla.edu/data/galileo-mag...</td>\n    </tr>\n    <tr>\n      <th>...</th>\n      <td>...</td>\n      <td>...</td>\n      <td>...</td>\n      <td>...</td>\n      <td>...</td>\n      <td>...</td>\n    </tr>\n    <tr>\n      <th>148</th>\n      <td>urn:nasa:pds:galileo-mag-jup-calibrated:data-m...</td>\n      <td>1.0</td>\n      <td>2002-01-15T02:00:00.472Z</td>\n      <td>2002-11-02T09:59:51.447Z</td>\n      <td>[Jupiter, Io Torus, Solar Wind]</td>\n      <td>https://pds-ppi.igpp.ucla.edu/data/galileo-mag...</td>\n    </tr>\n    <tr>\n      <th>149</th>\n      <td>urn:nasa:pds:galileo-mag-jup-calibrated:data-m...</td>\n      <td>1.0</td>\n      <td>2002-01-15T02:00:00.472Z</td>\n      <td>2002-11-02T09:59:51.447Z</td>\n      <td>[Jupiter, Io Torus, Solar Wind]</td>\n      <td>https://pds-ppi.igpp.ucla.edu/data/galileo-mag...</td>\n    </tr>\n    <tr>\n      <th>150</th>\n      <td>urn:nasa:pds:galileo-mag-jup-calibrated:data-m...</td>\n      <td>1.0</td>\n      <td>2002-01-15T02:00:00.472Z</td>\n      <td>2002-11-02T09:59:51.447Z</td>\n      <td>[Jupiter, Io Torus, Solar Wind]</td>\n      <td>https://pds-ppi.igpp.ucla.edu/data/galileo-mag...</td>\n    </tr>\n    <tr>\n      <th>151</th>\n      <td>urn:nasa:pds:galileo-mag-jup-calibrated:data-m...</td>\n      <td>1.0</td>\n      <td>2002-11-02T10:00:23.447Z</td>\n      <td>2003-01-13T04:19:35.405Z</td>\n      <td>[Jupiter, Io Torus, Amalthea, Solar Wind]</td>\n      <td>https://pds-ppi.igpp.ucla.edu/data/galileo-mag...</td>\n    </tr>\n    <tr>\n      <th>152</th>\n      <td>urn:nasa:pds:galileo-mag-jup-calibrated:data-m...</td>\n      <td>1.0</td>\n      <td>2002-11-02T10:00:15.447Z</td>\n      <td>2003-01-13T04:14:11.849Z</td>\n      <td>[Jupiter, Io Torus, Amalthea, Solar Wind]</td>\n      <td>https://pds-ppi.igpp.ucla.edu/data/galileo-mag...</td>\n    </tr>\n  </tbody>\n</table>\n<p>153 rows × 6 columns</p>\n</div>"
     },
     "metadata": {},
     "output_type": "display_data"
    }
   ],
   "source": [
    "products_csv_stream = io.StringIO(response.content.decode('utf-8'))\n",
    "products_df = pd.read_csv(products_csv_stream)\n",
    "# change columns order\n",
    "products_df = products_df[fields]\n",
    "display(products_df)"
   ],
   "metadata": {
    "collapsed": false,
    "ExecuteTime": {
     "end_time": "2023-07-18T17:50:27.241593Z",
     "start_time": "2023-07-18T17:50:27.210971Z"
    }
   }
  },
  {
   "cell_type": "code",
   "execution_count": 15,
   "id": "430706fd-fbbd-4be8-8aa7-062fdd1498a6",
   "metadata": {
    "ExecuteTime": {
     "end_time": "2023-07-18T16:20:39.781901Z",
     "start_time": "2023-07-18T16:19:57.034525Z"
    }
   },
   "outputs": [],
   "source": [
    "\n",
    "tab_urls = [tab_url for tab_url in products_df['ops:Data_File_Info.ops:file_ref'] if 'IRC' in tab_url]\n",
    "\n",
    "mag_time = []\n",
    "mag_tot = []\n",
    "for i in range(len(tab_urls)):\n",
    "    time_data, iter_data = get_tabs(tab_urls[i]) # get rid of column in csv\n",
    "    mag_time.extend(time_data)\n",
    "    mag_tot.extend(iter_data)\n",
    "\n",
    "#mag_time, mag_tot = get_data(url)\n"
   ]
  },
  {
   "cell_type": "markdown",
   "id": "341495ae",
   "metadata": {
    "ExecuteTime": {
     "end_time": "2023-07-18T16:01:26.512957Z",
     "start_time": "2023-07-18T16:01:23.821325Z"
    }
   },
   "source": [
    "# Step 4: Obtain ephemeris for mag measurements\n",
    "\n",
    "Obtain the position and velocity values at each magnetometer measurement timestamp using the **get_sta** function.\n",
    "\n",
    "***Note: You can change the number of data points you would like to plot by changing the sample variable. The higher it is, the fewer data points you will plot.***"
   ],
   "outputs": [
    {
     "ename": "KeyboardInterrupt",
     "evalue": "",
     "output_type": "error",
     "traceback": [
      "\u001B[0;31m---------------------------------------------------------------------------\u001B[0m",
      "\u001B[0;31mKeyboardInterrupt\u001B[0m                         Traceback (most recent call last)",
      "Cell \u001B[0;32mIn[94], line 6\u001B[0m\n\u001B[1;32m      4\u001B[0m mag_tot \u001B[38;5;241m=\u001B[39m []\n\u001B[1;32m      5\u001B[0m \u001B[38;5;28;01mfor\u001B[39;00m i \u001B[38;5;129;01min\u001B[39;00m \u001B[38;5;28mrange\u001B[39m(\u001B[38;5;28mlen\u001B[39m(tab_urls)):\n\u001B[0;32m----> 6\u001B[0m     time_data, iter_data \u001B[38;5;241m=\u001B[39m \u001B[43mget_tabs\u001B[49m\u001B[43m(\u001B[49m\u001B[43mtab_urls\u001B[49m\u001B[43m[\u001B[49m\u001B[43mi\u001B[49m\u001B[43m]\u001B[49m\u001B[43m)\u001B[49m \u001B[38;5;66;03m# get rid of column in csv\u001B[39;00m\n\u001B[1;32m      7\u001B[0m     mag_time\u001B[38;5;241m.\u001B[39mextend(time_data)\n\u001B[1;32m      8\u001B[0m     mag_tot\u001B[38;5;241m.\u001B[39mextend(iter_data)\n",
      "Cell \u001B[0;32mIn[92], line 20\u001B[0m, in \u001B[0;36mget_tabs\u001B[0;34m(url)\u001B[0m\n\u001B[1;32m     17\u001B[0m time_data \u001B[38;5;241m=\u001B[39m []\n\u001B[1;32m     18\u001B[0m iter_data \u001B[38;5;241m=\u001B[39m []\n\u001B[0;32m---> 20\u001B[0m tab_response \u001B[38;5;241m=\u001B[39m \u001B[43mrequests\u001B[49m\u001B[38;5;241;43m.\u001B[39;49m\u001B[43mget\u001B[49m\u001B[43m(\u001B[49m\u001B[43murl\u001B[49m\u001B[43m)\u001B[49m\n\u001B[1;32m     21\u001B[0m tab_content \u001B[38;5;241m=\u001B[39m tab_response\u001B[38;5;241m.\u001B[39mtext\n\u001B[1;32m     22\u001B[0m lines \u001B[38;5;241m=\u001B[39m tab_content\u001B[38;5;241m.\u001B[39msplitlines()\n",
      "File \u001B[0;32m/usr/local/lib/python3.11/site-packages/requests/api.py:73\u001B[0m, in \u001B[0;36mget\u001B[0;34m(url, params, **kwargs)\u001B[0m\n\u001B[1;32m     62\u001B[0m \u001B[38;5;28;01mdef\u001B[39;00m \u001B[38;5;21mget\u001B[39m(url, params\u001B[38;5;241m=\u001B[39m\u001B[38;5;28;01mNone\u001B[39;00m, \u001B[38;5;241m*\u001B[39m\u001B[38;5;241m*\u001B[39mkwargs):\n\u001B[1;32m     63\u001B[0m \u001B[38;5;250m    \u001B[39m\u001B[38;5;124mr\u001B[39m\u001B[38;5;124;03m\"\"\"Sends a GET request.\u001B[39;00m\n\u001B[1;32m     64\u001B[0m \n\u001B[1;32m     65\u001B[0m \u001B[38;5;124;03m    :param url: URL for the new :class:`Request` object.\u001B[39;00m\n\u001B[0;32m   (...)\u001B[0m\n\u001B[1;32m     70\u001B[0m \u001B[38;5;124;03m    :rtype: requests.Response\u001B[39;00m\n\u001B[1;32m     71\u001B[0m \u001B[38;5;124;03m    \"\"\"\u001B[39;00m\n\u001B[0;32m---> 73\u001B[0m     \u001B[38;5;28;01mreturn\u001B[39;00m \u001B[43mrequest\u001B[49m\u001B[43m(\u001B[49m\u001B[38;5;124;43m\"\u001B[39;49m\u001B[38;5;124;43mget\u001B[39;49m\u001B[38;5;124;43m\"\u001B[39;49m\u001B[43m,\u001B[49m\u001B[43m \u001B[49m\u001B[43murl\u001B[49m\u001B[43m,\u001B[49m\u001B[43m \u001B[49m\u001B[43mparams\u001B[49m\u001B[38;5;241;43m=\u001B[39;49m\u001B[43mparams\u001B[49m\u001B[43m,\u001B[49m\u001B[43m \u001B[49m\u001B[38;5;241;43m*\u001B[39;49m\u001B[38;5;241;43m*\u001B[39;49m\u001B[43mkwargs\u001B[49m\u001B[43m)\u001B[49m\n",
      "File \u001B[0;32m/usr/local/lib/python3.11/site-packages/requests/api.py:59\u001B[0m, in \u001B[0;36mrequest\u001B[0;34m(method, url, **kwargs)\u001B[0m\n\u001B[1;32m     55\u001B[0m \u001B[38;5;66;03m# By using the 'with' statement we are sure the session is closed, thus we\u001B[39;00m\n\u001B[1;32m     56\u001B[0m \u001B[38;5;66;03m# avoid leaving sockets open which can trigger a ResourceWarning in some\u001B[39;00m\n\u001B[1;32m     57\u001B[0m \u001B[38;5;66;03m# cases, and look like a memory leak in others.\u001B[39;00m\n\u001B[1;32m     58\u001B[0m \u001B[38;5;28;01mwith\u001B[39;00m sessions\u001B[38;5;241m.\u001B[39mSession() \u001B[38;5;28;01mas\u001B[39;00m session:\n\u001B[0;32m---> 59\u001B[0m     \u001B[38;5;28;01mreturn\u001B[39;00m \u001B[43msession\u001B[49m\u001B[38;5;241;43m.\u001B[39;49m\u001B[43mrequest\u001B[49m\u001B[43m(\u001B[49m\u001B[43mmethod\u001B[49m\u001B[38;5;241;43m=\u001B[39;49m\u001B[43mmethod\u001B[49m\u001B[43m,\u001B[49m\u001B[43m \u001B[49m\u001B[43murl\u001B[49m\u001B[38;5;241;43m=\u001B[39;49m\u001B[43murl\u001B[49m\u001B[43m,\u001B[49m\u001B[43m \u001B[49m\u001B[38;5;241;43m*\u001B[39;49m\u001B[38;5;241;43m*\u001B[39;49m\u001B[43mkwargs\u001B[49m\u001B[43m)\u001B[49m\n",
      "File \u001B[0;32m/usr/local/lib/python3.11/site-packages/requests/sessions.py:589\u001B[0m, in \u001B[0;36mSession.request\u001B[0;34m(self, method, url, params, data, headers, cookies, files, auth, timeout, allow_redirects, proxies, hooks, stream, verify, cert, json)\u001B[0m\n\u001B[1;32m    584\u001B[0m send_kwargs \u001B[38;5;241m=\u001B[39m {\n\u001B[1;32m    585\u001B[0m     \u001B[38;5;124m\"\u001B[39m\u001B[38;5;124mtimeout\u001B[39m\u001B[38;5;124m\"\u001B[39m: timeout,\n\u001B[1;32m    586\u001B[0m     \u001B[38;5;124m\"\u001B[39m\u001B[38;5;124mallow_redirects\u001B[39m\u001B[38;5;124m\"\u001B[39m: allow_redirects,\n\u001B[1;32m    587\u001B[0m }\n\u001B[1;32m    588\u001B[0m send_kwargs\u001B[38;5;241m.\u001B[39mupdate(settings)\n\u001B[0;32m--> 589\u001B[0m resp \u001B[38;5;241m=\u001B[39m \u001B[38;5;28;43mself\u001B[39;49m\u001B[38;5;241;43m.\u001B[39;49m\u001B[43msend\u001B[49m\u001B[43m(\u001B[49m\u001B[43mprep\u001B[49m\u001B[43m,\u001B[49m\u001B[43m \u001B[49m\u001B[38;5;241;43m*\u001B[39;49m\u001B[38;5;241;43m*\u001B[39;49m\u001B[43msend_kwargs\u001B[49m\u001B[43m)\u001B[49m\n\u001B[1;32m    591\u001B[0m \u001B[38;5;28;01mreturn\u001B[39;00m resp\n",
      "File \u001B[0;32m/usr/local/lib/python3.11/site-packages/requests/sessions.py:747\u001B[0m, in \u001B[0;36mSession.send\u001B[0;34m(self, request, **kwargs)\u001B[0m\n\u001B[1;32m    744\u001B[0m         \u001B[38;5;28;01mpass\u001B[39;00m\n\u001B[1;32m    746\u001B[0m \u001B[38;5;28;01mif\u001B[39;00m \u001B[38;5;129;01mnot\u001B[39;00m stream:\n\u001B[0;32m--> 747\u001B[0m     \u001B[43mr\u001B[49m\u001B[38;5;241;43m.\u001B[39;49m\u001B[43mcontent\u001B[49m\n\u001B[1;32m    749\u001B[0m \u001B[38;5;28;01mreturn\u001B[39;00m r\n",
      "File \u001B[0;32m/usr/local/lib/python3.11/site-packages/requests/models.py:899\u001B[0m, in \u001B[0;36mResponse.content\u001B[0;34m(self)\u001B[0m\n\u001B[1;32m    897\u001B[0m         \u001B[38;5;28mself\u001B[39m\u001B[38;5;241m.\u001B[39m_content \u001B[38;5;241m=\u001B[39m \u001B[38;5;28;01mNone\u001B[39;00m\n\u001B[1;32m    898\u001B[0m     \u001B[38;5;28;01melse\u001B[39;00m:\n\u001B[0;32m--> 899\u001B[0m         \u001B[38;5;28mself\u001B[39m\u001B[38;5;241m.\u001B[39m_content \u001B[38;5;241m=\u001B[39m \u001B[38;5;124mb\u001B[39m\u001B[38;5;124m\"\u001B[39m\u001B[38;5;124m\"\u001B[39m\u001B[38;5;241m.\u001B[39mjoin(\u001B[38;5;28mself\u001B[39m\u001B[38;5;241m.\u001B[39miter_content(CONTENT_CHUNK_SIZE)) \u001B[38;5;129;01mor\u001B[39;00m \u001B[38;5;124mb\u001B[39m\u001B[38;5;124m\"\u001B[39m\u001B[38;5;124m\"\u001B[39m\n\u001B[1;32m    901\u001B[0m \u001B[38;5;28mself\u001B[39m\u001B[38;5;241m.\u001B[39m_content_consumed \u001B[38;5;241m=\u001B[39m \u001B[38;5;28;01mTrue\u001B[39;00m\n\u001B[1;32m    902\u001B[0m \u001B[38;5;66;03m# don't need to release the connection; that's been handled by urllib3\u001B[39;00m\n\u001B[1;32m    903\u001B[0m \u001B[38;5;66;03m# since we exhausted the data.\u001B[39;00m\n",
      "File \u001B[0;32m/usr/local/lib/python3.11/site-packages/requests/models.py:816\u001B[0m, in \u001B[0;36mResponse.iter_content.<locals>.generate\u001B[0;34m()\u001B[0m\n\u001B[1;32m    814\u001B[0m \u001B[38;5;28;01mif\u001B[39;00m \u001B[38;5;28mhasattr\u001B[39m(\u001B[38;5;28mself\u001B[39m\u001B[38;5;241m.\u001B[39mraw, \u001B[38;5;124m\"\u001B[39m\u001B[38;5;124mstream\u001B[39m\u001B[38;5;124m\"\u001B[39m):\n\u001B[1;32m    815\u001B[0m     \u001B[38;5;28;01mtry\u001B[39;00m:\n\u001B[0;32m--> 816\u001B[0m         \u001B[38;5;28;01myield from\u001B[39;00m \u001B[38;5;28mself\u001B[39m\u001B[38;5;241m.\u001B[39mraw\u001B[38;5;241m.\u001B[39mstream(chunk_size, decode_content\u001B[38;5;241m=\u001B[39m\u001B[38;5;28;01mTrue\u001B[39;00m)\n\u001B[1;32m    817\u001B[0m     \u001B[38;5;28;01mexcept\u001B[39;00m ProtocolError \u001B[38;5;28;01mas\u001B[39;00m e:\n\u001B[1;32m    818\u001B[0m         \u001B[38;5;28;01mraise\u001B[39;00m ChunkedEncodingError(e)\n",
      "File \u001B[0;32m/usr/local/lib/python3.11/site-packages/urllib3/response.py:628\u001B[0m, in \u001B[0;36mHTTPResponse.stream\u001B[0;34m(self, amt, decode_content)\u001B[0m\n\u001B[1;32m    626\u001B[0m \u001B[38;5;28;01melse\u001B[39;00m:\n\u001B[1;32m    627\u001B[0m     \u001B[38;5;28;01mwhile\u001B[39;00m \u001B[38;5;129;01mnot\u001B[39;00m is_fp_closed(\u001B[38;5;28mself\u001B[39m\u001B[38;5;241m.\u001B[39m_fp):\n\u001B[0;32m--> 628\u001B[0m         data \u001B[38;5;241m=\u001B[39m \u001B[38;5;28;43mself\u001B[39;49m\u001B[38;5;241;43m.\u001B[39;49m\u001B[43mread\u001B[49m\u001B[43m(\u001B[49m\u001B[43mamt\u001B[49m\u001B[38;5;241;43m=\u001B[39;49m\u001B[43mamt\u001B[49m\u001B[43m,\u001B[49m\u001B[43m \u001B[49m\u001B[43mdecode_content\u001B[49m\u001B[38;5;241;43m=\u001B[39;49m\u001B[43mdecode_content\u001B[49m\u001B[43m)\u001B[49m\n\u001B[1;32m    630\u001B[0m         \u001B[38;5;28;01mif\u001B[39;00m data:\n\u001B[1;32m    631\u001B[0m             \u001B[38;5;28;01myield\u001B[39;00m data\n",
      "File \u001B[0;32m/usr/local/lib/python3.11/site-packages/urllib3/response.py:567\u001B[0m, in \u001B[0;36mHTTPResponse.read\u001B[0;34m(self, amt, decode_content, cache_content)\u001B[0m\n\u001B[1;32m    564\u001B[0m fp_closed \u001B[38;5;241m=\u001B[39m \u001B[38;5;28mgetattr\u001B[39m(\u001B[38;5;28mself\u001B[39m\u001B[38;5;241m.\u001B[39m_fp, \u001B[38;5;124m\"\u001B[39m\u001B[38;5;124mclosed\u001B[39m\u001B[38;5;124m\"\u001B[39m, \u001B[38;5;28;01mFalse\u001B[39;00m)\n\u001B[1;32m    566\u001B[0m \u001B[38;5;28;01mwith\u001B[39;00m \u001B[38;5;28mself\u001B[39m\u001B[38;5;241m.\u001B[39m_error_catcher():\n\u001B[0;32m--> 567\u001B[0m     data \u001B[38;5;241m=\u001B[39m \u001B[38;5;28;43mself\u001B[39;49m\u001B[38;5;241;43m.\u001B[39;49m\u001B[43m_fp_read\u001B[49m\u001B[43m(\u001B[49m\u001B[43mamt\u001B[49m\u001B[43m)\u001B[49m \u001B[38;5;28;01mif\u001B[39;00m \u001B[38;5;129;01mnot\u001B[39;00m fp_closed \u001B[38;5;28;01melse\u001B[39;00m \u001B[38;5;124mb\u001B[39m\u001B[38;5;124m\"\u001B[39m\u001B[38;5;124m\"\u001B[39m\n\u001B[1;32m    568\u001B[0m     \u001B[38;5;28;01mif\u001B[39;00m amt \u001B[38;5;129;01mis\u001B[39;00m \u001B[38;5;28;01mNone\u001B[39;00m:\n\u001B[1;32m    569\u001B[0m         flush_decoder \u001B[38;5;241m=\u001B[39m \u001B[38;5;28;01mTrue\u001B[39;00m\n",
      "File \u001B[0;32m/usr/local/lib/python3.11/site-packages/urllib3/response.py:533\u001B[0m, in \u001B[0;36mHTTPResponse._fp_read\u001B[0;34m(self, amt)\u001B[0m\n\u001B[1;32m    530\u001B[0m     \u001B[38;5;28;01mreturn\u001B[39;00m buffer\u001B[38;5;241m.\u001B[39mgetvalue()\n\u001B[1;32m    531\u001B[0m \u001B[38;5;28;01melse\u001B[39;00m:\n\u001B[1;32m    532\u001B[0m     \u001B[38;5;66;03m# StringIO doesn't like amt=None\u001B[39;00m\n\u001B[0;32m--> 533\u001B[0m     \u001B[38;5;28;01mreturn\u001B[39;00m \u001B[38;5;28;43mself\u001B[39;49m\u001B[38;5;241;43m.\u001B[39;49m\u001B[43m_fp\u001B[49m\u001B[38;5;241;43m.\u001B[39;49m\u001B[43mread\u001B[49m\u001B[43m(\u001B[49m\u001B[43mamt\u001B[49m\u001B[43m)\u001B[49m \u001B[38;5;28;01mif\u001B[39;00m amt \u001B[38;5;129;01mis\u001B[39;00m \u001B[38;5;129;01mnot\u001B[39;00m \u001B[38;5;28;01mNone\u001B[39;00m \u001B[38;5;28;01melse\u001B[39;00m \u001B[38;5;28mself\u001B[39m\u001B[38;5;241m.\u001B[39m_fp\u001B[38;5;241m.\u001B[39mread()\n",
      "File \u001B[0;32m/usr/local/Cellar/python@3.11/3.11.3/Frameworks/Python.framework/Versions/3.11/lib/python3.11/http/client.py:466\u001B[0m, in \u001B[0;36mHTTPResponse.read\u001B[0;34m(self, amt)\u001B[0m\n\u001B[1;32m    463\u001B[0m \u001B[38;5;28;01mif\u001B[39;00m \u001B[38;5;28mself\u001B[39m\u001B[38;5;241m.\u001B[39mlength \u001B[38;5;129;01mis\u001B[39;00m \u001B[38;5;129;01mnot\u001B[39;00m \u001B[38;5;28;01mNone\u001B[39;00m \u001B[38;5;129;01mand\u001B[39;00m amt \u001B[38;5;241m>\u001B[39m \u001B[38;5;28mself\u001B[39m\u001B[38;5;241m.\u001B[39mlength:\n\u001B[1;32m    464\u001B[0m     \u001B[38;5;66;03m# clip the read to the \"end of response\"\u001B[39;00m\n\u001B[1;32m    465\u001B[0m     amt \u001B[38;5;241m=\u001B[39m \u001B[38;5;28mself\u001B[39m\u001B[38;5;241m.\u001B[39mlength\n\u001B[0;32m--> 466\u001B[0m s \u001B[38;5;241m=\u001B[39m \u001B[38;5;28mself\u001B[39m\u001B[38;5;241m.\u001B[39mfp\u001B[38;5;241m.\u001B[39mread(amt)\n\u001B[1;32m    467\u001B[0m \u001B[38;5;28;01mif\u001B[39;00m \u001B[38;5;129;01mnot\u001B[39;00m s \u001B[38;5;129;01mand\u001B[39;00m amt:\n\u001B[1;32m    468\u001B[0m     \u001B[38;5;66;03m# Ideally, we would raise IncompleteRead if the content-length\u001B[39;00m\n\u001B[1;32m    469\u001B[0m     \u001B[38;5;66;03m# wasn't satisfied, but it might break compatibility.\u001B[39;00m\n\u001B[1;32m    470\u001B[0m     \u001B[38;5;28mself\u001B[39m\u001B[38;5;241m.\u001B[39m_close_conn()\n",
      "File \u001B[0;32m/usr/local/Cellar/python@3.11/3.11.3/Frameworks/Python.framework/Versions/3.11/lib/python3.11/socket.py:706\u001B[0m, in \u001B[0;36mSocketIO.readinto\u001B[0;34m(self, b)\u001B[0m\n\u001B[1;32m    704\u001B[0m \u001B[38;5;28;01mwhile\u001B[39;00m \u001B[38;5;28;01mTrue\u001B[39;00m:\n\u001B[1;32m    705\u001B[0m     \u001B[38;5;28;01mtry\u001B[39;00m:\n\u001B[0;32m--> 706\u001B[0m         \u001B[38;5;28;01mreturn\u001B[39;00m \u001B[38;5;28;43mself\u001B[39;49m\u001B[38;5;241;43m.\u001B[39;49m\u001B[43m_sock\u001B[49m\u001B[38;5;241;43m.\u001B[39;49m\u001B[43mrecv_into\u001B[49m\u001B[43m(\u001B[49m\u001B[43mb\u001B[49m\u001B[43m)\u001B[49m\n\u001B[1;32m    707\u001B[0m     \u001B[38;5;28;01mexcept\u001B[39;00m timeout:\n\u001B[1;32m    708\u001B[0m         \u001B[38;5;28mself\u001B[39m\u001B[38;5;241m.\u001B[39m_timeout_occurred \u001B[38;5;241m=\u001B[39m \u001B[38;5;28;01mTrue\u001B[39;00m\n",
      "File \u001B[0;32m/usr/local/Cellar/python@3.11/3.11.3/Frameworks/Python.framework/Versions/3.11/lib/python3.11/ssl.py:1278\u001B[0m, in \u001B[0;36mSSLSocket.recv_into\u001B[0;34m(self, buffer, nbytes, flags)\u001B[0m\n\u001B[1;32m   1274\u001B[0m     \u001B[38;5;28;01mif\u001B[39;00m flags \u001B[38;5;241m!=\u001B[39m \u001B[38;5;241m0\u001B[39m:\n\u001B[1;32m   1275\u001B[0m         \u001B[38;5;28;01mraise\u001B[39;00m \u001B[38;5;167;01mValueError\u001B[39;00m(\n\u001B[1;32m   1276\u001B[0m           \u001B[38;5;124m\"\u001B[39m\u001B[38;5;124mnon-zero flags not allowed in calls to recv_into() on \u001B[39m\u001B[38;5;132;01m%s\u001B[39;00m\u001B[38;5;124m\"\u001B[39m \u001B[38;5;241m%\u001B[39m\n\u001B[1;32m   1277\u001B[0m           \u001B[38;5;28mself\u001B[39m\u001B[38;5;241m.\u001B[39m\u001B[38;5;18m__class__\u001B[39m)\n\u001B[0;32m-> 1278\u001B[0m     \u001B[38;5;28;01mreturn\u001B[39;00m \u001B[38;5;28;43mself\u001B[39;49m\u001B[38;5;241;43m.\u001B[39;49m\u001B[43mread\u001B[49m\u001B[43m(\u001B[49m\u001B[43mnbytes\u001B[49m\u001B[43m,\u001B[49m\u001B[43m \u001B[49m\u001B[43mbuffer\u001B[49m\u001B[43m)\u001B[49m\n\u001B[1;32m   1279\u001B[0m \u001B[38;5;28;01melse\u001B[39;00m:\n\u001B[1;32m   1280\u001B[0m     \u001B[38;5;28;01mreturn\u001B[39;00m \u001B[38;5;28msuper\u001B[39m()\u001B[38;5;241m.\u001B[39mrecv_into(buffer, nbytes, flags)\n",
      "File \u001B[0;32m/usr/local/Cellar/python@3.11/3.11.3/Frameworks/Python.framework/Versions/3.11/lib/python3.11/ssl.py:1134\u001B[0m, in \u001B[0;36mSSLSocket.read\u001B[0;34m(self, len, buffer)\u001B[0m\n\u001B[1;32m   1132\u001B[0m \u001B[38;5;28;01mtry\u001B[39;00m:\n\u001B[1;32m   1133\u001B[0m     \u001B[38;5;28;01mif\u001B[39;00m buffer \u001B[38;5;129;01mis\u001B[39;00m \u001B[38;5;129;01mnot\u001B[39;00m \u001B[38;5;28;01mNone\u001B[39;00m:\n\u001B[0;32m-> 1134\u001B[0m         \u001B[38;5;28;01mreturn\u001B[39;00m \u001B[38;5;28;43mself\u001B[39;49m\u001B[38;5;241;43m.\u001B[39;49m\u001B[43m_sslobj\u001B[49m\u001B[38;5;241;43m.\u001B[39;49m\u001B[43mread\u001B[49m\u001B[43m(\u001B[49m\u001B[38;5;28;43mlen\u001B[39;49m\u001B[43m,\u001B[49m\u001B[43m \u001B[49m\u001B[43mbuffer\u001B[49m\u001B[43m)\u001B[49m\n\u001B[1;32m   1135\u001B[0m     \u001B[38;5;28;01melse\u001B[39;00m:\n\u001B[1;32m   1136\u001B[0m         \u001B[38;5;28;01mreturn\u001B[39;00m \u001B[38;5;28mself\u001B[39m\u001B[38;5;241m.\u001B[39m_sslobj\u001B[38;5;241m.\u001B[39mread(\u001B[38;5;28mlen\u001B[39m)\n",
      "\u001B[0;31mKeyboardInterrupt\u001B[0m: "
     ]
    }
   ],
   "execution_count": 94
  },
  {
   "cell_type": "code",
   "execution_count": 11,
   "id": "512dd47b",
   "metadata": {
    "ExecuteTime": {
     "end_time": "2023-07-10T23:27:53.653306Z",
     "start_time": "2023-07-10T23:27:52.769139Z"
    },
    "collapsed": false,
    "jupyter": {
     "outputs_hidden": false
    }
   },
   "outputs": [
    {
     "name": "stdout",
     "output_type": "stream",
     "text": [
      "Obtaining ephemeris for magnetometer readings...\n",
      "Number of magnetometer readings to plot: 18166\n"
     ]
    }
   ],
   "source": [
    "sample = 100\n",
    "\n",
    "\n",
    "#Obtain the position data that corresponds to the measurements\n",
    "print('Obtaining ephemeris for magnetometer readings...')\n",
    "df = pd.DataFrame({'time':mag_time[1::sample], 'data': mag_tot[1::sample]})\n",
    "df['time'] = pd.to_datetime(df['time'])\n",
    "df.sort_values('time', inplace = True)\n",
    "\n",
    "mag_ephem_data = getsta(df['time'][1000:]) #Takes time input\n",
    "print(\"Number of magnetometer readings to plot: \"+ str(len(mag_ephem_data)))\n"
   ]
  },
  {
   "cell_type": "markdown",
   "id": "86a5481e",
   "metadata": {},
   "source": [
    "# Step 5: Obtain ephemeris for orbits\n",
    "\n",
    "Get the ephemeris for the orbits between the first magnetometer measurement, and the last."
   ]
  },
  {
   "cell_type": "code",
   "execution_count": 20,
   "id": "481fa51f",
   "metadata": {
    "collapsed": false,
    "jupyter": {
     "outputs_hidden": false
    }
   },
   "outputs": [
    {
     "name": "stdout",
     "output_type": "stream",
     "text": [
      "Filling in ephemeris data...\n",
      "Finished\n"
     ]
    }
   ],
   "source": [
    "#Grab the orbit ephemeris data from the start time of the magnetometer readings to the end time.\n",
    "print(\"Filling in ephemeris data...\")\n",
    "start_time = df['time'][1000]\n",
    "end_time = df['time'][len(df)-1]\n",
    "\n",
    "ephem_time = []\n",
    "ephem_time = np.arange(start_time, end_time, timedelta(hours=1)).astype(datetime)\n",
    "\n",
    "# while ephem_time < end_time:\n",
    "#     #Grab the states\n",
    "# ephem_data = np.empty(len(ephem_time))\n",
    "# for i in range(len(ephem_data)):\n",
    "ephem_data = getsta(ephem_time)\n",
    "print('Finished')\n"
   ]
  },
  {
   "cell_type": "markdown",
   "id": "c52eb492-0f89-4b8c-b09d-13b94647217e",
   "metadata": {},
   "source": [
    "# Step 6: Organize the data for pyWWT\n",
    "\n",
    "This step organizes all the data variables into tables for pyWWT. A table is generated for the magnetometer data and another for the ephemeris data."
   ]
  },
  {
   "cell_type": "code",
   "execution_count": 22,
   "id": "0e113b69-1c9e-410f-a58f-f97b7b5861aa",
   "metadata": {
    "ExecuteTime": {
     "end_time": "2023-07-10T22:05:52.117481Z",
     "start_time": "2023-07-10T22:05:51.825181Z"
    }
   },
   "outputs": [
    {
     "name": "stdout",
     "output_type": "stream",
     "text": [
      "Done!\n"
     ]
    }
   ],
   "source": [
    "ephem_tab = Table()\n",
    "mag_tab = Table()\n",
    "\n",
    "#Ephemeris data to table\n",
    "ephem_iso = [ephem_t.replace(tzinfo=None).isoformat() for ephem_t in ephem_time]\n",
    "ephem_tab['Time'] = ephem_iso\n",
    "\n",
    "ephem_data = [row[0:3] for row in ephem_data]\n",
    "transposed = zip(*ephem_data)\n",
    "ephem_tab['X'], ephem_tab['Y'], ephem_tab['Z'] = transposed\n",
    "\n",
    "#Magnetometer values and ephemeris data to table\n",
    "mag_iso = [mag_t.replace(tzinfo=None).isoformat() for mag_t in df['time'][1000:]]\n",
    "mag_tab['Time'] = mag_iso\n",
    "mag_val = [mag_t for mag_t in df['data'][1000::]]\n",
    "mag_tab['Magnitude (nT)'] = mag_val\n",
    "\n",
    "mag_pos = [row[0:3] for row in mag_ephem_data]\n",
    "mag_transpose = zip(*mag_pos)\n",
    "mag_tab['X'], mag_tab['Y'], mag_tab['Z'] = mag_transpose\n",
    "            \n",
    "print('Done!')"
   ]
  },
  {
   "cell_type": "markdown",
   "id": "61a8aed2",
   "metadata": {},
   "source": [
    "# Step 7: Connect pyWWT Widget\n",
    "\n",
    "***Before proceeding, ensure that you have another tab open in the notebook for the AAS WorldWide Telescope widget***\n",
    "\n",
    "Instantiate the WWTJupyterWidget and await connection."
   ]
  },
  {
   "cell_type": "code",
   "execution_count": 23,
   "id": "acf6395f-3a2c-4f6e-be99-191553a464e2",
   "metadata": {},
   "outputs": [
    {
     "name": "stdout",
     "output_type": "stream",
     "text": [
      "Successful Connection\n"
     ]
    }
   ],
   "source": [
    "#Connect pyWWT widget\n",
    "\n",
    "wwt = WWTJupyterWidget()\n",
    "wwt = await connect_to_app().becomes_ready()\n",
    "print('Successful Connection')\n",
    "wwt.reset()"
   ]
  },
  {
   "cell_type": "markdown",
   "id": "12f399da",
   "metadata": {},
   "source": [
    "# Step 8: Set view and load data\n",
    "\n",
    "Set the WWT view to the solar system and load in the magnetometer data and ephemeris data via table layers. Once complete, in the pyWWT widget the view will be centered on Jupiter. Zoom in to see the results!"
   ]
  },
  {
   "cell_type": "code",
   "execution_count": 59,
   "id": "68997cfd-8c6f-4b6d-898a-440253835035",
   "metadata": {},
   "outputs": [
    {
     "ename": "AttributeError",
     "evalue": "'ListedColormap' object has no attribute 'ScalarMappable'",
     "output_type": "error",
     "traceback": [
      "\u001B[0;31m---------------------------------------------------------------------------\u001B[0m",
      "\u001B[0;31mAttributeError\u001B[0m                            Traceback (most recent call last)",
      "Cell \u001B[0;32mIn[59], line 9\u001B[0m\n\u001B[1;32m      6\u001B[0m layer\u001B[38;5;241m.\u001B[39mxyz_unit \u001B[38;5;241m=\u001B[39m \u001B[38;5;124m'\u001B[39m\u001B[38;5;124mkm\u001B[39m\u001B[38;5;124m'\u001B[39m\n\u001B[1;32m      7\u001B[0m layer\u001B[38;5;241m.\u001B[39mfar_side_visible \u001B[38;5;241m=\u001B[39m \u001B[38;5;28;01mTrue\u001B[39;00m\n\u001B[0;32m----> 9\u001B[0m colorbar \u001B[38;5;241m=\u001B[39m \u001B[43mlayer\u001B[49m\u001B[38;5;241;43m.\u001B[39;49m\u001B[43mcmap\u001B[49m\u001B[38;5;241;43m.\u001B[39;49m\u001B[43mScalarMappable\u001B[49m\n\u001B[1;32m     10\u001B[0m layer\u001B[38;5;241m.\u001B[39mcmap_att \u001B[38;5;241m=\u001B[39m \u001B[38;5;124m'\u001B[39m\u001B[38;5;124mMagnitude (nT)\u001B[39m\u001B[38;5;124m'\u001B[39m\n\u001B[1;32m     11\u001B[0m layer\u001B[38;5;241m.\u001B[39mcmap\u001B[38;5;241m.\u001B[39mvmin \u001B[38;5;241m=\u001B[39m \u001B[38;5;28mmin\u001B[39m(mag_tab[\u001B[38;5;124m'\u001B[39m\u001B[38;5;124mMagnitude (nT)\u001B[39m\u001B[38;5;124m'\u001B[39m] \u001B[38;5;241m+\u001B[39m \u001B[38;5;241m10\u001B[39m)\n",
      "\u001B[0;31mAttributeError\u001B[0m: 'ListedColormap' object has no attribute 'ScalarMappable'"
     ]
    }
   ],
   "source": [
    "wwt.set_current_time(Time('1995-12-07 15:21:01.776000'))\n",
    "# wwt.set_view(\"solar system\")\n",
    "layer = wwt.layers.add_table_layer(table = mag_tab, frame = 'jupiter',\n",
    "                                  coord_type = 'rectangular',\n",
    "                                  x_att = 'X', y_att = 'Y', z_att = 'Z')\n",
    "layer.xyz_unit = 'km'\n",
    "layer.far_side_visible = True\n",
    "\n",
    "colorbar = layer.cmap.ScalarMappable\n",
    "layer.cmap_att = 'Magnitude (nT)'\n",
    "layer.cmap.vmin = min(mag_tab['Magnitude (nT)'] + 10)\n",
    "layer.cmap.vmax = max(mag_tab['Magnitude (nT)'])\n",
    "\n",
    "layer.size_scale = 250\n",
    "layer.far_side_visible = True\n",
    "layer.marker_type = 'point'\n",
    "layer.marker_scale = 'world'\n",
    "\n",
    "eph = wwt.layers.add_table_layer(table = ephem_tab, frame = 'jupiter',\n",
    "                                  coord_type = 'rectangular',\n",
    "                                  x_att = 'X', y_att = 'Y', z_att = 'Z')\n",
    "eph.xyz_unit = 'km'\n",
    "eph.far_side_visible = True\n",
    "eph.color = (.2, .2, .6)\n",
    "eph.size_scale = 16\n",
    "eph.far_side_visible = True"
   ]
  },
  {
   "cell_type": "code",
   "execution_count": 51,
   "id": "b26566b6-b562-42fc-9124-8a07a9ff6605",
   "metadata": {},
   "outputs": [],
   "source": [
    "wwt.solar_system.track_object('Jupiter')\n"
   ]
  },
  {
   "cell_type": "markdown",
   "id": "eaa801c1",
   "metadata": {},
   "source": [
    "# Step 8:\n",
    "\n",
    "Note the below code is still a work in progress and will not function as intended."
   ]
  },
  {
   "cell_type": "code",
   "execution_count": 80,
   "id": "0a5f7ba1-3709-4144-9a96-99ebb0c49d34",
   "metadata": {},
   "outputs": [
    {
     "ename": "KeyboardInterrupt",
     "evalue": "",
     "output_type": "error",
     "traceback": [
      "\u001B[0;31m---------------------------------------------------------------------------\u001B[0m",
      "\u001B[0;31mKeyboardInterrupt\u001B[0m                         Traceback (most recent call last)",
      "Cell \u001B[0;32mIn[80], line 3\u001B[0m\n\u001B[1;32m      1\u001B[0m start_time \u001B[38;5;241m=\u001B[39m ephem_tab[\u001B[38;5;124m'\u001B[39m\u001B[38;5;124mTime\u001B[39m\u001B[38;5;124m'\u001B[39m][\u001B[38;5;241m0\u001B[39m]\n\u001B[1;32m      2\u001B[0m theta_dot \u001B[38;5;241m=\u001B[39m \u001B[38;5;241m1.76\u001B[39m\u001B[38;5;241m*\u001B[39m\u001B[38;5;241m*\u001B[39m\u001B[38;5;241m-\u001B[39m\u001B[38;5;241m4\u001B[39m \u001B[38;5;241m*\u001B[39m\u001B[38;5;241m3600\u001B[39m \u001B[38;5;66;03m# rad/hour\u001B[39;00m\n\u001B[0;32m----> 3\u001B[0m thetas \u001B[38;5;241m=\u001B[39m [theta_dot \u001B[38;5;241m*\u001B[39m (datetime\u001B[38;5;241m.\u001B[39mfromisoformat(start_time) \u001B[38;5;241m-\u001B[39m datetime\u001B[38;5;241m.\u001B[39mfromisoformat(curr_time))\u001B[38;5;241m.\u001B[39mtotal_seconds()\u001B[38;5;241m/\u001B[39m\u001B[38;5;241m3600\u001B[39m \u001B[38;5;28;01mfor\u001B[39;00m curr_time \u001B[38;5;129;01min\u001B[39;00m ephem_tab[\u001B[38;5;124m'\u001B[39m\u001B[38;5;124mTime\u001B[39m\u001B[38;5;124m'\u001B[39m]]\n\u001B[1;32m      5\u001B[0m trans_mat \u001B[38;5;241m=\u001B[39m [np\u001B[38;5;241m.\u001B[39marray([[np\u001B[38;5;241m.\u001B[39mcos(theta), \u001B[38;5;241m-\u001B[39mnp\u001B[38;5;241m.\u001B[39msin(theta)] , [np\u001B[38;5;241m.\u001B[39msin(theta), np\u001B[38;5;241m.\u001B[39mcos(theta)]]) \u001B[38;5;28;01mfor\u001B[39;00m theta \u001B[38;5;129;01min\u001B[39;00m thetas]\n\u001B[1;32m      7\u001B[0m trans_xy \u001B[38;5;241m=\u001B[39m [np\u001B[38;5;241m.\u001B[39mdot(trans_mat,np\u001B[38;5;241m.\u001B[39marray([[x] , [y]])) \u001B[38;5;28;01mfor\u001B[39;00m x,y \u001B[38;5;129;01min\u001B[39;00m \u001B[38;5;28mzip\u001B[39m(ephem_tab[\u001B[38;5;124m'\u001B[39m\u001B[38;5;124mX\u001B[39m\u001B[38;5;124m'\u001B[39m],ephem_tab[\u001B[38;5;124m'\u001B[39m\u001B[38;5;124mY\u001B[39m\u001B[38;5;124m'\u001B[39m])]\n",
      "Cell \u001B[0;32mIn[80], line 3\u001B[0m\n\u001B[1;32m      1\u001B[0m start_time \u001B[38;5;241m=\u001B[39m ephem_tab[\u001B[38;5;124m'\u001B[39m\u001B[38;5;124mTime\u001B[39m\u001B[38;5;124m'\u001B[39m][\u001B[38;5;241m0\u001B[39m]\n\u001B[1;32m      2\u001B[0m theta_dot \u001B[38;5;241m=\u001B[39m \u001B[38;5;241m1.76\u001B[39m\u001B[38;5;241m*\u001B[39m\u001B[38;5;241m*\u001B[39m\u001B[38;5;241m-\u001B[39m\u001B[38;5;241m4\u001B[39m \u001B[38;5;241m*\u001B[39m\u001B[38;5;241m3600\u001B[39m \u001B[38;5;66;03m# rad/hour\u001B[39;00m\n\u001B[0;32m----> 3\u001B[0m thetas \u001B[38;5;241m=\u001B[39m [theta_dot \u001B[38;5;241m*\u001B[39m (datetime\u001B[38;5;241m.\u001B[39mfromisoformat(start_time) \u001B[38;5;241m-\u001B[39m datetime\u001B[38;5;241m.\u001B[39mfromisoformat(curr_time))\u001B[38;5;241m.\u001B[39mtotal_seconds()\u001B[38;5;241m/\u001B[39m\u001B[38;5;241m3600\u001B[39m \u001B[38;5;28;01mfor\u001B[39;00m curr_time \u001B[38;5;129;01min\u001B[39;00m ephem_tab[\u001B[38;5;124m'\u001B[39m\u001B[38;5;124mTime\u001B[39m\u001B[38;5;124m'\u001B[39m]]\n\u001B[1;32m      5\u001B[0m trans_mat \u001B[38;5;241m=\u001B[39m [np\u001B[38;5;241m.\u001B[39marray([[np\u001B[38;5;241m.\u001B[39mcos(theta), \u001B[38;5;241m-\u001B[39mnp\u001B[38;5;241m.\u001B[39msin(theta)] , [np\u001B[38;5;241m.\u001B[39msin(theta), np\u001B[38;5;241m.\u001B[39mcos(theta)]]) \u001B[38;5;28;01mfor\u001B[39;00m theta \u001B[38;5;129;01min\u001B[39;00m thetas]\n\u001B[1;32m      7\u001B[0m trans_xy \u001B[38;5;241m=\u001B[39m [np\u001B[38;5;241m.\u001B[39mdot(trans_mat,np\u001B[38;5;241m.\u001B[39marray([[x] , [y]])) \u001B[38;5;28;01mfor\u001B[39;00m x,y \u001B[38;5;129;01min\u001B[39;00m \u001B[38;5;28mzip\u001B[39m(ephem_tab[\u001B[38;5;124m'\u001B[39m\u001B[38;5;124mX\u001B[39m\u001B[38;5;124m'\u001B[39m],ephem_tab[\u001B[38;5;124m'\u001B[39m\u001B[38;5;124mY\u001B[39m\u001B[38;5;124m'\u001B[39m])]\n",
      "File \u001B[0;32m/Applications/PyCharm.app/Contents/plugins/python/helpers/pydev/_pydevd_bundle/pydevd_frame.py:747\u001B[0m, in \u001B[0;36mPyDBFrame.trace_dispatch\u001B[0;34m(self, frame, event, arg)\u001B[0m\n\u001B[1;32m    745\u001B[0m \u001B[38;5;66;03m# if thread has a suspend flag, we suspend with a busy wait\u001B[39;00m\n\u001B[1;32m    746\u001B[0m \u001B[38;5;28;01mif\u001B[39;00m info\u001B[38;5;241m.\u001B[39mpydev_state \u001B[38;5;241m==\u001B[39m STATE_SUSPEND:\n\u001B[0;32m--> 747\u001B[0m     \u001B[38;5;28;43mself\u001B[39;49m\u001B[38;5;241;43m.\u001B[39;49m\u001B[43mdo_wait_suspend\u001B[49m\u001B[43m(\u001B[49m\u001B[43mthread\u001B[49m\u001B[43m,\u001B[49m\u001B[43m \u001B[49m\u001B[43mframe\u001B[49m\u001B[43m,\u001B[49m\u001B[43m \u001B[49m\u001B[43mevent\u001B[49m\u001B[43m,\u001B[49m\u001B[43m \u001B[49m\u001B[43marg\u001B[49m\u001B[43m)\u001B[49m\n\u001B[1;32m    748\u001B[0m     \u001B[38;5;66;03m# No need to reset frame.f_trace to keep the same trace function.\u001B[39;00m\n\u001B[1;32m    749\u001B[0m     \u001B[38;5;28;01mreturn\u001B[39;00m \u001B[38;5;28mself\u001B[39m\u001B[38;5;241m.\u001B[39mtrace_dispatch\n",
      "File \u001B[0;32m/Applications/PyCharm.app/Contents/plugins/python/helpers/pydev/_pydevd_bundle/pydevd_frame.py:144\u001B[0m, in \u001B[0;36mPyDBFrame.do_wait_suspend\u001B[0;34m(self, *args, **kwargs)\u001B[0m\n\u001B[1;32m    143\u001B[0m \u001B[38;5;28;01mdef\u001B[39;00m \u001B[38;5;21mdo_wait_suspend\u001B[39m(\u001B[38;5;28mself\u001B[39m, \u001B[38;5;241m*\u001B[39margs, \u001B[38;5;241m*\u001B[39m\u001B[38;5;241m*\u001B[39mkwargs):\n\u001B[0;32m--> 144\u001B[0m     \u001B[38;5;28;43mself\u001B[39;49m\u001B[38;5;241;43m.\u001B[39;49m\u001B[43m_args\u001B[49m\u001B[43m[\u001B[49m\u001B[38;5;241;43m0\u001B[39;49m\u001B[43m]\u001B[49m\u001B[38;5;241;43m.\u001B[39;49m\u001B[43mdo_wait_suspend\u001B[49m\u001B[43m(\u001B[49m\u001B[38;5;241;43m*\u001B[39;49m\u001B[43margs\u001B[49m\u001B[43m,\u001B[49m\u001B[43m \u001B[49m\u001B[38;5;241;43m*\u001B[39;49m\u001B[38;5;241;43m*\u001B[39;49m\u001B[43mkwargs\u001B[49m\u001B[43m)\u001B[49m\n",
      "File \u001B[0;32m/Applications/PyCharm.app/Contents/plugins/python/helpers/pydev/pydevd.py:1160\u001B[0m, in \u001B[0;36mPyDB.do_wait_suspend\u001B[0;34m(self, thread, frame, event, arg, send_suspend_message, is_unhandled_exception)\u001B[0m\n\u001B[1;32m   1157\u001B[0m         from_this_thread\u001B[38;5;241m.\u001B[39mappend(frame_id)\n\u001B[1;32m   1159\u001B[0m \u001B[38;5;28;01mwith\u001B[39;00m \u001B[38;5;28mself\u001B[39m\u001B[38;5;241m.\u001B[39m_threads_suspended_single_notification\u001B[38;5;241m.\u001B[39mnotify_thread_suspended(thread_id, stop_reason):\n\u001B[0;32m-> 1160\u001B[0m     \u001B[38;5;28;43mself\u001B[39;49m\u001B[38;5;241;43m.\u001B[39;49m\u001B[43m_do_wait_suspend\u001B[49m\u001B[43m(\u001B[49m\u001B[43mthread\u001B[49m\u001B[43m,\u001B[49m\u001B[43m \u001B[49m\u001B[43mframe\u001B[49m\u001B[43m,\u001B[49m\u001B[43m \u001B[49m\u001B[43mevent\u001B[49m\u001B[43m,\u001B[49m\u001B[43m \u001B[49m\u001B[43marg\u001B[49m\u001B[43m,\u001B[49m\u001B[43m \u001B[49m\u001B[43msuspend_type\u001B[49m\u001B[43m,\u001B[49m\u001B[43m \u001B[49m\u001B[43mfrom_this_thread\u001B[49m\u001B[43m)\u001B[49m\n",
      "File \u001B[0;32m/Applications/PyCharm.app/Contents/plugins/python/helpers/pydev/pydevd.py:1175\u001B[0m, in \u001B[0;36mPyDB._do_wait_suspend\u001B[0;34m(self, thread, frame, event, arg, suspend_type, from_this_thread)\u001B[0m\n\u001B[1;32m   1172\u001B[0m             \u001B[38;5;28mself\u001B[39m\u001B[38;5;241m.\u001B[39m_call_mpl_hook()\n\u001B[1;32m   1174\u001B[0m         \u001B[38;5;28mself\u001B[39m\u001B[38;5;241m.\u001B[39mprocess_internal_commands()\n\u001B[0;32m-> 1175\u001B[0m         time\u001B[38;5;241m.\u001B[39msleep(\u001B[38;5;241m0.01\u001B[39m)\n\u001B[1;32m   1177\u001B[0m \u001B[38;5;28mself\u001B[39m\u001B[38;5;241m.\u001B[39mcancel_async_evaluation(get_current_thread_id(thread), \u001B[38;5;28mstr\u001B[39m(\u001B[38;5;28mid\u001B[39m(frame)))\n\u001B[1;32m   1179\u001B[0m \u001B[38;5;66;03m# process any stepping instructions\u001B[39;00m\n",
      "\u001B[0;31mKeyboardInterrupt\u001B[0m: "
     ]
    }
   ],
   "source": [
    "start_time = ephem_tab['Time'][0]\n",
    "theta_dot = 1.76**-4 *3600 # rad/hour\n",
    "thetas = [theta_dot * (datetime.fromisoformat(start_time) - datetime.fromisoformat(curr_time)).total_seconds()/3600 for curr_time in ephem_tab['Time']]\n",
    "\n",
    "trans_mat = [np.array([[np.cos(theta), -np.sin(theta)] , [np.sin(theta), np.cos(theta)]]) for theta in thetas]\n",
    "\n",
    "trans_xy = [np.dot(trans_mat,np.array([[x] , [y]])) for x,y in zip(ephem_tab['X'],ephem_tab['Y'])]\n",
    "\n",
    "# for i in range(len(ephem_tab)):\n",
    "#     trans_mat = [np.array([np.cos(thetas[i]), -np.sin(thetas[i])] , [np.sin(thetas[i]), np.cos(thetas[i])])]\n",
    "#     trans_xy[i] = [np.dot(trans_mat,np.array([x] , [y])) for x,y in zip(ephem_tab['X'][i],ephem_tab['Y'])[i]]\n",
    "   \n",
    "\n",
    "\n"
   ]
  },
  {
   "cell_type": "code",
   "execution_count": 35,
   "id": "186c4ccb-923b-4003-9f90-cbe2451475c8",
   "metadata": {},
   "outputs": [],
   "source": [
    "#Animate\n",
    "\n",
    "eph.time_series = True\n",
    "eph.time_att = 'Time'\n",
    "eph.time_decay = 1000000 * u.hour\n",
    "\n",
    "layer.time_series = True\n",
    "layer.time_att = 'Time'\n",
    "layer.time_decay = 10000 * u.hour\n",
    "\n",
    "my_time = Time('1996-12-07 15:21:01.776000')\n",
    "wwt.set_current_time(my_time)\n",
    "\n",
    "wwt.play_time(rate=10000)"
   ]
  },
  {
   "cell_type": "code",
   "execution_count": 36,
   "id": "a7ee087d-b839-42ee-bb4d-21e833ae270d",
   "metadata": {},
   "outputs": [],
   "source": [
    "wwt.pause_time()"
   ]
  },
  {
   "cell_type": "code",
   "execution_count": null,
   "id": "34877b05-e382-45e3-9417-20412893dc29",
   "metadata": {},
   "outputs": [],
   "source": [
    "# time interval = p.array[]\n",
    "#\n",
    "# ->> visibility\n",
    "#\n",
    "# --constant to select a time interval/target\n",
    "# - include comments that have example targets to view\n",
    "\n"
   ]
  }
 ],
 "metadata": {
  "kernelspec": {
   "display_name": "Python 3 (ipykernel)",
   "language": "python",
   "name": "python3"
  },
  "language_info": {
   "codemirror_mode": {
    "name": "ipython",
    "version": 3
   },
   "file_extension": ".py",
   "mimetype": "text/x-python",
   "name": "python",
   "nbconvert_exporter": "python",
   "pygments_lexer": "ipython3",
   "version": "3.11.3"
  }
 },
 "nbformat": 4,
 "nbformat_minor": 5
}
