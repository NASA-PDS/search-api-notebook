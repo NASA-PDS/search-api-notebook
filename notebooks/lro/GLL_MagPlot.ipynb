{
 "cells": [
  {
   "cell_type": "markdown",
   "id": "fba6be0e-ba38-472e-8ba0-76c55e622eb9",
   "metadata": {},
   "source": [
    "#### Welcome to the pyWWT visualization notebook!\n",
    "\n",
    "This notebook demonstrates a PDS search API use case by visualizing Galileo Orbiter's magnetosphere measurement campaign and displays pyWWT's ability to visualize orbit data and overlay instrument data onto regions of interest.\n",
    "\n",
    "To properly run this code, ensure that you have followed the steps outlined in the README.md file. Additionally, ensure that you have opened an \"AAS Worldwide Telescope\" launcher in your notebook work space. To do this simply go to File -> New Launcher and (if configured correctly) click the AAS WWT icon. See [WWTs Jupyter Application](https://pywwt.readthedocs.io/en/stable/jupyterlab.html) for troubleshooting and further setup.\n",
    "\n",
    "# Step 0: Import Libraries and download pds4_tools"
   ]
  },
  {
   "cell_type": "code",
   "execution_count": 18,
   "id": "9aeb7aa4-d95f-4f15-9877-440e2870e55a",
   "metadata": {
    "ExecuteTime": {
     "end_time": "2023-07-31T19:48:14.084985Z",
     "start_time": "2023-07-31T19:48:09.637632Z"
    },
    "tags": []
   },
   "outputs": [],
   "source": [
    "from __future__ import print_function\n",
    "import __future__\n",
    "import pandas as pd\n",
    "import numpy as np\n",
    "\n",
    "import requests\n",
    "import spiceypy\n",
    "import os\n",
    "import io\n",
    "import pds4_tools\n",
    "\n",
    "from datetime import datetime,timedelta\n",
    "import matplotlib.dates as mdates\n",
    "from astropy import units as u\n",
    "\n",
    "from astropy.time import Time\n",
    "from pywwt.jupyter import WWTJupyterWidget\n",
    "from pywwt.jupyter import connect_to_app\n",
    "from astropy.table import Table, hstack\n",
    "import matplotlib.pyplot as plt"
   ]
  },
  {
   "cell_type": "markdown",
   "id": "c8ba7986",
   "metadata": {},
   "source": [
    "# Step 1: SPICE Kernel download function\n",
    " **download_and_load_spice_kernel:** For a number of reasons we don't want SPICE kernels living on the gitHub repo, so this function installs the necessary kernels to the users local machine."
   ]
  },
  {
   "cell_type": "code",
   "execution_count": 44,
   "id": "35bff9a7",
   "metadata": {
    "ExecuteTime": {
     "end_time": "2023-07-31T19:48:56.249054Z",
     "start_time": "2023-07-31T19:48:56.157023Z"
    },
    "collapsed": false,
    "jupyter": {
     "outputs_hidden": false
    }
   },
   "outputs": [],
   "source": [
    "\n",
    "\n",
    "def download_and_load_spice_kernel(p_url):\n",
    "    if not os.access('.spice_kernels',os.F_OK):\n",
    "        os.mkdir('.spice_kernels')\n",
    "\n",
    "    kernel_dir = os.path.join(\".spice_kernels\")\n",
    "#     os.makedirs(kernel_dir, exist_ok=True)\n",
    "    file_path = os.path.join(kernel_dir, os.path.basename(p_url))\n",
    "    if not os.path.exists(file_path):\n",
    "        r = requests.get(url, allow_redirects=True)\n",
    "        if r.status_code == 200:\n",
    "            print('Successfully loaded:',os.path.basename(p_url))\n",
    "\n",
    "            open(file_path, \"wb\").write(r.content)\n",
    "        spiceypy.furnsh(file_path)\n",
    "    else:\n",
    "        print('\"',os.path.basename(p_url), '\" already exists. Skipping download.')\n",
    "            \n"
   ]
  },
  {
   "cell_type": "markdown",
   "id": "c68718d1-9ef4-4a74-be8e-01501fec2b1c",
   "metadata": {},
   "source": [
    "# Step 2: Load SPICE Kernels\n",
    "Import the necessary SPICE Kernels and download them to on the local environment using **download_and_load_spice_kernel**."
   ]
  },
  {
   "cell_type": "code",
   "execution_count": 45,
   "id": "37e67707-958b-4005-8a39-75dbbdb97cdb",
   "metadata": {
    "ExecuteTime": {
     "end_time": "2023-07-31T19:53:08.951625Z",
     "start_time": "2023-07-31T19:48:57.918872Z"
    }
   },
   "outputs": [
    {
     "name": "stdout",
     "output_type": "stream",
     "text": [
      "\" naif0008.tls \" already exists. Skipping download.\n",
      "\" gll_951120_021126_raj2021.bsp \" already exists. Skipping download.\n"
     ]
    }
   ],
   "source": [
    "\n",
    "KERNEL_URLS = [\n",
    "    #generic LSK\n",
    "    \"https://naif.jpl.nasa.gov/pub/naif/pds/data/ody-m-spice-6-v1.0/odsp_1000/data/lsk/naif0008.tls\",\n",
    "    #Galileo SC SPK\n",
    "    \"https://naif.jpl.nasa.gov/pub/naif/GLL/kernels/spk/gll_951120_021126_raj2021.bsp\"\n",
    "]\n",
    "for url in KERNEL_URLS:\n",
    "    download_and_load_spice_kernel(url)\n",
    "    "
   ]
  },
  {
   "cell_type": "markdown",
   "id": "d858c7dc-2a8b-4d42-b03c-db295c7dfe5b",
   "metadata": {},
   "source": [
    "# Get Products from Search API\n",
    "\n",
    "Utilize the PDS registry API to grab the magnetometer data for the Galileo Orbiter."
   ]
  },
  {
   "cell_type": "code",
   "execution_count": 46,
   "id": "4561eb3d",
   "metadata": {
    "ExecuteTime": {
     "end_time": "2023-07-31T19:53:09.543404Z",
     "start_time": "2023-07-31T19:53:08.959963Z"
    },
    "collapsed": false,
    "jupyter": {
     "outputs_hidden": false
    }
   },
   "outputs": [],
   "source": [
    "#High-res magnetometer data\n",
    "# collection_lid = \"urn:nasa:pds:galileo-mag-jup-calibrated:data-highres-magnetosphere::1.0\"\n",
    "#Low-res magnetometer data\n",
    "collection_lid = \"urn:nasa:pds:galileo-mag-jup-calibrated:data-magspheric-survey::1.0\"\n",
    "\n",
    "url = f\"https://pds.nasa.gov/api/search/1/products/{collection_lid}/members\"\n",
    "\n",
    "fields = [\n",
    "    \"lid\",\n",
    "    \"vid\",\n",
    "    \"pds:Time_Coordinates.pds:start_date_time\",\n",
    "    \"pds:Time_Coordinates.pds:stop_date_time\",\n",
    "    \"pds:Target_Identification.pds:name\",\n",
    "    \"ops:Label_File_Info.ops:file_ref\",\n",
    "    \"pds:Field_Character.pds:name\",\n",
    "    \"pds:Field_Character.pds:field_length\"\n",
    "]\n",
    "\n",
    "#These search features do not work\n",
    "start_time = \"1996-11-01T00:00:00.00Z\"\n",
    "target_type = \"Ganymede\"\n",
    "\n",
    "params = dict(\n",
    "    fields=\",\".join(fields),\n",
    "    q=f'((pds:Time_Coordinates.pds:start_date_time gt \"{start_time}\") and (pds:Target_Identification.pds:name eq \"{target_type}\"))',\n",
    "    limit = 200\n",
    ")\n",
    "\n",
    "\n",
    "headers = dict(Accept=\"application/csv\")\n",
    "response = requests.get(\n",
    "    url,\n",
    "    params=params,\n",
    "    headers=headers\n",
    ")"
   ]
  },
  {
   "cell_type": "markdown",
   "id": "8967bba3",
   "metadata": {},
   "source": [
    "# Step 3: Store results in a DataFrame and print contents for reference"
   ]
  },
  {
   "cell_type": "code",
   "execution_count": 41,
   "id": "a521721c",
   "metadata": {
    "ExecuteTime": {
     "end_time": "2023-07-31T19:53:09.644451Z",
     "start_time": "2023-07-31T19:53:09.489322Z"
    },
    "collapsed": false,
    "jupyter": {
     "outputs_hidden": false
    }
   },
   "outputs": [
    {
     "data": {
      "text/html": [
       "<div>\n",
       "<style scoped>\n",
       "    .dataframe tbody tr th:only-of-type {\n",
       "        vertical-align: middle;\n",
       "    }\n",
       "\n",
       "    .dataframe tbody tr th {\n",
       "        vertical-align: top;\n",
       "    }\n",
       "\n",
       "    .dataframe thead th {\n",
       "        text-align: right;\n",
       "    }\n",
       "</style>\n",
       "<table border=\"1\" class=\"dataframe\">\n",
       "  <thead>\n",
       "    <tr style=\"text-align: right;\">\n",
       "      <th></th>\n",
       "      <th>lid</th>\n",
       "      <th>vid</th>\n",
       "      <th>pds:Time_Coordinates.pds:start_date_time</th>\n",
       "      <th>pds:Time_Coordinates.pds:stop_date_time</th>\n",
       "      <th>pds:Target_Identification.pds:name</th>\n",
       "      <th>ops:Label_File_Info.ops:file_ref</th>\n",
       "    </tr>\n",
       "  </thead>\n",
       "  <tbody>\n",
       "    <tr>\n",
       "      <th>96</th>\n",
       "      <td>urn:nasa:pds:galileo-mag-jup-calibrated:data-m...</td>\n",
       "      <td>1.0</td>\n",
       "      <td>1996-09-01T16:00:40.392Z</td>\n",
       "      <td>1996-11-02T11:44:01.104Z</td>\n",
       "      <td>[Jupiter, Ganymede]</td>\n",
       "      <td>https://pds-ppi.igpp.ucla.edu/data/galileo-mag...</td>\n",
       "    </tr>\n",
       "    <tr>\n",
       "      <th>7</th>\n",
       "      <td>urn:nasa:pds:galileo-mag-jup-calibrated:data-m...</td>\n",
       "      <td>1.0</td>\n",
       "      <td>1996-09-01T16:00:40.392Z</td>\n",
       "      <td>1996-11-02T11:44:01.104Z</td>\n",
       "      <td>[Jupiter, Ganymede]</td>\n",
       "      <td>https://pds-ppi.igpp.ucla.edu/data/galileo-mag...</td>\n",
       "    </tr>\n",
       "    <tr>\n",
       "      <th>6</th>\n",
       "      <td>urn:nasa:pds:galileo-mag-jup-calibrated:data-m...</td>\n",
       "      <td>1.0</td>\n",
       "      <td>1996-09-01T16:00:40.392Z</td>\n",
       "      <td>1996-11-02T11:44:01.104Z</td>\n",
       "      <td>[Jupiter, Ganymede]</td>\n",
       "      <td>https://pds-ppi.igpp.ucla.edu/data/galileo-mag...</td>\n",
       "    </tr>\n",
       "    <tr>\n",
       "      <th>5</th>\n",
       "      <td>urn:nasa:pds:galileo-mag-jup-calibrated:data-m...</td>\n",
       "      <td>1.0</td>\n",
       "      <td>1996-09-01T16:00:48.392Z</td>\n",
       "      <td>1996-11-02T11:44:09.104Z</td>\n",
       "      <td>[Jupiter, Ganymede]</td>\n",
       "      <td>https://pds-ppi.igpp.ucla.edu/data/galileo-mag...</td>\n",
       "    </tr>\n",
       "    <tr>\n",
       "      <th>99</th>\n",
       "      <td>urn:nasa:pds:galileo-mag-jup-calibrated:data-m...</td>\n",
       "      <td>1.0</td>\n",
       "      <td>1996-11-02T16:02:49.095Z</td>\n",
       "      <td>1996-12-14T23:58:52.842Z</td>\n",
       "      <td>[Jupiter, Callisto]</td>\n",
       "      <td>https://pds-ppi.igpp.ucla.edu/data/galileo-mag...</td>\n",
       "    </tr>\n",
       "    <tr>\n",
       "      <th>100</th>\n",
       "      <td>urn:nasa:pds:galileo-mag-jup-calibrated:data-m...</td>\n",
       "      <td>1.0</td>\n",
       "      <td>1996-11-02T16:02:49.095Z</td>\n",
       "      <td>1996-12-14T23:58:52.842Z</td>\n",
       "      <td>[Jupiter, Callisto]</td>\n",
       "      <td>https://pds-ppi.igpp.ucla.edu/data/galileo-mag...</td>\n",
       "    </tr>\n",
       "    <tr>\n",
       "      <th>98</th>\n",
       "      <td>urn:nasa:pds:galileo-mag-jup-calibrated:data-m...</td>\n",
       "      <td>1.0</td>\n",
       "      <td>1996-11-02T16:02:49.095Z</td>\n",
       "      <td>1996-12-14T23:58:52.842Z</td>\n",
       "      <td>[Jupiter, Callisto]</td>\n",
       "      <td>https://pds-ppi.igpp.ucla.edu/data/galileo-mag...</td>\n",
       "    </tr>\n",
       "    <tr>\n",
       "      <th>97</th>\n",
       "      <td>urn:nasa:pds:galileo-mag-jup-calibrated:data-m...</td>\n",
       "      <td>1.0</td>\n",
       "      <td>1996-11-02T16:02:57.095Z</td>\n",
       "      <td>1996-12-14T23:59:00.842Z</td>\n",
       "      <td>[Jupiter, Callisto]</td>\n",
       "      <td>https://pds-ppi.igpp.ucla.edu/data/galileo-mag...</td>\n",
       "    </tr>\n",
       "    <tr>\n",
       "      <th>53</th>\n",
       "      <td>urn:nasa:pds:galileo-mag-jup-calibrated:data-m...</td>\n",
       "      <td>1.0</td>\n",
       "      <td>1996-12-15T00:18:32.842Z</td>\n",
       "      <td>1997-01-07T23:21:33.122Z</td>\n",
       "      <td>[Jupiter, Europa]</td>\n",
       "      <td>https://pds-ppi.igpp.ucla.edu/data/galileo-mag...</td>\n",
       "    </tr>\n",
       "    <tr>\n",
       "      <th>102</th>\n",
       "      <td>urn:nasa:pds:galileo-mag-jup-calibrated:data-m...</td>\n",
       "      <td>1.0</td>\n",
       "      <td>1996-12-15T00:18:32.842Z</td>\n",
       "      <td>1997-01-07T23:21:33.122Z</td>\n",
       "      <td>[Jupiter, Europa]</td>\n",
       "      <td>https://pds-ppi.igpp.ucla.edu/data/galileo-mag...</td>\n",
       "    </tr>\n",
       "    <tr>\n",
       "      <th>8</th>\n",
       "      <td>urn:nasa:pds:galileo-mag-jup-calibrated:data-m...</td>\n",
       "      <td>1.0</td>\n",
       "      <td>1996-12-15T00:18:32.842Z</td>\n",
       "      <td>1997-01-07T23:21:33.122Z</td>\n",
       "      <td>[Jupiter, Europa]</td>\n",
       "      <td>https://pds-ppi.igpp.ucla.edu/data/galileo-mag...</td>\n",
       "    </tr>\n",
       "    <tr>\n",
       "      <th>101</th>\n",
       "      <td>urn:nasa:pds:galileo-mag-jup-calibrated:data-m...</td>\n",
       "      <td>1.0</td>\n",
       "      <td>1996-12-15T00:18:36.842Z</td>\n",
       "      <td>1997-01-07T23:32:20.233Z</td>\n",
       "      <td>[Jupiter, Europa]</td>\n",
       "      <td>https://pds-ppi.igpp.ucla.edu/data/galileo-mag...</td>\n",
       "    </tr>\n",
       "  </tbody>\n",
       "</table>\n",
       "</div>"
      ],
      "text/plain": [
       "                                                   lid  vid  \\\n",
       "96   urn:nasa:pds:galileo-mag-jup-calibrated:data-m...  1.0   \n",
       "7    urn:nasa:pds:galileo-mag-jup-calibrated:data-m...  1.0   \n",
       "6    urn:nasa:pds:galileo-mag-jup-calibrated:data-m...  1.0   \n",
       "5    urn:nasa:pds:galileo-mag-jup-calibrated:data-m...  1.0   \n",
       "99   urn:nasa:pds:galileo-mag-jup-calibrated:data-m...  1.0   \n",
       "100  urn:nasa:pds:galileo-mag-jup-calibrated:data-m...  1.0   \n",
       "98   urn:nasa:pds:galileo-mag-jup-calibrated:data-m...  1.0   \n",
       "97   urn:nasa:pds:galileo-mag-jup-calibrated:data-m...  1.0   \n",
       "53   urn:nasa:pds:galileo-mag-jup-calibrated:data-m...  1.0   \n",
       "102  urn:nasa:pds:galileo-mag-jup-calibrated:data-m...  1.0   \n",
       "8    urn:nasa:pds:galileo-mag-jup-calibrated:data-m...  1.0   \n",
       "101  urn:nasa:pds:galileo-mag-jup-calibrated:data-m...  1.0   \n",
       "\n",
       "    pds:Time_Coordinates.pds:start_date_time  \\\n",
       "96                  1996-09-01T16:00:40.392Z   \n",
       "7                   1996-09-01T16:00:40.392Z   \n",
       "6                   1996-09-01T16:00:40.392Z   \n",
       "5                   1996-09-01T16:00:48.392Z   \n",
       "99                  1996-11-02T16:02:49.095Z   \n",
       "100                 1996-11-02T16:02:49.095Z   \n",
       "98                  1996-11-02T16:02:49.095Z   \n",
       "97                  1996-11-02T16:02:57.095Z   \n",
       "53                  1996-12-15T00:18:32.842Z   \n",
       "102                 1996-12-15T00:18:32.842Z   \n",
       "8                   1996-12-15T00:18:32.842Z   \n",
       "101                 1996-12-15T00:18:36.842Z   \n",
       "\n",
       "    pds:Time_Coordinates.pds:stop_date_time  \\\n",
       "96                 1996-11-02T11:44:01.104Z   \n",
       "7                  1996-11-02T11:44:01.104Z   \n",
       "6                  1996-11-02T11:44:01.104Z   \n",
       "5                  1996-11-02T11:44:09.104Z   \n",
       "99                 1996-12-14T23:58:52.842Z   \n",
       "100                1996-12-14T23:58:52.842Z   \n",
       "98                 1996-12-14T23:58:52.842Z   \n",
       "97                 1996-12-14T23:59:00.842Z   \n",
       "53                 1997-01-07T23:21:33.122Z   \n",
       "102                1997-01-07T23:21:33.122Z   \n",
       "8                  1997-01-07T23:21:33.122Z   \n",
       "101                1997-01-07T23:32:20.233Z   \n",
       "\n",
       "    pds:Target_Identification.pds:name  \\\n",
       "96                 [Jupiter, Ganymede]   \n",
       "7                  [Jupiter, Ganymede]   \n",
       "6                  [Jupiter, Ganymede]   \n",
       "5                  [Jupiter, Ganymede]   \n",
       "99                 [Jupiter, Callisto]   \n",
       "100                [Jupiter, Callisto]   \n",
       "98                 [Jupiter, Callisto]   \n",
       "97                 [Jupiter, Callisto]   \n",
       "53                   [Jupiter, Europa]   \n",
       "102                  [Jupiter, Europa]   \n",
       "8                    [Jupiter, Europa]   \n",
       "101                  [Jupiter, Europa]   \n",
       "\n",
       "                      ops:Label_File_Info.ops:file_ref  \n",
       "96   https://pds-ppi.igpp.ucla.edu/data/galileo-mag...  \n",
       "7    https://pds-ppi.igpp.ucla.edu/data/galileo-mag...  \n",
       "6    https://pds-ppi.igpp.ucla.edu/data/galileo-mag...  \n",
       "5    https://pds-ppi.igpp.ucla.edu/data/galileo-mag...  \n",
       "99   https://pds-ppi.igpp.ucla.edu/data/galileo-mag...  \n",
       "100  https://pds-ppi.igpp.ucla.edu/data/galileo-mag...  \n",
       "98   https://pds-ppi.igpp.ucla.edu/data/galileo-mag...  \n",
       "97   https://pds-ppi.igpp.ucla.edu/data/galileo-mag...  \n",
       "53   https://pds-ppi.igpp.ucla.edu/data/galileo-mag...  \n",
       "102  https://pds-ppi.igpp.ucla.edu/data/galileo-mag...  \n",
       "8    https://pds-ppi.igpp.ucla.edu/data/galileo-mag...  \n",
       "101  https://pds-ppi.igpp.ucla.edu/data/galileo-mag...  "
      ]
     },
     "metadata": {},
     "output_type": "display_data"
    }
   ],
   "source": [
    "products_csv_stream = io.StringIO(response.content.decode('utf-8'))\n",
    "products_df_tot = pd.read_csv(products_csv_stream)\n",
    "\n",
    "# change columns order\n",
    "products_df_tot = products_df_tot[fields]\n",
    "products_df_tot.sort_values(by = 'pds:Time_Coordinates.pds:start_date_time',inplace = True)\n",
    "\n",
    "#User specified time range\n",
    "start_time = pd.to_datetime('1996-07-19T11:00:00Z')\n",
    "end_time = pd.to_datetime('1997-01-19T15:00:00Z')\n",
    "\n",
    "# Filter the DataFrame within the time range\n",
    "t_str = 'pds:Time_Coordinates.pds:start_date_time'\n",
    "products_df = products_df_tot[(pd.to_datetime(products_df_tot[t_str]) >= start_time) & (pd.to_datetime(products_df_tot[t_str]) <= end_time)]\n",
    "\n",
    "display(products_df[[\"lid\",\n",
    "    \"vid\",\n",
    "    \"pds:Time_Coordinates.pds:start_date_time\",\n",
    "    \"pds:Time_Coordinates.pds:stop_date_time\",\n",
    "    \"pds:Target_Identification.pds:name\",\n",
    "    \"ops:Label_File_Info.ops:file_ref\"]])"
   ]
  },
  {
   "cell_type": "markdown",
   "id": "ec5910d8-f3a2-4d37-bc8c-72b54cf547dd",
   "metadata": {},
   "source": [
    "# Step 4: Utilize pds4_tools utility to load each xml member."
   ]
  },
  {
   "cell_type": "code",
   "execution_count": 42,
   "id": "430706fd-fbbd-4be8-8aa7-062fdd1498a6",
   "metadata": {
    "ExecuteTime": {
     "end_time": "2023-07-31T20:04:12.806512Z",
     "start_time": "2023-07-31T20:00:39.760707Z"
    }
   },
   "outputs": [
    {
     "name": "stdout",
     "output_type": "stream",
     "text": [
      "debug\n"
     ]
    }
   ],
   "source": [
    "col_name_str = products_df_tot['pds:Field_Character.pds:name'][0]\n",
    "col_name = [item.strip() for item in col_name_str[1:-1].split(',')]\n",
    "\n",
    "xml_urls = [xml_url for xml_url in products_df['ops:Label_File_Info.ops:file_ref'] if 'IRC' in xml_url]\n",
    "\n",
    "combined_data = None\n",
    "for xml_url in xml_urls:\n",
    "    prod_struct = pds4_tools.read(xml_url, quiet = True)\n",
    "    data_grab = np.array(prod_struct[0]['SAMPLE TIME', 'B-FIELD MAGNITUDE'])\n",
    "    combined_data = data_grab if combined_data is None else np.concatenate((combined_data, data_grab))"
   ]
  },
  {
   "cell_type": "markdown",
   "id": "341495ae",
   "metadata": {
    "ExecuteTime": {
     "end_time": "2023-07-18T16:01:26.512957Z",
     "start_time": "2023-07-18T16:01:23.821325Z"
    }
   },
   "source": [
    "# Step 4: Obtain ephemeris for mag measurements\n",
    "\n",
    "Obtain the position and velocity values at each magnetometer measurement timestamp using the **get_sta** function.\n",
    "\n",
    "***Note: You can change the number of data points you would like to plot by changing the sample variable. The higher it is, the fewer data points you will plot.***"
   ]
  },
  {
   "cell_type": "code",
   "execution_count": 43,
   "id": "512dd47b",
   "metadata": {
    "collapsed": false,
    "jupyter": {
     "outputs_hidden": false
    }
   },
   "outputs": [
    {
     "name": "stdout",
     "output_type": "stream",
     "text": [
      "Obtaining ephemeris for magnetometer readings...\n",
      "Number of magnetometer readings to plot: 2487\n"
     ]
    }
   ],
   "source": [
    "sample = 100\n",
    "trunc_data_tot = combined_data[1::sample]\n",
    "\n",
    "print('Obtaining ephemeris for magnetometer readings...')\n",
    "df = Table(trunc_data_tot)\n",
    "\n",
    "\n",
    "mag_ephem_data = []\n",
    "for t in trunc_data_tot['SAMPLE TIME']:\n",
    "        et = spiceypy.str2et( t )\n",
    "        [state, ltime] = spiceypy.spkezr( '5', et, 'J2000', 'LT+S', '-77')\n",
    "        mag_ephem_data.append(state[0:3])\n",
    "\n",
    "print(\"Number of magnetometer readings to plot: \"+ str(len(mag_ephem_data)))\n"
   ]
  },
  {
   "cell_type": "markdown",
   "id": "1f8c487d",
   "metadata": {},
   "source": [
    "# Plot magnitude relative to distance"
   ]
  },
  {
   "cell_type": "code",
   "execution_count": 10,
   "id": "2eaa9b3f",
   "metadata": {
    "collapsed": false,
    "jupyter": {
     "outputs_hidden": false
    }
   },
   "outputs": [
    {
     "name": "stderr",
     "output_type": "stream",
     "text": [
      "/var/folders/t7/tdt4vrqj57x7cdkbnm27lcbw0000gq/T/ipykernel_4213/3284598759.py:9: UserWarning: 'set_params()' not defined for locator of type <class 'matplotlib.dates.AutoDateLocator'>\n",
      "  plt.locator_params(axis='x', nbins=10)\n",
      "/usr/local/lib/python3.11/site-packages/IPython/core/pylabtools.py:152: MatplotlibDeprecationWarning: savefig() got unexpected keyword argument \"orientation\" which is no longer supported as of 3.3 and will become an error two minor releases later\n",
      "  fig.canvas.print_figure(bytes_io, **kw)\n",
      "/usr/local/lib/python3.11/site-packages/IPython/core/pylabtools.py:152: MatplotlibDeprecationWarning: savefig() got unexpected keyword argument \"dpi\" which is no longer supported as of 3.3 and will become an error two minor releases later\n",
      "  fig.canvas.print_figure(bytes_io, **kw)\n",
      "/usr/local/lib/python3.11/site-packages/IPython/core/pylabtools.py:152: MatplotlibDeprecationWarning: savefig() got unexpected keyword argument \"facecolor\" which is no longer supported as of 3.3 and will become an error two minor releases later\n",
      "  fig.canvas.print_figure(bytes_io, **kw)\n",
      "/usr/local/lib/python3.11/site-packages/IPython/core/pylabtools.py:152: MatplotlibDeprecationWarning: savefig() got unexpected keyword argument \"edgecolor\" which is no longer supported as of 3.3 and will become an error two minor releases later\n",
      "  fig.canvas.print_figure(bytes_io, **kw)\n",
      "/usr/local/lib/python3.11/site-packages/IPython/core/pylabtools.py:152: MatplotlibDeprecationWarning: savefig() got unexpected keyword argument \"bbox_inches_restore\" which is no longer supported as of 3.3 and will become an error two minor releases later\n",
      "  fig.canvas.print_figure(bytes_io, **kw)\n"
     ]
    },
    {
     "data": {
      "image/png": "[encoded data removed]",
      "text/plain": [
       "<Figure size 640x480 with 1 Axes>"
      ]
     },
     "metadata": {},
     "output_type": "display_data"
    }
   ],
   "source": [
    "mag_datetime = [datetime.strptime(t, \"%Y-%m-%dT%H:%M:%S.%f\") for t in trunc_data_tot['SAMPLE TIME']]\n",
    "fig, ax = plt.subplots()\n",
    "cm = ax.scatter(mag_datetime,trunc_data_tot['B-FIELD MAGNITUDE'])\n",
    "\n",
    "ax.xaxis.set_major_formatter(mdates.DateFormatter('%b %Y'))\n",
    "plt.xticks(rotation=45)\n",
    "\n",
    "plt.xlabel(\"Time\")\n",
    "plt.locator_params(axis='x', nbins=10)\n",
    "plt.ylabel(\"Magnitude (nT)\")\n",
    "plt.title(\"Galileo Magnetometer Readings\")\n",
    "\n",
    "plt.show()\n",
    "\n",
    "# fig_2, mag_d = plt.subplots()\n",
    "# distance = distance = np.linalg.norm(mag_ephem_data, axis=1)\n",
    "#\n",
    "# cm = mag_d.scatter(distance,df['data'],c = df['data'], cmap = 'viridis' )\n",
    "#\n",
    "# plt.xlabel(\"Distance [km]\")\n",
    "# plt.ylabel(\"Magnitude (nT)\")\n",
    "# plt.title(\"Galileo Magnetometer Readings vs Altitude\")\n",
    "#\n",
    "# cbar = plt.colorbar(cm)\n",
    "# cbar.set_label(\"Magnitude (nT)\")\n",
    "# plt.show()"
   ]
  },
  {
   "cell_type": "markdown",
   "id": "86a5481e",
   "metadata": {},
   "source": [
    "# Step 5: Obtain ephemeris for orbits\n",
    "\n",
    "Get the ephemeris for the orbits between the first magnetometer measurement, and the last. This is used for better visualizing the orbit data. "
   ]
  },
  {
   "cell_type": "code",
   "execution_count": 17,
   "id": "481fa51f",
   "metadata": {
    "collapsed": false,
    "jupyter": {
     "outputs_hidden": false
    }
   },
   "outputs": [
    {
     "name": "stdout",
     "output_type": "stream",
     "text": [
      "Filling in ephemeris data...\n",
      "Finished\n"
     ]
    }
   ],
   "source": [
    "print(\"Filling in ephemeris data...\")\n",
    "\n",
    "start_time = mag_datetime[0]\n",
    "end_time = mag_datetime[len(trunc_data_tot)-1]\n",
    "\n",
    "ephem_time = np.arange(start_time, end_time, timedelta(hours=1)).astype(datetime)\n",
    "\n",
    "ephem_iso = [ephem_t.replace(tzinfo=None).isoformat() for ephem_t in ephem_time]\n",
    "ephem_data = []\n",
    "\n",
    "for t in ephem_iso:\n",
    "        et = spiceypy.str2et( t )\n",
    "        [state, ltime] = spiceypy.spkezr( '5', et, 'J2000', 'LT+S', '-77')\n",
    "        ephem_data.append(state[0:3])\n",
    "\n",
    "print('Finished')\n"
   ]
  },
  {
   "cell_type": "markdown",
   "id": "c52eb492-0f89-4b8c-b09d-13b94647217e",
   "metadata": {},
   "source": [
    "# Step 6: Organize the data for pyWWT\n",
    "\n",
    "This step organizes all the data variables into tables for pyWWT. A table is generated for the magnetometer data and another for the ephemeris data."
   ]
  },
  {
   "cell_type": "code",
   "execution_count": 22,
   "id": "0e113b69-1c9e-410f-a58f-f97b7b5861aa",
   "metadata": {},
   "outputs": [
    {
     "name": "stdout",
     "output_type": "stream",
     "text": [
      "Done!\n"
     ]
    }
   ],
   "source": [
    "mag_tab_data = Table(np.array(mag_ephem_data), names = ['X', 'Y', 'Z'])\n",
    "ephem_tab = Table(np.array(ephem_data), names = ['X', 'Y', 'Z'])\n",
    "\n",
    "mag_tab = hstack([Table(trunc_data_tot), mag_tab_data])\n",
    "ephem_tab['Time'] = ephem_iso\n",
    "            \n",
    "print('Done!')"
   ]
  },
  {
   "cell_type": "markdown",
   "id": "61a8aed2",
   "metadata": {},
   "source": [
    "# Step 7: Connect pyWWT Widget\n",
    "\n",
    "***Before proceeding, ensure that you have another tab open in the notebook for the AAS WorldWide Telescope widget***\n",
    "\n",
    "Instantiate the WWTJupyterWidget and await connection."
   ]
  },
  {
   "cell_type": "code",
   "execution_count": 23,
   "id": "acf6395f-3a2c-4f6e-be99-191553a464e2",
   "metadata": {},
   "outputs": [
    {
     "name": "stdout",
     "output_type": "stream",
     "text": [
      "Successful Connection\n"
     ]
    }
   ],
   "source": [
    "#Connect pyWWT widget\n",
    "\n",
    "wwt = WWTJupyterWidget()\n",
    "wwt = await connect_to_app().becomes_ready()\n",
    "print('Successful Connection')\n",
    "wwt.reset()"
   ]
  },
  {
   "cell_type": "markdown",
   "id": "12f399da",
   "metadata": {},
   "source": [
    "# Step 8: Set view and load data\n",
    "\n",
    "Set the WWT view to the solar system and load in the magnetometer data and ephemeris data via table layers. Once complete, in the pyWWT widget the view will be centered on Jupiter. Zoom in to see the results!"
   ]
  },
  {
   "cell_type": "code",
   "execution_count": 27,
   "id": "68997cfd-8c6f-4b6d-898a-440253835035",
   "metadata": {},
   "outputs": [],
   "source": [
    "wwt.set_current_time(Time('1995-12-07 15:21:01.776000'))\n",
    "wwt.set_view(\"solar system\")\n",
    "layer = wwt.layers.add_table_layer(table = mag_tab, frame = 'jupiter',\n",
    "                                  coord_type = 'rectangular',\n",
    "                                  x_att = 'X', y_att = 'Y', z_att = 'Z')\n",
    "layer.xyz_unit = 'km'\n",
    "layer.far_side_visible = True\n",
    "\n",
    "layer.cmap_att = 'B-FIELD MAGNITUDE'\n",
    "layer.cmap.vmin = min(mag_tab['B-FIELD MAGNITUDE'])\n",
    "layer.cmap.vmax = max(mag_tab['B-FIELD MAGNITUDE'])\n",
    "\n",
    "layer.size_scale = 250\n",
    "layer.far_side_visible = True\n",
    "layer.marker_type = 'point'\n",
    "layer.opacity = 0.25\n",
    "\n",
    "# layer.name = \"name\"\n",
    "\n",
    "layer.marker_scale = 'world'\n",
    "\n",
    "eph = wwt.layers.add_table_layer(table = ephem_tab, frame = 'jupiter',\n",
    "                                  coord_type = 'rectangular',\n",
    "                                  x_att = 'X', y_att = 'Y', z_att = 'Z')\n",
    "eph.xyz_unit = 'km'\n",
    "eph.far_side_visible = True\n",
    "eph.color = (.2, .2, .6)\n",
    "eph.size_scale = 16\n",
    "eph.far_side_visible = True"
   ]
  },
  {
   "cell_type": "code",
   "execution_count": 28,
   "id": "b26566b6-b562-42fc-9124-8a07a9ff6605",
   "metadata": {},
   "outputs": [],
   "source": [
    "wwt.solar_system.track_object('Jupiter')\n"
   ]
  },
  {
   "cell_type": "markdown",
   "id": "eaa801c1",
   "metadata": {},
   "source": [
    "# Step 8:\n",
    "\n",
    "Note the below code is still a work in progress and will not function as intended."
   ]
  },
  {
   "cell_type": "code",
   "execution_count": 17,
   "id": "0a5f7ba1-3709-4144-9a96-99ebb0c49d34",
   "metadata": {},
   "outputs": [],
   "source": [
    "# start_time = ephem_tab['Time'][0]\n",
    "# theta_dot = 1.76**-4 *3600 # rad/hour\n",
    "# thetas = [theta_dot * (datetime.fromisoformat(start_time) - datetime.fromisoformat(curr_time)).total_seconds()/3600 for curr_time in ephem_tab['Time']]\n",
    "\n",
    "# trans_mat = [np.array([[np.cos(theta), -np.sin(theta)] , [np.sin(theta), np.cos(theta)]]) for theta in thetas]\n",
    "\n",
    "# trans_xy = [np.dot(trans_mat,np.array([[x] , [y]])) for x,y in zip(ephem_tab['X'],ephem_tab['Y'])]\n",
    "\n",
    "# for i in range(len(ephem_tab)):\n",
    "#     trans_mat = [np.array([np.cos(thetas[i]), -np.sin(thetas[i])] , [np.sin(thetas[i]), np.cos(thetas[i])])]\n",
    "#     trans_xy[i] = [np.dot(trans_mat,np.array([x] , [y])) for x,y in zip(ephem_tab['X'][i],ephem_tab['Y'])[i]]\n",
    "   \n",
    "\n",
    "\n"
   ]
  },
  {
   "cell_type": "code",
   "execution_count": 46,
   "id": "186c4ccb-923b-4003-9f90-cbe2451475c8",
   "metadata": {},
   "outputs": [],
   "source": [
    "#Animate\n",
    "\n",
    "eph.time_series = True\n",
    "eph.time_att = 'Time'\n",
    "eph.time_decay = 500 * u.hour\n",
    "\n",
    "# layer.time_series = True\n",
    "# layer.time_att = 'Time'\n",
    "# layer.time_decay = 10000 * u.hour\n",
    "\n",
    "my_time = Time('1996-12-07 15:21:01.776000')\n",
    "wwt.set_current_time(my_time)\n",
    "\n",
    "wwt.play_time(rate=10000)"
   ]
  },
  {
   "cell_type": "code",
   "execution_count": 47,
   "id": "a7ee087d-b839-42ee-bb4d-21e833ae270d",
   "metadata": {},
   "outputs": [],
   "source": [
    "wwt.pause_time()"
   ]
  },
  {
   "cell_type": "code",
   "execution_count": null,
   "id": "34877b05-e382-45e3-9417-20412893dc29",
   "metadata": {},
   "outputs": [],
   "source": [
    "\n"
   ]
  }
 ],
 "metadata": {
  "kernelspec": {
   "display_name": "Python 3 (ipykernel)",
   "language": "python",
   "name": "python3"
  },
  "language_info": {
   "codemirror_mode": {
    "name": "ipython",
    "version": 3
   },
   "file_extension": ".py",
   "mimetype": "text/x-python",
   "name": "python",
   "nbconvert_exporter": "python",
   "pygments_lexer": "ipython3",
   "version": "3.11.4"
  }
 },
 "nbformat": 4,
 "nbformat_minor": 5
}
