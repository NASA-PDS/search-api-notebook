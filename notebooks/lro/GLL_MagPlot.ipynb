{
 "cells": [
  {
   "cell_type": "markdown",
   "id": "fba6be0e-ba38-472e-8ba0-76c55e622eb9",
   "metadata": {},
   "source": [
    "#### Welcome to the pyWWT visualization notebook!\n",
    "\n",
    "This notebook demonstrates a PDS search API use case by visualizing Galileo Orbiter's magnetosphere measurement campaign and displays pyWWT's ability to visualize orbit data and overlay instrument data onto regions of interest.\n",
    "\n",
    "To properly run this code, ensure that you have followed the steps outlined in the README.md file. Additionally, ensure that you have opened an \"AAS Worldwide Telescope\" launcher in your notebook work space. To do this simply go to File -> New Launcher and (if configured correctly) click the AAS WWT icon. See [WWT's Jupter Application](https://pywwt.readthedocs.io/en/stable/jupyterlab.html) for troubleshooting and further setup.\n",
    "\n",
    "# Step 0:\n",
    "\n",
    "Import necessary python libraries"
   ]
  },
  {
   "cell_type": "code",
   "execution_count": 21,
   "id": "9aeb7aa4-d95f-4f15-9877-440e2870e55a",
   "metadata": {
    "ExecuteTime": {
     "end_time": "2023-07-10T23:18:29.978516Z",
     "start_time": "2023-07-10T23:18:26.549026Z"
    },
    "tags": []
   },
   "outputs": [],
   "source": [
    "import requests\n",
    "import spiceypy\n",
    "import pandas\n",
    "import pandas as pd\n",
    "import numpy as np\n",
    "from datetime import datetime, timedelta\n",
    "import os\n",
    "\n",
    "from __future__ import print_function\n",
    "from astropy.time import Time\n",
    "from pywwt.jupyter import WWTJupyterWidget\n",
    "from pywwt.jupyter import connect_to_app\n",
    "from astropy.table import Table\n"
   ]
  },
  {
   "cell_type": "markdown",
   "id": "c8ba7986",
   "metadata": {},
   "source": [
    "# Step 1:\n",
    "\n",
    "Define functions to be used throughout the script.\n",
    "\n",
    "There are 4 functions here:\n",
    "1. **getsta:** Used to obtain the positions and velocities of Galileo relative to the J2000 date and Jupiter's coordinate frame.\n",
    "2. **get_data:** This parses through and grabs the correct collections from a CSV contained in the Galileo Magnetometer [parent bundle](https://pds.nasa.gov/api/search/1/products/urn:nasa:pds:galileo-mag-jup-calibrated::1.0). This CSV contains a list of lids containing collections from each measurement period in the mission relative to 2 coordinate systems, Inertial Rotor Coordinates (IRC = despun spacecraft) and Jupiter System III(+Z spin axis, prime meridian +X axis). The IRC data files are chosen but it doesn't matter because the plot is non-directional\n",
    "3. **get_tabs:** This takes the individual collections and grabs the time and magnitude for each measurement to store into an array for later use.\n",
    "4. **download_and_load_spice_kernel:** For a number of reasons we don't want SPICE kernels living on the github repo, so this function installs the necessary kernels to the users local machine."
   ]
  },
  {
   "cell_type": "code",
   "execution_count": 22,
   "id": "35bff9a7",
   "metadata": {
    "ExecuteTime": {
     "end_time": "2023-07-10T23:18:29.996570Z",
     "start_time": "2023-07-10T23:18:29.993169Z"
    },
    "collapsed": false,
    "jupyter": {
     "outputs_hidden": false
    }
   },
   "outputs": [],
   "source": [
    "def getsta(mag_time):\n",
    "    # METAKR = 'getgll.tm'\n",
    "    # spiceypy.furnsh( METAKR )\n",
    "    row = []\n",
    "    for t in mag_time:\n",
    "            time_string = t.strftime('%Y-%m-%d %H:%M:%S')\n",
    "\n",
    "            #ephemeris time after iterating\n",
    "            et = spiceypy.str2et( time_string )\n",
    "\n",
    "            [state, ltime] = spiceypy.spkezr( '5', et,      'J2000',\n",
    "                                            'LT+S',   '-77'       )\n",
    "            row.append([state[0], state[1], state[2], state[3], state[4], state[5]])\n",
    "    return row\n",
    "\n",
    "def get_data(url):\n",
    "    tab_urls_cont = pandas.read_csv(url,sep = ',',header = None)\n",
    "    tab_urls = [element for element in tab_urls_cont[1] if 'irc' in element]\n",
    "\n",
    "    mag_time = []\n",
    "    mag_tot = []\n",
    "    for i in range(len(tab_urls)):\n",
    "        time_data, iter_data = get_tabs(tab_urls[i]) # get rid of column in csv\n",
    "        mag_time.extend(time_data)\n",
    "        mag_tot.extend(iter_data)\n",
    "\n",
    "    return mag_time, mag_tot\n",
    "\n",
    "def get_tabs(url):\n",
    "    #load lid found from parent collection\n",
    "    lid_response = requests.get('https://pds.nasa.gov/api/search/1/products/'+url)\n",
    "    lid_data = lid_response.json()\n",
    "\n",
    "    time_data = []\n",
    "    iter_data = []\n",
    "    for i in range(1): #range(len(lid_data['data'])):\n",
    "            tab_url = lid_data['properties']['ops:Data_File_Info.ops:file_ref'][0]\n",
    "            #load in tab data\n",
    "            tab_response = requests.get(tab_url)\n",
    "            tab_content = tab_response.text\n",
    "            lines = tab_content.splitlines()\n",
    "\n",
    "            for line in lines:\n",
    "                    raw_data = line.split()\n",
    "                    time_data.append(raw_data[0])\n",
    "                    iter_data.append(float(raw_data[4]))\n",
    "    return time_data, iter_data\n",
    "\n",
    "\n",
    "def download_and_load_spice_kernel(p_requests_session, p_url):\n",
    "    if not os.access('.spice_kernels',os.F_OK):\n",
    "        os.mkdir('.spice_kernels')\n",
    "\n",
    "    kernel_dir = os.path.join(\".spice_kernels\")\n",
    "#     os.makedirs(kernel_dir, exist_ok=True)\n",
    "    file_path = os.path.join(kernel_dir, os.path.basename(p_url))\n",
    "#     # TODO manage outdated local files\n",
    "\n",
    "#     if not os.path.exists(file_path):\n",
    "    r = requests.get(url, allow_redirects=True)\n",
    "    if r.status_code == 200:\n",
    "        print('Successfully loaded:',os.path.basename(p_url))\n",
    "#             log.debug(\n",
    "#                 \"copy kernel from %s to %s, status %s: %s\",\n",
    "#                 url,\n",
    "#                 file_path,\n",
    "#                 r.status_code,\n",
    "#                 r.reason,\n",
    "#             )\n",
    "        open(file_path, \"wb\").write(r.content)\n",
    "#     log.info(\"load spice kernel %s\", file_path)\n",
    "    spiceypy.furnsh(file_path)\n"
   ]
  },
  {
   "cell_type": "markdown",
   "id": "c68718d1-9ef4-4a74-be8e-01501fec2b1c",
   "metadata": {},
   "source": [
    "# Step 2:\n",
    "Import the necessary SPICE Kernels and download them to on the local environment using **download_and_load_spice_kernel**."
   ]
  },
  {
   "cell_type": "code",
   "execution_count": 23,
   "id": "37e67707-958b-4005-8a39-75dbbdb97cdb",
   "metadata": {
    "ExecuteTime": {
     "end_time": "2023-07-10T23:19:59.069812Z",
     "start_time": "2023-07-10T23:19:43.435924Z"
    }
   },
   "outputs": [
    {
     "name": "stdout",
     "output_type": "stream",
     "text": [
      "Successfully loaded: naif0008.tls\n",
      "Successfully loaded: 981005_PLTEPH-DE405S.bsp\n",
      "Successfully loaded: gll_951120_021126_raj2021.bsp\n"
     ]
    }
   ],
   "source": [
    "\n",
    "KERNEL_URLS = [\n",
    "    #generic LSK\n",
    "    \"https://naif.jpl.nasa.gov/pub/naif/pds/data/ody-m-spice-6-v1.0/odsp_1000/data/lsk/naif0008.tls\",\n",
    "    #CASSINI Solar System SPK \n",
    "    \"https://naif.jpl.nasa.gov/pub/naif/CASSINI/kernels/spk/981005_PLTEPH-DE405S.bsp\",\n",
    "    #Galileo SC SPK\n",
    "    \"https://naif.jpl.nasa.gov/pub/naif/GLL/kernels/spk/gll_951120_021126_raj2021.bsp\"\n",
    "]\n",
    "\n",
    "requests_session = requests.session()\n",
    "# requests_session.mount(\"file://\", requests.adapters.LocalFileAdapter())\n",
    "for url in KERNEL_URLS:\n",
    "    download_and_load_spice_kernel(requests_session, url)\n",
    "    \n",
    "    "
   ]
  },
  {
   "cell_type": "markdown",
   "id": "d858c7dc-2a8b-4d42-b03c-db295c7dfe5b",
   "metadata": {},
   "source": [
    "# Step 3:\n",
    "\n",
    "Utilize the PDS registry API to grab the magnetometer data for the Galileo Orbiter."
   ]
  },
  {
   "cell_type": "code",
   "execution_count": 24,
   "id": "430706fd-fbbd-4be8-8aa7-062fdd1498a6",
   "metadata": {
    "ExecuteTime": {
     "end_time": "2023-07-10T23:27:41.762875Z",
     "start_time": "2023-07-10T23:24:22.181984Z"
    }
   },
   "outputs": [],
   "source": [
    "url = \"https://pds-ppi.igpp.ucla.edu/data/galileo-mag-jup-calibrated/data-highres-magnetosphere/collection-data-highres-magnetosphere.csv\"\n",
    "mag_time, mag_tot = get_data(url)"
   ]
  },
  {
   "cell_type": "markdown",
   "id": "341495ae",
   "metadata": {},
   "source": [
    "# Step 4:\n",
    "\n",
    "Obtain the position and velocity values at each magnetometer measurement timestamp using the **get_sta** function.\n",
    "\n",
    "***Note: You can change the number of data points you would like to plot by changing the sample variable. The higher it is, the less data points you will plot.***"
   ]
  },
  {
   "cell_type": "code",
   "execution_count": 25,
   "id": "512dd47b",
   "metadata": {
    "ExecuteTime": {
     "end_time": "2023-07-10T23:27:53.653306Z",
     "start_time": "2023-07-10T23:27:52.769139Z"
    },
    "collapsed": false,
    "jupyter": {
     "outputs_hidden": false
    }
   },
   "outputs": [
    {
     "name": "stdout",
     "output_type": "stream",
     "text": [
      "Obtaining ephemeris for magnetometer readings...\n",
      "Number of magnetometer readings to plot: 5111\n"
     ]
    }
   ],
   "source": [
    "sample = 100\n",
    "\n",
    "\n",
    "#Obtain the position data that corresponds to the measurements\n",
    "print('Obtaining ephemeris for magnetometer readings...')\n",
    "df = pd.DataFrame({'time':mag_time[1::sample], 'data': mag_tot[1::sample]})\n",
    "df['time'] = pd.to_datetime(df['time'])\n",
    "df.sort_values('time', inplace = True)\n",
    "\n",
    "mag_ephem_data = getsta(df['time']) #Takes time input\n",
    "print(\"Number of magnetometer readings to plot: \"+ str(len(mag_ephem_data)))\n"
   ]
  },
  {
   "cell_type": "markdown",
   "id": "86a5481e",
   "metadata": {},
   "source": [
    "# Step 5:\n",
    "\n",
    "Get the ephemeris for the orbits between the first magnetometer measurement, and the last."
   ]
  },
  {
   "cell_type": "code",
   "execution_count": 26,
   "id": "481fa51f",
   "metadata": {
    "collapsed": false,
    "jupyter": {
     "outputs_hidden": false
    }
   },
   "outputs": [
    {
     "name": "stdout",
     "output_type": "stream",
     "text": [
      "Filling in ephemeris data...\n",
      "Finished\n"
     ]
    }
   ],
   "source": [
    "#Grab the orbit ephemeris data from the start time of the magnetometer readings to the end time.\n",
    "print(\"Filling in ephemeris data...\")\n",
    "ephem_time = []\n",
    "start_time = df['time'][0]\n",
    "end_time = df['time'][len(df)-1]\n",
    "\n",
    "ephem_time = []\n",
    "ephem_time = np.arange(start_time, end_time, timedelta(hours=1)).astype(datetime)\n",
    "\n",
    "# while ephem_time < end_time:\n",
    "#     #Grab the states\n",
    "# ephem_data = np.empty(len(ephem_time))\n",
    "# for i in range(len(ephem_data)):\n",
    "ephem_data = getsta(ephem_time)\n",
    "print('Finished')\n"
   ]
  },
  {
   "cell_type": "markdown",
   "id": "c52eb492-0f89-4b8c-b09d-13b94647217e",
   "metadata": {},
   "source": [
    "# Step 5:\n",
    "\n",
    "This step organizes all of the data variables into tables for pyWWT. A table is generated for the magnetometer data and another for the ephemeris data. "
   ]
  },
  {
   "cell_type": "code",
   "execution_count": 27,
   "id": "0e113b69-1c9e-410f-a58f-f97b7b5861aa",
   "metadata": {
    "ExecuteTime": {
     "end_time": "2023-07-10T22:05:52.117481Z",
     "start_time": "2023-07-10T22:05:51.825181Z"
    }
   },
   "outputs": [
    {
     "name": "stdout",
     "output_type": "stream",
     "text": [
      "Done!\n"
     ]
    }
   ],
   "source": [
    "ephem_tab = Table()\n",
    "mag_tab = Table()\n",
    "\n",
    "#Ephemeris data to table\n",
    "ephem_iso = [ephem_t.replace(tzinfo=None).isoformat() for ephem_t in ephem_time]\n",
    "ephem_tab['Time'] = ephem_iso\n",
    "\n",
    "ephem_data = [row[0:3] for row in ephem_data]\n",
    "transposed = zip(*ephem_data)\n",
    "ephem_tab['X'], ephem_tab['Y'], ephem_tab['Z'] = transposed\n",
    "\n",
    "#Magnetometer values and ephemeris data to table\n",
    "mag_iso = [mag_t.replace(tzinfo=None).isoformat() for mag_t in df['time']]\n",
    "mag_tab['Time'] = mag_iso\n",
    "mag_val = [mag_t for mag_t in df['data']]\n",
    "mag_tab['Magnitude (nT)'] = mag_val\n",
    "\n",
    "mag_pos = [row[0:3] for row in mag_ephem_data]\n",
    "mag_transpose = zip(*mag_pos)\n",
    "mag_tab['X'], mag_tab['Y'], mag_tab['Z'] = mag_transpose\n",
    "            \n",
    "print('Done!')"
   ]
  },
  {
   "cell_type": "markdown",
   "id": "61a8aed2",
   "metadata": {},
   "source": [
    "# Step 6:\n",
    "\n",
    "***Before proceeding, ensure that you have another tab open in the notebook for the AAS WorldWide Telescope widget***\n",
    "\n",
    "Instantiate the WWTJupyterWidget and await connection."
   ]
  },
  {
   "cell_type": "code",
   "execution_count": 28,
   "id": "acf6395f-3a2c-4f6e-be99-191553a464e2",
   "metadata": {},
   "outputs": [
    {
     "name": "stdout",
     "output_type": "stream",
     "text": [
      "Successful Connection\n"
     ]
    }
   ],
   "source": [
    "#Connect pyWWT widget\n",
    "\n",
    "wwt = WWTJupyterWidget()\n",
    "wwt = await connect_to_app().becomes_ready()\n",
    "print('Successful Connection')\n",
    "wwt.reset()"
   ]
  },
  {
   "cell_type": "markdown",
   "id": "12f399da",
   "metadata": {},
   "source": [
    "# Step 7:\n",
    "\n",
    "Set the WWT view to the solar system and load in the magnetometer data and ephemeris data via table layers. Once complete, in the pyWWT widget the view will be centered on Jupiter. Zoom in to see the results!"
   ]
  },
  {
   "cell_type": "code",
   "execution_count": 29,
   "id": "68997cfd-8c6f-4b6d-898a-440253835035",
   "metadata": {},
   "outputs": [],
   "source": [
    "wwt.set_current_time(Time('1995-12-07 15:21:01.776000'))\n",
    "wwt.set_view(\"solar system\")\n",
    "layer = wwt.layers.add_table_layer(table = mag_tab, frame = 'jupiter',\n",
    "                                  coord_type = 'rectangular',\n",
    "                                  x_att = 'X', y_att = 'Y', z_att = 'Z')\n",
    "layer.xyz_unit = 'km'\n",
    "layer.far_side_visible = True\n",
    "\n",
    "\n",
    "layer.cmap_att = 'Magnitude (nT)'\n",
    "layer.cmap.vmin = min(mag_tab['Magnitude (nT)'] + 10)\n",
    "layer.cmap.vmax = max(mag_tab['Magnitude (nT)'])\n",
    "\n",
    "layer.size_scale = 1000\n",
    "layer.far_side_visible = True\n",
    "layer.marker_scale = 'world'\n",
    "\n",
    "eph = wwt.layers.add_table_layer(table = ephem_tab, frame = 'jupiter',\n",
    "                                  coord_type = 'rectangular',\n",
    "                                  x_att = 'X', y_att = 'Y', z_att = 'Z')\n",
    "eph.xyz_unit = 'km'\n",
    "eph.far_side_visible = True\n",
    "eph.color = (.4, .4, .6)\n",
    "eph.size_scale = 16\n",
    "eph.far_side_visible = True\n",
    "\n",
    "wwt.solar_system.track_object('Jupiter')\n"
   ]
  },
  {
   "cell_type": "markdown",
   "id": "eaa801c1",
   "metadata": {},
   "source": [
    "# Step 8:\n",
    "\n",
    "Note the below code is still a work in progress and will not function as intended."
   ]
  },
  {
   "cell_type": "code",
   "execution_count": 26,
   "id": "186c4ccb-923b-4003-9f90-cbe2451475c8",
   "metadata": {},
   "outputs": [],
   "source": [
    "#Animate\n",
    "\n",
    "eph.time_series = True\n",
    "eph.time_att = 'Time'\n",
    "eph.time_decay = 1000000 * u.hour\n",
    "\n",
    "layer.time_series = True\n",
    "layer.time_att = 'Time'\n",
    "layer.time_decay = 10000 * u.hour\n",
    "\n",
    "my_time = Time('1996-12-07 15:21:01.776000')\n",
    "wwt.set_current_time(my_time)\n",
    "\n",
    "wwt.play_time(rate=10000)"
   ]
  },
  {
   "cell_type": "code",
   "execution_count": 27,
   "id": "a7ee087d-b839-42ee-bb4d-21e833ae270d",
   "metadata": {},
   "outputs": [],
   "source": [
    "wwt.pause_time()"
   ]
  },
  {
   "cell_type": "code",
   "execution_count": null,
   "id": "34877b05-e382-45e3-9417-20412893dc29",
   "metadata": {},
   "outputs": [],
   "source": []
  }
 ],
 "metadata": {
  "kernelspec": {
   "display_name": "Python 3 (ipykernel)",
   "language": "python",
   "name": "python3"
  },
  "language_info": {
   "codemirror_mode": {
    "name": "ipython",
    "version": 3
   },
   "file_extension": ".py",
   "mimetype": "text/x-python",
   "name": "python",
   "nbconvert_exporter": "python",
   "pygments_lexer": "ipython3",
   "version": "3.11.3"
  }
 },
 "nbformat": 4,
 "nbformat_minor": 5
}
